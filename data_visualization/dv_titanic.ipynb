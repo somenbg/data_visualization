{
 "metadata": {
  "language_info": {
   "codemirror_mode": {
    "name": "ipython",
    "version": 3
   },
   "file_extension": ".py",
   "mimetype": "text/x-python",
   "name": "python",
   "nbconvert_exporter": "python",
   "pygments_lexer": "ipython3",
   "version": "3.7.1-final"
  },
  "orig_nbformat": 2,
  "kernelspec": {
   "name": "python_defaultSpec_1600297468770",
   "display_name": "Python 3.7.1 32-bit ('ds-training-py3.7': venv)"
  }
 },
 "nbformat": 4,
 "nbformat_minor": 2,
 "cells": [
  {
   "cell_type": "code",
   "execution_count": 4,
   "metadata": {},
   "outputs": [],
   "source": [
    "import pandas as pd\n",
    "import matplotlib.pyplot as plt\n",
    "import seaborn as sns\n",
    "import plotly.express as ex"
   ]
  },
  {
   "cell_type": "code",
   "execution_count": 3,
   "metadata": {},
   "outputs": [
    {
     "output_type": "execute_result",
     "data": {
      "text/plain": "   PassengerId  Survived  Pclass  \\\n0            1         0       3   \n1            2         1       1   \n2            3         1       3   \n3            4         1       1   \n4            5         0       3   \n\n                                                Name     Sex   Age  SibSp  \\\n0                            Braund, Mr. Owen Harris    male  22.0      1   \n1  Cumings, Mrs. John Bradley (Florence Briggs Th...  female  38.0      1   \n2                             Heikkinen, Miss. Laina  female  26.0      0   \n3       Futrelle, Mrs. Jacques Heath (Lily May Peel)  female  35.0      1   \n4                           Allen, Mr. William Henry    male  35.0      0   \n\n   Parch            Ticket     Fare Cabin Embarked  \n0      0         A/5 21171   7.2500   NaN        S  \n1      0          PC 17599  71.2833   C85        C  \n2      0  STON/O2. 3101282   7.9250   NaN        S  \n3      0            113803  53.1000  C123        S  \n4      0            373450   8.0500   NaN        S  ",
      "text/html": "<div>\n<style scoped>\n    .dataframe tbody tr th:only-of-type {\n        vertical-align: middle;\n    }\n\n    .dataframe tbody tr th {\n        vertical-align: top;\n    }\n\n    .dataframe thead th {\n        text-align: right;\n    }\n</style>\n<table border=\"1\" class=\"dataframe\">\n  <thead>\n    <tr style=\"text-align: right;\">\n      <th></th>\n      <th>PassengerId</th>\n      <th>Survived</th>\n      <th>Pclass</th>\n      <th>Name</th>\n      <th>Sex</th>\n      <th>Age</th>\n      <th>SibSp</th>\n      <th>Parch</th>\n      <th>Ticket</th>\n      <th>Fare</th>\n      <th>Cabin</th>\n      <th>Embarked</th>\n    </tr>\n  </thead>\n  <tbody>\n    <tr>\n      <th>0</th>\n      <td>1</td>\n      <td>0</td>\n      <td>3</td>\n      <td>Braund, Mr. Owen Harris</td>\n      <td>male</td>\n      <td>22.0</td>\n      <td>1</td>\n      <td>0</td>\n      <td>A/5 21171</td>\n      <td>7.2500</td>\n      <td>NaN</td>\n      <td>S</td>\n    </tr>\n    <tr>\n      <th>1</th>\n      <td>2</td>\n      <td>1</td>\n      <td>1</td>\n      <td>Cumings, Mrs. John Bradley (Florence Briggs Th...</td>\n      <td>female</td>\n      <td>38.0</td>\n      <td>1</td>\n      <td>0</td>\n      <td>PC 17599</td>\n      <td>71.2833</td>\n      <td>C85</td>\n      <td>C</td>\n    </tr>\n    <tr>\n      <th>2</th>\n      <td>3</td>\n      <td>1</td>\n      <td>3</td>\n      <td>Heikkinen, Miss. Laina</td>\n      <td>female</td>\n      <td>26.0</td>\n      <td>0</td>\n      <td>0</td>\n      <td>STON/O2. 3101282</td>\n      <td>7.9250</td>\n      <td>NaN</td>\n      <td>S</td>\n    </tr>\n    <tr>\n      <th>3</th>\n      <td>4</td>\n      <td>1</td>\n      <td>1</td>\n      <td>Futrelle, Mrs. Jacques Heath (Lily May Peel)</td>\n      <td>female</td>\n      <td>35.0</td>\n      <td>1</td>\n      <td>0</td>\n      <td>113803</td>\n      <td>53.1000</td>\n      <td>C123</td>\n      <td>S</td>\n    </tr>\n    <tr>\n      <th>4</th>\n      <td>5</td>\n      <td>0</td>\n      <td>3</td>\n      <td>Allen, Mr. William Henry</td>\n      <td>male</td>\n      <td>35.0</td>\n      <td>0</td>\n      <td>0</td>\n      <td>373450</td>\n      <td>8.0500</td>\n      <td>NaN</td>\n      <td>S</td>\n    </tr>\n  </tbody>\n</table>\n</div>"
     },
     "metadata": {},
     "execution_count": 3
    }
   ],
   "source": [
    "df = pd.read_csv('Titanic_Detailed.csv')\n",
    "df.head()"
   ]
  },
  {
   "cell_type": "code",
   "execution_count": 7,
   "metadata": {},
   "outputs": [
    {
     "output_type": "display_data",
     "data": {
      "text/plain": "<Figure size 864x432 with 1 Axes>",
      "image/svg+xml": "<?xml version=\"1.0\" encoding=\"utf-8\" standalone=\"no\"?>\r\n<!DOCTYPE svg PUBLIC \"-//W3C//DTD SVG 1.1//EN\"\r\n  \"http://www.w3.org/Graphics/SVG/1.1/DTD/svg11.dtd\">\r\n<!-- Created with matplotlib (https://matplotlib.org/) -->\r\n<svg height=\"370.91625pt\" version=\"1.1\" viewBox=\"0 0 723.765625 370.91625\" width=\"723.765625pt\" xmlns=\"http://www.w3.org/2000/svg\" xmlns:xlink=\"http://www.w3.org/1999/xlink\">\r\n <metadata>\r\n  <rdf:RDF xmlns:cc=\"http://creativecommons.org/ns#\" xmlns:dc=\"http://purl.org/dc/elements/1.1/\" xmlns:rdf=\"http://www.w3.org/1999/02/22-rdf-syntax-ns#\">\r\n   <cc:Work>\r\n    <dc:type rdf:resource=\"http://purl.org/dc/dcmitype/StillImage\"/>\r\n    <dc:date>2020-09-16T18:07:40.479824</dc:date>\r\n    <dc:format>image/svg+xml</dc:format>\r\n    <dc:creator>\r\n     <cc:Agent>\r\n      <dc:title>Matplotlib v3.3.1, https://matplotlib.org/</dc:title>\r\n     </cc:Agent>\r\n    </dc:creator>\r\n   </cc:Work>\r\n  </rdf:RDF>\r\n </metadata>\r\n <defs>\r\n  <style type=\"text/css\">*{stroke-linecap:butt;stroke-linejoin:round;}</style>\r\n </defs>\r\n <g id=\"figure_1\">\r\n  <g id=\"patch_1\">\r\n   <path d=\"M 0 370.91625 \r\nL 723.765625 370.91625 \r\nL 723.765625 0 \r\nL 0 0 \r\nz\r\n\" style=\"fill:none;\"/>\r\n  </g>\r\n  <g id=\"axes_1\">\r\n   <g id=\"patch_2\">\r\n    <path d=\"M 46.965625 333.36 \r\nL 716.565625 333.36 \r\nL 716.565625 7.2 \r\nL 46.965625 7.2 \r\nz\r\n\" style=\"fill:#ffffff;\"/>\r\n   </g>\r\n   <g id=\"patch_3\">\r\n    <path clip-path=\"url(#p8132ce5c68)\" d=\"M 77.401989 333.36 \r\nL 138.274716 333.36 \r\nL 138.274716 22.731429 \r\nL 77.401989 22.731429 \r\nz\r\n\" style=\"fill:#1f77b4;\"/>\r\n   </g>\r\n   <g id=\"patch_4\">\r\n    <path clip-path=\"url(#p8132ce5c68)\" d=\"M 138.274716 333.36 \r\nL 199.147443 333.36 \r\nL 199.147443 288.378267 \r\nL 138.274716 288.378267 \r\nz\r\n\" style=\"fill:#1f77b4;\"/>\r\n   </g>\r\n   <g id=\"patch_5\">\r\n    <path clip-path=\"url(#p8132ce5c68)\" d=\"M 199.147443 333.36 \r\nL 260.02017 333.36 \r\nL 260.02017 320.204965 \r\nL 199.147443 320.204965 \r\nz\r\n\" style=\"fill:#1f77b4;\"/>\r\n   </g>\r\n   <g id=\"patch_6\">\r\n    <path clip-path=\"url(#p8132ce5c68)\" d=\"M 260.02017 333.36 \r\nL 320.892898 333.36 \r\nL 320.892898 332.511288 \r\nL 260.02017 332.511288 \r\nz\r\n\" style=\"fill:#1f77b4;\"/>\r\n   </g>\r\n   <g id=\"patch_7\">\r\n    <path clip-path=\"url(#p8132ce5c68)\" d=\"M 320.892898 333.36 \r\nL 381.765625 333.36 \r\nL 381.765625 328.692084 \r\nL 320.892898 328.692084 \r\nz\r\n\" style=\"fill:#1f77b4;\"/>\r\n   </g>\r\n   <g id=\"patch_8\">\r\n    <path clip-path=\"url(#p8132ce5c68)\" d=\"M 381.765625 333.36 \r\nL 442.638352 333.36 \r\nL 442.638352 330.813864 \r\nL 381.765625 330.813864 \r\nz\r\n\" style=\"fill:#1f77b4;\"/>\r\n   </g>\r\n   <g id=\"patch_9\">\r\n    <path clip-path=\"url(#p8132ce5c68)\" d=\"M 442.638352 333.36 \r\nL 503.51108 333.36 \r\nL 503.51108 333.36 \r\nL 442.638352 333.36 \r\nz\r\n\" style=\"fill:#1f77b4;\"/>\r\n   </g>\r\n   <g id=\"patch_10\">\r\n    <path clip-path=\"url(#p8132ce5c68)\" d=\"M 503.51108 333.36 \r\nL 564.383807 333.36 \r\nL 564.383807 333.36 \r\nL 503.51108 333.36 \r\nz\r\n\" style=\"fill:#1f77b4;\"/>\r\n   </g>\r\n   <g id=\"patch_11\">\r\n    <path clip-path=\"url(#p8132ce5c68)\" d=\"M 564.383807 333.36 \r\nL 625.256534 333.36 \r\nL 625.256534 333.36 \r\nL 564.383807 333.36 \r\nz\r\n\" style=\"fill:#1f77b4;\"/>\r\n   </g>\r\n   <g id=\"patch_12\">\r\n    <path clip-path=\"url(#p8132ce5c68)\" d=\"M 625.256534 333.36 \r\nL 686.129261 333.36 \r\nL 686.129261 332.086932 \r\nL 625.256534 332.086932 \r\nz\r\n\" style=\"fill:#1f77b4;\"/>\r\n   </g>\r\n   <g id=\"matplotlib.axis_1\">\r\n    <g id=\"xtick_1\">\r\n     <g id=\"line2d_1\">\r\n      <defs>\r\n       <path d=\"M 0 0 \r\nL 0 3.5 \r\n\" id=\"mbf8758870a\" style=\"stroke:#000000;stroke-width:0.8;\"/>\r\n      </defs>\r\n      <g>\r\n       <use style=\"stroke:#000000;stroke-width:0.8;\" x=\"77.401989\" xlink:href=\"#mbf8758870a\" y=\"333.36\"/>\r\n      </g>\r\n     </g>\r\n     <g id=\"text_1\">\r\n      <!-- 0 -->\r\n      <g transform=\"translate(74.220739 347.958438)scale(0.1 -0.1)\">\r\n       <defs>\r\n        <path d=\"M 31.78125 66.40625 \r\nQ 24.171875 66.40625 20.328125 58.90625 \r\nQ 16.5 51.421875 16.5 36.375 \r\nQ 16.5 21.390625 20.328125 13.890625 \r\nQ 24.171875 6.390625 31.78125 6.390625 \r\nQ 39.453125 6.390625 43.28125 13.890625 \r\nQ 47.125 21.390625 47.125 36.375 \r\nQ 47.125 51.421875 43.28125 58.90625 \r\nQ 39.453125 66.40625 31.78125 66.40625 \r\nz\r\nM 31.78125 74.21875 \r\nQ 44.046875 74.21875 50.515625 64.515625 \r\nQ 56.984375 54.828125 56.984375 36.375 \r\nQ 56.984375 17.96875 50.515625 8.265625 \r\nQ 44.046875 -1.421875 31.78125 -1.421875 \r\nQ 19.53125 -1.421875 13.0625 8.265625 \r\nQ 6.59375 17.96875 6.59375 36.375 \r\nQ 6.59375 54.828125 13.0625 64.515625 \r\nQ 19.53125 74.21875 31.78125 74.21875 \r\nz\r\n\" id=\"DejaVuSans-48\"/>\r\n       </defs>\r\n       <use xlink:href=\"#DejaVuSans-48\"/>\r\n      </g>\r\n     </g>\r\n    </g>\r\n    <g id=\"xtick_2\">\r\n     <g id=\"line2d_2\">\r\n      <g>\r\n       <use style=\"stroke:#000000;stroke-width:0.8;\" x=\"196.217639\" xlink:href=\"#mbf8758870a\" y=\"333.36\"/>\r\n      </g>\r\n     </g>\r\n     <g id=\"text_2\">\r\n      <!-- 100 -->\r\n      <g transform=\"translate(186.673889 347.958438)scale(0.1 -0.1)\">\r\n       <defs>\r\n        <path d=\"M 12.40625 8.296875 \r\nL 28.515625 8.296875 \r\nL 28.515625 63.921875 \r\nL 10.984375 60.40625 \r\nL 10.984375 69.390625 \r\nL 28.421875 72.90625 \r\nL 38.28125 72.90625 \r\nL 38.28125 8.296875 \r\nL 54.390625 8.296875 \r\nL 54.390625 0 \r\nL 12.40625 0 \r\nz\r\n\" id=\"DejaVuSans-49\"/>\r\n       </defs>\r\n       <use xlink:href=\"#DejaVuSans-49\"/>\r\n       <use x=\"63.623047\" xlink:href=\"#DejaVuSans-48\"/>\r\n       <use x=\"127.246094\" xlink:href=\"#DejaVuSans-48\"/>\r\n      </g>\r\n     </g>\r\n    </g>\r\n    <g id=\"xtick_3\">\r\n     <g id=\"line2d_3\">\r\n      <g>\r\n       <use style=\"stroke:#000000;stroke-width:0.8;\" x=\"315.03329\" xlink:href=\"#mbf8758870a\" y=\"333.36\"/>\r\n      </g>\r\n     </g>\r\n     <g id=\"text_3\">\r\n      <!-- 200 -->\r\n      <g transform=\"translate(305.48954 347.958438)scale(0.1 -0.1)\">\r\n       <defs>\r\n        <path d=\"M 19.1875 8.296875 \r\nL 53.609375 8.296875 \r\nL 53.609375 0 \r\nL 7.328125 0 \r\nL 7.328125 8.296875 \r\nQ 12.9375 14.109375 22.625 23.890625 \r\nQ 32.328125 33.6875 34.8125 36.53125 \r\nQ 39.546875 41.84375 41.421875 45.53125 \r\nQ 43.3125 49.21875 43.3125 52.78125 \r\nQ 43.3125 58.59375 39.234375 62.25 \r\nQ 35.15625 65.921875 28.609375 65.921875 \r\nQ 23.96875 65.921875 18.8125 64.3125 \r\nQ 13.671875 62.703125 7.8125 59.421875 \r\nL 7.8125 69.390625 \r\nQ 13.765625 71.78125 18.9375 73 \r\nQ 24.125 74.21875 28.421875 74.21875 \r\nQ 39.75 74.21875 46.484375 68.546875 \r\nQ 53.21875 62.890625 53.21875 53.421875 \r\nQ 53.21875 48.921875 51.53125 44.890625 \r\nQ 49.859375 40.875 45.40625 35.40625 \r\nQ 44.1875 33.984375 37.640625 27.21875 \r\nQ 31.109375 20.453125 19.1875 8.296875 \r\nz\r\n\" id=\"DejaVuSans-50\"/>\r\n       </defs>\r\n       <use xlink:href=\"#DejaVuSans-50\"/>\r\n       <use x=\"63.623047\" xlink:href=\"#DejaVuSans-48\"/>\r\n       <use x=\"127.246094\" xlink:href=\"#DejaVuSans-48\"/>\r\n      </g>\r\n     </g>\r\n    </g>\r\n    <g id=\"xtick_4\">\r\n     <g id=\"line2d_4\">\r\n      <g>\r\n       <use style=\"stroke:#000000;stroke-width:0.8;\" x=\"433.848941\" xlink:href=\"#mbf8758870a\" y=\"333.36\"/>\r\n      </g>\r\n     </g>\r\n     <g id=\"text_4\">\r\n      <!-- 300 -->\r\n      <g transform=\"translate(424.305191 347.958438)scale(0.1 -0.1)\">\r\n       <defs>\r\n        <path d=\"M 40.578125 39.3125 \r\nQ 47.65625 37.796875 51.625 33 \r\nQ 55.609375 28.21875 55.609375 21.1875 \r\nQ 55.609375 10.40625 48.1875 4.484375 \r\nQ 40.765625 -1.421875 27.09375 -1.421875 \r\nQ 22.515625 -1.421875 17.65625 -0.515625 \r\nQ 12.796875 0.390625 7.625 2.203125 \r\nL 7.625 11.71875 \r\nQ 11.71875 9.328125 16.59375 8.109375 \r\nQ 21.484375 6.890625 26.8125 6.890625 \r\nQ 36.078125 6.890625 40.9375 10.546875 \r\nQ 45.796875 14.203125 45.796875 21.1875 \r\nQ 45.796875 27.640625 41.28125 31.265625 \r\nQ 36.765625 34.90625 28.71875 34.90625 \r\nL 20.21875 34.90625 \r\nL 20.21875 43.015625 \r\nL 29.109375 43.015625 \r\nQ 36.375 43.015625 40.234375 45.921875 \r\nQ 44.09375 48.828125 44.09375 54.296875 \r\nQ 44.09375 59.90625 40.109375 62.90625 \r\nQ 36.140625 65.921875 28.71875 65.921875 \r\nQ 24.65625 65.921875 20.015625 65.03125 \r\nQ 15.375 64.15625 9.8125 62.3125 \r\nL 9.8125 71.09375 \r\nQ 15.4375 72.65625 20.34375 73.4375 \r\nQ 25.25 74.21875 29.59375 74.21875 \r\nQ 40.828125 74.21875 47.359375 69.109375 \r\nQ 53.90625 64.015625 53.90625 55.328125 \r\nQ 53.90625 49.265625 50.4375 45.09375 \r\nQ 46.96875 40.921875 40.578125 39.3125 \r\nz\r\n\" id=\"DejaVuSans-51\"/>\r\n       </defs>\r\n       <use xlink:href=\"#DejaVuSans-51\"/>\r\n       <use x=\"63.623047\" xlink:href=\"#DejaVuSans-48\"/>\r\n       <use x=\"127.246094\" xlink:href=\"#DejaVuSans-48\"/>\r\n      </g>\r\n     </g>\r\n    </g>\r\n    <g id=\"xtick_5\">\r\n     <g id=\"line2d_5\">\r\n      <g>\r\n       <use style=\"stroke:#000000;stroke-width:0.8;\" x=\"552.664591\" xlink:href=\"#mbf8758870a\" y=\"333.36\"/>\r\n      </g>\r\n     </g>\r\n     <g id=\"text_5\">\r\n      <!-- 400 -->\r\n      <g transform=\"translate(543.120841 347.958438)scale(0.1 -0.1)\">\r\n       <defs>\r\n        <path d=\"M 37.796875 64.3125 \r\nL 12.890625 25.390625 \r\nL 37.796875 25.390625 \r\nz\r\nM 35.203125 72.90625 \r\nL 47.609375 72.90625 \r\nL 47.609375 25.390625 \r\nL 58.015625 25.390625 \r\nL 58.015625 17.1875 \r\nL 47.609375 17.1875 \r\nL 47.609375 0 \r\nL 37.796875 0 \r\nL 37.796875 17.1875 \r\nL 4.890625 17.1875 \r\nL 4.890625 26.703125 \r\nz\r\n\" id=\"DejaVuSans-52\"/>\r\n       </defs>\r\n       <use xlink:href=\"#DejaVuSans-52\"/>\r\n       <use x=\"63.623047\" xlink:href=\"#DejaVuSans-48\"/>\r\n       <use x=\"127.246094\" xlink:href=\"#DejaVuSans-48\"/>\r\n      </g>\r\n     </g>\r\n    </g>\r\n    <g id=\"xtick_6\">\r\n     <g id=\"line2d_6\">\r\n      <g>\r\n       <use style=\"stroke:#000000;stroke-width:0.8;\" x=\"671.480242\" xlink:href=\"#mbf8758870a\" y=\"333.36\"/>\r\n      </g>\r\n     </g>\r\n     <g id=\"text_6\">\r\n      <!-- 500 -->\r\n      <g transform=\"translate(661.936492 347.958438)scale(0.1 -0.1)\">\r\n       <defs>\r\n        <path d=\"M 10.796875 72.90625 \r\nL 49.515625 72.90625 \r\nL 49.515625 64.59375 \r\nL 19.828125 64.59375 \r\nL 19.828125 46.734375 \r\nQ 21.96875 47.46875 24.109375 47.828125 \r\nQ 26.265625 48.1875 28.421875 48.1875 \r\nQ 40.625 48.1875 47.75 41.5 \r\nQ 54.890625 34.8125 54.890625 23.390625 \r\nQ 54.890625 11.625 47.5625 5.09375 \r\nQ 40.234375 -1.421875 26.90625 -1.421875 \r\nQ 22.3125 -1.421875 17.546875 -0.640625 \r\nQ 12.796875 0.140625 7.71875 1.703125 \r\nL 7.71875 11.625 \r\nQ 12.109375 9.234375 16.796875 8.0625 \r\nQ 21.484375 6.890625 26.703125 6.890625 \r\nQ 35.15625 6.890625 40.078125 11.328125 \r\nQ 45.015625 15.765625 45.015625 23.390625 \r\nQ 45.015625 31 40.078125 35.4375 \r\nQ 35.15625 39.890625 26.703125 39.890625 \r\nQ 22.75 39.890625 18.8125 39.015625 \r\nQ 14.890625 38.140625 10.796875 36.28125 \r\nz\r\n\" id=\"DejaVuSans-53\"/>\r\n       </defs>\r\n       <use xlink:href=\"#DejaVuSans-53\"/>\r\n       <use x=\"63.623047\" xlink:href=\"#DejaVuSans-48\"/>\r\n       <use x=\"127.246094\" xlink:href=\"#DejaVuSans-48\"/>\r\n      </g>\r\n     </g>\r\n    </g>\r\n    <g id=\"text_7\">\r\n     <!-- Fare -->\r\n     <g transform=\"translate(371.2625 361.636562)scale(0.1 -0.1)\">\r\n      <defs>\r\n       <path d=\"M 9.8125 72.90625 \r\nL 51.703125 72.90625 \r\nL 51.703125 64.59375 \r\nL 19.671875 64.59375 \r\nL 19.671875 43.109375 \r\nL 48.578125 43.109375 \r\nL 48.578125 34.8125 \r\nL 19.671875 34.8125 \r\nL 19.671875 0 \r\nL 9.8125 0 \r\nz\r\n\" id=\"DejaVuSans-70\"/>\r\n       <path d=\"M 34.28125 27.484375 \r\nQ 23.390625 27.484375 19.1875 25 \r\nQ 14.984375 22.515625 14.984375 16.5 \r\nQ 14.984375 11.71875 18.140625 8.90625 \r\nQ 21.296875 6.109375 26.703125 6.109375 \r\nQ 34.1875 6.109375 38.703125 11.40625 \r\nQ 43.21875 16.703125 43.21875 25.484375 \r\nL 43.21875 27.484375 \r\nz\r\nM 52.203125 31.203125 \r\nL 52.203125 0 \r\nL 43.21875 0 \r\nL 43.21875 8.296875 \r\nQ 40.140625 3.328125 35.546875 0.953125 \r\nQ 30.953125 -1.421875 24.3125 -1.421875 \r\nQ 15.921875 -1.421875 10.953125 3.296875 \r\nQ 6 8.015625 6 15.921875 \r\nQ 6 25.140625 12.171875 29.828125 \r\nQ 18.359375 34.515625 30.609375 34.515625 \r\nL 43.21875 34.515625 \r\nL 43.21875 35.40625 \r\nQ 43.21875 41.609375 39.140625 45 \r\nQ 35.0625 48.390625 27.6875 48.390625 \r\nQ 23 48.390625 18.546875 47.265625 \r\nQ 14.109375 46.140625 10.015625 43.890625 \r\nL 10.015625 52.203125 \r\nQ 14.9375 54.109375 19.578125 55.046875 \r\nQ 24.21875 56 28.609375 56 \r\nQ 40.484375 56 46.34375 49.84375 \r\nQ 52.203125 43.703125 52.203125 31.203125 \r\nz\r\n\" id=\"DejaVuSans-97\"/>\r\n       <path d=\"M 41.109375 46.296875 \r\nQ 39.59375 47.171875 37.8125 47.578125 \r\nQ 36.03125 48 33.890625 48 \r\nQ 26.265625 48 22.1875 43.046875 \r\nQ 18.109375 38.09375 18.109375 28.8125 \r\nL 18.109375 0 \r\nL 9.078125 0 \r\nL 9.078125 54.6875 \r\nL 18.109375 54.6875 \r\nL 18.109375 46.1875 \r\nQ 20.953125 51.171875 25.484375 53.578125 \r\nQ 30.03125 56 36.53125 56 \r\nQ 37.453125 56 38.578125 55.875 \r\nQ 39.703125 55.765625 41.0625 55.515625 \r\nz\r\n\" id=\"DejaVuSans-114\"/>\r\n       <path d=\"M 56.203125 29.59375 \r\nL 56.203125 25.203125 \r\nL 14.890625 25.203125 \r\nQ 15.484375 15.921875 20.484375 11.0625 \r\nQ 25.484375 6.203125 34.421875 6.203125 \r\nQ 39.59375 6.203125 44.453125 7.46875 \r\nQ 49.3125 8.734375 54.109375 11.28125 \r\nL 54.109375 2.78125 \r\nQ 49.265625 0.734375 44.1875 -0.34375 \r\nQ 39.109375 -1.421875 33.890625 -1.421875 \r\nQ 20.796875 -1.421875 13.15625 6.1875 \r\nQ 5.515625 13.8125 5.515625 26.8125 \r\nQ 5.515625 40.234375 12.765625 48.109375 \r\nQ 20.015625 56 32.328125 56 \r\nQ 43.359375 56 49.78125 48.890625 \r\nQ 56.203125 41.796875 56.203125 29.59375 \r\nz\r\nM 47.21875 32.234375 \r\nQ 47.125 39.59375 43.09375 43.984375 \r\nQ 39.0625 48.390625 32.421875 48.390625 \r\nQ 24.90625 48.390625 20.390625 44.140625 \r\nQ 15.875 39.890625 15.1875 32.171875 \r\nz\r\n\" id=\"DejaVuSans-101\"/>\r\n      </defs>\r\n      <use xlink:href=\"#DejaVuSans-70\"/>\r\n      <use x=\"48.394531\" xlink:href=\"#DejaVuSans-97\"/>\r\n      <use x=\"109.673828\" xlink:href=\"#DejaVuSans-114\"/>\r\n      <use x=\"148.537109\" xlink:href=\"#DejaVuSans-101\"/>\r\n     </g>\r\n    </g>\r\n   </g>\r\n   <g id=\"matplotlib.axis_2\">\r\n    <g id=\"ytick_1\">\r\n     <g id=\"line2d_7\">\r\n      <defs>\r\n       <path d=\"M 0 0 \r\nL -3.5 0 \r\n\" id=\"m7e89b00b1b\" style=\"stroke:#000000;stroke-width:0.8;\"/>\r\n      </defs>\r\n      <g>\r\n       <use style=\"stroke:#000000;stroke-width:0.8;\" x=\"46.965625\" xlink:href=\"#m7e89b00b1b\" y=\"333.36\"/>\r\n      </g>\r\n     </g>\r\n     <g id=\"text_8\">\r\n      <!-- 0 -->\r\n      <g transform=\"translate(33.603125 337.159219)scale(0.1 -0.1)\">\r\n       <use xlink:href=\"#DejaVuSans-48\"/>\r\n      </g>\r\n     </g>\r\n    </g>\r\n    <g id=\"ytick_2\">\r\n     <g id=\"line2d_8\">\r\n      <g>\r\n       <use style=\"stroke:#000000;stroke-width:0.8;\" x=\"46.965625\" xlink:href=\"#m7e89b00b1b\" y=\"290.924403\"/>\r\n      </g>\r\n     </g>\r\n     <g id=\"text_9\">\r\n      <!-- 100 -->\r\n      <g transform=\"translate(20.878125 294.723622)scale(0.1 -0.1)\">\r\n       <use xlink:href=\"#DejaVuSans-49\"/>\r\n       <use x=\"63.623047\" xlink:href=\"#DejaVuSans-48\"/>\r\n       <use x=\"127.246094\" xlink:href=\"#DejaVuSans-48\"/>\r\n      </g>\r\n     </g>\r\n    </g>\r\n    <g id=\"ytick_3\">\r\n     <g id=\"line2d_9\">\r\n      <g>\r\n       <use style=\"stroke:#000000;stroke-width:0.8;\" x=\"46.965625\" xlink:href=\"#m7e89b00b1b\" y=\"248.488806\"/>\r\n      </g>\r\n     </g>\r\n     <g id=\"text_10\">\r\n      <!-- 200 -->\r\n      <g transform=\"translate(20.878125 252.288024)scale(0.1 -0.1)\">\r\n       <use xlink:href=\"#DejaVuSans-50\"/>\r\n       <use x=\"63.623047\" xlink:href=\"#DejaVuSans-48\"/>\r\n       <use x=\"127.246094\" xlink:href=\"#DejaVuSans-48\"/>\r\n      </g>\r\n     </g>\r\n    </g>\r\n    <g id=\"ytick_4\">\r\n     <g id=\"line2d_10\">\r\n      <g>\r\n       <use style=\"stroke:#000000;stroke-width:0.8;\" x=\"46.965625\" xlink:href=\"#m7e89b00b1b\" y=\"206.053208\"/>\r\n      </g>\r\n     </g>\r\n     <g id=\"text_11\">\r\n      <!-- 300 -->\r\n      <g transform=\"translate(20.878125 209.852427)scale(0.1 -0.1)\">\r\n       <use xlink:href=\"#DejaVuSans-51\"/>\r\n       <use x=\"63.623047\" xlink:href=\"#DejaVuSans-48\"/>\r\n       <use x=\"127.246094\" xlink:href=\"#DejaVuSans-48\"/>\r\n      </g>\r\n     </g>\r\n    </g>\r\n    <g id=\"ytick_5\">\r\n     <g id=\"line2d_11\">\r\n      <g>\r\n       <use style=\"stroke:#000000;stroke-width:0.8;\" x=\"46.965625\" xlink:href=\"#m7e89b00b1b\" y=\"163.617611\"/>\r\n      </g>\r\n     </g>\r\n     <g id=\"text_12\">\r\n      <!-- 400 -->\r\n      <g transform=\"translate(20.878125 167.41683)scale(0.1 -0.1)\">\r\n       <use xlink:href=\"#DejaVuSans-52\"/>\r\n       <use x=\"63.623047\" xlink:href=\"#DejaVuSans-48\"/>\r\n       <use x=\"127.246094\" xlink:href=\"#DejaVuSans-48\"/>\r\n      </g>\r\n     </g>\r\n    </g>\r\n    <g id=\"ytick_6\">\r\n     <g id=\"line2d_12\">\r\n      <g>\r\n       <use style=\"stroke:#000000;stroke-width:0.8;\" x=\"46.965625\" xlink:href=\"#m7e89b00b1b\" y=\"121.182014\"/>\r\n      </g>\r\n     </g>\r\n     <g id=\"text_13\">\r\n      <!-- 500 -->\r\n      <g transform=\"translate(20.878125 124.981233)scale(0.1 -0.1)\">\r\n       <use xlink:href=\"#DejaVuSans-53\"/>\r\n       <use x=\"63.623047\" xlink:href=\"#DejaVuSans-48\"/>\r\n       <use x=\"127.246094\" xlink:href=\"#DejaVuSans-48\"/>\r\n      </g>\r\n     </g>\r\n    </g>\r\n    <g id=\"ytick_7\">\r\n     <g id=\"line2d_13\">\r\n      <g>\r\n       <use style=\"stroke:#000000;stroke-width:0.8;\" x=\"46.965625\" xlink:href=\"#m7e89b00b1b\" y=\"78.746417\"/>\r\n      </g>\r\n     </g>\r\n     <g id=\"text_14\">\r\n      <!-- 600 -->\r\n      <g transform=\"translate(20.878125 82.545636)scale(0.1 -0.1)\">\r\n       <defs>\r\n        <path d=\"M 33.015625 40.375 \r\nQ 26.375 40.375 22.484375 35.828125 \r\nQ 18.609375 31.296875 18.609375 23.390625 \r\nQ 18.609375 15.53125 22.484375 10.953125 \r\nQ 26.375 6.390625 33.015625 6.390625 \r\nQ 39.65625 6.390625 43.53125 10.953125 \r\nQ 47.40625 15.53125 47.40625 23.390625 \r\nQ 47.40625 31.296875 43.53125 35.828125 \r\nQ 39.65625 40.375 33.015625 40.375 \r\nz\r\nM 52.59375 71.296875 \r\nL 52.59375 62.3125 \r\nQ 48.875 64.0625 45.09375 64.984375 \r\nQ 41.3125 65.921875 37.59375 65.921875 \r\nQ 27.828125 65.921875 22.671875 59.328125 \r\nQ 17.53125 52.734375 16.796875 39.40625 \r\nQ 19.671875 43.65625 24.015625 45.921875 \r\nQ 28.375 48.1875 33.59375 48.1875 \r\nQ 44.578125 48.1875 50.953125 41.515625 \r\nQ 57.328125 34.859375 57.328125 23.390625 \r\nQ 57.328125 12.15625 50.6875 5.359375 \r\nQ 44.046875 -1.421875 33.015625 -1.421875 \r\nQ 20.359375 -1.421875 13.671875 8.265625 \r\nQ 6.984375 17.96875 6.984375 36.375 \r\nQ 6.984375 53.65625 15.1875 63.9375 \r\nQ 23.390625 74.21875 37.203125 74.21875 \r\nQ 40.921875 74.21875 44.703125 73.484375 \r\nQ 48.484375 72.75 52.59375 71.296875 \r\nz\r\n\" id=\"DejaVuSans-54\"/>\r\n       </defs>\r\n       <use xlink:href=\"#DejaVuSans-54\"/>\r\n       <use x=\"63.623047\" xlink:href=\"#DejaVuSans-48\"/>\r\n       <use x=\"127.246094\" xlink:href=\"#DejaVuSans-48\"/>\r\n      </g>\r\n     </g>\r\n    </g>\r\n    <g id=\"ytick_8\">\r\n     <g id=\"line2d_14\">\r\n      <g>\r\n       <use style=\"stroke:#000000;stroke-width:0.8;\" x=\"46.965625\" xlink:href=\"#m7e89b00b1b\" y=\"36.31082\"/>\r\n      </g>\r\n     </g>\r\n     <g id=\"text_15\">\r\n      <!-- 700 -->\r\n      <g transform=\"translate(20.878125 40.110038)scale(0.1 -0.1)\">\r\n       <defs>\r\n        <path d=\"M 8.203125 72.90625 \r\nL 55.078125 72.90625 \r\nL 55.078125 68.703125 \r\nL 28.609375 0 \r\nL 18.3125 0 \r\nL 43.21875 64.59375 \r\nL 8.203125 64.59375 \r\nz\r\n\" id=\"DejaVuSans-55\"/>\r\n       </defs>\r\n       <use xlink:href=\"#DejaVuSans-55\"/>\r\n       <use x=\"63.623047\" xlink:href=\"#DejaVuSans-48\"/>\r\n       <use x=\"127.246094\" xlink:href=\"#DejaVuSans-48\"/>\r\n      </g>\r\n     </g>\r\n    </g>\r\n    <g id=\"text_16\">\r\n     <!-- Frequency -->\r\n     <g transform=\"translate(14.798438 196.109687)rotate(-90)scale(0.1 -0.1)\">\r\n      <defs>\r\n       <path d=\"M 14.796875 27.296875 \r\nQ 14.796875 17.390625 18.875 11.75 \r\nQ 22.953125 6.109375 30.078125 6.109375 \r\nQ 37.203125 6.109375 41.296875 11.75 \r\nQ 45.40625 17.390625 45.40625 27.296875 \r\nQ 45.40625 37.203125 41.296875 42.84375 \r\nQ 37.203125 48.484375 30.078125 48.484375 \r\nQ 22.953125 48.484375 18.875 42.84375 \r\nQ 14.796875 37.203125 14.796875 27.296875 \r\nz\r\nM 45.40625 8.203125 \r\nQ 42.578125 3.328125 38.25 0.953125 \r\nQ 33.9375 -1.421875 27.875 -1.421875 \r\nQ 17.96875 -1.421875 11.734375 6.484375 \r\nQ 5.515625 14.40625 5.515625 27.296875 \r\nQ 5.515625 40.1875 11.734375 48.09375 \r\nQ 17.96875 56 27.875 56 \r\nQ 33.9375 56 38.25 53.625 \r\nQ 42.578125 51.265625 45.40625 46.390625 \r\nL 45.40625 54.6875 \r\nL 54.390625 54.6875 \r\nL 54.390625 -20.796875 \r\nL 45.40625 -20.796875 \r\nz\r\n\" id=\"DejaVuSans-113\"/>\r\n       <path d=\"M 8.5 21.578125 \r\nL 8.5 54.6875 \r\nL 17.484375 54.6875 \r\nL 17.484375 21.921875 \r\nQ 17.484375 14.15625 20.5 10.265625 \r\nQ 23.53125 6.390625 29.59375 6.390625 \r\nQ 36.859375 6.390625 41.078125 11.03125 \r\nQ 45.3125 15.671875 45.3125 23.6875 \r\nL 45.3125 54.6875 \r\nL 54.296875 54.6875 \r\nL 54.296875 0 \r\nL 45.3125 0 \r\nL 45.3125 8.40625 \r\nQ 42.046875 3.421875 37.71875 1 \r\nQ 33.40625 -1.421875 27.6875 -1.421875 \r\nQ 18.265625 -1.421875 13.375 4.4375 \r\nQ 8.5 10.296875 8.5 21.578125 \r\nz\r\nM 31.109375 56 \r\nz\r\n\" id=\"DejaVuSans-117\"/>\r\n       <path d=\"M 54.890625 33.015625 \r\nL 54.890625 0 \r\nL 45.90625 0 \r\nL 45.90625 32.71875 \r\nQ 45.90625 40.484375 42.875 44.328125 \r\nQ 39.84375 48.1875 33.796875 48.1875 \r\nQ 26.515625 48.1875 22.3125 43.546875 \r\nQ 18.109375 38.921875 18.109375 30.90625 \r\nL 18.109375 0 \r\nL 9.078125 0 \r\nL 9.078125 54.6875 \r\nL 18.109375 54.6875 \r\nL 18.109375 46.1875 \r\nQ 21.34375 51.125 25.703125 53.5625 \r\nQ 30.078125 56 35.796875 56 \r\nQ 45.21875 56 50.046875 50.171875 \r\nQ 54.890625 44.34375 54.890625 33.015625 \r\nz\r\n\" id=\"DejaVuSans-110\"/>\r\n       <path d=\"M 48.78125 52.59375 \r\nL 48.78125 44.1875 \r\nQ 44.96875 46.296875 41.140625 47.34375 \r\nQ 37.3125 48.390625 33.40625 48.390625 \r\nQ 24.65625 48.390625 19.8125 42.84375 \r\nQ 14.984375 37.3125 14.984375 27.296875 \r\nQ 14.984375 17.28125 19.8125 11.734375 \r\nQ 24.65625 6.203125 33.40625 6.203125 \r\nQ 37.3125 6.203125 41.140625 7.25 \r\nQ 44.96875 8.296875 48.78125 10.40625 \r\nL 48.78125 2.09375 \r\nQ 45.015625 0.34375 40.984375 -0.53125 \r\nQ 36.96875 -1.421875 32.421875 -1.421875 \r\nQ 20.0625 -1.421875 12.78125 6.34375 \r\nQ 5.515625 14.109375 5.515625 27.296875 \r\nQ 5.515625 40.671875 12.859375 48.328125 \r\nQ 20.21875 56 33.015625 56 \r\nQ 37.15625 56 41.109375 55.140625 \r\nQ 45.0625 54.296875 48.78125 52.59375 \r\nz\r\n\" id=\"DejaVuSans-99\"/>\r\n       <path d=\"M 32.171875 -5.078125 \r\nQ 28.375 -14.84375 24.75 -17.8125 \r\nQ 21.140625 -20.796875 15.09375 -20.796875 \r\nL 7.90625 -20.796875 \r\nL 7.90625 -13.28125 \r\nL 13.1875 -13.28125 \r\nQ 16.890625 -13.28125 18.9375 -11.515625 \r\nQ 21 -9.765625 23.484375 -3.21875 \r\nL 25.09375 0.875 \r\nL 2.984375 54.6875 \r\nL 12.5 54.6875 \r\nL 29.59375 11.921875 \r\nL 46.6875 54.6875 \r\nL 56.203125 54.6875 \r\nz\r\n\" id=\"DejaVuSans-121\"/>\r\n      </defs>\r\n      <use xlink:href=\"#DejaVuSans-70\"/>\r\n      <use x=\"50.269531\" xlink:href=\"#DejaVuSans-114\"/>\r\n      <use x=\"89.132812\" xlink:href=\"#DejaVuSans-101\"/>\r\n      <use x=\"150.65625\" xlink:href=\"#DejaVuSans-113\"/>\r\n      <use x=\"214.132812\" xlink:href=\"#DejaVuSans-117\"/>\r\n      <use x=\"277.511719\" xlink:href=\"#DejaVuSans-101\"/>\r\n      <use x=\"339.035156\" xlink:href=\"#DejaVuSans-110\"/>\r\n      <use x=\"402.414062\" xlink:href=\"#DejaVuSans-99\"/>\r\n      <use x=\"457.394531\" xlink:href=\"#DejaVuSans-121\"/>\r\n     </g>\r\n    </g>\r\n   </g>\r\n   <g id=\"patch_13\">\r\n    <path d=\"M 46.965625 333.36 \r\nL 46.965625 7.2 \r\n\" style=\"fill:none;stroke:#000000;stroke-linecap:square;stroke-linejoin:miter;stroke-width:0.8;\"/>\r\n   </g>\r\n   <g id=\"patch_14\">\r\n    <path d=\"M 716.565625 333.36 \r\nL 716.565625 7.2 \r\n\" style=\"fill:none;stroke:#000000;stroke-linecap:square;stroke-linejoin:miter;stroke-width:0.8;\"/>\r\n   </g>\r\n   <g id=\"patch_15\">\r\n    <path d=\"M 46.965625 333.36 \r\nL 716.565625 333.36 \r\n\" style=\"fill:none;stroke:#000000;stroke-linecap:square;stroke-linejoin:miter;stroke-width:0.8;\"/>\r\n   </g>\r\n   <g id=\"patch_16\">\r\n    <path d=\"M 46.965625 7.2 \r\nL 716.565625 7.2 \r\n\" style=\"fill:none;stroke:#000000;stroke-linecap:square;stroke-linejoin:miter;stroke-width:0.8;\"/>\r\n   </g>\r\n  </g>\r\n </g>\r\n <defs>\r\n  <clipPath id=\"p8132ce5c68\">\r\n   <rect height=\"326.16\" width=\"669.6\" x=\"46.965625\" y=\"7.2\"/>\r\n  </clipPath>\r\n </defs>\r\n</svg>\r\n",
      "image/png": "[encoded data removed]"
     },
     "metadata": {
      "needs_background": "light"
     }
    }
   ],
   "source": [
    "plt.figure(figsize=(12,6))\n",
    "plt.hist(df.Fare)\n",
    "plt.xlabel('Fare')\n",
    "plt.ylabel('Frequency')\n",
    "plt.show()"
   ]
  },
  {
   "source": [
    "#### Distribution plot (histogram) of the 'Fare' attribute of the data using Matplotlib"
   ],
   "cell_type": "markdown",
   "metadata": {}
  },
  {
   "cell_type": "code",
   "execution_count": 15,
   "metadata": {},
   "outputs": [
    {
     "output_type": "display_data",
     "data": {
      "text/plain": "<Figure size 864x432 with 1 Axes>",
      "image/svg+xml": "<?xml version=\"1.0\" encoding=\"utf-8\" standalone=\"no\"?>\r\n<!DOCTYPE svg PUBLIC \"-//W3C//DTD SVG 1.1//EN\"\r\n  \"http://www.w3.org/Graphics/SVG/1.1/DTD/svg11.dtd\">\r\n<!-- Created with matplotlib (https://matplotlib.org/) -->\r\n<svg height=\"370.91625pt\" version=\"1.1\" viewBox=\"0 0 733.30625 370.91625\" width=\"733.30625pt\" xmlns=\"http://www.w3.org/2000/svg\" xmlns:xlink=\"http://www.w3.org/1999/xlink\">\r\n <metadata>\r\n  <rdf:RDF xmlns:cc=\"http://creativecommons.org/ns#\" xmlns:dc=\"http://purl.org/dc/elements/1.1/\" xmlns:rdf=\"http://www.w3.org/1999/02/22-rdf-syntax-ns#\">\r\n   <cc:Work>\r\n    <dc:type rdf:resource=\"http://purl.org/dc/dcmitype/StillImage\"/>\r\n    <dc:date>2020-09-16T18:11:18.145231</dc:date>\r\n    <dc:format>image/svg+xml</dc:format>\r\n    <dc:creator>\r\n     <cc:Agent>\r\n      <dc:title>Matplotlib v3.3.1, https://matplotlib.org/</dc:title>\r\n     </cc:Agent>\r\n    </dc:creator>\r\n   </cc:Work>\r\n  </rdf:RDF>\r\n </metadata>\r\n <defs>\r\n  <style type=\"text/css\">*{stroke-linecap:butt;stroke-linejoin:round;}</style>\r\n </defs>\r\n <g id=\"figure_1\">\r\n  <g id=\"patch_1\">\r\n   <path d=\"M 0 370.91625 \r\nL 733.30625 370.91625 \r\nL 733.30625 0 \r\nL 0 0 \r\nz\r\n\" style=\"fill:none;\"/>\r\n  </g>\r\n  <g id=\"axes_1\">\r\n   <g id=\"patch_2\">\r\n    <path d=\"M 56.50625 333.36 \r\nL 726.10625 333.36 \r\nL 726.10625 7.2 \r\nL 56.50625 7.2 \r\nz\r\n\" style=\"fill:#ffffff;\"/>\r\n   </g>\r\n   <g id=\"patch_3\">\r\n    <path clip-path=\"url(#p7d0ccd658c)\" d=\"M 126.53031 333.36 \r\nL 137.121348 333.36 \r\nL 137.121348 22.731429 \r\nL 126.53031 22.731429 \r\nz\r\n\" style=\"fill:#ff0000;opacity:0.4;\"/>\r\n   </g>\r\n   <g id=\"patch_4\">\r\n    <path clip-path=\"url(#p7d0ccd658c)\" d=\"M 137.121348 333.36 \r\nL 147.712385 333.36 \r\nL 147.712385 165.602136 \r\nL 137.121348 165.602136 \r\nz\r\n\" style=\"fill:#ff0000;opacity:0.4;\"/>\r\n   </g>\r\n   <g id=\"patch_5\">\r\n    <path clip-path=\"url(#p7d0ccd658c)\" d=\"M 147.712385 333.36 \r\nL 158.303423 333.36 \r\nL 158.303423 197.863264 \r\nL 147.712385 197.863264 \r\nz\r\n\" style=\"fill:#ff0000;opacity:0.4;\"/>\r\n   </g>\r\n   <g id=\"patch_6\">\r\n    <path clip-path=\"url(#p7d0ccd658c)\" d=\"M 158.303423 333.36 \r\nL 168.894461 333.36 \r\nL 168.894461 287.272675 \r\nL 158.303423 287.272675 \r\nz\r\n\" style=\"fill:#ff0000;opacity:0.4;\"/>\r\n   </g>\r\n   <g id=\"patch_7\">\r\n    <path clip-path=\"url(#p7d0ccd658c)\" d=\"M 168.894461 333.36 \r\nL 179.485498 333.36 \r\nL 179.485498 318.612056 \r\nL 168.894461 318.612056 \r\nz\r\n\" style=\"fill:#ff0000;opacity:0.4;\"/>\r\n   </g>\r\n   <g id=\"patch_8\">\r\n    <path clip-path=\"url(#p7d0ccd658c)\" d=\"M 179.485498 333.36 \r\nL 190.076536 333.36 \r\nL 190.076536 297.411886 \r\nL 179.485498 297.411886 \r\nz\r\n\" style=\"fill:#ff0000;opacity:0.4;\"/>\r\n   </g>\r\n   <g id=\"patch_9\">\r\n    <path clip-path=\"url(#p7d0ccd658c)\" d=\"M 190.076536 333.36 \r\nL 200.667573 333.36 \r\nL 200.667573 316.768563 \r\nL 190.076536 316.768563 \r\nz\r\n\" style=\"fill:#ff0000;opacity:0.4;\"/>\r\n   </g>\r\n   <g id=\"patch_10\">\r\n    <path clip-path=\"url(#p7d0ccd658c)\" d=\"M 200.667573 333.36 \r\nL 211.258611 333.36 \r\nL 211.258611 306.629351 \r\nL 200.667573 306.629351 \r\nz\r\n\" style=\"fill:#ff0000;opacity:0.4;\"/>\r\n   </g>\r\n   <g id=\"patch_11\">\r\n    <path clip-path=\"url(#p7d0ccd658c)\" d=\"M 211.258611 333.36 \r\nL 221.849648 333.36 \r\nL 221.849648 316.768563 \r\nL 211.258611 316.768563 \r\nz\r\n\" style=\"fill:#ff0000;opacity:0.4;\"/>\r\n   </g>\r\n   <g id=\"patch_12\">\r\n    <path clip-path=\"url(#p7d0ccd658c)\" d=\"M 221.849648 333.36 \r\nL 232.440686 333.36 \r\nL 232.440686 331.516507 \r\nL 221.849648 331.516507 \r\nz\r\n\" style=\"fill:#ff0000;opacity:0.4;\"/>\r\n   </g>\r\n   <g id=\"patch_13\">\r\n    <path clip-path=\"url(#p7d0ccd658c)\" d=\"M 232.440686 333.36 \r\nL 243.031724 333.36 \r\nL 243.031724 325.986028 \r\nL 232.440686 325.986028 \r\nz\r\n\" style=\"fill:#ff0000;opacity:0.4;\"/>\r\n   </g>\r\n   <g id=\"patch_14\">\r\n    <path clip-path=\"url(#p7d0ccd658c)\" d=\"M 243.031724 333.36 \r\nL 253.622761 333.36 \r\nL 253.622761 326.907774 \r\nL 243.031724 326.907774 \r\nz\r\n\" style=\"fill:#ff0000;opacity:0.4;\"/>\r\n   </g>\r\n   <g id=\"patch_15\">\r\n    <path clip-path=\"url(#p7d0ccd658c)\" d=\"M 253.622761 333.36 \r\nL 264.213799 333.36 \r\nL 264.213799 333.36 \r\nL 253.622761 333.36 \r\nz\r\n\" style=\"fill:#ff0000;opacity:0.4;\"/>\r\n   </g>\r\n   <g id=\"patch_16\">\r\n    <path clip-path=\"url(#p7d0ccd658c)\" d=\"M 264.213799 333.36 \r\nL 274.804836 333.36 \r\nL 274.804836 326.907774 \r\nL 264.213799 326.907774 \r\nz\r\n\" style=\"fill:#ff0000;opacity:0.4;\"/>\r\n   </g>\r\n   <g id=\"patch_17\">\r\n    <path clip-path=\"url(#p7d0ccd658c)\" d=\"M 274.804836 333.36 \r\nL 285.395874 333.36 \r\nL 285.395874 325.064281 \r\nL 274.804836 325.064281 \r\nz\r\n\" style=\"fill:#ff0000;opacity:0.4;\"/>\r\n   </g>\r\n   <g id=\"patch_18\">\r\n    <path clip-path=\"url(#p7d0ccd658c)\" d=\"M 285.395874 333.36 \r\nL 295.986912 333.36 \r\nL 295.986912 333.36 \r\nL 285.395874 333.36 \r\nz\r\n\" style=\"fill:#ff0000;opacity:0.4;\"/>\r\n   </g>\r\n   <g id=\"patch_19\">\r\n    <path clip-path=\"url(#p7d0ccd658c)\" d=\"M 295.986912 333.36 \r\nL 306.577949 333.36 \r\nL 306.577949 331.516507 \r\nL 295.986912 331.516507 \r\nz\r\n\" style=\"fill:#ff0000;opacity:0.4;\"/>\r\n   </g>\r\n   <g id=\"patch_20\">\r\n    <path clip-path=\"url(#p7d0ccd658c)\" d=\"M 306.577949 333.36 \r\nL 317.168987 333.36 \r\nL 317.168987 333.36 \r\nL 306.577949 333.36 \r\nz\r\n\" style=\"fill:#ff0000;opacity:0.4;\"/>\r\n   </g>\r\n   <g id=\"patch_21\">\r\n    <path clip-path=\"url(#p7d0ccd658c)\" d=\"M 317.168987 333.36 \r\nL 327.760024 333.36 \r\nL 327.760024 333.36 \r\nL 317.168987 333.36 \r\nz\r\n\" style=\"fill:#ff0000;opacity:0.4;\"/>\r\n   </g>\r\n   <g id=\"patch_22\">\r\n    <path clip-path=\"url(#p7d0ccd658c)\" d=\"M 327.760024 333.36 \r\nL 338.351062 333.36 \r\nL 338.351062 333.36 \r\nL 327.760024 333.36 \r\nz\r\n\" style=\"fill:#ff0000;opacity:0.4;\"/>\r\n   </g>\r\n   <g id=\"patch_23\">\r\n    <path clip-path=\"url(#p7d0ccd658c)\" d=\"M 338.351062 333.36 \r\nL 348.9421 333.36 \r\nL 348.9421 329.673014 \r\nL 338.351062 329.673014 \r\nz\r\n\" style=\"fill:#ff0000;opacity:0.4;\"/>\r\n   </g>\r\n   <g id=\"patch_24\">\r\n    <path clip-path=\"url(#p7d0ccd658c)\" d=\"M 348.9421 333.36 \r\nL 359.533137 333.36 \r\nL 359.533137 332.438253 \r\nL 348.9421 332.438253 \r\nz\r\n\" style=\"fill:#ff0000;opacity:0.4;\"/>\r\n   </g>\r\n   <g id=\"patch_25\">\r\n    <path clip-path=\"url(#p7d0ccd658c)\" d=\"M 359.533137 333.36 \r\nL 370.124175 333.36 \r\nL 370.124175 329.673014 \r\nL 359.533137 329.673014 \r\nz\r\n\" style=\"fill:#ff0000;opacity:0.4;\"/>\r\n   </g>\r\n   <g id=\"patch_26\">\r\n    <path clip-path=\"url(#p7d0ccd658c)\" d=\"M 370.124175 333.36 \r\nL 380.715212 333.36 \r\nL 380.715212 333.36 \r\nL 370.124175 333.36 \r\nz\r\n\" style=\"fill:#ff0000;opacity:0.4;\"/>\r\n   </g>\r\n   <g id=\"patch_27\">\r\n    <path clip-path=\"url(#p7d0ccd658c)\" d=\"M 380.715212 333.36 \r\nL 391.30625 333.36 \r\nL 391.30625 331.516507 \r\nL 380.715212 331.516507 \r\nz\r\n\" style=\"fill:#ff0000;opacity:0.4;\"/>\r\n   </g>\r\n   <g id=\"patch_28\">\r\n    <path clip-path=\"url(#p7d0ccd658c)\" d=\"M 391.30625 333.36 \r\nL 401.897288 333.36 \r\nL 401.897288 327.829521 \r\nL 391.30625 327.829521 \r\nz\r\n\" style=\"fill:#ff0000;opacity:0.4;\"/>\r\n   </g>\r\n   <g id=\"patch_29\">\r\n    <path clip-path=\"url(#p7d0ccd658c)\" d=\"M 401.897288 333.36 \r\nL 412.488325 333.36 \r\nL 412.488325 333.36 \r\nL 401.897288 333.36 \r\nz\r\n\" style=\"fill:#ff0000;opacity:0.4;\"/>\r\n   </g>\r\n   <g id=\"patch_30\">\r\n    <path clip-path=\"url(#p7d0ccd658c)\" d=\"M 412.488325 333.36 \r\nL 423.079363 333.36 \r\nL 423.079363 333.36 \r\nL 412.488325 333.36 \r\nz\r\n\" style=\"fill:#ff0000;opacity:0.4;\"/>\r\n   </g>\r\n   <g id=\"patch_31\">\r\n    <path clip-path=\"url(#p7d0ccd658c)\" d=\"M 423.079363 333.36 \r\nL 433.6704 333.36 \r\nL 433.6704 333.36 \r\nL 423.079363 333.36 \r\nz\r\n\" style=\"fill:#ff0000;opacity:0.4;\"/>\r\n   </g>\r\n   <g id=\"patch_32\">\r\n    <path clip-path=\"url(#p7d0ccd658c)\" d=\"M 433.6704 333.36 \r\nL 444.261438 333.36 \r\nL 444.261438 333.36 \r\nL 433.6704 333.36 \r\nz\r\n\" style=\"fill:#ff0000;opacity:0.4;\"/>\r\n   </g>\r\n   <g id=\"patch_33\">\r\n    <path clip-path=\"url(#p7d0ccd658c)\" d=\"M 444.261438 333.36 \r\nL 454.852476 333.36 \r\nL 454.852476 333.36 \r\nL 444.261438 333.36 \r\nz\r\n\" style=\"fill:#ff0000;opacity:0.4;\"/>\r\n   </g>\r\n   <g id=\"patch_34\">\r\n    <path clip-path=\"url(#p7d0ccd658c)\" d=\"M 454.852476 333.36 \r\nL 465.443513 333.36 \r\nL 465.443513 333.36 \r\nL 454.852476 333.36 \r\nz\r\n\" style=\"fill:#ff0000;opacity:0.4;\"/>\r\n   </g>\r\n   <g id=\"patch_35\">\r\n    <path clip-path=\"url(#p7d0ccd658c)\" d=\"M 465.443513 333.36 \r\nL 476.034551 333.36 \r\nL 476.034551 333.36 \r\nL 465.443513 333.36 \r\nz\r\n\" style=\"fill:#ff0000;opacity:0.4;\"/>\r\n   </g>\r\n   <g id=\"patch_36\">\r\n    <path clip-path=\"url(#p7d0ccd658c)\" d=\"M 476.034551 333.36 \r\nL 486.625588 333.36 \r\nL 486.625588 333.36 \r\nL 476.034551 333.36 \r\nz\r\n\" style=\"fill:#ff0000;opacity:0.4;\"/>\r\n   </g>\r\n   <g id=\"patch_37\">\r\n    <path clip-path=\"url(#p7d0ccd658c)\" d=\"M 486.625588 333.36 \r\nL 497.216626 333.36 \r\nL 497.216626 333.36 \r\nL 486.625588 333.36 \r\nz\r\n\" style=\"fill:#ff0000;opacity:0.4;\"/>\r\n   </g>\r\n   <g id=\"patch_38\">\r\n    <path clip-path=\"url(#p7d0ccd658c)\" d=\"M 497.216626 333.36 \r\nL 507.807664 333.36 \r\nL 507.807664 333.36 \r\nL 497.216626 333.36 \r\nz\r\n\" style=\"fill:#ff0000;opacity:0.4;\"/>\r\n   </g>\r\n   <g id=\"patch_39\">\r\n    <path clip-path=\"url(#p7d0ccd658c)\" d=\"M 507.807664 333.36 \r\nL 518.398701 333.36 \r\nL 518.398701 333.36 \r\nL 507.807664 333.36 \r\nz\r\n\" style=\"fill:#ff0000;opacity:0.4;\"/>\r\n   </g>\r\n   <g id=\"patch_40\">\r\n    <path clip-path=\"url(#p7d0ccd658c)\" d=\"M 518.398701 333.36 \r\nL 528.989739 333.36 \r\nL 528.989739 333.36 \r\nL 518.398701 333.36 \r\nz\r\n\" style=\"fill:#ff0000;opacity:0.4;\"/>\r\n   </g>\r\n   <g id=\"patch_41\">\r\n    <path clip-path=\"url(#p7d0ccd658c)\" d=\"M 528.989739 333.36 \r\nL 539.580776 333.36 \r\nL 539.580776 333.36 \r\nL 528.989739 333.36 \r\nz\r\n\" style=\"fill:#ff0000;opacity:0.4;\"/>\r\n   </g>\r\n   <g id=\"patch_42\">\r\n    <path clip-path=\"url(#p7d0ccd658c)\" d=\"M 539.580776 333.36 \r\nL 550.171814 333.36 \r\nL 550.171814 333.36 \r\nL 539.580776 333.36 \r\nz\r\n\" style=\"fill:#ff0000;opacity:0.4;\"/>\r\n   </g>\r\n   <g id=\"patch_43\">\r\n    <path clip-path=\"url(#p7d0ccd658c)\" d=\"M 550.171814 333.36 \r\nL 560.762852 333.36 \r\nL 560.762852 333.36 \r\nL 550.171814 333.36 \r\nz\r\n\" style=\"fill:#ff0000;opacity:0.4;\"/>\r\n   </g>\r\n   <g id=\"patch_44\">\r\n    <path clip-path=\"url(#p7d0ccd658c)\" d=\"M 560.762852 333.36 \r\nL 571.353889 333.36 \r\nL 571.353889 333.36 \r\nL 560.762852 333.36 \r\nz\r\n\" style=\"fill:#ff0000;opacity:0.4;\"/>\r\n   </g>\r\n   <g id=\"patch_45\">\r\n    <path clip-path=\"url(#p7d0ccd658c)\" d=\"M 571.353889 333.36 \r\nL 581.944927 333.36 \r\nL 581.944927 333.36 \r\nL 571.353889 333.36 \r\nz\r\n\" style=\"fill:#ff0000;opacity:0.4;\"/>\r\n   </g>\r\n   <g id=\"patch_46\">\r\n    <path clip-path=\"url(#p7d0ccd658c)\" d=\"M 581.944927 333.36 \r\nL 592.535964 333.36 \r\nL 592.535964 333.36 \r\nL 581.944927 333.36 \r\nz\r\n\" style=\"fill:#ff0000;opacity:0.4;\"/>\r\n   </g>\r\n   <g id=\"patch_47\">\r\n    <path clip-path=\"url(#p7d0ccd658c)\" d=\"M 592.535964 333.36 \r\nL 603.127002 333.36 \r\nL 603.127002 333.36 \r\nL 592.535964 333.36 \r\nz\r\n\" style=\"fill:#ff0000;opacity:0.4;\"/>\r\n   </g>\r\n   <g id=\"patch_48\">\r\n    <path clip-path=\"url(#p7d0ccd658c)\" d=\"M 603.127002 333.36 \r\nL 613.718039 333.36 \r\nL 613.718039 333.36 \r\nL 603.127002 333.36 \r\nz\r\n\" style=\"fill:#ff0000;opacity:0.4;\"/>\r\n   </g>\r\n   <g id=\"patch_49\">\r\n    <path clip-path=\"url(#p7d0ccd658c)\" d=\"M 613.718039 333.36 \r\nL 624.309077 333.36 \r\nL 624.309077 333.36 \r\nL 613.718039 333.36 \r\nz\r\n\" style=\"fill:#ff0000;opacity:0.4;\"/>\r\n   </g>\r\n   <g id=\"patch_50\">\r\n    <path clip-path=\"url(#p7d0ccd658c)\" d=\"M 624.309077 333.36 \r\nL 634.900115 333.36 \r\nL 634.900115 333.36 \r\nL 624.309077 333.36 \r\nz\r\n\" style=\"fill:#ff0000;opacity:0.4;\"/>\r\n   </g>\r\n   <g id=\"patch_51\">\r\n    <path clip-path=\"url(#p7d0ccd658c)\" d=\"M 634.900115 333.36 \r\nL 645.491152 333.36 \r\nL 645.491152 333.36 \r\nL 634.900115 333.36 \r\nz\r\n\" style=\"fill:#ff0000;opacity:0.4;\"/>\r\n   </g>\r\n   <g id=\"patch_52\">\r\n    <path clip-path=\"url(#p7d0ccd658c)\" d=\"M 645.491152 333.36 \r\nL 656.08219 333.36 \r\nL 656.08219 330.59476 \r\nL 645.491152 330.59476 \r\nz\r\n\" style=\"fill:#ff0000;opacity:0.4;\"/>\r\n   </g>\r\n   <g id=\"matplotlib.axis_1\">\r\n    <g id=\"xtick_1\">\r\n     <g id=\"line2d_1\">\r\n      <defs>\r\n       <path d=\"M 0 0 \r\nL 0 3.5 \r\n\" id=\"m9475327e48\" style=\"stroke:#000000;stroke-width:0.8;\"/>\r\n      </defs>\r\n      <g>\r\n       <use style=\"stroke:#000000;stroke-width:0.8;\" x=\"126.53031\" xlink:href=\"#m9475327e48\" y=\"333.36\"/>\r\n      </g>\r\n     </g>\r\n     <g id=\"text_1\">\r\n      <!-- 0 -->\r\n      <g transform=\"translate(123.34906 347.958438)scale(0.1 -0.1)\">\r\n       <defs>\r\n        <path d=\"M 31.78125 66.40625 \r\nQ 24.171875 66.40625 20.328125 58.90625 \r\nQ 16.5 51.421875 16.5 36.375 \r\nQ 16.5 21.390625 20.328125 13.890625 \r\nQ 24.171875 6.390625 31.78125 6.390625 \r\nQ 39.453125 6.390625 43.28125 13.890625 \r\nQ 47.125 21.390625 47.125 36.375 \r\nQ 47.125 51.421875 43.28125 58.90625 \r\nQ 39.453125 66.40625 31.78125 66.40625 \r\nz\r\nM 31.78125 74.21875 \r\nQ 44.046875 74.21875 50.515625 64.515625 \r\nQ 56.984375 54.828125 56.984375 36.375 \r\nQ 56.984375 17.96875 50.515625 8.265625 \r\nQ 44.046875 -1.421875 31.78125 -1.421875 \r\nQ 19.53125 -1.421875 13.0625 8.265625 \r\nQ 6.59375 17.96875 6.59375 36.375 \r\nQ 6.59375 54.828125 13.0625 64.515625 \r\nQ 19.53125 74.21875 31.78125 74.21875 \r\nz\r\n\" id=\"DejaVuSans-48\"/>\r\n       </defs>\r\n       <use xlink:href=\"#DejaVuSans-48\"/>\r\n      </g>\r\n     </g>\r\n    </g>\r\n    <g id=\"xtick_2\">\r\n     <g id=\"line2d_2\">\r\n      <g>\r\n       <use style=\"stroke:#000000;stroke-width:0.8;\" x=\"229.891953\" xlink:href=\"#m9475327e48\" y=\"333.36\"/>\r\n      </g>\r\n     </g>\r\n     <g id=\"text_2\">\r\n      <!-- 100 -->\r\n      <g transform=\"translate(220.348203 347.958438)scale(0.1 -0.1)\">\r\n       <defs>\r\n        <path d=\"M 12.40625 8.296875 \r\nL 28.515625 8.296875 \r\nL 28.515625 63.921875 \r\nL 10.984375 60.40625 \r\nL 10.984375 69.390625 \r\nL 28.421875 72.90625 \r\nL 38.28125 72.90625 \r\nL 38.28125 8.296875 \r\nL 54.390625 8.296875 \r\nL 54.390625 0 \r\nL 12.40625 0 \r\nz\r\n\" id=\"DejaVuSans-49\"/>\r\n       </defs>\r\n       <use xlink:href=\"#DejaVuSans-49\"/>\r\n       <use x=\"63.623047\" xlink:href=\"#DejaVuSans-48\"/>\r\n       <use x=\"127.246094\" xlink:href=\"#DejaVuSans-48\"/>\r\n      </g>\r\n     </g>\r\n    </g>\r\n    <g id=\"xtick_3\">\r\n     <g id=\"line2d_3\">\r\n      <g>\r\n       <use style=\"stroke:#000000;stroke-width:0.8;\" x=\"333.253597\" xlink:href=\"#m9475327e48\" y=\"333.36\"/>\r\n      </g>\r\n     </g>\r\n     <g id=\"text_3\">\r\n      <!-- 200 -->\r\n      <g transform=\"translate(323.709847 347.958438)scale(0.1 -0.1)\">\r\n       <defs>\r\n        <path d=\"M 19.1875 8.296875 \r\nL 53.609375 8.296875 \r\nL 53.609375 0 \r\nL 7.328125 0 \r\nL 7.328125 8.296875 \r\nQ 12.9375 14.109375 22.625 23.890625 \r\nQ 32.328125 33.6875 34.8125 36.53125 \r\nQ 39.546875 41.84375 41.421875 45.53125 \r\nQ 43.3125 49.21875 43.3125 52.78125 \r\nQ 43.3125 58.59375 39.234375 62.25 \r\nQ 35.15625 65.921875 28.609375 65.921875 \r\nQ 23.96875 65.921875 18.8125 64.3125 \r\nQ 13.671875 62.703125 7.8125 59.421875 \r\nL 7.8125 69.390625 \r\nQ 13.765625 71.78125 18.9375 73 \r\nQ 24.125 74.21875 28.421875 74.21875 \r\nQ 39.75 74.21875 46.484375 68.546875 \r\nQ 53.21875 62.890625 53.21875 53.421875 \r\nQ 53.21875 48.921875 51.53125 44.890625 \r\nQ 49.859375 40.875 45.40625 35.40625 \r\nQ 44.1875 33.984375 37.640625 27.21875 \r\nQ 31.109375 20.453125 19.1875 8.296875 \r\nz\r\n\" id=\"DejaVuSans-50\"/>\r\n       </defs>\r\n       <use xlink:href=\"#DejaVuSans-50\"/>\r\n       <use x=\"63.623047\" xlink:href=\"#DejaVuSans-48\"/>\r\n       <use x=\"127.246094\" xlink:href=\"#DejaVuSans-48\"/>\r\n      </g>\r\n     </g>\r\n    </g>\r\n    <g id=\"xtick_4\">\r\n     <g id=\"line2d_4\">\r\n      <g>\r\n       <use style=\"stroke:#000000;stroke-width:0.8;\" x=\"436.61524\" xlink:href=\"#m9475327e48\" y=\"333.36\"/>\r\n      </g>\r\n     </g>\r\n     <g id=\"text_4\">\r\n      <!-- 300 -->\r\n      <g transform=\"translate(427.07149 347.958438)scale(0.1 -0.1)\">\r\n       <defs>\r\n        <path d=\"M 40.578125 39.3125 \r\nQ 47.65625 37.796875 51.625 33 \r\nQ 55.609375 28.21875 55.609375 21.1875 \r\nQ 55.609375 10.40625 48.1875 4.484375 \r\nQ 40.765625 -1.421875 27.09375 -1.421875 \r\nQ 22.515625 -1.421875 17.65625 -0.515625 \r\nQ 12.796875 0.390625 7.625 2.203125 \r\nL 7.625 11.71875 \r\nQ 11.71875 9.328125 16.59375 8.109375 \r\nQ 21.484375 6.890625 26.8125 6.890625 \r\nQ 36.078125 6.890625 40.9375 10.546875 \r\nQ 45.796875 14.203125 45.796875 21.1875 \r\nQ 45.796875 27.640625 41.28125 31.265625 \r\nQ 36.765625 34.90625 28.71875 34.90625 \r\nL 20.21875 34.90625 \r\nL 20.21875 43.015625 \r\nL 29.109375 43.015625 \r\nQ 36.375 43.015625 40.234375 45.921875 \r\nQ 44.09375 48.828125 44.09375 54.296875 \r\nQ 44.09375 59.90625 40.109375 62.90625 \r\nQ 36.140625 65.921875 28.71875 65.921875 \r\nQ 24.65625 65.921875 20.015625 65.03125 \r\nQ 15.375 64.15625 9.8125 62.3125 \r\nL 9.8125 71.09375 \r\nQ 15.4375 72.65625 20.34375 73.4375 \r\nQ 25.25 74.21875 29.59375 74.21875 \r\nQ 40.828125 74.21875 47.359375 69.109375 \r\nQ 53.90625 64.015625 53.90625 55.328125 \r\nQ 53.90625 49.265625 50.4375 45.09375 \r\nQ 46.96875 40.921875 40.578125 39.3125 \r\nz\r\n\" id=\"DejaVuSans-51\"/>\r\n       </defs>\r\n       <use xlink:href=\"#DejaVuSans-51\"/>\r\n       <use x=\"63.623047\" xlink:href=\"#DejaVuSans-48\"/>\r\n       <use x=\"127.246094\" xlink:href=\"#DejaVuSans-48\"/>\r\n      </g>\r\n     </g>\r\n    </g>\r\n    <g id=\"xtick_5\">\r\n     <g id=\"line2d_5\">\r\n      <g>\r\n       <use style=\"stroke:#000000;stroke-width:0.8;\" x=\"539.976883\" xlink:href=\"#m9475327e48\" y=\"333.36\"/>\r\n      </g>\r\n     </g>\r\n     <g id=\"text_5\">\r\n      <!-- 400 -->\r\n      <g transform=\"translate(530.433133 347.958438)scale(0.1 -0.1)\">\r\n       <defs>\r\n        <path d=\"M 37.796875 64.3125 \r\nL 12.890625 25.390625 \r\nL 37.796875 25.390625 \r\nz\r\nM 35.203125 72.90625 \r\nL 47.609375 72.90625 \r\nL 47.609375 25.390625 \r\nL 58.015625 25.390625 \r\nL 58.015625 17.1875 \r\nL 47.609375 17.1875 \r\nL 47.609375 0 \r\nL 37.796875 0 \r\nL 37.796875 17.1875 \r\nL 4.890625 17.1875 \r\nL 4.890625 26.703125 \r\nz\r\n\" id=\"DejaVuSans-52\"/>\r\n       </defs>\r\n       <use xlink:href=\"#DejaVuSans-52\"/>\r\n       <use x=\"63.623047\" xlink:href=\"#DejaVuSans-48\"/>\r\n       <use x=\"127.246094\" xlink:href=\"#DejaVuSans-48\"/>\r\n      </g>\r\n     </g>\r\n    </g>\r\n    <g id=\"xtick_6\">\r\n     <g id=\"line2d_6\">\r\n      <g>\r\n       <use style=\"stroke:#000000;stroke-width:0.8;\" x=\"643.338526\" xlink:href=\"#m9475327e48\" y=\"333.36\"/>\r\n      </g>\r\n     </g>\r\n     <g id=\"text_6\">\r\n      <!-- 500 -->\r\n      <g transform=\"translate(633.794776 347.958438)scale(0.1 -0.1)\">\r\n       <defs>\r\n        <path d=\"M 10.796875 72.90625 \r\nL 49.515625 72.90625 \r\nL 49.515625 64.59375 \r\nL 19.828125 64.59375 \r\nL 19.828125 46.734375 \r\nQ 21.96875 47.46875 24.109375 47.828125 \r\nQ 26.265625 48.1875 28.421875 48.1875 \r\nQ 40.625 48.1875 47.75 41.5 \r\nQ 54.890625 34.8125 54.890625 23.390625 \r\nQ 54.890625 11.625 47.5625 5.09375 \r\nQ 40.234375 -1.421875 26.90625 -1.421875 \r\nQ 22.3125 -1.421875 17.546875 -0.640625 \r\nQ 12.796875 0.140625 7.71875 1.703125 \r\nL 7.71875 11.625 \r\nQ 12.109375 9.234375 16.796875 8.0625 \r\nQ 21.484375 6.890625 26.703125 6.890625 \r\nQ 35.15625 6.890625 40.078125 11.328125 \r\nQ 45.015625 15.765625 45.015625 23.390625 \r\nQ 45.015625 31 40.078125 35.4375 \r\nQ 35.15625 39.890625 26.703125 39.890625 \r\nQ 22.75 39.890625 18.8125 39.015625 \r\nQ 14.890625 38.140625 10.796875 36.28125 \r\nz\r\n\" id=\"DejaVuSans-53\"/>\r\n       </defs>\r\n       <use xlink:href=\"#DejaVuSans-53\"/>\r\n       <use x=\"63.623047\" xlink:href=\"#DejaVuSans-48\"/>\r\n       <use x=\"127.246094\" xlink:href=\"#DejaVuSans-48\"/>\r\n      </g>\r\n     </g>\r\n    </g>\r\n    <g id=\"text_7\">\r\n     <!-- Fare -->\r\n     <g transform=\"translate(380.803125 361.636562)scale(0.1 -0.1)\">\r\n      <defs>\r\n       <path d=\"M 9.8125 72.90625 \r\nL 51.703125 72.90625 \r\nL 51.703125 64.59375 \r\nL 19.671875 64.59375 \r\nL 19.671875 43.109375 \r\nL 48.578125 43.109375 \r\nL 48.578125 34.8125 \r\nL 19.671875 34.8125 \r\nL 19.671875 0 \r\nL 9.8125 0 \r\nz\r\n\" id=\"DejaVuSans-70\"/>\r\n       <path d=\"M 34.28125 27.484375 \r\nQ 23.390625 27.484375 19.1875 25 \r\nQ 14.984375 22.515625 14.984375 16.5 \r\nQ 14.984375 11.71875 18.140625 8.90625 \r\nQ 21.296875 6.109375 26.703125 6.109375 \r\nQ 34.1875 6.109375 38.703125 11.40625 \r\nQ 43.21875 16.703125 43.21875 25.484375 \r\nL 43.21875 27.484375 \r\nz\r\nM 52.203125 31.203125 \r\nL 52.203125 0 \r\nL 43.21875 0 \r\nL 43.21875 8.296875 \r\nQ 40.140625 3.328125 35.546875 0.953125 \r\nQ 30.953125 -1.421875 24.3125 -1.421875 \r\nQ 15.921875 -1.421875 10.953125 3.296875 \r\nQ 6 8.015625 6 15.921875 \r\nQ 6 25.140625 12.171875 29.828125 \r\nQ 18.359375 34.515625 30.609375 34.515625 \r\nL 43.21875 34.515625 \r\nL 43.21875 35.40625 \r\nQ 43.21875 41.609375 39.140625 45 \r\nQ 35.0625 48.390625 27.6875 48.390625 \r\nQ 23 48.390625 18.546875 47.265625 \r\nQ 14.109375 46.140625 10.015625 43.890625 \r\nL 10.015625 52.203125 \r\nQ 14.9375 54.109375 19.578125 55.046875 \r\nQ 24.21875 56 28.609375 56 \r\nQ 40.484375 56 46.34375 49.84375 \r\nQ 52.203125 43.703125 52.203125 31.203125 \r\nz\r\n\" id=\"DejaVuSans-97\"/>\r\n       <path d=\"M 41.109375 46.296875 \r\nQ 39.59375 47.171875 37.8125 47.578125 \r\nQ 36.03125 48 33.890625 48 \r\nQ 26.265625 48 22.1875 43.046875 \r\nQ 18.109375 38.09375 18.109375 28.8125 \r\nL 18.109375 0 \r\nL 9.078125 0 \r\nL 9.078125 54.6875 \r\nL 18.109375 54.6875 \r\nL 18.109375 46.1875 \r\nQ 20.953125 51.171875 25.484375 53.578125 \r\nQ 30.03125 56 36.53125 56 \r\nQ 37.453125 56 38.578125 55.875 \r\nQ 39.703125 55.765625 41.0625 55.515625 \r\nz\r\n\" id=\"DejaVuSans-114\"/>\r\n       <path d=\"M 56.203125 29.59375 \r\nL 56.203125 25.203125 \r\nL 14.890625 25.203125 \r\nQ 15.484375 15.921875 20.484375 11.0625 \r\nQ 25.484375 6.203125 34.421875 6.203125 \r\nQ 39.59375 6.203125 44.453125 7.46875 \r\nQ 49.3125 8.734375 54.109375 11.28125 \r\nL 54.109375 2.78125 \r\nQ 49.265625 0.734375 44.1875 -0.34375 \r\nQ 39.109375 -1.421875 33.890625 -1.421875 \r\nQ 20.796875 -1.421875 13.15625 6.1875 \r\nQ 5.515625 13.8125 5.515625 26.8125 \r\nQ 5.515625 40.234375 12.765625 48.109375 \r\nQ 20.015625 56 32.328125 56 \r\nQ 43.359375 56 49.78125 48.890625 \r\nQ 56.203125 41.796875 56.203125 29.59375 \r\nz\r\nM 47.21875 32.234375 \r\nQ 47.125 39.59375 43.09375 43.984375 \r\nQ 39.0625 48.390625 32.421875 48.390625 \r\nQ 24.90625 48.390625 20.390625 44.140625 \r\nQ 15.875 39.890625 15.1875 32.171875 \r\nz\r\n\" id=\"DejaVuSans-101\"/>\r\n      </defs>\r\n      <use xlink:href=\"#DejaVuSans-70\"/>\r\n      <use x=\"48.394531\" xlink:href=\"#DejaVuSans-97\"/>\r\n      <use x=\"109.673828\" xlink:href=\"#DejaVuSans-114\"/>\r\n      <use x=\"148.537109\" xlink:href=\"#DejaVuSans-101\"/>\r\n     </g>\r\n    </g>\r\n   </g>\r\n   <g id=\"matplotlib.axis_2\">\r\n    <g id=\"ytick_1\">\r\n     <g id=\"line2d_7\">\r\n      <defs>\r\n       <path d=\"M 0 0 \r\nL -3.5 0 \r\n\" id=\"m58097fbace\" style=\"stroke:#000000;stroke-width:0.8;\"/>\r\n      </defs>\r\n      <g>\r\n       <use style=\"stroke:#000000;stroke-width:0.8;\" x=\"56.50625\" xlink:href=\"#m58097fbace\" y=\"333.36\"/>\r\n      </g>\r\n     </g>\r\n     <g id=\"text_8\">\r\n      <!-- 0.000 -->\r\n      <g transform=\"translate(20.878125 337.159219)scale(0.1 -0.1)\">\r\n       <defs>\r\n        <path d=\"M 10.6875 12.40625 \r\nL 21 12.40625 \r\nL 21 0 \r\nL 10.6875 0 \r\nz\r\n\" id=\"DejaVuSans-46\"/>\r\n       </defs>\r\n       <use xlink:href=\"#DejaVuSans-48\"/>\r\n       <use x=\"63.623047\" xlink:href=\"#DejaVuSans-46\"/>\r\n       <use x=\"95.410156\" xlink:href=\"#DejaVuSans-48\"/>\r\n       <use x=\"159.033203\" xlink:href=\"#DejaVuSans-48\"/>\r\n       <use x=\"222.65625\" xlink:href=\"#DejaVuSans-48\"/>\r\n      </g>\r\n     </g>\r\n    </g>\r\n    <g id=\"ytick_2\">\r\n     <g id=\"line2d_8\">\r\n      <g>\r\n       <use style=\"stroke:#000000;stroke-width:0.8;\" x=\"56.50625\" xlink:href=\"#m58097fbace\" y=\"291.283626\"/>\r\n      </g>\r\n     </g>\r\n     <g id=\"text_9\">\r\n      <!-- 0.005 -->\r\n      <g transform=\"translate(20.878125 295.082844)scale(0.1 -0.1)\">\r\n       <use xlink:href=\"#DejaVuSans-48\"/>\r\n       <use x=\"63.623047\" xlink:href=\"#DejaVuSans-46\"/>\r\n       <use x=\"95.410156\" xlink:href=\"#DejaVuSans-48\"/>\r\n       <use x=\"159.033203\" xlink:href=\"#DejaVuSans-48\"/>\r\n       <use x=\"222.65625\" xlink:href=\"#DejaVuSans-53\"/>\r\n      </g>\r\n     </g>\r\n    </g>\r\n    <g id=\"ytick_3\">\r\n     <g id=\"line2d_9\">\r\n      <g>\r\n       <use style=\"stroke:#000000;stroke-width:0.8;\" x=\"56.50625\" xlink:href=\"#m58097fbace\" y=\"249.207251\"/>\r\n      </g>\r\n     </g>\r\n     <g id=\"text_10\">\r\n      <!-- 0.010 -->\r\n      <g transform=\"translate(20.878125 253.00647)scale(0.1 -0.1)\">\r\n       <use xlink:href=\"#DejaVuSans-48\"/>\r\n       <use x=\"63.623047\" xlink:href=\"#DejaVuSans-46\"/>\r\n       <use x=\"95.410156\" xlink:href=\"#DejaVuSans-48\"/>\r\n       <use x=\"159.033203\" xlink:href=\"#DejaVuSans-49\"/>\r\n       <use x=\"222.65625\" xlink:href=\"#DejaVuSans-48\"/>\r\n      </g>\r\n     </g>\r\n    </g>\r\n    <g id=\"ytick_4\">\r\n     <g id=\"line2d_10\">\r\n      <g>\r\n       <use style=\"stroke:#000000;stroke-width:0.8;\" x=\"56.50625\" xlink:href=\"#m58097fbace\" y=\"207.130877\"/>\r\n      </g>\r\n     </g>\r\n     <g id=\"text_11\">\r\n      <!-- 0.015 -->\r\n      <g transform=\"translate(20.878125 210.930095)scale(0.1 -0.1)\">\r\n       <use xlink:href=\"#DejaVuSans-48\"/>\r\n       <use x=\"63.623047\" xlink:href=\"#DejaVuSans-46\"/>\r\n       <use x=\"95.410156\" xlink:href=\"#DejaVuSans-48\"/>\r\n       <use x=\"159.033203\" xlink:href=\"#DejaVuSans-49\"/>\r\n       <use x=\"222.65625\" xlink:href=\"#DejaVuSans-53\"/>\r\n      </g>\r\n     </g>\r\n    </g>\r\n    <g id=\"ytick_5\">\r\n     <g id=\"line2d_11\">\r\n      <g>\r\n       <use style=\"stroke:#000000;stroke-width:0.8;\" x=\"56.50625\" xlink:href=\"#m58097fbace\" y=\"165.054502\"/>\r\n      </g>\r\n     </g>\r\n     <g id=\"text_12\">\r\n      <!-- 0.020 -->\r\n      <g transform=\"translate(20.878125 168.853721)scale(0.1 -0.1)\">\r\n       <use xlink:href=\"#DejaVuSans-48\"/>\r\n       <use x=\"63.623047\" xlink:href=\"#DejaVuSans-46\"/>\r\n       <use x=\"95.410156\" xlink:href=\"#DejaVuSans-48\"/>\r\n       <use x=\"159.033203\" xlink:href=\"#DejaVuSans-50\"/>\r\n       <use x=\"222.65625\" xlink:href=\"#DejaVuSans-48\"/>\r\n      </g>\r\n     </g>\r\n    </g>\r\n    <g id=\"ytick_6\">\r\n     <g id=\"line2d_12\">\r\n      <g>\r\n       <use style=\"stroke:#000000;stroke-width:0.8;\" x=\"56.50625\" xlink:href=\"#m58097fbace\" y=\"122.978128\"/>\r\n      </g>\r\n     </g>\r\n     <g id=\"text_13\">\r\n      <!-- 0.025 -->\r\n      <g transform=\"translate(20.878125 126.777346)scale(0.1 -0.1)\">\r\n       <use xlink:href=\"#DejaVuSans-48\"/>\r\n       <use x=\"63.623047\" xlink:href=\"#DejaVuSans-46\"/>\r\n       <use x=\"95.410156\" xlink:href=\"#DejaVuSans-48\"/>\r\n       <use x=\"159.033203\" xlink:href=\"#DejaVuSans-50\"/>\r\n       <use x=\"222.65625\" xlink:href=\"#DejaVuSans-53\"/>\r\n      </g>\r\n     </g>\r\n    </g>\r\n    <g id=\"ytick_7\">\r\n     <g id=\"line2d_13\">\r\n      <g>\r\n       <use style=\"stroke:#000000;stroke-width:0.8;\" x=\"56.50625\" xlink:href=\"#m58097fbace\" y=\"80.901753\"/>\r\n      </g>\r\n     </g>\r\n     <g id=\"text_14\">\r\n      <!-- 0.030 -->\r\n      <g transform=\"translate(20.878125 84.700972)scale(0.1 -0.1)\">\r\n       <use xlink:href=\"#DejaVuSans-48\"/>\r\n       <use x=\"63.623047\" xlink:href=\"#DejaVuSans-46\"/>\r\n       <use x=\"95.410156\" xlink:href=\"#DejaVuSans-48\"/>\r\n       <use x=\"159.033203\" xlink:href=\"#DejaVuSans-51\"/>\r\n       <use x=\"222.65625\" xlink:href=\"#DejaVuSans-48\"/>\r\n      </g>\r\n     </g>\r\n    </g>\r\n    <g id=\"ytick_8\">\r\n     <g id=\"line2d_14\">\r\n      <g>\r\n       <use style=\"stroke:#000000;stroke-width:0.8;\" x=\"56.50625\" xlink:href=\"#m58097fbace\" y=\"38.825379\"/>\r\n      </g>\r\n     </g>\r\n     <g id=\"text_15\">\r\n      <!-- 0.035 -->\r\n      <g transform=\"translate(20.878125 42.624597)scale(0.1 -0.1)\">\r\n       <use xlink:href=\"#DejaVuSans-48\"/>\r\n       <use x=\"63.623047\" xlink:href=\"#DejaVuSans-46\"/>\r\n       <use x=\"95.410156\" xlink:href=\"#DejaVuSans-48\"/>\r\n       <use x=\"159.033203\" xlink:href=\"#DejaVuSans-51\"/>\r\n       <use x=\"222.65625\" xlink:href=\"#DejaVuSans-53\"/>\r\n      </g>\r\n     </g>\r\n    </g>\r\n    <g id=\"text_16\">\r\n     <!-- Frequency -->\r\n     <g transform=\"translate(14.798437 196.109687)rotate(-90)scale(0.1 -0.1)\">\r\n      <defs>\r\n       <path d=\"M 14.796875 27.296875 \r\nQ 14.796875 17.390625 18.875 11.75 \r\nQ 22.953125 6.109375 30.078125 6.109375 \r\nQ 37.203125 6.109375 41.296875 11.75 \r\nQ 45.40625 17.390625 45.40625 27.296875 \r\nQ 45.40625 37.203125 41.296875 42.84375 \r\nQ 37.203125 48.484375 30.078125 48.484375 \r\nQ 22.953125 48.484375 18.875 42.84375 \r\nQ 14.796875 37.203125 14.796875 27.296875 \r\nz\r\nM 45.40625 8.203125 \r\nQ 42.578125 3.328125 38.25 0.953125 \r\nQ 33.9375 -1.421875 27.875 -1.421875 \r\nQ 17.96875 -1.421875 11.734375 6.484375 \r\nQ 5.515625 14.40625 5.515625 27.296875 \r\nQ 5.515625 40.1875 11.734375 48.09375 \r\nQ 17.96875 56 27.875 56 \r\nQ 33.9375 56 38.25 53.625 \r\nQ 42.578125 51.265625 45.40625 46.390625 \r\nL 45.40625 54.6875 \r\nL 54.390625 54.6875 \r\nL 54.390625 -20.796875 \r\nL 45.40625 -20.796875 \r\nz\r\n\" id=\"DejaVuSans-113\"/>\r\n       <path d=\"M 8.5 21.578125 \r\nL 8.5 54.6875 \r\nL 17.484375 54.6875 \r\nL 17.484375 21.921875 \r\nQ 17.484375 14.15625 20.5 10.265625 \r\nQ 23.53125 6.390625 29.59375 6.390625 \r\nQ 36.859375 6.390625 41.078125 11.03125 \r\nQ 45.3125 15.671875 45.3125 23.6875 \r\nL 45.3125 54.6875 \r\nL 54.296875 54.6875 \r\nL 54.296875 0 \r\nL 45.3125 0 \r\nL 45.3125 8.40625 \r\nQ 42.046875 3.421875 37.71875 1 \r\nQ 33.40625 -1.421875 27.6875 -1.421875 \r\nQ 18.265625 -1.421875 13.375 4.4375 \r\nQ 8.5 10.296875 8.5 21.578125 \r\nz\r\nM 31.109375 56 \r\nz\r\n\" id=\"DejaVuSans-117\"/>\r\n       <path d=\"M 54.890625 33.015625 \r\nL 54.890625 0 \r\nL 45.90625 0 \r\nL 45.90625 32.71875 \r\nQ 45.90625 40.484375 42.875 44.328125 \r\nQ 39.84375 48.1875 33.796875 48.1875 \r\nQ 26.515625 48.1875 22.3125 43.546875 \r\nQ 18.109375 38.921875 18.109375 30.90625 \r\nL 18.109375 0 \r\nL 9.078125 0 \r\nL 9.078125 54.6875 \r\nL 18.109375 54.6875 \r\nL 18.109375 46.1875 \r\nQ 21.34375 51.125 25.703125 53.5625 \r\nQ 30.078125 56 35.796875 56 \r\nQ 45.21875 56 50.046875 50.171875 \r\nQ 54.890625 44.34375 54.890625 33.015625 \r\nz\r\n\" id=\"DejaVuSans-110\"/>\r\n       <path d=\"M 48.78125 52.59375 \r\nL 48.78125 44.1875 \r\nQ 44.96875 46.296875 41.140625 47.34375 \r\nQ 37.3125 48.390625 33.40625 48.390625 \r\nQ 24.65625 48.390625 19.8125 42.84375 \r\nQ 14.984375 37.3125 14.984375 27.296875 \r\nQ 14.984375 17.28125 19.8125 11.734375 \r\nQ 24.65625 6.203125 33.40625 6.203125 \r\nQ 37.3125 6.203125 41.140625 7.25 \r\nQ 44.96875 8.296875 48.78125 10.40625 \r\nL 48.78125 2.09375 \r\nQ 45.015625 0.34375 40.984375 -0.53125 \r\nQ 36.96875 -1.421875 32.421875 -1.421875 \r\nQ 20.0625 -1.421875 12.78125 6.34375 \r\nQ 5.515625 14.109375 5.515625 27.296875 \r\nQ 5.515625 40.671875 12.859375 48.328125 \r\nQ 20.21875 56 33.015625 56 \r\nQ 37.15625 56 41.109375 55.140625 \r\nQ 45.0625 54.296875 48.78125 52.59375 \r\nz\r\n\" id=\"DejaVuSans-99\"/>\r\n       <path d=\"M 32.171875 -5.078125 \r\nQ 28.375 -14.84375 24.75 -17.8125 \r\nQ 21.140625 -20.796875 15.09375 -20.796875 \r\nL 7.90625 -20.796875 \r\nL 7.90625 -13.28125 \r\nL 13.1875 -13.28125 \r\nQ 16.890625 -13.28125 18.9375 -11.515625 \r\nQ 21 -9.765625 23.484375 -3.21875 \r\nL 25.09375 0.875 \r\nL 2.984375 54.6875 \r\nL 12.5 54.6875 \r\nL 29.59375 11.921875 \r\nL 46.6875 54.6875 \r\nL 56.203125 54.6875 \r\nz\r\n\" id=\"DejaVuSans-121\"/>\r\n      </defs>\r\n      <use xlink:href=\"#DejaVuSans-70\"/>\r\n      <use x=\"50.269531\" xlink:href=\"#DejaVuSans-114\"/>\r\n      <use x=\"89.132812\" xlink:href=\"#DejaVuSans-101\"/>\r\n      <use x=\"150.65625\" xlink:href=\"#DejaVuSans-113\"/>\r\n      <use x=\"214.132812\" xlink:href=\"#DejaVuSans-117\"/>\r\n      <use x=\"277.511719\" xlink:href=\"#DejaVuSans-101\"/>\r\n      <use x=\"339.035156\" xlink:href=\"#DejaVuSans-110\"/>\r\n      <use x=\"402.414062\" xlink:href=\"#DejaVuSans-99\"/>\r\n      <use x=\"457.394531\" xlink:href=\"#DejaVuSans-121\"/>\r\n     </g>\r\n    </g>\r\n   </g>\r\n   <g id=\"line2d_15\">\r\n    <path clip-path=\"url(#p7d0ccd658c)\" d=\"M 86.942614 333.153908 \r\nL 93.091374 332.412284 \r\nL 99.240134 329.786044 \r\nL 105.388895 322.315212 \r\nL 111.537655 305.387404 \r\nL 117.686415 275.220327 \r\nL 123.835176 233.852832 \r\nL 129.983936 192.204426 \r\nL 136.132696 165.558537 \r\nL 142.281457 163.308846 \r\nL 148.430217 182.905744 \r\nL 154.578977 213.710505 \r\nL 160.727738 245.078612 \r\nL 166.876498 270.755742 \r\nL 173.025258 288.751899 \r\nL 179.174019 299.819657 \r\nL 185.322779 305.975443 \r\nL 191.471539 309.237714 \r\nL 197.6203 311.089893 \r\nL 203.76906 312.667146 \r\nL 209.91782 314.846747 \r\nL 216.066581 317.903905 \r\nL 222.215341 321.327284 \r\nL 228.364101 324.262094 \r\nL 234.512862 326.207485 \r\nL 240.661622 327.284754 \r\nL 246.810382 327.917611 \r\nL 252.959143 328.388181 \r\nL 259.107903 328.727908 \r\nL 265.256663 328.904481 \r\nL 271.405424 328.985432 \r\nL 277.554184 329.134751 \r\nL 283.702944 329.513471 \r\nL 289.851705 330.173621 \r\nL 296.000465 331.014342 \r\nL 302.149225 331.84314 \r\nL 308.297986 332.48948 \r\nL 314.446746 332.86773 \r\nL 320.595506 332.961389 \r\nL 326.744267 332.787024 \r\nL 332.893027 332.393563 \r\nL 339.041787 331.88533 \r\nL 345.190548 331.413938 \r\nL 351.339308 331.121481 \r\nL 357.488068 331.075816 \r\nL 363.636829 331.235692 \r\nL 369.785589 331.460202 \r\nL 375.934349 331.578656 \r\nL 382.08311 331.504607 \r\nL 388.23187 331.314601 \r\nL 394.38063 331.211033 \r\nL 400.52939 331.373087 \r\nL 406.678151 331.811065 \r\nL 412.826911 332.363385 \r\nL 418.975671 332.836543 \r\nL 425.124432 333.136901 \r\nL 431.273192 333.283101 \r\nL 437.421952 333.338605 \r\nL 443.570713 333.3552 \r\nL 449.719473 333.359132 \r\nL 455.868233 333.359874 \r\nL 462.016994 333.359985 \r\nL 468.165754 333.359999 \r\nL 474.314514 333.36 \r\nL 480.463275 333.36 \r\nL 486.612035 333.36 \r\nL 492.760795 333.36 \r\nL 498.909556 333.36 \r\nL 505.058316 333.36 \r\nL 511.207076 333.36 \r\nL 517.355837 333.36 \r\nL 523.504597 333.36 \r\nL 529.653357 333.36 \r\nL 535.802118 333.36 \r\nL 541.950878 333.36 \r\nL 548.099638 333.36 \r\nL 554.248399 333.36 \r\nL 560.397159 333.36 \r\nL 566.545919 333.36 \r\nL 572.69468 333.36 \r\nL 578.84344 333.36 \r\nL 584.9922 333.36 \r\nL 591.140961 333.359995 \r\nL 597.289721 333.359956 \r\nL 603.438481 333.359688 \r\nL 609.587242 333.358205 \r\nL 615.736002 333.351697 \r\nL 621.884762 333.329084 \r\nL 628.033523 333.267332 \r\nL 634.182283 333.136392 \r\nL 640.331043 332.92563 \r\nL 646.479804 332.680727 \r\nL 652.628564 332.504852 \r\nL 658.777324 332.493336 \r\nL 664.926085 332.652914 \r\nL 671.074845 332.895585 \r\nL 677.223605 333.114443 \r\nL 683.372366 333.255477 \r\nL 689.521126 333.324184 \r\nL 695.669886 333.35012 \r\n\" style=\"fill:none;stroke:#ff0000;stroke-linecap:square;stroke-width:1.5;\"/>\r\n   </g>\r\n   <g id=\"patch_53\">\r\n    <path d=\"M 56.50625 333.36 \r\nL 56.50625 7.2 \r\n\" style=\"fill:none;stroke:#000000;stroke-linecap:square;stroke-linejoin:miter;stroke-width:0.8;\"/>\r\n   </g>\r\n   <g id=\"patch_54\">\r\n    <path d=\"M 726.10625 333.36 \r\nL 726.10625 7.2 \r\n\" style=\"fill:none;stroke:#000000;stroke-linecap:square;stroke-linejoin:miter;stroke-width:0.8;\"/>\r\n   </g>\r\n   <g id=\"patch_55\">\r\n    <path d=\"M 56.50625 333.36 \r\nL 726.10625 333.36 \r\n\" style=\"fill:none;stroke:#000000;stroke-linecap:square;stroke-linejoin:miter;stroke-width:0.8;\"/>\r\n   </g>\r\n   <g id=\"patch_56\">\r\n    <path d=\"M 56.50625 7.2 \r\nL 726.10625 7.2 \r\n\" style=\"fill:none;stroke:#000000;stroke-linecap:square;stroke-linejoin:miter;stroke-width:0.8;\"/>\r\n   </g>\r\n  </g>\r\n </g>\r\n <defs>\r\n  <clipPath id=\"p7d0ccd658c\">\r\n   <rect height=\"326.16\" width=\"669.6\" x=\"56.50625\" y=\"7.2\"/>\r\n  </clipPath>\r\n </defs>\r\n</svg>\r\n",
      "image/png": "[encoded data removed]"
     },
     "metadata": {
      "needs_background": "light"
     }
    }
   ],
   "source": [
    "plt.figure(figsize=(12,6))\n",
    "sns.distplot(df.Fare, color='red')\n",
    "plt.xlabel('Fare')\n",
    "plt.ylabel('Frequency')\n",
    "plt.show()"
   ]
  },
  {
   "source": [
    "#### Distribution plot (histogram) of the 'Fare' attribute of the data using Seaborn"
   ],
   "cell_type": "markdown",
   "metadata": {}
  },
  {
   "cell_type": "code",
   "execution_count": 17,
   "metadata": {},
   "outputs": [
    {
     "output_type": "display_data",
     "data": {
      "text/plain": "<Figure size 432x432 with 3 Axes>",
      "image/svg+xml": "<?xml version=\"1.0\" encoding=\"utf-8\" standalone=\"no\"?>\r\n<!DOCTYPE svg PUBLIC \"-//W3C//DTD SVG 1.1//EN\"\r\n  \"http://www.w3.org/Graphics/SVG/1.1/DTD/svg11.dtd\">\r\n<!-- Created with matplotlib (https://matplotlib.org/) -->\r\n<svg height=\"424.15625pt\" version=\"1.1\" viewBox=\"0 0 421.203125 424.15625\" width=\"421.203125pt\" xmlns=\"http://www.w3.org/2000/svg\" xmlns:xlink=\"http://www.w3.org/1999/xlink\">\r\n <metadata>\r\n  <rdf:RDF xmlns:cc=\"http://creativecommons.org/ns#\" xmlns:dc=\"http://purl.org/dc/elements/1.1/\" xmlns:rdf=\"http://www.w3.org/1999/02/22-rdf-syntax-ns#\">\r\n   <cc:Work>\r\n    <dc:type rdf:resource=\"http://purl.org/dc/dcmitype/StillImage\"/>\r\n    <dc:date>2020-09-16T18:12:31.201540</dc:date>\r\n    <dc:format>image/svg+xml</dc:format>\r\n    <dc:creator>\r\n     <cc:Agent>\r\n      <dc:title>Matplotlib v3.3.1, https://matplotlib.org/</dc:title>\r\n     </cc:Agent>\r\n    </dc:creator>\r\n   </cc:Work>\r\n  </rdf:RDF>\r\n </metadata>\r\n <defs>\r\n  <style type=\"text/css\">*{stroke-linecap:butt;stroke-linejoin:round;}</style>\r\n </defs>\r\n <g id=\"figure_1\">\r\n  <g id=\"patch_1\">\r\n   <path d=\"M 0 424.15625 \r\nL 421.203125 424.15625 \r\nL 421.203125 0 \r\nL 0 0 \r\nz\r\n\" style=\"fill:none;\"/>\r\n  </g>\r\n  <g id=\"axes_1\">\r\n   <g id=\"patch_2\">\r\n    <path d=\"M 40.603125 386.6 \r\nL 349.991696 386.6 \r\nL 349.991696 72.24 \r\nL 40.603125 72.24 \r\nz\r\n\" style=\"fill:#ffffff;\"/>\r\n   </g>\r\n   <g id=\"PathCollection_1\">\r\n    <path clip-path=\"url(#p35f3a60d51)\" d=\"M 43.728262 386.6 \r\nL 46.853399 386.6 \r\nL 49.978536 386.6 \r\nL 53.103673 386.6 \r\nL 56.22881 386.6 \r\nL 59.353948 386.6 \r\nL 62.479085 386.6 \r\nL 65.604222 386.6 \r\nL 68.729359 386.6 \r\nL 71.854496 386.6 \r\nL 74.979633 386.6 \r\nL 78.10477 386.6 \r\nL 81.229907 386.6 \r\nL 84.355044 386.6 \r\nL 87.480181 386.6 \r\nL 90.605318 386.6 \r\nL 93.730455 386.6 \r\nL 96.855593 386.6 \r\nL 99.98073 386.6 \r\nL 103.105867 386.6 \r\nL 106.231004 386.6 \r\nL 109.356141 386.6 \r\nL 112.481278 386.6 \r\nL 115.606415 386.6 \r\nL 118.731552 386.6 \r\nL 121.856689 386.6 \r\nL 124.981826 386.6 \r\nL 128.106963 386.6 \r\nL 131.2321 386.6 \r\nL 134.357238 386.6 \r\nL 137.482375 386.6 \r\nL 140.607512 386.6 \r\nL 143.732649 386.6 \r\nL 146.857786 386.6 \r\nL 149.982923 386.6 \r\nL 153.10806 386.6 \r\nL 156.233197 386.6 \r\nL 159.358334 386.6 \r\nL 162.483471 386.6 \r\nL 165.608608 386.6 \r\nL 168.733745 386.6 \r\nL 171.858883 386.6 \r\nL 174.98402 386.6 \r\nL 178.109157 386.6 \r\nL 181.234294 386.6 \r\nL 184.359431 386.6 \r\nL 187.484568 386.6 \r\nL 190.609705 386.6 \r\nL 193.734842 386.6 \r\nL 196.859979 386.6 \r\nL 199.985116 386.6 \r\nL 203.110253 386.6 \r\nL 206.235391 386.6 \r\nL 209.360528 386.6 \r\nL 212.485665 386.6 \r\nL 215.610802 386.6 \r\nL 218.735939 386.6 \r\nL 221.861076 386.6 \r\nL 224.986213 386.6 \r\nL 228.11135 386.6 \r\nL 231.236487 386.6 \r\nL 234.361624 386.6 \r\nL 237.486761 386.6 \r\nL 240.611898 386.6 \r\nL 243.737036 386.6 \r\nL 246.862173 386.6 \r\nL 249.98731 386.6 \r\nL 253.112447 386.6 \r\nL 256.237584 386.6 \r\nL 259.362721 386.6 \r\nL 262.487858 386.6 \r\nL 265.612995 386.6 \r\nL 268.738132 386.6 \r\nL 271.863269 386.6 \r\nL 274.988406 386.6 \r\nL 278.113543 386.6 \r\nL 281.238681 386.6 \r\nL 284.363818 386.6 \r\nL 287.488955 386.6 \r\nL 290.614092 386.6 \r\nL 293.739229 386.6 \r\nL 296.864366 386.6 \r\nL 299.989503 386.6 \r\nL 303.11464 386.6 \r\nL 306.239777 386.6 \r\nL 309.364914 386.6 \r\nL 312.490051 386.6 \r\nL 315.615188 386.6 \r\nL 318.740326 386.6 \r\nL 321.865463 386.6 \r\nL 324.9906 386.6 \r\nL 328.115737 386.6 \r\nL 331.240874 386.6 \r\nL 334.366011 386.6 \r\nL 337.491148 386.6 \r\nL 340.616285 386.6 \r\nL 343.741422 386.6 \r\nL 346.866559 386.6 \r\nL 349.991696 386.6 \r\nL 349.991696 383.424646 \r\nL 349.991696 380.249293 \r\nL 349.991696 377.073939 \r\nL 349.991696 373.898586 \r\nL 349.991696 370.723232 \r\nL 349.991696 367.547879 \r\nL 349.991696 364.372525 \r\nL 349.991696 361.197172 \r\nL 349.991696 358.021818 \r\nL 349.991696 354.846465 \r\nL 349.991696 351.671111 \r\nL 349.991696 348.495758 \r\nL 349.991696 345.320404 \r\nL 349.991696 342.145051 \r\nL 349.991696 338.969697 \r\nL 349.991696 335.794343 \r\nL 349.991696 332.61899 \r\nL 349.991696 329.443636 \r\nL 349.991696 326.268283 \r\nL 349.991696 323.092929 \r\nL 349.991696 319.917576 \r\nL 349.991696 316.742222 \r\nL 349.991696 313.566869 \r\nL 349.991696 310.391515 \r\nL 349.991696 307.216162 \r\nL 349.991696 304.040808 \r\nL 349.991696 300.865455 \r\nL 349.991696 297.690101 \r\nL 349.991696 294.514747 \r\nL 349.991696 291.339394 \r\nL 349.991696 288.16404 \r\nL 349.991696 284.988687 \r\nL 349.991696 281.813333 \r\nL 349.991696 278.63798 \r\nL 349.991696 275.462626 \r\nL 349.991696 272.287273 \r\nL 349.991696 269.111919 \r\nL 349.991696 265.936566 \r\nL 349.991696 262.761212 \r\nL 349.991696 259.585859 \r\nL 349.991696 256.410505 \r\nL 349.991696 253.235152 \r\nL 349.991696 250.059798 \r\nL 349.991696 246.884444 \r\nL 349.991696 243.709091 \r\nL 349.991696 240.533737 \r\nL 349.991696 237.358384 \r\nL 349.991696 234.18303 \r\nL 349.991696 231.007677 \r\nL 349.991696 227.832323 \r\nL 349.991696 224.65697 \r\nL 349.991696 221.481616 \r\nL 349.991696 218.306263 \r\nL 349.991696 215.130909 \r\nL 349.991696 211.955556 \r\nL 349.991696 208.780202 \r\nL 349.991696 205.604848 \r\nL 349.991696 202.429495 \r\nL 349.991696 199.254141 \r\nL 349.991696 196.078788 \r\nL 349.991696 192.903434 \r\nL 349.991696 189.728081 \r\nL 349.991696 186.552727 \r\nL 349.991696 183.377374 \r\nL 349.991696 180.20202 \r\nL 349.991696 177.026667 \r\nL 349.991696 173.851313 \r\nL 349.991696 170.67596 \r\nL 349.991696 167.500606 \r\nL 349.991696 164.325253 \r\nL 349.991696 161.149899 \r\nL 349.991696 157.974545 \r\nL 349.991696 154.799192 \r\nL 349.991696 151.623838 \r\nL 349.991696 148.448485 \r\nL 349.991696 145.273131 \r\nL 349.991696 142.097778 \r\nL 349.991696 138.922424 \r\nL 349.991696 135.747071 \r\nL 349.991696 132.571717 \r\nL 349.991696 129.396364 \r\nL 349.991696 126.22101 \r\nL 349.991696 123.045657 \r\nL 349.991696 119.870303 \r\nL 349.991696 116.694949 \r\nL 349.991696 113.519596 \r\nL 349.991696 110.344242 \r\nL 349.991696 107.168889 \r\nL 349.991696 103.993535 \r\nL 349.991696 100.818182 \r\nL 349.991696 97.642828 \r\nL 349.991696 94.467475 \r\nL 349.991696 91.292121 \r\nL 349.991696 88.116768 \r\nL 349.991696 84.941414 \r\nL 349.991696 81.766061 \r\nL 349.991696 78.590707 \r\nL 349.991696 75.415354 \r\nL 349.991696 72.24 \r\nL 346.866559 72.24 \r\nL 343.741422 72.24 \r\nL 340.616285 72.24 \r\nL 337.491148 72.24 \r\nL 334.366011 72.24 \r\nL 331.240874 72.24 \r\nL 328.115737 72.24 \r\nL 324.9906 72.24 \r\nL 321.865463 72.24 \r\nL 318.740326 72.24 \r\nL 315.615188 72.24 \r\nL 312.490051 72.24 \r\nL 309.364914 72.24 \r\nL 306.239777 72.24 \r\nL 303.11464 72.24 \r\nL 299.989503 72.24 \r\nL 296.864366 72.24 \r\nL 293.739229 72.24 \r\nL 290.614092 72.24 \r\nL 287.488955 72.24 \r\nL 284.363818 72.24 \r\nL 281.238681 72.24 \r\nL 278.113543 72.24 \r\nL 274.988406 72.24 \r\nL 271.863269 72.24 \r\nL 268.738132 72.24 \r\nL 265.612995 72.24 \r\nL 262.487858 72.24 \r\nL 259.362721 72.24 \r\nL 256.237584 72.24 \r\nL 253.112447 72.24 \r\nL 249.98731 72.24 \r\nL 246.862173 72.24 \r\nL 243.737036 72.24 \r\nL 240.611898 72.24 \r\nL 237.486761 72.24 \r\nL 234.361624 72.24 \r\nL 231.236487 72.24 \r\nL 228.11135 72.24 \r\nL 224.986213 72.24 \r\nL 221.861076 72.24 \r\nL 218.735939 72.24 \r\nL 215.610802 72.24 \r\nL 212.485665 72.24 \r\nL 209.360528 72.24 \r\nL 206.235391 72.24 \r\nL 203.110253 72.24 \r\nL 199.985116 72.24 \r\nL 196.859979 72.24 \r\nL 193.734842 72.24 \r\nL 190.609705 72.24 \r\nL 187.484568 72.24 \r\nL 184.359431 72.24 \r\nL 181.234294 72.24 \r\nL 178.109157 72.24 \r\nL 174.98402 72.24 \r\nL 171.858883 72.24 \r\nL 168.733745 72.24 \r\nL 165.608608 72.24 \r\nL 162.483471 72.24 \r\nL 159.358334 72.24 \r\nL 156.233197 72.24 \r\nL 153.10806 72.24 \r\nL 149.982923 72.24 \r\nL 146.857786 72.24 \r\nL 143.732649 72.24 \r\nL 140.607512 72.24 \r\nL 137.482375 72.24 \r\nL 134.357238 72.24 \r\nL 131.2321 72.24 \r\nL 128.106963 72.24 \r\nL 124.981826 72.24 \r\nL 121.856689 72.24 \r\nL 118.731552 72.24 \r\nL 115.606415 72.24 \r\nL 112.481278 72.24 \r\nL 109.356141 72.24 \r\nL 106.231004 72.24 \r\nL 103.105867 72.24 \r\nL 99.98073 72.24 \r\nL 96.855593 72.24 \r\nL 93.730455 72.24 \r\nL 90.605318 72.24 \r\nL 87.480181 72.24 \r\nL 84.355044 72.24 \r\nL 81.229907 72.24 \r\nL 78.10477 72.24 \r\nL 74.979633 72.24 \r\nL 71.854496 72.24 \r\nL 68.729359 72.24 \r\nL 65.604222 72.24 \r\nL 62.479085 72.24 \r\nL 59.353948 72.24 \r\nL 56.22881 72.24 \r\nL 53.103673 72.24 \r\nL 49.978536 72.24 \r\nL 46.853399 72.24 \r\nL 43.728262 72.24 \r\nL 40.603125 72.24 \r\nL 40.603125 75.415354 \r\nL 40.603125 78.590707 \r\nL 40.603125 81.766061 \r\nL 40.603125 84.941414 \r\nL 40.603125 88.116768 \r\nL 40.603125 91.292121 \r\nL 40.603125 94.467475 \r\nL 40.603125 97.642828 \r\nL 40.603125 100.818182 \r\nL 40.603125 103.993535 \r\nL 40.603125 107.168889 \r\nL 40.603125 110.344242 \r\nL 40.603125 113.519596 \r\nL 40.603125 116.694949 \r\nL 40.603125 119.870303 \r\nL 40.603125 123.045657 \r\nL 40.603125 126.22101 \r\nL 40.603125 129.396364 \r\nL 40.603125 132.571717 \r\nL 40.603125 135.747071 \r\nL 40.603125 138.922424 \r\nL 40.603125 142.097778 \r\nL 40.603125 145.273131 \r\nL 40.603125 148.448485 \r\nL 40.603125 151.623838 \r\nL 40.603125 154.799192 \r\nL 40.603125 157.974545 \r\nL 40.603125 161.149899 \r\nL 40.603125 164.325253 \r\nL 40.603125 167.500606 \r\nL 40.603125 170.67596 \r\nL 40.603125 173.851313 \r\nL 40.603125 177.026667 \r\nL 40.603125 180.20202 \r\nL 40.603125 183.377374 \r\nL 40.603125 186.552727 \r\nL 40.603125 189.728081 \r\nL 40.603125 192.903434 \r\nL 40.603125 196.078788 \r\nL 40.603125 199.254141 \r\nL 40.603125 202.429495 \r\nL 40.603125 205.604848 \r\nL 40.603125 208.780202 \r\nL 40.603125 211.955556 \r\nL 40.603125 215.130909 \r\nL 40.603125 218.306263 \r\nL 40.603125 221.481616 \r\nL 40.603125 224.65697 \r\nL 40.603125 227.832323 \r\nL 40.603125 231.007677 \r\nL 40.603125 234.18303 \r\nL 40.603125 237.358384 \r\nL 40.603125 240.533737 \r\nL 40.603125 243.709091 \r\nL 40.603125 246.884444 \r\nL 40.603125 250.059798 \r\nL 40.603125 253.235152 \r\nL 40.603125 256.410505 \r\nL 40.603125 259.585859 \r\nL 40.603125 262.761212 \r\nL 40.603125 265.936566 \r\nL 40.603125 269.111919 \r\nL 40.603125 272.287273 \r\nL 40.603125 275.462626 \r\nL 40.603125 278.63798 \r\nL 40.603125 281.813333 \r\nL 40.603125 284.988687 \r\nL 40.603125 288.16404 \r\nL 40.603125 291.339394 \r\nL 40.603125 294.514747 \r\nL 40.603125 297.690101 \r\nL 40.603125 300.865455 \r\nL 40.603125 304.040808 \r\nL 40.603125 307.216162 \r\nL 40.603125 310.391515 \r\nL 40.603125 313.566869 \r\nL 40.603125 316.742222 \r\nL 40.603125 319.917576 \r\nL 40.603125 323.092929 \r\nL 40.603125 326.268283 \r\nL 40.603125 329.443636 \r\nL 40.603125 332.61899 \r\nL 40.603125 335.794343 \r\nL 40.603125 338.969697 \r\nL 40.603125 342.145051 \r\nL 40.603125 345.320404 \r\nL 40.603125 348.495758 \r\nL 40.603125 351.671111 \r\nL 40.603125 354.846465 \r\nL 40.603125 358.021818 \r\nL 40.603125 361.197172 \r\nL 40.603125 364.372525 \r\nL 40.603125 367.547879 \r\nL 40.603125 370.723232 \r\nL 40.603125 373.898586 \r\nL 40.603125 377.073939 \r\nL 40.603125 380.249293 \r\nL 40.603125 383.424646 \r\nL 40.603125 386.6 \r\nz\r\nM 77.156473 354.846465 \r\nL 74.979633 354.414865 \r\nL 71.854496 352.389395 \r\nL 71.204531 351.671111 \r\nL 68.989594 348.495758 \r\nL 68.729359 347.979437 \r\nL 67.60953 345.320404 \r\nL 66.729993 342.145051 \r\nL 66.173026 338.969697 \r\nL 65.809423 335.794343 \r\nL 65.604222 333.534779 \r\nL 65.506807 332.61899 \r\nL 65.114189 329.443636 \r\nL 64.529984 326.268283 \r\nL 63.644286 323.092929 \r\nL 62.479085 320.016993 \r\nL 62.437418 319.917576 \r\nL 60.84753 316.742222 \r\nL 59.382961 313.566869 \r\nL 59.353948 313.504543 \r\nL 57.855705 310.391515 \r\nL 56.698276 307.216162 \r\nL 56.22881 305.602603 \r\nL 55.676734 304.040808 \r\nL 54.785929 300.865455 \r\nL 54.153133 297.690101 \r\nL 53.710335 294.514747 \r\nL 53.409077 291.339394 \r\nL 53.215104 288.16404 \r\nL 53.10412 284.988687 \r\nL 53.103673 284.958134 \r\nL 53.024594 281.813333 \r\nL 53.037691 278.63798 \r\nL 53.103673 276.337858 \r\nL 53.117992 275.462626 \r\nL 53.207405 272.287273 \r\nL 53.330826 269.111919 \r\nL 53.486733 265.936566 \r\nL 53.675666 262.761212 \r\nL 53.899912 259.585859 \r\nL 54.16303 256.410505 \r\nL 54.46922 253.235152 \r\nL 54.82264 250.059798 \r\nL 55.226765 246.884444 \r\nL 55.68398 243.709091 \r\nL 56.195593 240.533737 \r\nL 56.22881 240.331463 \r\nL 56.567774 237.358384 \r\nL 56.964144 234.18303 \r\nL 57.398296 231.007677 \r\nL 57.872982 227.832323 \r\nL 58.392712 224.65697 \r\nL 58.963924 221.481616 \r\nL 59.353948 219.45413 \r\nL 59.529145 218.306263 \r\nL 60.036669 215.130909 \r\nL 60.600644 211.955556 \r\nL 61.231408 208.780202 \r\nL 61.94106 205.604848 \r\nL 62.479085 203.408172 \r\nL 62.696728 202.429495 \r\nL 63.439064 199.254141 \r\nL 64.264527 196.078788 \r\nL 65.173433 192.903434 \r\nL 65.604222 191.443937 \r\nL 66.126958 189.728081 \r\nL 67.105596 186.552727 \r\nL 68.123972 183.377374 \r\nL 68.729359 181.495417 \r\nL 69.225894 180.20202 \r\nL 70.433277 177.026667 \r\nL 71.725211 173.851313 \r\nL 71.854496 173.541417 \r\nL 73.677712 170.67596 \r\nL 74.979633 168.837268 \r\nL 77.577708 167.500606 \r\nL 78.10477 167.242223 \r\nL 78.964673 167.500606 \r\nL 81.229907 168.186637 \r\nL 83.546262 170.67596 \r\nL 84.355044 171.628466 \r\nL 85.603334 173.851313 \r\nL 87.218475 177.026667 \r\nL 87.480181 177.554391 \r\nL 88.731148 180.20202 \r\nL 90.228705 183.377374 \r\nL 90.605318 184.14586 \r\nL 92.06014 186.552727 \r\nL 93.730455 189.315087 \r\nL 94.090164 189.728081 \r\nL 96.64473 192.903434 \r\nL 96.855593 193.212828 \r\nL 99.365465 196.078788 \r\nL 99.98073 197.131516 \r\nL 101.246462 199.254141 \r\nL 102.214582 202.429495 \r\nL 102.519749 205.604848 \r\nL 102.441375 208.780202 \r\nL 102.177789 211.955556 \r\nL 101.873812 215.130909 \r\nL 101.640455 218.306263 \r\nL 101.564761 221.481616 \r\nL 101.709827 224.65697 \r\nL 102.106635 227.832323 \r\nL 102.742721 231.007677 \r\nL 103.105867 232.417143 \r\nL 103.742107 234.18303 \r\nL 105.002495 237.358384 \r\nL 106.210209 240.533737 \r\nL 106.231004 240.594979 \r\nL 107.355294 243.709091 \r\nL 108.244228 246.884444 \r\nL 108.892335 250.059798 \r\nL 109.350119 253.235152 \r\nL 109.356141 253.291169 \r\nL 109.666325 256.410505 \r\nL 109.89069 259.585859 \r\nL 110.046128 262.761212 \r\nL 110.135396 265.936566 \r\nL 110.143963 269.111919 \r\nL 110.043336 272.287273 \r\nL 109.791865 275.462626 \r\nL 109.356141 278.470674 \r\nL 109.329781 278.63798 \r\nL 108.541279 281.813333 \r\nL 107.352275 284.988687 \r\nL 106.231004 287.118211 \r\nL 105.602956 288.16404 \r\nL 103.225698 291.339394 \r\nL 103.105867 291.478821 \r\nL 100.763857 294.514747 \r\nL 99.98073 295.511634 \r\nL 98.777258 297.690101 \r\nL 97.149642 300.865455 \r\nL 96.855593 301.522074 \r\nL 96.094904 304.040808 \r\nL 95.302595 307.216162 \r\nL 94.721002 310.391515 \r\nL 94.354068 313.566869 \r\nL 94.166961 316.742222 \r\nL 94.09908 319.917576 \r\nL 94.080076 323.092929 \r\nL 94.041129 326.268283 \r\nL 93.918753 329.443636 \r\nL 93.730455 331.699053 \r\nL 93.6669 332.61899 \r\nL 93.2835 335.794343 \r\nL 92.673417 338.969697 \r\nL 91.752518 342.145051 \r\nL 90.605318 344.88312 \r\nL 90.411918 345.320404 \r\nL 88.596375 348.495758 \r\nL 87.480181 349.997611 \r\nL 85.820881 351.671111 \r\nL 84.355044 352.958607 \r\nL 81.229907 354.541495 \r\nL 79.246168 354.846465 \r\nL 78.10477 355.0377 \r\nz\r\n\" style=\"fill:#ffe9e9;\"/>\r\n   </g>\r\n   <g id=\"PathCollection_2\">\r\n    <path clip-path=\"url(#p35f3a60d51)\" d=\"M 78.10477 355.0377 \r\nL 79.246168 354.846465 \r\nL 81.229907 354.541495 \r\nL 84.355044 352.958607 \r\nL 85.820881 351.671111 \r\nL 87.480181 349.997611 \r\nL 88.596375 348.495758 \r\nL 90.411918 345.320404 \r\nL 90.605318 344.88312 \r\nL 91.752518 342.145051 \r\nL 92.673417 338.969697 \r\nL 93.2835 335.794343 \r\nL 93.6669 332.61899 \r\nL 93.730455 331.699053 \r\nL 93.918753 329.443636 \r\nL 94.041129 326.268283 \r\nL 94.080076 323.092929 \r\nL 94.09908 319.917576 \r\nL 94.166961 316.742222 \r\nL 94.354068 313.566869 \r\nL 94.721002 310.391515 \r\nL 95.302595 307.216162 \r\nL 96.094904 304.040808 \r\nL 96.855593 301.522074 \r\nL 97.149642 300.865455 \r\nL 98.777258 297.690101 \r\nL 99.98073 295.511634 \r\nL 100.763857 294.514747 \r\nL 103.105867 291.478821 \r\nL 103.225698 291.339394 \r\nL 105.602956 288.16404 \r\nL 106.231004 287.118211 \r\nL 107.352275 284.988687 \r\nL 108.541279 281.813333 \r\nL 109.329781 278.63798 \r\nL 109.356141 278.470674 \r\nL 109.791865 275.462626 \r\nL 110.043336 272.287273 \r\nL 110.143963 269.111919 \r\nL 110.135396 265.936566 \r\nL 110.046128 262.761212 \r\nL 109.89069 259.585859 \r\nL 109.666325 256.410505 \r\nL 109.356141 253.291169 \r\nL 109.350119 253.235152 \r\nL 108.892335 250.059798 \r\nL 108.244228 246.884444 \r\nL 107.355294 243.709091 \r\nL 106.231004 240.594979 \r\nL 106.210209 240.533737 \r\nL 105.002495 237.358384 \r\nL 103.742107 234.18303 \r\nL 103.105867 232.417143 \r\nL 102.742721 231.007677 \r\nL 102.106635 227.832323 \r\nL 101.709827 224.65697 \r\nL 101.564761 221.481616 \r\nL 101.640455 218.306263 \r\nL 101.873812 215.130909 \r\nL 102.177789 211.955556 \r\nL 102.441375 208.780202 \r\nL 102.519749 205.604848 \r\nL 102.214582 202.429495 \r\nL 101.246462 199.254141 \r\nL 99.98073 197.131516 \r\nL 99.365465 196.078788 \r\nL 96.855593 193.212828 \r\nL 96.64473 192.903434 \r\nL 94.090164 189.728081 \r\nL 93.730455 189.315087 \r\nL 92.06014 186.552727 \r\nL 90.605318 184.14586 \r\nL 90.228705 183.377374 \r\nL 88.731148 180.20202 \r\nL 87.480181 177.554391 \r\nL 87.218475 177.026667 \r\nL 85.603334 173.851313 \r\nL 84.355044 171.628466 \r\nL 83.546262 170.67596 \r\nL 81.229907 168.186637 \r\nL 78.964673 167.500606 \r\nL 78.10477 167.242223 \r\nL 77.577708 167.500606 \r\nL 74.979633 168.837268 \r\nL 73.677712 170.67596 \r\nL 71.854496 173.541417 \r\nL 71.725211 173.851313 \r\nL 70.433277 177.026667 \r\nL 69.225894 180.20202 \r\nL 68.729359 181.495417 \r\nL 68.123972 183.377374 \r\nL 67.105596 186.552727 \r\nL 66.126958 189.728081 \r\nL 65.604222 191.443937 \r\nL 65.173433 192.903434 \r\nL 64.264527 196.078788 \r\nL 63.439064 199.254141 \r\nL 62.696728 202.429495 \r\nL 62.479085 203.408172 \r\nL 61.94106 205.604848 \r\nL 61.231408 208.780202 \r\nL 60.600644 211.955556 \r\nL 60.036669 215.130909 \r\nL 59.529145 218.306263 \r\nL 59.353948 219.45413 \r\nL 58.963924 221.481616 \r\nL 58.392712 224.65697 \r\nL 57.872982 227.832323 \r\nL 57.398296 231.007677 \r\nL 56.964144 234.18303 \r\nL 56.567774 237.358384 \r\nL 56.22881 240.331463 \r\nL 56.195593 240.533737 \r\nL 55.68398 243.709091 \r\nL 55.226765 246.884444 \r\nL 54.82264 250.059798 \r\nL 54.46922 253.235152 \r\nL 54.16303 256.410505 \r\nL 53.899912 259.585859 \r\nL 53.675666 262.761212 \r\nL 53.486733 265.936566 \r\nL 53.330826 269.111919 \r\nL 53.207405 272.287273 \r\nL 53.117992 275.462626 \r\nL 53.103673 276.337858 \r\nL 53.037691 278.63798 \r\nL 53.024594 281.813333 \r\nL 53.103673 284.958134 \r\nL 53.10412 284.988687 \r\nL 53.215104 288.16404 \r\nL 53.409077 291.339394 \r\nL 53.710335 294.514747 \r\nL 54.153133 297.690101 \r\nL 54.785929 300.865455 \r\nL 55.676734 304.040808 \r\nL 56.22881 305.602603 \r\nL 56.698276 307.216162 \r\nL 57.855705 310.391515 \r\nL 59.353948 313.504543 \r\nL 59.382961 313.566869 \r\nL 60.84753 316.742222 \r\nL 62.437418 319.917576 \r\nL 62.479085 320.016993 \r\nL 63.644286 323.092929 \r\nL 64.529984 326.268283 \r\nL 65.114189 329.443636 \r\nL 65.506807 332.61899 \r\nL 65.604222 333.534779 \r\nL 65.809423 335.794343 \r\nL 66.173026 338.969697 \r\nL 66.729993 342.145051 \r\nL 67.60953 345.320404 \r\nL 68.729359 347.979437 \r\nL 68.989594 348.495758 \r\nL 71.204531 351.671111 \r\nL 71.854496 352.389395 \r\nL 74.979633 354.414865 \r\nL 77.156473 354.846465 \r\nz\r\nM 76.045545 342.145051 \r\nL 74.979633 341.153979 \r\nL 73.921781 338.969697 \r\nL 72.98573 335.794343 \r\nL 72.437135 332.61899 \r\nL 72.037106 329.443636 \r\nL 71.854496 328.294385 \r\nL 71.583716 326.268283 \r\nL 70.814813 323.092929 \r\nL 69.376787 319.917576 \r\nL 68.729359 319.041064 \r\nL 67.320149 316.742222 \r\nL 65.604222 314.505086 \r\nL 65.004833 313.566869 \r\nL 62.934856 310.391515 \r\nL 62.479085 309.654437 \r\nL 61.166702 307.216162 \r\nL 59.814755 304.040808 \r\nL 59.353948 302.689535 \r\nL 58.698127 300.865455 \r\nL 57.81681 297.690101 \r\nL 57.194869 294.514747 \r\nL 56.767039 291.339394 \r\nL 56.486286 288.16404 \r\nL 56.318831 284.988687 \r\nL 56.240298 281.813333 \r\nL 56.233019 278.63798 \r\nL 56.284298 275.462626 \r\nL 56.38541 272.287273 \r\nL 56.531076 269.111919 \r\nL 56.719164 265.936566 \r\nL 56.950394 262.761212 \r\nL 57.227899 259.585859 \r\nL 57.55658 256.410505 \r\nL 57.94227 253.235152 \r\nL 58.390778 250.059798 \r\nL 58.906917 246.884444 \r\nL 59.353948 244.417173 \r\nL 59.456695 243.709091 \r\nL 59.94019 240.533737 \r\nL 60.47534 237.358384 \r\nL 61.061431 234.18303 \r\nL 61.698299 231.007677 \r\nL 62.387763 227.832323 \r\nL 62.479085 227.414239 \r\nL 63.037477 224.65697 \r\nL 63.725374 221.481616 \r\nL 64.473459 218.306263 \r\nL 65.293107 215.130909 \r\nL 65.604222 213.978672 \r\nL 66.192758 211.955556 \r\nL 67.179457 208.780202 \r\nL 68.268055 205.604848 \r\nL 68.729359 204.32421 \r\nL 69.611995 202.429495 \r\nL 71.164497 199.254141 \r\nL 71.854496 197.88022 \r\nL 73.384495 196.078788 \r\nL 74.979633 194.14852 \r\nL 78.10477 193.123125 \r\nL 81.229907 194.748926 \r\nL 82.29046 196.078788 \r\nL 84.355044 198.792516 \r\nL 84.619043 199.254141 \r\nL 86.31317 202.429495 \r\nL 87.480181 205.078078 \r\nL 87.698555 205.604848 \r\nL 88.807038 208.780202 \r\nL 89.627555 211.955556 \r\nL 90.232361 215.130909 \r\nL 90.605318 217.648648 \r\nL 90.712277 218.306263 \r\nL 91.176259 221.481616 \r\nL 91.602055 224.65697 \r\nL 92.022867 227.832323 \r\nL 92.452243 231.007677 \r\nL 92.887822 234.18303 \r\nL 93.316646 237.358384 \r\nL 93.721143 240.533737 \r\nL 93.730455 240.611034 \r\nL 94.265776 243.709091 \r\nL 94.745241 246.884444 \r\nL 95.140461 250.059798 \r\nL 95.446003 253.235152 \r\nL 95.662574 256.410505 \r\nL 95.793009 259.585859 \r\nL 95.838287 262.761212 \r\nL 95.794231 265.936566 \r\nL 95.649353 269.111919 \r\nL 95.384425 272.287273 \r\nL 94.974532 275.462626 \r\nL 94.394111 278.63798 \r\nL 93.730455 281.398255 \r\nL 93.67049 281.813333 \r\nL 93.122818 284.988687 \r\nL 92.455983 288.16404 \r\nL 91.667394 291.339394 \r\nL 90.765509 294.514747 \r\nL 90.605318 295.060986 \r\nL 90.048769 297.690101 \r\nL 89.308469 300.865455 \r\nL 88.527558 304.040808 \r\nL 87.780794 307.216162 \r\nL 87.480181 308.835113 \r\nL 87.197371 310.391515 \r\nL 86.795539 313.566869 \r\nL 86.604376 316.742222 \r\nL 86.626563 319.917576 \r\nL 86.772143 323.092929 \r\nL 86.897777 326.268283 \r\nL 86.862773 329.443636 \r\nL 86.554073 332.61899 \r\nL 85.876667 335.794343 \r\nL 84.728145 338.969697 \r\nL 84.355044 339.685381 \r\nL 82.184473 342.145051 \r\nL 81.229907 342.980106 \r\nL 78.10477 343.477437 \r\nz\r\n\" style=\"fill:#ffbbbb;\"/>\r\n   </g>\r\n   <g id=\"PathCollection_3\">\r\n    <path clip-path=\"url(#p35f3a60d51)\" d=\"M 78.10477 343.477437 \r\nL 81.229907 342.980106 \r\nL 82.184473 342.145051 \r\nL 84.355044 339.685381 \r\nL 84.728145 338.969697 \r\nL 85.876667 335.794343 \r\nL 86.554073 332.61899 \r\nL 86.862773 329.443636 \r\nL 86.897777 326.268283 \r\nL 86.772143 323.092929 \r\nL 86.626563 319.917576 \r\nL 86.604376 316.742222 \r\nL 86.795539 313.566869 \r\nL 87.197371 310.391515 \r\nL 87.480181 308.835113 \r\nL 87.780794 307.216162 \r\nL 88.527558 304.040808 \r\nL 89.308469 300.865455 \r\nL 90.048769 297.690101 \r\nL 90.605318 295.060986 \r\nL 90.765509 294.514747 \r\nL 91.667394 291.339394 \r\nL 92.455983 288.16404 \r\nL 93.122818 284.988687 \r\nL 93.67049 281.813333 \r\nL 93.730455 281.398255 \r\nL 94.394111 278.63798 \r\nL 94.974532 275.462626 \r\nL 95.384425 272.287273 \r\nL 95.649353 269.111919 \r\nL 95.794231 265.936566 \r\nL 95.838287 262.761212 \r\nL 95.793009 259.585859 \r\nL 95.662574 256.410505 \r\nL 95.446003 253.235152 \r\nL 95.140461 250.059798 \r\nL 94.745241 246.884444 \r\nL 94.265776 243.709091 \r\nL 93.730455 240.611034 \r\nL 93.721143 240.533737 \r\nL 93.316646 237.358384 \r\nL 92.887822 234.18303 \r\nL 92.452243 231.007677 \r\nL 92.022867 227.832323 \r\nL 91.602055 224.65697 \r\nL 91.176259 221.481616 \r\nL 90.712277 218.306263 \r\nL 90.605318 217.648648 \r\nL 90.232361 215.130909 \r\nL 89.627555 211.955556 \r\nL 88.807038 208.780202 \r\nL 87.698555 205.604848 \r\nL 87.480181 205.078078 \r\nL 86.31317 202.429495 \r\nL 84.619043 199.254141 \r\nL 84.355044 198.792516 \r\nL 82.29046 196.078788 \r\nL 81.229907 194.748926 \r\nL 78.10477 193.123125 \r\nL 74.979633 194.14852 \r\nL 73.384495 196.078788 \r\nL 71.854496 197.88022 \r\nL 71.164497 199.254141 \r\nL 69.611995 202.429495 \r\nL 68.729359 204.32421 \r\nL 68.268055 205.604848 \r\nL 67.179457 208.780202 \r\nL 66.192758 211.955556 \r\nL 65.604222 213.978672 \r\nL 65.293107 215.130909 \r\nL 64.473459 218.306263 \r\nL 63.725374 221.481616 \r\nL 63.037477 224.65697 \r\nL 62.479085 227.414239 \r\nL 62.387763 227.832323 \r\nL 61.698299 231.007677 \r\nL 61.061431 234.18303 \r\nL 60.47534 237.358384 \r\nL 59.94019 240.533737 \r\nL 59.456695 243.709091 \r\nL 59.353948 244.417173 \r\nL 58.906917 246.884444 \r\nL 58.390778 250.059798 \r\nL 57.94227 253.235152 \r\nL 57.55658 256.410505 \r\nL 57.227899 259.585859 \r\nL 56.950394 262.761212 \r\nL 56.719164 265.936566 \r\nL 56.531076 269.111919 \r\nL 56.38541 272.287273 \r\nL 56.284298 275.462626 \r\nL 56.233019 278.63798 \r\nL 56.240298 281.813333 \r\nL 56.318831 284.988687 \r\nL 56.486286 288.16404 \r\nL 56.767039 291.339394 \r\nL 57.194869 294.514747 \r\nL 57.81681 297.690101 \r\nL 58.698127 300.865455 \r\nL 59.353948 302.689535 \r\nL 59.814755 304.040808 \r\nL 61.166702 307.216162 \r\nL 62.479085 309.654437 \r\nL 62.934856 310.391515 \r\nL 65.004833 313.566869 \r\nL 65.604222 314.505086 \r\nL 67.320149 316.742222 \r\nL 68.729359 319.041064 \r\nL 69.376787 319.917576 \r\nL 70.814813 323.092929 \r\nL 71.583716 326.268283 \r\nL 71.854496 328.294385 \r\nL 72.037106 329.443636 \r\nL 72.437135 332.61899 \r\nL 72.98573 335.794343 \r\nL 73.921781 338.969697 \r\nL 74.979633 341.153979 \r\nL 76.045545 342.145051 \r\nz\r\nM 71.823922 313.566869 \r\nL 68.729359 311.448702 \r\nL 67.774409 310.391515 \r\nL 65.604222 308.10245 \r\nL 65.003409 307.216162 \r\nL 63.071102 304.040808 \r\nL 62.479085 302.866326 \r\nL 61.600114 300.865455 \r\nL 60.523514 297.690101 \r\nL 59.759637 294.514747 \r\nL 59.353948 292.129334 \r\nL 59.200454 291.339394 \r\nL 58.758471 288.16404 \r\nL 58.485987 284.988687 \r\nL 58.346941 281.813333 \r\nL 58.315265 278.63798 \r\nL 58.372319 275.462626 \r\nL 58.505398 272.287273 \r\nL 58.706941 269.111919 \r\nL 58.97408 265.936566 \r\nL 59.308198 262.761212 \r\nL 59.353948 262.386263 \r\nL 59.62263 259.585859 \r\nL 59.982015 256.410505 \r\nL 60.404427 253.235152 \r\nL 60.896568 250.059798 \r\nL 61.464097 246.884444 \r\nL 62.110616 243.709091 \r\nL 62.479085 242.029042 \r\nL 62.787859 240.533737 \r\nL 63.47957 237.358384 \r\nL 64.233135 234.18303 \r\nL 65.046342 231.007677 \r\nL 65.604222 228.917593 \r\nL 65.926156 227.832323 \r\nL 66.876182 224.65697 \r\nL 67.88816 221.481616 \r\nL 68.729359 218.982018 \r\nL 69.03694 218.306263 \r\nL 70.493751 215.130909 \r\nL 71.854496 212.338696 \r\nL 72.204561 211.955556 \r\nL 74.979633 208.88885 \r\nL 75.771412 208.780202 \r\nL 78.10477 208.431559 \r\nL 78.557666 208.780202 \r\nL 81.229907 211.04301 \r\nL 81.755947 211.955556 \r\nL 83.342994 215.130909 \r\nL 84.355044 217.623984 \r\nL 84.570559 218.306263 \r\nL 85.476344 221.481616 \r\nL 86.253402 224.65697 \r\nL 86.94252 227.832323 \r\nL 87.480181 230.532953 \r\nL 87.576335 231.007677 \r\nL 88.219466 234.18303 \r\nL 88.813678 237.358384 \r\nL 89.349538 240.533737 \r\nL 89.81687 243.709091 \r\nL 90.207911 246.884444 \r\nL 90.518518 250.059798 \r\nL 90.605318 251.226209 \r\nL 90.807155 253.235152 \r\nL 91.025214 256.410505 \r\nL 91.13892 259.585859 \r\nL 91.14923 262.761212 \r\nL 91.055861 265.936566 \r\nL 90.856253 269.111919 \r\nL 90.605318 271.689317 \r\nL 90.566557 272.287273 \r\nL 90.293979 275.462626 \r\nL 89.946462 278.63798 \r\nL 89.514752 281.813333 \r\nL 88.98502 284.988687 \r\nL 88.338769 288.16404 \r\nL 87.554215 291.339394 \r\nL 87.480181 291.611396 \r\nL 86.852373 294.514747 \r\nL 86.017802 297.690101 \r\nL 85.005034 300.865455 \r\nL 84.355044 302.712351 \r\nL 83.868827 304.040808 \r\nL 82.585148 307.216162 \r\nL 81.229907 310.108199 \r\nL 81.026499 310.391515 \r\nL 78.602068 313.566869 \r\nL 78.10477 314.189415 \r\nL 74.979633 314.911762 \r\nL 71.854496 313.594948 \r\nz\r\n\" style=\"fill:#ff8b8b;\"/>\r\n   </g>\r\n   <g id=\"PathCollection_4\">\r\n    <path clip-path=\"url(#p35f3a60d51)\" d=\"M 71.854496 313.594948 \r\nL 74.979633 314.911762 \r\nL 78.10477 314.189415 \r\nL 78.602068 313.566869 \r\nL 81.026499 310.391515 \r\nL 81.229907 310.108199 \r\nL 82.585148 307.216162 \r\nL 83.868827 304.040808 \r\nL 84.355044 302.712351 \r\nL 85.005034 300.865455 \r\nL 86.017802 297.690101 \r\nL 86.852373 294.514747 \r\nL 87.480181 291.611396 \r\nL 87.554215 291.339394 \r\nL 88.338769 288.16404 \r\nL 88.98502 284.988687 \r\nL 89.514752 281.813333 \r\nL 89.946462 278.63798 \r\nL 90.293979 275.462626 \r\nL 90.566557 272.287273 \r\nL 90.605318 271.689317 \r\nL 90.856253 269.111919 \r\nL 91.055861 265.936566 \r\nL 91.14923 262.761212 \r\nL 91.13892 259.585859 \r\nL 91.025214 256.410505 \r\nL 90.807155 253.235152 \r\nL 90.605318 251.226209 \r\nL 90.518518 250.059798 \r\nL 90.207911 246.884444 \r\nL 89.81687 243.709091 \r\nL 89.349538 240.533737 \r\nL 88.813678 237.358384 \r\nL 88.219466 234.18303 \r\nL 87.576335 231.007677 \r\nL 87.480181 230.532953 \r\nL 86.94252 227.832323 \r\nL 86.253402 224.65697 \r\nL 85.476344 221.481616 \r\nL 84.570559 218.306263 \r\nL 84.355044 217.623984 \r\nL 83.342994 215.130909 \r\nL 81.755947 211.955556 \r\nL 81.229907 211.04301 \r\nL 78.557666 208.780202 \r\nL 78.10477 208.431559 \r\nL 75.771412 208.780202 \r\nL 74.979633 208.88885 \r\nL 72.204561 211.955556 \r\nL 71.854496 212.338696 \r\nL 70.493751 215.130909 \r\nL 69.03694 218.306263 \r\nL 68.729359 218.982018 \r\nL 67.88816 221.481616 \r\nL 66.876182 224.65697 \r\nL 65.926156 227.832323 \r\nL 65.604222 228.917593 \r\nL 65.046342 231.007677 \r\nL 64.233135 234.18303 \r\nL 63.47957 237.358384 \r\nL 62.787859 240.533737 \r\nL 62.479085 242.029042 \r\nL 62.110616 243.709091 \r\nL 61.464097 246.884444 \r\nL 60.896568 250.059798 \r\nL 60.404427 253.235152 \r\nL 59.982015 256.410505 \r\nL 59.62263 259.585859 \r\nL 59.353948 262.386263 \r\nL 59.308198 262.761212 \r\nL 58.97408 265.936566 \r\nL 58.706941 269.111919 \r\nL 58.505398 272.287273 \r\nL 58.372319 275.462626 \r\nL 58.315265 278.63798 \r\nL 58.346941 281.813333 \r\nL 58.485987 284.988687 \r\nL 58.758471 288.16404 \r\nL 59.200454 291.339394 \r\nL 59.353948 292.129334 \r\nL 59.759637 294.514747 \r\nL 60.523514 297.690101 \r\nL 61.600114 300.865455 \r\nL 62.479085 302.866326 \r\nL 63.071102 304.040808 \r\nL 65.003409 307.216162 \r\nL 65.604222 308.10245 \r\nL 67.774409 310.391515 \r\nL 68.729359 311.448702 \r\nL 71.823922 313.566869 \r\nz\r\nM 70.137252 307.216162 \r\nL 68.729359 306.51344 \r\nL 66.416994 304.040808 \r\nL 65.604222 303.08195 \r\nL 64.328088 300.865455 \r\nL 62.914672 297.690101 \r\nL 62.479085 296.414604 \r\nL 61.889489 294.514747 \r\nL 61.165219 291.339394 \r\nL 60.678067 288.16404 \r\nL 60.37328 284.988687 \r\nL 60.210819 281.813333 \r\nL 60.161448 278.63798 \r\nL 60.204097 275.462626 \r\nL 60.324268 272.287273 \r\nL 60.513134 269.111919 \r\nL 60.76697 265.936566 \r\nL 61.086596 262.761212 \r\nL 61.476643 259.585859 \r\nL 61.944534 256.410505 \r\nL 62.479085 253.343365 \r\nL 62.496734 253.235152 \r\nL 63.063945 250.059798 \r\nL 63.715757 246.884444 \r\nL 64.456332 243.709091 \r\nL 65.286599 240.533737 \r\nL 65.604222 239.371551 \r\nL 66.227468 237.358384 \r\nL 67.257383 234.18303 \r\nL 68.356738 231.007677 \r\nL 68.729359 229.93801 \r\nL 69.76251 227.832323 \r\nL 71.338439 224.65697 \r\nL 71.854496 223.61271 \r\nL 74.028784 221.481616 \r\nL 74.979633 220.501042 \r\nL 78.10477 220.797035 \r\nL 78.670588 221.481616 \r\nL 81.027913 224.65697 \r\nL 81.229907 224.951734 \r\nL 82.38144 227.832323 \r\nL 83.503264 231.007677 \r\nL 84.355044 233.720823 \r\nL 84.47831 234.18303 \r\nL 85.29722 237.358384 \r\nL 86.01512 240.533737 \r\nL 86.62741 243.709091 \r\nL 87.13185 246.884444 \r\nL 87.480181 249.641304 \r\nL 87.540398 250.059798 \r\nL 87.906198 253.235152 \r\nL 88.160581 256.410505 \r\nL 88.307422 259.585859 \r\nL 88.351146 262.761212 \r\nL 88.295701 265.936566 \r\nL 88.143638 269.111919 \r\nL 87.895198 272.287273 \r\nL 87.547279 275.462626 \r\nL 87.480181 275.946378 \r\nL 87.200897 278.63798 \r\nL 86.792771 281.813333 \r\nL 86.287865 284.988687 \r\nL 85.660805 288.16404 \r\nL 84.876949 291.339394 \r\nL 84.355044 293.108767 \r\nL 83.96979 294.514747 \r\nL 82.925552 297.690101 \r\nL 81.580493 300.865455 \r\nL 81.229907 301.608558 \r\nL 79.754091 304.040808 \r\nL 78.10477 306.262657 \r\nL 76.635733 307.216162 \r\nL 74.979633 308.226018 \r\nL 71.854496 308.18112 \r\nz\r\n\" style=\"fill:#ff5d5d;\"/>\r\n   </g>\r\n   <g id=\"PathCollection_5\">\r\n    <path clip-path=\"url(#p35f3a60d51)\" d=\"M 71.854496 308.18112 \r\nL 74.979633 308.226018 \r\nL 76.635733 307.216162 \r\nL 78.10477 306.262657 \r\nL 79.754091 304.040808 \r\nL 81.229907 301.608558 \r\nL 81.580493 300.865455 \r\nL 82.925552 297.690101 \r\nL 83.96979 294.514747 \r\nL 84.355044 293.108767 \r\nL 84.876949 291.339394 \r\nL 85.660805 288.16404 \r\nL 86.287865 284.988687 \r\nL 86.792771 281.813333 \r\nL 87.200897 278.63798 \r\nL 87.480181 275.946378 \r\nL 87.547279 275.462626 \r\nL 87.895198 272.287273 \r\nL 88.143638 269.111919 \r\nL 88.295701 265.936566 \r\nL 88.351146 262.761212 \r\nL 88.307422 259.585859 \r\nL 88.160581 256.410505 \r\nL 87.906198 253.235152 \r\nL 87.540398 250.059798 \r\nL 87.480181 249.641304 \r\nL 87.13185 246.884444 \r\nL 86.62741 243.709091 \r\nL 86.01512 240.533737 \r\nL 85.29722 237.358384 \r\nL 84.47831 234.18303 \r\nL 84.355044 233.720823 \r\nL 83.503264 231.007677 \r\nL 82.38144 227.832323 \r\nL 81.229907 224.951734 \r\nL 81.027913 224.65697 \r\nL 78.670588 221.481616 \r\nL 78.10477 220.797035 \r\nL 74.979633 220.501042 \r\nL 74.028784 221.481616 \r\nL 71.854496 223.61271 \r\nL 71.338439 224.65697 \r\nL 69.76251 227.832323 \r\nL 68.729359 229.93801 \r\nL 68.356738 231.007677 \r\nL 67.257383 234.18303 \r\nL 66.227468 237.358384 \r\nL 65.604222 239.371551 \r\nL 65.286599 240.533737 \r\nL 64.456332 243.709091 \r\nL 63.715757 246.884444 \r\nL 63.063945 250.059798 \r\nL 62.496734 253.235152 \r\nL 62.479085 253.343365 \r\nL 61.944534 256.410505 \r\nL 61.476643 259.585859 \r\nL 61.086596 262.761212 \r\nL 60.76697 265.936566 \r\nL 60.513134 269.111919 \r\nL 60.324268 272.287273 \r\nL 60.204097 275.462626 \r\nL 60.161448 278.63798 \r\nL 60.210819 281.813333 \r\nL 60.37328 284.988687 \r\nL 60.678067 288.16404 \r\nL 61.165219 291.339394 \r\nL 61.889489 294.514747 \r\nL 62.479085 296.414604 \r\nL 62.914672 297.690101 \r\nL 64.328088 300.865455 \r\nL 65.604222 303.08195 \r\nL 66.416994 304.040808 \r\nL 68.729359 306.51344 \r\nL 70.137252 307.216162 \r\nz\r\nM 67.42122 300.865455 \r\nL 65.604222 298.383015 \r\nL 65.258422 297.690101 \r\nL 63.976745 294.514747 \r\nL 63.077918 291.339394 \r\nL 62.479085 288.200304 \r\nL 62.472444 288.16404 \r\nL 62.073603 284.988687 \r\nL 61.852383 281.813333 \r\nL 61.772674 278.63798 \r\nL 61.808527 275.462626 \r\nL 61.942172 272.287273 \r\nL 62.162883 269.111919 \r\nL 62.466257 265.936566 \r\nL 62.479085 265.827345 \r\nL 62.814007 262.761212 \r\nL 63.235178 259.585859 \r\nL 63.738504 256.410505 \r\nL 64.333286 253.235152 \r\nL 65.029034 250.059798 \r\nL 65.604222 247.742464 \r\nL 65.847605 246.884444 \r\nL 66.812321 243.709091 \r\nL 67.883803 240.533737 \r\nL 68.729359 238.196494 \r\nL 69.174177 237.358384 \r\nL 70.86319 234.18303 \r\nL 71.854496 232.342657 \r\nL 73.54536 231.007677 \r\nL 74.979633 229.780275 \r\nL 78.10477 230.753729 \r\nL 78.280619 231.007677 \r\nL 80.367689 234.18303 \r\nL 81.229907 235.659976 \r\nL 81.858939 237.358384 \r\nL 82.917328 240.533737 \r\nL 83.800612 243.709091 \r\nL 84.355044 246.120247 \r\nL 84.516725 246.884444 \r\nL 85.089599 250.059798 \r\nL 85.528639 253.235152 \r\nL 85.841722 256.410505 \r\nL 86.037749 259.585859 \r\nL 86.125676 262.761212 \r\nL 86.113672 265.936566 \r\nL 86.00824 269.111919 \r\nL 85.813115 272.287273 \r\nL 85.527853 275.462626 \r\nL 85.146149 278.63798 \r\nL 84.653983 281.813333 \r\nL 84.355044 283.372856 \r\nL 84.081832 284.988687 \r\nL 83.422663 288.16404 \r\nL 82.583863 291.339394 \r\nL 81.502459 294.514747 \r\nL 81.229907 295.200173 \r\nL 80.071266 297.690101 \r\nL 78.141205 300.865455 \r\nL 78.10477 300.918999 \r\nL 74.979633 303.54313 \r\nL 71.854496 303.918609 \r\nL 68.729359 302.375279 \r\nz\r\n\" style=\"fill:#ff2f2f;\"/>\r\n   </g>\r\n   <g id=\"PathCollection_6\">\r\n    <path clip-path=\"url(#p35f3a60d51)\" d=\"M 68.729359 302.375279 \r\nL 71.854496 303.918609 \r\nL 74.979633 303.54313 \r\nL 78.10477 300.918999 \r\nL 78.141205 300.865455 \r\nL 80.071266 297.690101 \r\nL 81.229907 295.200173 \r\nL 81.502459 294.514747 \r\nL 82.583863 291.339394 \r\nL 83.422663 288.16404 \r\nL 84.081832 284.988687 \r\nL 84.355044 283.372856 \r\nL 84.653983 281.813333 \r\nL 85.146149 278.63798 \r\nL 85.527853 275.462626 \r\nL 85.813115 272.287273 \r\nL 86.00824 269.111919 \r\nL 86.113672 265.936566 \r\nL 86.125676 262.761212 \r\nL 86.037749 259.585859 \r\nL 85.841722 256.410505 \r\nL 85.528639 253.235152 \r\nL 85.089599 250.059798 \r\nL 84.516725 246.884444 \r\nL 84.355044 246.120247 \r\nL 83.800612 243.709091 \r\nL 82.917328 240.533737 \r\nL 81.858939 237.358384 \r\nL 81.229907 235.659976 \r\nL 80.367689 234.18303 \r\nL 78.280619 231.007677 \r\nL 78.10477 230.753729 \r\nL 74.979633 229.780275 \r\nL 73.54536 231.007677 \r\nL 71.854496 232.342657 \r\nL 70.86319 234.18303 \r\nL 69.174177 237.358384 \r\nL 68.729359 238.196494 \r\nL 67.883803 240.533737 \r\nL 66.812321 243.709091 \r\nL 65.847605 246.884444 \r\nL 65.604222 247.742464 \r\nL 65.029034 250.059798 \r\nL 64.333286 253.235152 \r\nL 63.738504 256.410505 \r\nL 63.235178 259.585859 \r\nL 62.814007 262.761212 \r\nL 62.479085 265.827345 \r\nL 62.466257 265.936566 \r\nL 62.162883 269.111919 \r\nL 61.942172 272.287273 \r\nL 61.808527 275.462626 \r\nL 61.772674 278.63798 \r\nL 61.852383 281.813333 \r\nL 62.073603 284.988687 \r\nL 62.472444 288.16404 \r\nL 62.479085 288.200304 \r\nL 63.077918 291.339394 \r\nL 63.976745 294.514747 \r\nL 65.258422 297.690101 \r\nL 65.604222 298.383015 \r\nL 67.42122 300.865455 \r\nz\r\nM 68.152667 297.690101 \r\nL 66.16864 294.514747 \r\nL 65.604222 293.312749 \r\nL 64.947093 291.339394 \r\nL 64.195314 288.16404 \r\nL 63.712017 284.988687 \r\nL 63.436889 281.813333 \r\nL 63.32514 278.63798 \r\nL 63.344119 275.462626 \r\nL 63.471089 272.287273 \r\nL 63.69184 269.111919 \r\nL 63.999677 265.936566 \r\nL 64.394442 262.761212 \r\nL 64.881321 259.585859 \r\nL 65.469379 256.410505 \r\nL 65.604222 255.769445 \r\nL 66.214864 253.235152 \r\nL 67.090598 250.059798 \r\nL 68.093314 246.884444 \r\nL 68.729359 245.048038 \r\nL 69.425693 243.709091 \r\nL 71.154888 240.533737 \r\nL 71.854496 239.283682 \r\nL 74.65663 237.358384 \r\nL 74.979633 237.120577 \r\nL 75.5097 237.358384 \r\nL 78.10477 238.568617 \r\nL 79.271553 240.533737 \r\nL 80.871481 243.709091 \r\nL 81.229907 244.54339 \r\nL 81.924441 246.884444 \r\nL 82.692115 250.059798 \r\nL 83.277792 253.235152 \r\nL 83.699269 256.410505 \r\nL 83.974193 259.585859 \r\nL 84.119045 262.761212 \r\nL 84.148396 265.936566 \r\nL 84.074093 269.111919 \r\nL 83.904093 272.287273 \r\nL 83.640912 275.462626 \r\nL 83.279762 278.63798 \r\nL 82.806478 281.813333 \r\nL 82.195222 284.988687 \r\nL 81.40571 288.16404 \r\nL 81.229907 288.749262 \r\nL 80.367248 291.339394 \r\nL 79.005014 294.514747 \r\nL 78.10477 296.198309 \r\nL 76.823065 297.690101 \r\nL 74.979633 299.491371 \r\nL 71.854496 300.145305 \r\nL 68.729359 298.44413 \r\nz\r\n\" style=\"fill:#f30b0b;\"/>\r\n   </g>\r\n   <g id=\"PathCollection_7\">\r\n    <path clip-path=\"url(#p35f3a60d51)\" d=\"M 68.729359 298.44413 \r\nL 71.854496 300.145305 \r\nL 74.979633 299.491371 \r\nL 76.823065 297.690101 \r\nL 78.10477 296.198309 \r\nL 79.005014 294.514747 \r\nL 80.367248 291.339394 \r\nL 81.229907 288.749262 \r\nL 81.40571 288.16404 \r\nL 82.195222 284.988687 \r\nL 82.806478 281.813333 \r\nL 83.279762 278.63798 \r\nL 83.640912 275.462626 \r\nL 83.904093 272.287273 \r\nL 84.074093 269.111919 \r\nL 84.148396 265.936566 \r\nL 84.119045 262.761212 \r\nL 83.974193 259.585859 \r\nL 83.699269 256.410505 \r\nL 83.277792 253.235152 \r\nL 82.692115 250.059798 \r\nL 81.924441 246.884444 \r\nL 81.229907 244.54339 \r\nL 80.871481 243.709091 \r\nL 79.271553 240.533737 \r\nL 78.10477 238.568617 \r\nL 75.5097 237.358384 \r\nL 74.979633 237.120577 \r\nL 74.65663 237.358384 \r\nL 71.854496 239.283682 \r\nL 71.154888 240.533737 \r\nL 69.425693 243.709091 \r\nL 68.729359 245.048038 \r\nL 68.093314 246.884444 \r\nL 67.090598 250.059798 \r\nL 66.214864 253.235152 \r\nL 65.604222 255.769445 \r\nL 65.469379 256.410505 \r\nL 64.881321 259.585859 \r\nL 64.394442 262.761212 \r\nL 63.999677 265.936566 \r\nL 63.69184 269.111919 \r\nL 63.471089 272.287273 \r\nL 63.344119 275.462626 \r\nL 63.32514 278.63798 \r\nL 63.436889 281.813333 \r\nL 63.712017 284.988687 \r\nL 64.195314 288.16404 \r\nL 64.947093 291.339394 \r\nL 65.604222 293.312749 \r\nL 66.16864 294.514747 \r\nL 68.152667 297.690101 \r\nz\r\nM 68.895548 294.514747 \r\nL 68.729359 294.386141 \r\nL 67.13624 291.339394 \r\nL 65.996728 288.16404 \r\nL 65.604222 286.515832 \r\nL 65.331043 284.988687 \r\nL 64.98616 281.813333 \r\nL 64.831733 278.63798 \r\nL 64.830282 275.462626 \r\nL 64.955808 272.287273 \r\nL 65.192155 269.111919 \r\nL 65.531835 265.936566 \r\nL 65.604222 265.40415 \r\nL 66.018214 262.761212 \r\nL 66.62285 259.585859 \r\nL 67.345326 256.410505 \r\nL 68.197616 253.235152 \r\nL 68.729359 251.491453 \r\nL 69.399656 250.059798 \r\nL 71.01618 246.884444 \r\nL 71.854496 245.346399 \r\nL 74.477657 243.709091 \r\nL 74.979633 243.383473 \r\nL 75.508886 243.709091 \r\nL 78.10477 245.49932 \r\nL 78.783679 246.884444 \r\nL 80.073037 250.059798 \r\nL 81.03725 253.235152 \r\nL 81.229907 254.071406 \r\nL 81.63813 256.410505 \r\nL 82.027105 259.585859 \r\nL 82.260486 262.761212 \r\nL 82.355333 265.936566 \r\nL 82.325029 269.111919 \r\nL 82.177953 272.287273 \r\nL 81.915756 275.462626 \r\nL 81.531298 278.63798 \r\nL 81.229907 280.483466 \r\nL 80.997015 281.813333 \r\nL 80.281762 284.988687 \r\nL 79.352081 288.16404 \r\nL 78.131069 291.339394 \r\nL 78.10477 291.396686 \r\nL 75.88434 294.514747 \r\nL 74.979633 295.547196 \r\nL 71.854496 296.430319 \r\nz\r\n\" style=\"fill:#d00000;\"/>\r\n   </g>\r\n   <g id=\"PathCollection_8\">\r\n    <path clip-path=\"url(#p35f3a60d51)\" d=\"M 71.854496 296.430319 \r\nL 74.979633 295.547196 \r\nL 75.88434 294.514747 \r\nL 78.10477 291.396686 \r\nL 78.131069 291.339394 \r\nL 79.352081 288.16404 \r\nL 80.281762 284.988687 \r\nL 80.997015 281.813333 \r\nL 81.229907 280.483466 \r\nL 81.531298 278.63798 \r\nL 81.915756 275.462626 \r\nL 82.177953 272.287273 \r\nL 82.325029 269.111919 \r\nL 82.355333 265.936566 \r\nL 82.260486 262.761212 \r\nL 82.027105 259.585859 \r\nL 81.63813 256.410505 \r\nL 81.229907 254.071406 \r\nL 81.03725 253.235152 \r\nL 80.073037 250.059798 \r\nL 78.783679 246.884444 \r\nL 78.10477 245.49932 \r\nL 75.508886 243.709091 \r\nL 74.979633 243.383473 \r\nL 74.477657 243.709091 \r\nL 71.854496 245.346399 \r\nL 71.01618 246.884444 \r\nL 69.399656 250.059798 \r\nL 68.729359 251.491453 \r\nL 68.197616 253.235152 \r\nL 67.345326 256.410505 \r\nL 66.62285 259.585859 \r\nL 66.018214 262.761212 \r\nL 65.604222 265.40415 \r\nL 65.531835 265.936566 \r\nL 65.192155 269.111919 \r\nL 64.955808 272.287273 \r\nL 64.830282 275.462626 \r\nL 64.831733 278.63798 \r\nL 64.98616 281.813333 \r\nL 65.331043 284.988687 \r\nL 65.604222 286.515832 \r\nL 65.996728 288.16404 \r\nL 67.13624 291.339394 \r\nL 68.729359 294.386141 \r\nL 68.895548 294.514747 \r\nz\r\nM 70.410973 291.339394 \r\nL 68.729359 289.5969 \r\nL 68.152099 288.16404 \r\nL 67.267397 284.988687 \r\nL 66.739064 281.813333 \r\nL 66.48567 278.63798 \r\nL 66.446469 275.462626 \r\nL 66.578318 272.287273 \r\nL 66.853239 269.111919 \r\nL 67.2563 265.936566 \r\nL 67.783435 262.761212 \r\nL 68.439068 259.585859 \r\nL 68.729359 258.396838 \r\nL 69.492898 256.410505 \r\nL 70.876408 253.235152 \r\nL 71.854496 251.226315 \r\nL 73.825732 250.059798 \r\nL 74.979633 249.376696 \r\nL 75.753596 250.059798 \r\nL 78.10477 252.649924 \r\nL 78.316405 253.235152 \r\nL 79.231997 256.410505 \r\nL 79.868532 259.585859 \r\nL 80.269479 262.761212 \r\nL 80.470922 265.936566 \r\nL 80.50102 269.111919 \r\nL 80.378995 272.287273 \r\nL 80.113554 275.462626 \r\nL 79.700861 278.63798 \r\nL 79.122084 281.813333 \r\nL 78.34017 284.988687 \r\nL 78.10477 285.736362 \r\nL 76.961722 288.16404 \r\nL 75.023029 291.339394 \r\nL 74.979633 291.398068 \r\nL 71.854496 292.48816 \r\nz\r\n\" style=\"fill:#a20000;\"/>\r\n   </g>\r\n   <g id=\"PathCollection_9\">\r\n    <path clip-path=\"url(#p35f3a60d51)\" d=\"M 71.854496 292.48816 \r\nL 74.979633 291.398068 \r\nL 75.023029 291.339394 \r\nL 76.961722 288.16404 \r\nL 78.10477 285.736362 \r\nL 78.34017 284.988687 \r\nL 79.122084 281.813333 \r\nL 79.700861 278.63798 \r\nL 80.113554 275.462626 \r\nL 80.378995 272.287273 \r\nL 80.50102 269.111919 \r\nL 80.470922 265.936566 \r\nL 80.269479 262.761212 \r\nL 79.868532 259.585859 \r\nL 79.231997 256.410505 \r\nL 78.316405 253.235152 \r\nL 78.10477 252.649924 \r\nL 75.753596 250.059798 \r\nL 74.979633 249.376696 \r\nL 73.825732 250.059798 \r\nL 71.854496 251.226315 \r\nL 70.876408 253.235152 \r\nL 69.492898 256.410505 \r\nL 68.729359 258.396838 \r\nL 68.439068 259.585859 \r\nL 67.783435 262.761212 \r\nL 67.2563 265.936566 \r\nL 66.853239 269.111919 \r\nL 66.578318 272.287273 \r\nL 66.446469 275.462626 \r\nL 66.48567 278.63798 \r\nL 66.739064 281.813333 \r\nL 67.267397 284.988687 \r\nL 68.152099 288.16404 \r\nL 68.729359 289.5969 \r\nL 70.410973 291.339394 \r\nz\r\nM 69.839535 284.988687 \r\nL 68.729359 282.344922 \r\nL 68.627123 281.813333 \r\nL 68.294655 278.63798 \r\nL 68.203948 275.462626 \r\nL 68.307663 272.287273 \r\nL 68.575199 269.111919 \r\nL 68.729359 267.92749 \r\nL 69.159086 265.936566 \r\nL 70.038009 262.761212 \r\nL 71.099743 259.585859 \r\nL 71.854496 257.662535 \r\nL 74.05123 256.410505 \r\nL 74.979633 255.900783 \r\nL 75.349932 256.410505 \r\nL 77.066989 259.585859 \r\nL 78.10477 262.706696 \r\nL 78.113615 262.761212 \r\nL 78.432529 265.936566 \r\nL 78.551505 269.111919 \r\nL 78.491315 272.287273 \r\nL 78.26051 275.462626 \r\nL 78.10477 276.674975 \r\nL 77.725446 278.63798 \r\nL 76.845042 281.813333 \r\nL 75.653944 284.988687 \r\nL 74.979633 286.361726 \r\nL 71.854496 287.861467 \r\nz\r\n\" style=\"fill:#740000;\"/>\r\n   </g>\r\n   <g id=\"PathCollection_10\">\r\n    <path clip-path=\"url(#p35f3a60d51)\" d=\"M 71.854496 287.861467 \r\nL 74.979633 286.361726 \r\nL 75.653944 284.988687 \r\nL 76.845042 281.813333 \r\nL 77.725446 278.63798 \r\nL 78.10477 276.674975 \r\nL 78.26051 275.462626 \r\nL 78.491315 272.287273 \r\nL 78.551505 269.111919 \r\nL 78.432529 265.936566 \r\nL 78.113615 262.761212 \r\nL 78.10477 262.706696 \r\nL 77.066989 259.585859 \r\nL 75.349932 256.410505 \r\nL 74.979633 255.900783 \r\nL 74.05123 256.410505 \r\nL 71.854496 257.662535 \r\nL 71.099743 259.585859 \r\nL 70.038009 262.761212 \r\nL 69.159086 265.936566 \r\nL 68.729359 267.92749 \r\nL 68.575199 269.111919 \r\nL 68.307663 272.287273 \r\nL 68.203948 275.462626 \r\nL 68.294655 278.63798 \r\nL 68.627123 281.813333 \r\nL 68.729359 282.344922 \r\nL 69.839535 284.988687 \r\nz\r\nM 71.351069 278.63798 \r\nL 70.988758 275.462626 \r\nL 71.037502 272.287273 \r\nL 71.398814 269.111919 \r\nL 71.854496 266.778727 \r\nL 73.698862 265.936566 \r\nL 74.979633 265.423453 \r\nL 75.118267 265.936566 \r\nL 75.588456 269.111919 \r\nL 75.685949 272.287273 \r\nL 75.463483 275.462626 \r\nL 74.979633 278.378618 \r\nL 74.689589 278.63798 \r\nL 71.854496 280.435866 \r\nz\r\n\" style=\"fill:#440000;\"/>\r\n   </g>\r\n   <g id=\"PathCollection_11\">\r\n    <path clip-path=\"url(#p35f3a60d51)\" d=\"M 71.854496 280.435866 \r\nL 74.689589 278.63798 \r\nL 74.979633 278.378618 \r\nL 75.463483 275.462626 \r\nL 75.685949 272.287273 \r\nL 75.588456 269.111919 \r\nL 75.118267 265.936566 \r\nL 74.979633 265.423453 \r\nL 73.698862 265.936566 \r\nL 71.854496 266.778727 \r\nL 71.398814 269.111919 \r\nL 71.037502 272.287273 \r\nL 70.988758 275.462626 \r\nL 71.351069 278.63798 \r\nz\r\n\" style=\"fill:#160000;\"/>\r\n   </g>\r\n   <g id=\"matplotlib.axis_1\">\r\n    <g id=\"xtick_1\">\r\n     <g id=\"line2d_1\">\r\n      <defs>\r\n       <path d=\"M 0 0 \r\nL 0 3.5 \r\n\" id=\"mc5603d01e7\" style=\"stroke:#000000;stroke-width:0.8;\"/>\r\n      </defs>\r\n      <g>\r\n       <use style=\"stroke:#000000;stroke-width:0.8;\" x=\"67.164853\" xlink:href=\"#mc5603d01e7\" y=\"386.6\"/>\r\n      </g>\r\n     </g>\r\n     <g id=\"text_1\">\r\n      <!-- 0 -->\r\n      <g transform=\"translate(63.983603 401.198437)scale(0.1 -0.1)\">\r\n       <defs>\r\n        <path d=\"M 31.78125 66.40625 \r\nQ 24.171875 66.40625 20.328125 58.90625 \r\nQ 16.5 51.421875 16.5 36.375 \r\nQ 16.5 21.390625 20.328125 13.890625 \r\nQ 24.171875 6.390625 31.78125 6.390625 \r\nQ 39.453125 6.390625 43.28125 13.890625 \r\nQ 47.125 21.390625 47.125 36.375 \r\nQ 47.125 51.421875 43.28125 58.90625 \r\nQ 39.453125 66.40625 31.78125 66.40625 \r\nz\r\nM 31.78125 74.21875 \r\nQ 44.046875 74.21875 50.515625 64.515625 \r\nQ 56.984375 54.828125 56.984375 36.375 \r\nQ 56.984375 17.96875 50.515625 8.265625 \r\nQ 44.046875 -1.421875 31.78125 -1.421875 \r\nQ 19.53125 -1.421875 13.0625 8.265625 \r\nQ 6.59375 17.96875 6.59375 36.375 \r\nQ 6.59375 54.828125 13.0625 64.515625 \r\nQ 19.53125 74.21875 31.78125 74.21875 \r\nz\r\n\" id=\"DejaVuSans-48\"/>\r\n       </defs>\r\n       <use xlink:href=\"#DejaVuSans-48\"/>\r\n      </g>\r\n     </g>\r\n    </g>\r\n    <g id=\"xtick_2\">\r\n     <g id=\"line2d_2\">\r\n      <g>\r\n       <use style=\"stroke:#000000;stroke-width:0.8;\" x=\"117.184472\" xlink:href=\"#mc5603d01e7\" y=\"386.6\"/>\r\n      </g>\r\n     </g>\r\n     <g id=\"text_2\">\r\n      <!-- 100 -->\r\n      <g transform=\"translate(107.640722 401.198437)scale(0.1 -0.1)\">\r\n       <defs>\r\n        <path d=\"M 12.40625 8.296875 \r\nL 28.515625 8.296875 \r\nL 28.515625 63.921875 \r\nL 10.984375 60.40625 \r\nL 10.984375 69.390625 \r\nL 28.421875 72.90625 \r\nL 38.28125 72.90625 \r\nL 38.28125 8.296875 \r\nL 54.390625 8.296875 \r\nL 54.390625 0 \r\nL 12.40625 0 \r\nz\r\n\" id=\"DejaVuSans-49\"/>\r\n       </defs>\r\n       <use xlink:href=\"#DejaVuSans-49\"/>\r\n       <use x=\"63.623047\" xlink:href=\"#DejaVuSans-48\"/>\r\n       <use x=\"127.246094\" xlink:href=\"#DejaVuSans-48\"/>\r\n      </g>\r\n     </g>\r\n    </g>\r\n    <g id=\"xtick_3\">\r\n     <g id=\"line2d_3\">\r\n      <g>\r\n       <use style=\"stroke:#000000;stroke-width:0.8;\" x=\"167.204092\" xlink:href=\"#mc5603d01e7\" y=\"386.6\"/>\r\n      </g>\r\n     </g>\r\n     <g id=\"text_3\">\r\n      <!-- 200 -->\r\n      <g transform=\"translate(157.660342 401.198437)scale(0.1 -0.1)\">\r\n       <defs>\r\n        <path d=\"M 19.1875 8.296875 \r\nL 53.609375 8.296875 \r\nL 53.609375 0 \r\nL 7.328125 0 \r\nL 7.328125 8.296875 \r\nQ 12.9375 14.109375 22.625 23.890625 \r\nQ 32.328125 33.6875 34.8125 36.53125 \r\nQ 39.546875 41.84375 41.421875 45.53125 \r\nQ 43.3125 49.21875 43.3125 52.78125 \r\nQ 43.3125 58.59375 39.234375 62.25 \r\nQ 35.15625 65.921875 28.609375 65.921875 \r\nQ 23.96875 65.921875 18.8125 64.3125 \r\nQ 13.671875 62.703125 7.8125 59.421875 \r\nL 7.8125 69.390625 \r\nQ 13.765625 71.78125 18.9375 73 \r\nQ 24.125 74.21875 28.421875 74.21875 \r\nQ 39.75 74.21875 46.484375 68.546875 \r\nQ 53.21875 62.890625 53.21875 53.421875 \r\nQ 53.21875 48.921875 51.53125 44.890625 \r\nQ 49.859375 40.875 45.40625 35.40625 \r\nQ 44.1875 33.984375 37.640625 27.21875 \r\nQ 31.109375 20.453125 19.1875 8.296875 \r\nz\r\n\" id=\"DejaVuSans-50\"/>\r\n       </defs>\r\n       <use xlink:href=\"#DejaVuSans-50\"/>\r\n       <use x=\"63.623047\" xlink:href=\"#DejaVuSans-48\"/>\r\n       <use x=\"127.246094\" xlink:href=\"#DejaVuSans-48\"/>\r\n      </g>\r\n     </g>\r\n    </g>\r\n    <g id=\"xtick_4\">\r\n     <g id=\"line2d_4\">\r\n      <g>\r\n       <use style=\"stroke:#000000;stroke-width:0.8;\" x=\"217.223711\" xlink:href=\"#mc5603d01e7\" y=\"386.6\"/>\r\n      </g>\r\n     </g>\r\n     <g id=\"text_4\">\r\n      <!-- 300 -->\r\n      <g transform=\"translate(207.679961 401.198437)scale(0.1 -0.1)\">\r\n       <defs>\r\n        <path d=\"M 40.578125 39.3125 \r\nQ 47.65625 37.796875 51.625 33 \r\nQ 55.609375 28.21875 55.609375 21.1875 \r\nQ 55.609375 10.40625 48.1875 4.484375 \r\nQ 40.765625 -1.421875 27.09375 -1.421875 \r\nQ 22.515625 -1.421875 17.65625 -0.515625 \r\nQ 12.796875 0.390625 7.625 2.203125 \r\nL 7.625 11.71875 \r\nQ 11.71875 9.328125 16.59375 8.109375 \r\nQ 21.484375 6.890625 26.8125 6.890625 \r\nQ 36.078125 6.890625 40.9375 10.546875 \r\nQ 45.796875 14.203125 45.796875 21.1875 \r\nQ 45.796875 27.640625 41.28125 31.265625 \r\nQ 36.765625 34.90625 28.71875 34.90625 \r\nL 20.21875 34.90625 \r\nL 20.21875 43.015625 \r\nL 29.109375 43.015625 \r\nQ 36.375 43.015625 40.234375 45.921875 \r\nQ 44.09375 48.828125 44.09375 54.296875 \r\nQ 44.09375 59.90625 40.109375 62.90625 \r\nQ 36.140625 65.921875 28.71875 65.921875 \r\nQ 24.65625 65.921875 20.015625 65.03125 \r\nQ 15.375 64.15625 9.8125 62.3125 \r\nL 9.8125 71.09375 \r\nQ 15.4375 72.65625 20.34375 73.4375 \r\nQ 25.25 74.21875 29.59375 74.21875 \r\nQ 40.828125 74.21875 47.359375 69.109375 \r\nQ 53.90625 64.015625 53.90625 55.328125 \r\nQ 53.90625 49.265625 50.4375 45.09375 \r\nQ 46.96875 40.921875 40.578125 39.3125 \r\nz\r\n\" id=\"DejaVuSans-51\"/>\r\n       </defs>\r\n       <use xlink:href=\"#DejaVuSans-51\"/>\r\n       <use x=\"63.623047\" xlink:href=\"#DejaVuSans-48\"/>\r\n       <use x=\"127.246094\" xlink:href=\"#DejaVuSans-48\"/>\r\n      </g>\r\n     </g>\r\n    </g>\r\n    <g id=\"xtick_5\">\r\n     <g id=\"line2d_5\">\r\n      <g>\r\n       <use style=\"stroke:#000000;stroke-width:0.8;\" x=\"267.24333\" xlink:href=\"#mc5603d01e7\" y=\"386.6\"/>\r\n      </g>\r\n     </g>\r\n     <g id=\"text_5\">\r\n      <!-- 400 -->\r\n      <g transform=\"translate(257.69958 401.198437)scale(0.1 -0.1)\">\r\n       <defs>\r\n        <path d=\"M 37.796875 64.3125 \r\nL 12.890625 25.390625 \r\nL 37.796875 25.390625 \r\nz\r\nM 35.203125 72.90625 \r\nL 47.609375 72.90625 \r\nL 47.609375 25.390625 \r\nL 58.015625 25.390625 \r\nL 58.015625 17.1875 \r\nL 47.609375 17.1875 \r\nL 47.609375 0 \r\nL 37.796875 0 \r\nL 37.796875 17.1875 \r\nL 4.890625 17.1875 \r\nL 4.890625 26.703125 \r\nz\r\n\" id=\"DejaVuSans-52\"/>\r\n       </defs>\r\n       <use xlink:href=\"#DejaVuSans-52\"/>\r\n       <use x=\"63.623047\" xlink:href=\"#DejaVuSans-48\"/>\r\n       <use x=\"127.246094\" xlink:href=\"#DejaVuSans-48\"/>\r\n      </g>\r\n     </g>\r\n    </g>\r\n    <g id=\"xtick_6\">\r\n     <g id=\"line2d_6\">\r\n      <g>\r\n       <use style=\"stroke:#000000;stroke-width:0.8;\" x=\"317.26295\" xlink:href=\"#mc5603d01e7\" y=\"386.6\"/>\r\n      </g>\r\n     </g>\r\n     <g id=\"text_6\">\r\n      <!-- 500 -->\r\n      <g transform=\"translate(307.7192 401.198437)scale(0.1 -0.1)\">\r\n       <defs>\r\n        <path d=\"M 10.796875 72.90625 \r\nL 49.515625 72.90625 \r\nL 49.515625 64.59375 \r\nL 19.828125 64.59375 \r\nL 19.828125 46.734375 \r\nQ 21.96875 47.46875 24.109375 47.828125 \r\nQ 26.265625 48.1875 28.421875 48.1875 \r\nQ 40.625 48.1875 47.75 41.5 \r\nQ 54.890625 34.8125 54.890625 23.390625 \r\nQ 54.890625 11.625 47.5625 5.09375 \r\nQ 40.234375 -1.421875 26.90625 -1.421875 \r\nQ 22.3125 -1.421875 17.546875 -0.640625 \r\nQ 12.796875 0.140625 7.71875 1.703125 \r\nL 7.71875 11.625 \r\nQ 12.109375 9.234375 16.796875 8.0625 \r\nQ 21.484375 6.890625 26.703125 6.890625 \r\nQ 35.15625 6.890625 40.078125 11.328125 \r\nQ 45.015625 15.765625 45.015625 23.390625 \r\nQ 45.015625 31 40.078125 35.4375 \r\nQ 35.15625 39.890625 26.703125 39.890625 \r\nQ 22.75 39.890625 18.8125 39.015625 \r\nQ 14.890625 38.140625 10.796875 36.28125 \r\nz\r\n\" id=\"DejaVuSans-53\"/>\r\n       </defs>\r\n       <use xlink:href=\"#DejaVuSans-53\"/>\r\n       <use x=\"63.623047\" xlink:href=\"#DejaVuSans-48\"/>\r\n       <use x=\"127.246094\" xlink:href=\"#DejaVuSans-48\"/>\r\n      </g>\r\n     </g>\r\n    </g>\r\n    <g id=\"text_7\">\r\n     <!-- Fare -->\r\n     <g transform=\"translate(184.794286 414.876562)scale(0.1 -0.1)\">\r\n      <defs>\r\n       <path d=\"M 9.8125 72.90625 \r\nL 51.703125 72.90625 \r\nL 51.703125 64.59375 \r\nL 19.671875 64.59375 \r\nL 19.671875 43.109375 \r\nL 48.578125 43.109375 \r\nL 48.578125 34.8125 \r\nL 19.671875 34.8125 \r\nL 19.671875 0 \r\nL 9.8125 0 \r\nz\r\n\" id=\"DejaVuSans-70\"/>\r\n       <path d=\"M 34.28125 27.484375 \r\nQ 23.390625 27.484375 19.1875 25 \r\nQ 14.984375 22.515625 14.984375 16.5 \r\nQ 14.984375 11.71875 18.140625 8.90625 \r\nQ 21.296875 6.109375 26.703125 6.109375 \r\nQ 34.1875 6.109375 38.703125 11.40625 \r\nQ 43.21875 16.703125 43.21875 25.484375 \r\nL 43.21875 27.484375 \r\nz\r\nM 52.203125 31.203125 \r\nL 52.203125 0 \r\nL 43.21875 0 \r\nL 43.21875 8.296875 \r\nQ 40.140625 3.328125 35.546875 0.953125 \r\nQ 30.953125 -1.421875 24.3125 -1.421875 \r\nQ 15.921875 -1.421875 10.953125 3.296875 \r\nQ 6 8.015625 6 15.921875 \r\nQ 6 25.140625 12.171875 29.828125 \r\nQ 18.359375 34.515625 30.609375 34.515625 \r\nL 43.21875 34.515625 \r\nL 43.21875 35.40625 \r\nQ 43.21875 41.609375 39.140625 45 \r\nQ 35.0625 48.390625 27.6875 48.390625 \r\nQ 23 48.390625 18.546875 47.265625 \r\nQ 14.109375 46.140625 10.015625 43.890625 \r\nL 10.015625 52.203125 \r\nQ 14.9375 54.109375 19.578125 55.046875 \r\nQ 24.21875 56 28.609375 56 \r\nQ 40.484375 56 46.34375 49.84375 \r\nQ 52.203125 43.703125 52.203125 31.203125 \r\nz\r\n\" id=\"DejaVuSans-97\"/>\r\n       <path d=\"M 41.109375 46.296875 \r\nQ 39.59375 47.171875 37.8125 47.578125 \r\nQ 36.03125 48 33.890625 48 \r\nQ 26.265625 48 22.1875 43.046875 \r\nQ 18.109375 38.09375 18.109375 28.8125 \r\nL 18.109375 0 \r\nL 9.078125 0 \r\nL 9.078125 54.6875 \r\nL 18.109375 54.6875 \r\nL 18.109375 46.1875 \r\nQ 20.953125 51.171875 25.484375 53.578125 \r\nQ 30.03125 56 36.53125 56 \r\nQ 37.453125 56 38.578125 55.875 \r\nQ 39.703125 55.765625 41.0625 55.515625 \r\nz\r\n\" id=\"DejaVuSans-114\"/>\r\n       <path d=\"M 56.203125 29.59375 \r\nL 56.203125 25.203125 \r\nL 14.890625 25.203125 \r\nQ 15.484375 15.921875 20.484375 11.0625 \r\nQ 25.484375 6.203125 34.421875 6.203125 \r\nQ 39.59375 6.203125 44.453125 7.46875 \r\nQ 49.3125 8.734375 54.109375 11.28125 \r\nL 54.109375 2.78125 \r\nQ 49.265625 0.734375 44.1875 -0.34375 \r\nQ 39.109375 -1.421875 33.890625 -1.421875 \r\nQ 20.796875 -1.421875 13.15625 6.1875 \r\nQ 5.515625 13.8125 5.515625 26.8125 \r\nQ 5.515625 40.234375 12.765625 48.109375 \r\nQ 20.015625 56 32.328125 56 \r\nQ 43.359375 56 49.78125 48.890625 \r\nQ 56.203125 41.796875 56.203125 29.59375 \r\nz\r\nM 47.21875 32.234375 \r\nQ 47.125 39.59375 43.09375 43.984375 \r\nQ 39.0625 48.390625 32.421875 48.390625 \r\nQ 24.90625 48.390625 20.390625 44.140625 \r\nQ 15.875 39.890625 15.1875 32.171875 \r\nz\r\n\" id=\"DejaVuSans-101\"/>\r\n      </defs>\r\n      <use xlink:href=\"#DejaVuSans-70\"/>\r\n      <use x=\"48.394531\" xlink:href=\"#DejaVuSans-97\"/>\r\n      <use x=\"109.673828\" xlink:href=\"#DejaVuSans-114\"/>\r\n      <use x=\"148.537109\" xlink:href=\"#DejaVuSans-101\"/>\r\n     </g>\r\n    </g>\r\n   </g>\r\n   <g id=\"matplotlib.axis_2\">\r\n    <g id=\"ytick_1\">\r\n     <g id=\"line2d_7\">\r\n      <defs>\r\n       <path d=\"M 0 0 \r\nL -3.5 0 \r\n\" id=\"m8db0f541c4\" style=\"stroke:#000000;stroke-width:0.8;\"/>\r\n      </defs>\r\n      <g>\r\n       <use style=\"stroke:#000000;stroke-width:0.8;\" x=\"40.603125\" xlink:href=\"#m8db0f541c4\" y=\"345.67098\"/>\r\n      </g>\r\n     </g>\r\n     <g id=\"text_8\">\r\n      <!-- 0 -->\r\n      <g transform=\"translate(27.240625 349.470198)scale(0.1 -0.1)\">\r\n       <use xlink:href=\"#DejaVuSans-48\"/>\r\n      </g>\r\n     </g>\r\n    </g>\r\n    <g id=\"ytick_2\">\r\n     <g id=\"line2d_8\">\r\n      <g>\r\n       <use style=\"stroke:#000000;stroke-width:0.8;\" x=\"40.603125\" xlink:href=\"#m8db0f541c4\" y=\"287.849055\"/>\r\n      </g>\r\n     </g>\r\n     <g id=\"text_9\">\r\n      <!-- 20 -->\r\n      <g transform=\"translate(20.878125 291.648274)scale(0.1 -0.1)\">\r\n       <use xlink:href=\"#DejaVuSans-50\"/>\r\n       <use x=\"63.623047\" xlink:href=\"#DejaVuSans-48\"/>\r\n      </g>\r\n     </g>\r\n    </g>\r\n    <g id=\"ytick_3\">\r\n     <g id=\"line2d_9\">\r\n      <g>\r\n       <use style=\"stroke:#000000;stroke-width:0.8;\" x=\"40.603125\" xlink:href=\"#m8db0f541c4\" y=\"230.02713\"/>\r\n      </g>\r\n     </g>\r\n     <g id=\"text_10\">\r\n      <!-- 40 -->\r\n      <g transform=\"translate(20.878125 233.826349)scale(0.1 -0.1)\">\r\n       <use xlink:href=\"#DejaVuSans-52\"/>\r\n       <use x=\"63.623047\" xlink:href=\"#DejaVuSans-48\"/>\r\n      </g>\r\n     </g>\r\n    </g>\r\n    <g id=\"ytick_4\">\r\n     <g id=\"line2d_10\">\r\n      <g>\r\n       <use style=\"stroke:#000000;stroke-width:0.8;\" x=\"40.603125\" xlink:href=\"#m8db0f541c4\" y=\"172.205206\"/>\r\n      </g>\r\n     </g>\r\n     <g id=\"text_11\">\r\n      <!-- 60 -->\r\n      <g transform=\"translate(20.878125 176.004424)scale(0.1 -0.1)\">\r\n       <defs>\r\n        <path d=\"M 33.015625 40.375 \r\nQ 26.375 40.375 22.484375 35.828125 \r\nQ 18.609375 31.296875 18.609375 23.390625 \r\nQ 18.609375 15.53125 22.484375 10.953125 \r\nQ 26.375 6.390625 33.015625 6.390625 \r\nQ 39.65625 6.390625 43.53125 10.953125 \r\nQ 47.40625 15.53125 47.40625 23.390625 \r\nQ 47.40625 31.296875 43.53125 35.828125 \r\nQ 39.65625 40.375 33.015625 40.375 \r\nz\r\nM 52.59375 71.296875 \r\nL 52.59375 62.3125 \r\nQ 48.875 64.0625 45.09375 64.984375 \r\nQ 41.3125 65.921875 37.59375 65.921875 \r\nQ 27.828125 65.921875 22.671875 59.328125 \r\nQ 17.53125 52.734375 16.796875 39.40625 \r\nQ 19.671875 43.65625 24.015625 45.921875 \r\nQ 28.375 48.1875 33.59375 48.1875 \r\nQ 44.578125 48.1875 50.953125 41.515625 \r\nQ 57.328125 34.859375 57.328125 23.390625 \r\nQ 57.328125 12.15625 50.6875 5.359375 \r\nQ 44.046875 -1.421875 33.015625 -1.421875 \r\nQ 20.359375 -1.421875 13.671875 8.265625 \r\nQ 6.984375 17.96875 6.984375 36.375 \r\nQ 6.984375 53.65625 15.1875 63.9375 \r\nQ 23.390625 74.21875 37.203125 74.21875 \r\nQ 40.921875 74.21875 44.703125 73.484375 \r\nQ 48.484375 72.75 52.59375 71.296875 \r\nz\r\n\" id=\"DejaVuSans-54\"/>\r\n       </defs>\r\n       <use xlink:href=\"#DejaVuSans-54\"/>\r\n       <use x=\"63.623047\" xlink:href=\"#DejaVuSans-48\"/>\r\n      </g>\r\n     </g>\r\n    </g>\r\n    <g id=\"ytick_5\">\r\n     <g id=\"line2d_11\">\r\n      <g>\r\n       <use style=\"stroke:#000000;stroke-width:0.8;\" x=\"40.603125\" xlink:href=\"#m8db0f541c4\" y=\"114.383281\"/>\r\n      </g>\r\n     </g>\r\n     <g id=\"text_12\">\r\n      <!-- 80 -->\r\n      <g transform=\"translate(20.878125 118.1825)scale(0.1 -0.1)\">\r\n       <defs>\r\n        <path d=\"M 31.78125 34.625 \r\nQ 24.75 34.625 20.71875 30.859375 \r\nQ 16.703125 27.09375 16.703125 20.515625 \r\nQ 16.703125 13.921875 20.71875 10.15625 \r\nQ 24.75 6.390625 31.78125 6.390625 \r\nQ 38.8125 6.390625 42.859375 10.171875 \r\nQ 46.921875 13.96875 46.921875 20.515625 \r\nQ 46.921875 27.09375 42.890625 30.859375 \r\nQ 38.875 34.625 31.78125 34.625 \r\nz\r\nM 21.921875 38.8125 \r\nQ 15.578125 40.375 12.03125 44.71875 \r\nQ 8.5 49.078125 8.5 55.328125 \r\nQ 8.5 64.0625 14.71875 69.140625 \r\nQ 20.953125 74.21875 31.78125 74.21875 \r\nQ 42.671875 74.21875 48.875 69.140625 \r\nQ 55.078125 64.0625 55.078125 55.328125 \r\nQ 55.078125 49.078125 51.53125 44.71875 \r\nQ 48 40.375 41.703125 38.8125 \r\nQ 48.828125 37.15625 52.796875 32.3125 \r\nQ 56.78125 27.484375 56.78125 20.515625 \r\nQ 56.78125 9.90625 50.3125 4.234375 \r\nQ 43.84375 -1.421875 31.78125 -1.421875 \r\nQ 19.734375 -1.421875 13.25 4.234375 \r\nQ 6.78125 9.90625 6.78125 20.515625 \r\nQ 6.78125 27.484375 10.78125 32.3125 \r\nQ 14.796875 37.15625 21.921875 38.8125 \r\nz\r\nM 18.3125 54.390625 \r\nQ 18.3125 48.734375 21.84375 45.5625 \r\nQ 25.390625 42.390625 31.78125 42.390625 \r\nQ 38.140625 42.390625 41.71875 45.5625 \r\nQ 45.3125 48.734375 45.3125 54.390625 \r\nQ 45.3125 60.0625 41.71875 63.234375 \r\nQ 38.140625 66.40625 31.78125 66.40625 \r\nQ 25.390625 66.40625 21.84375 63.234375 \r\nQ 18.3125 60.0625 18.3125 54.390625 \r\nz\r\n\" id=\"DejaVuSans-56\"/>\r\n       </defs>\r\n       <use xlink:href=\"#DejaVuSans-56\"/>\r\n       <use x=\"63.623047\" xlink:href=\"#DejaVuSans-48\"/>\r\n      </g>\r\n     </g>\r\n    </g>\r\n    <g id=\"text_13\">\r\n     <!-- Age -->\r\n     <g transform=\"translate(14.798438 239.091094)rotate(-90)scale(0.1 -0.1)\">\r\n      <defs>\r\n       <path d=\"M 34.1875 63.1875 \r\nL 20.796875 26.90625 \r\nL 47.609375 26.90625 \r\nz\r\nM 28.609375 72.90625 \r\nL 39.796875 72.90625 \r\nL 67.578125 0 \r\nL 57.328125 0 \r\nL 50.6875 18.703125 \r\nL 17.828125 18.703125 \r\nL 11.1875 0 \r\nL 0.78125 0 \r\nz\r\n\" id=\"DejaVuSans-65\"/>\r\n       <path d=\"M 45.40625 27.984375 \r\nQ 45.40625 37.75 41.375 43.109375 \r\nQ 37.359375 48.484375 30.078125 48.484375 \r\nQ 22.859375 48.484375 18.828125 43.109375 \r\nQ 14.796875 37.75 14.796875 27.984375 \r\nQ 14.796875 18.265625 18.828125 12.890625 \r\nQ 22.859375 7.515625 30.078125 7.515625 \r\nQ 37.359375 7.515625 41.375 12.890625 \r\nQ 45.40625 18.265625 45.40625 27.984375 \r\nz\r\nM 54.390625 6.78125 \r\nQ 54.390625 -7.171875 48.1875 -13.984375 \r\nQ 42 -20.796875 29.203125 -20.796875 \r\nQ 24.46875 -20.796875 20.265625 -20.09375 \r\nQ 16.0625 -19.390625 12.109375 -17.921875 \r\nL 12.109375 -9.1875 \r\nQ 16.0625 -11.328125 19.921875 -12.34375 \r\nQ 23.78125 -13.375 27.78125 -13.375 \r\nQ 36.625 -13.375 41.015625 -8.765625 \r\nQ 45.40625 -4.15625 45.40625 5.171875 \r\nL 45.40625 9.625 \r\nQ 42.625 4.78125 38.28125 2.390625 \r\nQ 33.9375 0 27.875 0 \r\nQ 17.828125 0 11.671875 7.65625 \r\nQ 5.515625 15.328125 5.515625 27.984375 \r\nQ 5.515625 40.671875 11.671875 48.328125 \r\nQ 17.828125 56 27.875 56 \r\nQ 33.9375 56 38.28125 53.609375 \r\nQ 42.625 51.21875 45.40625 46.390625 \r\nL 45.40625 54.6875 \r\nL 54.390625 54.6875 \r\nz\r\n\" id=\"DejaVuSans-103\"/>\r\n      </defs>\r\n      <use xlink:href=\"#DejaVuSans-65\"/>\r\n      <use x=\"68.408203\" xlink:href=\"#DejaVuSans-103\"/>\r\n      <use x=\"131.884766\" xlink:href=\"#DejaVuSans-101\"/>\r\n     </g>\r\n    </g>\r\n   </g>\r\n   <g id=\"patch_3\">\r\n    <path d=\"M 40.603125 386.6 \r\nL 40.603125 72.24 \r\n\" style=\"fill:none;stroke:#000000;stroke-linecap:square;stroke-linejoin:miter;stroke-width:0.8;\"/>\r\n   </g>\r\n   <g id=\"patch_4\">\r\n    <path d=\"M 40.603125 386.6 \r\nL 349.991696 386.6 \r\n\" style=\"fill:none;stroke:#000000;stroke-linecap:square;stroke-linejoin:miter;stroke-width:0.8;\"/>\r\n   </g>\r\n  </g>\r\n  <g id=\"axes_2\">\r\n   <g id=\"patch_5\">\r\n    <path d=\"M 40.603125 61.4 \r\nL 349.991696 61.4 \r\nL 349.991696 7.2 \r\nL 40.603125 7.2 \r\nz\r\n\" style=\"fill:#ffffff;\"/>\r\n   </g>\r\n   <g id=\"PolyCollection_1\">\r\n    <path clip-path=\"url(#pb567347de3)\" d=\"M 45.842815 61.336504 \r\nL 45.842815 61.4 \r\nL 48.8621 61.4 \r\nL 51.881385 61.4 \r\nL 54.900669 61.4 \r\nL 57.919954 61.4 \r\nL 60.939239 61.4 \r\nL 63.958524 61.4 \r\nL 66.977808 61.4 \r\nL 69.997093 61.4 \r\nL 73.016378 61.4 \r\nL 76.035663 61.4 \r\nL 79.054947 61.4 \r\nL 82.074232 61.4 \r\nL 85.093517 61.4 \r\nL 88.112802 61.4 \r\nL 91.132086 61.4 \r\nL 94.151371 61.4 \r\nL 97.170656 61.4 \r\nL 100.189941 61.4 \r\nL 103.209226 61.4 \r\nL 106.22851 61.4 \r\nL 109.247795 61.4 \r\nL 112.26708 61.4 \r\nL 115.286365 61.4 \r\nL 118.305649 61.4 \r\nL 121.324934 61.4 \r\nL 124.344219 61.4 \r\nL 127.363504 61.4 \r\nL 130.382788 61.4 \r\nL 133.402073 61.4 \r\nL 136.421358 61.4 \r\nL 139.440643 61.4 \r\nL 142.459927 61.4 \r\nL 145.479212 61.4 \r\nL 148.498497 61.4 \r\nL 151.517782 61.4 \r\nL 154.537066 61.4 \r\nL 157.556351 61.4 \r\nL 160.575636 61.4 \r\nL 163.594921 61.4 \r\nL 166.614205 61.4 \r\nL 169.63349 61.4 \r\nL 172.652775 61.4 \r\nL 175.67206 61.4 \r\nL 178.691345 61.4 \r\nL 181.710629 61.4 \r\nL 184.729914 61.4 \r\nL 187.749199 61.4 \r\nL 190.768484 61.4 \r\nL 193.787768 61.4 \r\nL 196.807053 61.4 \r\nL 199.826338 61.4 \r\nL 202.845623 61.4 \r\nL 205.864907 61.4 \r\nL 208.884192 61.4 \r\nL 211.903477 61.4 \r\nL 214.922762 61.4 \r\nL 217.942046 61.4 \r\nL 220.961331 61.4 \r\nL 223.980616 61.4 \r\nL 226.999901 61.4 \r\nL 230.019185 61.4 \r\nL 233.03847 61.4 \r\nL 236.057755 61.4 \r\nL 239.07704 61.4 \r\nL 242.096325 61.4 \r\nL 245.115609 61.4 \r\nL 248.134894 61.4 \r\nL 251.154179 61.4 \r\nL 254.173464 61.4 \r\nL 257.192748 61.4 \r\nL 260.212033 61.4 \r\nL 263.231318 61.4 \r\nL 266.250603 61.4 \r\nL 269.269887 61.4 \r\nL 272.289172 61.4 \r\nL 275.308457 61.4 \r\nL 278.327742 61.4 \r\nL 281.347026 61.4 \r\nL 284.366311 61.4 \r\nL 287.385596 61.4 \r\nL 290.404881 61.4 \r\nL 293.424165 61.4 \r\nL 296.44345 61.4 \r\nL 299.462735 61.4 \r\nL 302.48202 61.4 \r\nL 305.501304 61.4 \r\nL 308.520589 61.4 \r\nL 311.539874 61.4 \r\nL 314.559159 61.4 \r\nL 317.578444 61.4 \r\nL 320.597728 61.4 \r\nL 323.617013 61.4 \r\nL 326.636298 61.4 \r\nL 329.655583 61.4 \r\nL 332.674867 61.4 \r\nL 335.694152 61.4 \r\nL 338.713437 61.4 \r\nL 341.732722 61.4 \r\nL 344.752006 61.4 \r\nL 344.752006 61.396295 \r\nL 344.752006 61.396295 \r\nL 341.732722 61.387912 \r\nL 338.713437 61.367066 \r\nL 335.694152 61.325065 \r\nL 332.674867 61.257615 \r\nL 329.655583 61.174069 \r\nL 326.636298 61.100621 \r\nL 323.617013 61.068714 \r\nL 320.597728 61.093861 \r\nL 317.578444 61.163751 \r\nL 314.559159 61.247751 \r\nL 311.539874 61.318064 \r\nL 308.520589 61.363176 \r\nL 305.501304 61.38618 \r\nL 302.48202 61.395668 \r\nL 299.462735 61.398866 \r\nL 296.44345 61.399752 \r\nL 293.424165 61.399955 \r\nL 290.404881 61.399993 \r\nL 287.385596 61.399999 \r\nL 284.366311 61.4 \r\nL 281.347026 61.4 \r\nL 278.327742 61.4 \r\nL 275.308457 61.4 \r\nL 272.289172 61.4 \r\nL 269.269887 61.4 \r\nL 266.250603 61.4 \r\nL 263.231318 61.4 \r\nL 260.212033 61.4 \r\nL 257.192748 61.4 \r\nL 254.173464 61.4 \r\nL 251.154179 61.4 \r\nL 248.134894 61.4 \r\nL 245.115609 61.4 \r\nL 242.096325 61.4 \r\nL 239.07704 61.4 \r\nL 236.057755 61.399999 \r\nL 233.03847 61.399995 \r\nL 230.019185 61.399961 \r\nL 226.999901 61.399768 \r\nL 223.980616 61.398848 \r\nL 220.961331 61.395204 \r\nL 217.942046 61.383312 \r\nL 214.922762 61.351395 \r\nL 211.903477 61.281379 \r\nL 208.884192 61.156934 \r\nL 205.864907 60.980501 \r\nL 202.845623 60.787024 \r\nL 199.826338 60.634885 \r\nL 196.807053 60.571158 \r\nL 193.787768 60.597908 \r\nL 190.768484 60.671195 \r\nL 187.749199 60.733756 \r\nL 184.729914 60.752099 \r\nL 181.710629 60.73138 \r\nL 178.691345 60.705259 \r\nL 175.67206 60.71371 \r\nL 172.652775 60.780986 \r\nL 169.63349 60.901496 \r\nL 166.614205 61.040248 \r\nL 163.594921 61.148474 \r\nL 160.575636 61.183417 \r\nL 157.556351 61.119887 \r\nL 154.537066 60.953768 \r\nL 151.517782 60.705101 \r\nL 148.498497 60.419608 \r\nL 145.479212 60.157452 \r\nL 142.459927 59.966088 \r\nL 139.440643 59.854006 \r\nL 136.421358 59.787753 \r\nL 133.402073 59.715942 \r\nL 130.382788 59.600839 \r\nL 127.363504 59.429764 \r\nL 124.344219 59.190578 \r\nL 121.324934 58.831627 \r\nL 118.305649 58.262987 \r\nL 115.286365 57.432007 \r\nL 112.26708 56.414207 \r\nL 109.247795 55.405779 \r\nL 106.22851 54.58411 \r\nL 103.209226 53.947396 \r\nL 100.189941 53.269986 \r\nL 97.170656 52.170167 \r\nL 94.151371 50.175025 \r\nL 91.132086 46.751122 \r\nL 88.112802 41.4164 \r\nL 85.093517 34.025056 \r\nL 82.074232 25.163331 \r\nL 79.054947 16.462132 \r\nL 76.035663 10.480567 \r\nL 73.016378 9.780952 \r\nL 69.997093 15.39633 \r\nL 66.977808 25.84627 \r\nL 63.958524 37.809407 \r\nL 60.939239 48.053952 \r\nL 57.919954 54.991486 \r\nL 54.900669 58.795477 \r\nL 51.881385 60.505534 \r\nL 48.8621 61.140624 \r\nL 45.842815 61.336504 \r\nz\r\n\" style=\"fill:#ff0000;fill-opacity:0.25;\"/>\r\n   </g>\r\n   <g id=\"matplotlib.axis_3\">\r\n    <g id=\"xtick_7\">\r\n     <g id=\"line2d_12\">\r\n      <g>\r\n       <use style=\"stroke:#000000;stroke-width:0.8;\" x=\"67.164853\" xlink:href=\"#mc5603d01e7\" y=\"61.4\"/>\r\n      </g>\r\n     </g>\r\n    </g>\r\n    <g id=\"xtick_8\">\r\n     <g id=\"line2d_13\">\r\n      <g>\r\n       <use style=\"stroke:#000000;stroke-width:0.8;\" x=\"117.184472\" xlink:href=\"#mc5603d01e7\" y=\"61.4\"/>\r\n      </g>\r\n     </g>\r\n    </g>\r\n    <g id=\"xtick_9\">\r\n     <g id=\"line2d_14\">\r\n      <g>\r\n       <use style=\"stroke:#000000;stroke-width:0.8;\" x=\"167.204092\" xlink:href=\"#mc5603d01e7\" y=\"61.4\"/>\r\n      </g>\r\n     </g>\r\n    </g>\r\n    <g id=\"xtick_10\">\r\n     <g id=\"line2d_15\">\r\n      <g>\r\n       <use style=\"stroke:#000000;stroke-width:0.8;\" x=\"217.223711\" xlink:href=\"#mc5603d01e7\" y=\"61.4\"/>\r\n      </g>\r\n     </g>\r\n    </g>\r\n    <g id=\"xtick_11\">\r\n     <g id=\"line2d_16\">\r\n      <g>\r\n       <use style=\"stroke:#000000;stroke-width:0.8;\" x=\"267.24333\" xlink:href=\"#mc5603d01e7\" y=\"61.4\"/>\r\n      </g>\r\n     </g>\r\n    </g>\r\n    <g id=\"xtick_12\">\r\n     <g id=\"line2d_17\">\r\n      <g>\r\n       <use style=\"stroke:#000000;stroke-width:0.8;\" x=\"317.26295\" xlink:href=\"#mc5603d01e7\" y=\"61.4\"/>\r\n      </g>\r\n     </g>\r\n    </g>\r\n   </g>\r\n   <g id=\"matplotlib.axis_4\">\r\n    <g id=\"ytick_6\"/>\r\n    <g id=\"ytick_7\"/>\r\n   </g>\r\n   <g id=\"line2d_18\">\r\n    <path clip-path=\"url(#pb567347de3)\" d=\"M 45.842815 61.336504 \r\nL 48.8621 61.140624 \r\nL 51.881385 60.505534 \r\nL 54.900669 58.795477 \r\nL 57.919954 54.991486 \r\nL 60.939239 48.053952 \r\nL 63.958524 37.809407 \r\nL 66.977808 25.84627 \r\nL 69.997093 15.39633 \r\nL 73.016378 9.780952 \r\nL 76.035663 10.480567 \r\nL 79.054947 16.462132 \r\nL 82.074232 25.163331 \r\nL 85.093517 34.025056 \r\nL 88.112802 41.4164 \r\nL 91.132086 46.751122 \r\nL 94.151371 50.175025 \r\nL 97.170656 52.170167 \r\nL 100.189941 53.269986 \r\nL 103.209226 53.947396 \r\nL 106.22851 54.58411 \r\nL 109.247795 55.405779 \r\nL 112.26708 56.414207 \r\nL 115.286365 57.432007 \r\nL 118.305649 58.262987 \r\nL 121.324934 58.831627 \r\nL 124.344219 59.190578 \r\nL 127.363504 59.429764 \r\nL 130.382788 59.600839 \r\nL 133.402073 59.715942 \r\nL 136.421358 59.787753 \r\nL 139.440643 59.854006 \r\nL 142.459927 59.966088 \r\nL 145.479212 60.157452 \r\nL 148.498497 60.419608 \r\nL 151.517782 60.705101 \r\nL 154.537066 60.953768 \r\nL 157.556351 61.119887 \r\nL 160.575636 61.183417 \r\nL 163.594921 61.148474 \r\nL 166.614205 61.040248 \r\nL 169.63349 60.901496 \r\nL 172.652775 60.780986 \r\nL 175.67206 60.71371 \r\nL 178.691345 60.705259 \r\nL 181.710629 60.73138 \r\nL 184.729914 60.752099 \r\nL 187.749199 60.733756 \r\nL 190.768484 60.671195 \r\nL 193.787768 60.597908 \r\nL 196.807053 60.571158 \r\nL 199.826338 60.634885 \r\nL 202.845623 60.787024 \r\nL 205.864907 60.980501 \r\nL 208.884192 61.156934 \r\nL 211.903477 61.281379 \r\nL 214.922762 61.351395 \r\nL 217.942046 61.383312 \r\nL 220.961331 61.395204 \r\nL 223.980616 61.398848 \r\nL 226.999901 61.399768 \r\nL 230.019185 61.399961 \r\nL 233.03847 61.399995 \r\nL 236.057755 61.399999 \r\nL 239.07704 61.4 \r\nL 242.096325 61.4 \r\nL 245.115609 61.4 \r\nL 248.134894 61.4 \r\nL 251.154179 61.4 \r\nL 254.173464 61.4 \r\nL 257.192748 61.4 \r\nL 260.212033 61.4 \r\nL 263.231318 61.4 \r\nL 266.250603 61.4 \r\nL 269.269887 61.4 \r\nL 272.289172 61.4 \r\nL 275.308457 61.4 \r\nL 278.327742 61.4 \r\nL 281.347026 61.4 \r\nL 284.366311 61.4 \r\nL 287.385596 61.399999 \r\nL 290.404881 61.399993 \r\nL 293.424165 61.399955 \r\nL 296.44345 61.399752 \r\nL 299.462735 61.398866 \r\nL 302.48202 61.395668 \r\nL 305.501304 61.38618 \r\nL 308.520589 61.363176 \r\nL 311.539874 61.318064 \r\nL 314.559159 61.247751 \r\nL 317.578444 61.163751 \r\nL 320.597728 61.093861 \r\nL 323.617013 61.068714 \r\nL 326.636298 61.100621 \r\nL 329.655583 61.174069 \r\nL 332.674867 61.257615 \r\nL 335.694152 61.325065 \r\nL 338.713437 61.367066 \r\nL 341.732722 61.387912 \r\nL 344.752006 61.396295 \r\n\" style=\"fill:none;stroke:#ff0000;stroke-linecap:square;stroke-width:1.5;\"/>\r\n   </g>\r\n   <g id=\"patch_6\">\r\n    <path d=\"M 40.603125 61.4 \r\nL 349.991696 61.4 \r\n\" style=\"fill:none;stroke:#000000;stroke-linecap:square;stroke-linejoin:miter;stroke-width:0.8;\"/>\r\n   </g>\r\n  </g>\r\n  <g id=\"axes_3\">\r\n   <g id=\"patch_7\">\r\n    <path d=\"M 360.660268 386.6 \r\nL 414.003125 386.6 \r\nL 414.003125 72.24 \r\nL 360.660268 72.24 \r\nz\r\n\" style=\"fill:#ffffff;\"/>\r\n   </g>\r\n   <g id=\"PolyCollection_2\">\r\n    <path clip-path=\"url(#p07878cf09a)\" d=\"M 360.696903 378.28662 \r\nL 360.660268 378.28662 \r\nL 360.660268 375.279214 \r\nL 360.660268 372.271807 \r\nL 360.660268 369.264401 \r\nL 360.660268 366.256994 \r\nL 360.660268 363.249588 \r\nL 360.660268 360.242181 \r\nL 360.660268 357.234775 \r\nL 360.660268 354.227368 \r\nL 360.660268 351.219962 \r\nL 360.660268 348.212556 \r\nL 360.660268 345.205149 \r\nL 360.660268 342.197743 \r\nL 360.660268 339.190336 \r\nL 360.660268 336.18293 \r\nL 360.660268 333.175523 \r\nL 360.660268 330.168117 \r\nL 360.660268 327.16071 \r\nL 360.660268 324.153304 \r\nL 360.660268 321.145897 \r\nL 360.660268 318.138491 \r\nL 360.660268 315.131084 \r\nL 360.660268 312.123678 \r\nL 360.660268 309.116271 \r\nL 360.660268 306.108865 \r\nL 360.660268 303.101458 \r\nL 360.660268 300.094052 \r\nL 360.660268 297.086646 \r\nL 360.660268 294.079239 \r\nL 360.660268 291.071833 \r\nL 360.660268 288.064426 \r\nL 360.660268 285.05702 \r\nL 360.660268 282.049613 \r\nL 360.660268 279.042207 \r\nL 360.660268 276.0348 \r\nL 360.660268 273.027394 \r\nL 360.660268 270.019987 \r\nL 360.660268 267.012581 \r\nL 360.660268 264.005174 \r\nL 360.660268 260.997768 \r\nL 360.660268 257.990361 \r\nL 360.660268 254.982955 \r\nL 360.660268 251.975549 \r\nL 360.660268 248.968142 \r\nL 360.660268 245.960736 \r\nL 360.660268 242.953329 \r\nL 360.660268 239.945923 \r\nL 360.660268 236.938516 \r\nL 360.660268 233.93111 \r\nL 360.660268 230.923703 \r\nL 360.660268 227.916297 \r\nL 360.660268 224.90889 \r\nL 360.660268 221.901484 \r\nL 360.660268 218.894077 \r\nL 360.660268 215.886671 \r\nL 360.660268 212.879264 \r\nL 360.660268 209.871858 \r\nL 360.660268 206.864451 \r\nL 360.660268 203.857045 \r\nL 360.660268 200.849639 \r\nL 360.660268 197.842232 \r\nL 360.660268 194.834826 \r\nL 360.660268 191.827419 \r\nL 360.660268 188.820013 \r\nL 360.660268 185.812606 \r\nL 360.660268 182.8052 \r\nL 360.660268 179.797793 \r\nL 360.660268 176.790387 \r\nL 360.660268 173.78298 \r\nL 360.660268 170.775574 \r\nL 360.660268 167.768167 \r\nL 360.660268 164.760761 \r\nL 360.660268 161.753354 \r\nL 360.660268 158.745948 \r\nL 360.660268 155.738542 \r\nL 360.660268 152.731135 \r\nL 360.660268 149.723729 \r\nL 360.660268 146.716322 \r\nL 360.660268 143.708916 \r\nL 360.660268 140.701509 \r\nL 360.660268 137.694103 \r\nL 360.660268 134.686696 \r\nL 360.660268 131.67929 \r\nL 360.660268 128.671883 \r\nL 360.660268 125.664477 \r\nL 360.660268 122.65707 \r\nL 360.660268 119.649664 \r\nL 360.660268 116.642257 \r\nL 360.660268 113.634851 \r\nL 360.660268 110.627444 \r\nL 360.660268 107.620038 \r\nL 360.660268 104.612632 \r\nL 360.660268 101.605225 \r\nL 360.660268 98.597819 \r\nL 360.660268 95.590412 \r\nL 360.660268 92.583006 \r\nL 360.660268 89.575599 \r\nL 360.660268 86.568193 \r\nL 360.660268 83.560786 \r\nL 360.660268 80.55338 \r\nL 360.662924 80.55338 \r\nL 360.662924 80.55338 \r\nL 360.665977 83.560786 \r\nL 360.671709 86.568193 \r\nL 360.681654 89.575599 \r\nL 360.697588 92.583006 \r\nL 360.721151 95.590412 \r\nL 360.753317 98.597819 \r\nL 360.793945 101.605225 \r\nL 360.841749 104.612632 \r\nL 360.894971 107.620038 \r\nL 360.952738 110.627444 \r\nL 361.016638 113.634851 \r\nL 361.091675 116.642257 \r\nL 361.1858 119.649664 \r\nL 361.307735 122.65707 \r\nL 361.46374 125.664477 \r\nL 361.654787 128.671883 \r\nL 361.875829 131.67929 \r\nL 362.118176 134.686696 \r\nL 362.374482 137.694103 \r\nL 362.644224 140.701509 \r\nL 362.936742 143.708916 \r\nL 363.269633 146.716322 \r\nL 363.66244 149.723729 \r\nL 364.12814 152.731135 \r\nL 364.666328 155.738542 \r\nL 365.261462 158.745948 \r\nL 365.88722 161.753354 \r\nL 366.515272 164.760761 \r\nL 367.125032 167.768167 \r\nL 367.710868 170.775574 \r\nL 368.284557 173.78298 \r\nL 368.872574 176.790387 \r\nL 369.509329 179.797793 \r\nL 370.228216 182.8052 \r\nL 371.052624 185.812606 \r\nL 371.988965 188.820013 \r\nL 373.023577 191.827419 \r\nL 374.124805 194.834826 \r\nL 375.250367 197.842232 \r\nL 376.358437 200.849639 \r\nL 377.419318 203.857045 \r\nL 378.424081 206.864451 \r\nL 379.387513 209.871858 \r\nL 380.344819 212.879264 \r\nL 381.343665 215.886671 \r\nL 382.434415 218.894077 \r\nL 383.661326 221.901484 \r\nL 385.056399 224.90889 \r\nL 386.636192 227.916297 \r\nL 388.400986 230.923703 \r\nL 390.335465 233.93111 \r\nL 392.410488 236.938516 \r\nL 394.58579 239.945923 \r\nL 396.813297 242.953329 \r\nL 399.040374 245.960736 \r\nL 401.212411 248.968142 \r\nL 403.275077 251.975549 \r\nL 405.177265 254.982955 \r\nL 406.875296 257.990361 \r\nL 408.337001 260.997768 \r\nL 409.542549 264.005174 \r\nL 410.479253 267.012581 \r\nL 411.130549 270.019987 \r\nL 411.462989 273.027394 \r\nL 411.417088 276.0348 \r\nL 410.906918 279.042207 \r\nL 409.830611 282.049613 \r\nL 408.091112 285.05702 \r\nL 405.624157 288.064426 \r\nL 402.428175 291.071833 \r\nL 398.588207 294.079239 \r\nL 394.284497 297.086646 \r\nL 389.778509 300.094052 \r\nL 385.375653 303.101458 \r\nL 381.373059 306.108865 \r\nL 378.00755 309.116271 \r\nL 375.419472 312.123678 \r\nL 373.641389 315.131084 \r\nL 372.610196 318.138491 \r\nL 372.192679 321.145897 \r\nL 372.212537 324.153304 \r\nL 372.471657 327.16071 \r\nL 372.766333 330.168117 \r\nL 372.904291 333.175523 \r\nL 372.727224 336.18293 \r\nL 372.13703 339.190336 \r\nL 371.116832 342.197743 \r\nL 369.735796 345.205149 \r\nL 368.131803 348.212556 \r\nL 366.475633 351.219962 \r\nL 364.928721 354.227368 \r\nL 363.608953 357.234775 \r\nL 362.574384 360.242181 \r\nL 361.826384 363.249588 \r\nL 361.326312 366.256994 \r\nL 361.016623 369.264401 \r\nL 360.838742 372.271807 \r\nL 360.743889 375.279214 \r\nL 360.696903 378.28662 \r\nz\r\n\" style=\"fill:#ff0000;fill-opacity:0.25;\"/>\r\n   </g>\r\n   <g id=\"matplotlib.axis_5\">\r\n    <g id=\"xtick_13\"/>\r\n    <g id=\"xtick_14\"/>\r\n   </g>\r\n   <g id=\"matplotlib.axis_6\">\r\n    <g id=\"ytick_8\">\r\n     <g id=\"line2d_19\">\r\n      <g>\r\n       <use style=\"stroke:#000000;stroke-width:0.8;\" x=\"360.660268\" xlink:href=\"#m8db0f541c4\" y=\"345.67098\"/>\r\n      </g>\r\n     </g>\r\n    </g>\r\n    <g id=\"ytick_9\">\r\n     <g id=\"line2d_20\">\r\n      <g>\r\n       <use style=\"stroke:#000000;stroke-width:0.8;\" x=\"360.660268\" xlink:href=\"#m8db0f541c4\" y=\"287.849055\"/>\r\n      </g>\r\n     </g>\r\n    </g>\r\n    <g id=\"ytick_10\">\r\n     <g id=\"line2d_21\">\r\n      <g>\r\n       <use style=\"stroke:#000000;stroke-width:0.8;\" x=\"360.660268\" xlink:href=\"#m8db0f541c4\" y=\"230.02713\"/>\r\n      </g>\r\n     </g>\r\n    </g>\r\n    <g id=\"ytick_11\">\r\n     <g id=\"line2d_22\">\r\n      <g>\r\n       <use style=\"stroke:#000000;stroke-width:0.8;\" x=\"360.660268\" xlink:href=\"#m8db0f541c4\" y=\"172.205206\"/>\r\n      </g>\r\n     </g>\r\n    </g>\r\n    <g id=\"ytick_12\">\r\n     <g id=\"line2d_23\">\r\n      <g>\r\n       <use style=\"stroke:#000000;stroke-width:0.8;\" x=\"360.660268\" xlink:href=\"#m8db0f541c4\" y=\"114.383281\"/>\r\n      </g>\r\n     </g>\r\n    </g>\r\n   </g>\r\n   <g id=\"line2d_24\">\r\n    <path clip-path=\"url(#p07878cf09a)\" d=\"M 360.696903 378.28662 \r\nL 360.743889 375.279214 \r\nL 360.838742 372.271807 \r\nL 361.016623 369.264401 \r\nL 361.326312 366.256994 \r\nL 361.826384 363.249588 \r\nL 362.574384 360.242181 \r\nL 363.608953 357.234775 \r\nL 364.928721 354.227368 \r\nL 366.475633 351.219962 \r\nL 368.131803 348.212556 \r\nL 369.735796 345.205149 \r\nL 371.116832 342.197743 \r\nL 372.13703 339.190336 \r\nL 372.727224 336.18293 \r\nL 372.904291 333.175523 \r\nL 372.766333 330.168117 \r\nL 372.471657 327.16071 \r\nL 372.212537 324.153304 \r\nL 372.192679 321.145897 \r\nL 372.610196 318.138491 \r\nL 373.641389 315.131084 \r\nL 375.419472 312.123678 \r\nL 378.00755 309.116271 \r\nL 381.373059 306.108865 \r\nL 385.375653 303.101458 \r\nL 389.778509 300.094052 \r\nL 394.284497 297.086646 \r\nL 398.588207 294.079239 \r\nL 402.428175 291.071833 \r\nL 405.624157 288.064426 \r\nL 408.091112 285.05702 \r\nL 409.830611 282.049613 \r\nL 410.906918 279.042207 \r\nL 411.417088 276.0348 \r\nL 411.462989 273.027394 \r\nL 411.130549 270.019987 \r\nL 410.479253 267.012581 \r\nL 409.542549 264.005174 \r\nL 408.337001 260.997768 \r\nL 406.875296 257.990361 \r\nL 405.177265 254.982955 \r\nL 403.275077 251.975549 \r\nL 401.212411 248.968142 \r\nL 399.040374 245.960736 \r\nL 396.813297 242.953329 \r\nL 394.58579 239.945923 \r\nL 392.410488 236.938516 \r\nL 390.335465 233.93111 \r\nL 388.400986 230.923703 \r\nL 386.636192 227.916297 \r\nL 385.056399 224.90889 \r\nL 383.661326 221.901484 \r\nL 382.434415 218.894077 \r\nL 381.343665 215.886671 \r\nL 380.344819 212.879264 \r\nL 379.387513 209.871858 \r\nL 378.424081 206.864451 \r\nL 377.419318 203.857045 \r\nL 376.358437 200.849639 \r\nL 375.250367 197.842232 \r\nL 374.124805 194.834826 \r\nL 373.023577 191.827419 \r\nL 371.988965 188.820013 \r\nL 371.052624 185.812606 \r\nL 370.228216 182.8052 \r\nL 369.509329 179.797793 \r\nL 368.872574 176.790387 \r\nL 368.284557 173.78298 \r\nL 367.710868 170.775574 \r\nL 367.125032 167.768167 \r\nL 366.515272 164.760761 \r\nL 365.88722 161.753354 \r\nL 365.261462 158.745948 \r\nL 364.666328 155.738542 \r\nL 364.12814 152.731135 \r\nL 363.66244 149.723729 \r\nL 363.269633 146.716322 \r\nL 362.936742 143.708916 \r\nL 362.644224 140.701509 \r\nL 362.374482 137.694103 \r\nL 362.118176 134.686696 \r\nL 361.875829 131.67929 \r\nL 361.654787 128.671883 \r\nL 361.46374 125.664477 \r\nL 361.307735 122.65707 \r\nL 361.1858 119.649664 \r\nL 361.091675 116.642257 \r\nL 361.016638 113.634851 \r\nL 360.952738 110.627444 \r\nL 360.894971 107.620038 \r\nL 360.841749 104.612632 \r\nL 360.793945 101.605225 \r\nL 360.753317 98.597819 \r\nL 360.721151 95.590412 \r\nL 360.697588 92.583006 \r\nL 360.681654 89.575599 \r\nL 360.671709 86.568193 \r\nL 360.665977 83.560786 \r\nL 360.662924 80.55338 \r\n\" style=\"fill:none;stroke:#ff0000;stroke-linecap:square;stroke-width:1.5;\"/>\r\n   </g>\r\n   <g id=\"patch_8\">\r\n    <path d=\"M 360.660268 386.6 \r\nL 360.660268 72.24 \r\n\" style=\"fill:none;stroke:#000000;stroke-linecap:square;stroke-linejoin:miter;stroke-width:0.8;\"/>\r\n   </g>\r\n  </g>\r\n </g>\r\n <defs>\r\n  <clipPath id=\"p35f3a60d51\">\r\n   <rect height=\"314.36\" width=\"309.388571\" x=\"40.603125\" y=\"72.24\"/>\r\n  </clipPath>\r\n  <clipPath id=\"pb567347de3\">\r\n   <rect height=\"54.2\" width=\"309.388571\" x=\"40.603125\" y=\"7.2\"/>\r\n  </clipPath>\r\n  <clipPath id=\"p07878cf09a\">\r\n   <rect height=\"314.36\" width=\"53.342857\" x=\"360.660268\" y=\"72.24\"/>\r\n  </clipPath>\r\n </defs>\r\n</svg>\r\n",
      "image/png": "[encoded data removed]"
     },
     "metadata": {
      "needs_background": "light"
     }
    }
   ],
   "source": [
    "sns.jointplot(df.Fare, df.Age, kind='kde', color='red')\n",
    "plt.show()"
   ]
  },
  {
   "source": [
    "#### Joint plot comparing the 'Fare' and 'Age' attributes of the data using Seaborn"
   ],
   "cell_type": "markdown",
   "metadata": {}
  },
  {
   "cell_type": "code",
   "execution_count": 19,
   "metadata": {},
   "outputs": [
    {
     "output_type": "display_data",
     "data": {
      "text/plain": "<Figure size 864x432 with 1 Axes>",
      "image/svg+xml": "<?xml version=\"1.0\" encoding=\"utf-8\" standalone=\"no\"?>\r\n<!DOCTYPE svg PUBLIC \"-//W3C//DTD SVG 1.1//EN\"\r\n  \"http://www.w3.org/Graphics/SVG/1.1/DTD/svg11.dtd\">\r\n<!-- Created with matplotlib (https://matplotlib.org/) -->\r\n<svg height=\"370.91625pt\" version=\"1.1\" viewBox=\"0 0 717.403125 370.91625\" width=\"717.403125pt\" xmlns=\"http://www.w3.org/2000/svg\" xmlns:xlink=\"http://www.w3.org/1999/xlink\">\r\n <metadata>\r\n  <rdf:RDF xmlns:cc=\"http://creativecommons.org/ns#\" xmlns:dc=\"http://purl.org/dc/elements/1.1/\" xmlns:rdf=\"http://www.w3.org/1999/02/22-rdf-syntax-ns#\">\r\n   <cc:Work>\r\n    <dc:type rdf:resource=\"http://purl.org/dc/dcmitype/StillImage\"/>\r\n    <dc:date>2020-09-16T18:15:29.814415</dc:date>\r\n    <dc:format>image/svg+xml</dc:format>\r\n    <dc:creator>\r\n     <cc:Agent>\r\n      <dc:title>Matplotlib v3.3.1, https://matplotlib.org/</dc:title>\r\n     </cc:Agent>\r\n    </dc:creator>\r\n   </cc:Work>\r\n  </rdf:RDF>\r\n </metadata>\r\n <defs>\r\n  <style type=\"text/css\">*{stroke-linecap:butt;stroke-linejoin:round;}</style>\r\n </defs>\r\n <g id=\"figure_1\">\r\n  <g id=\"patch_1\">\r\n   <path d=\"M 0 370.91625 \r\nL 717.403125 370.91625 \r\nL 717.403125 0 \r\nL 0 0 \r\nz\r\n\" style=\"fill:none;\"/>\r\n  </g>\r\n  <g id=\"axes_1\">\r\n   <g id=\"patch_2\">\r\n    <path d=\"M 40.603125 333.36 \r\nL 710.203125 333.36 \r\nL 710.203125 7.2 \r\nL 40.603125 7.2 \r\nz\r\n\" style=\"fill:#ffffff;\"/>\r\n   </g>\r\n   <g id=\"patch_3\">\r\n    <path clip-path=\"url(#p52e09fb8df)\" d=\"M 62.923125 219.499466 \r\nL 241.483125 219.499466 \r\nL 241.483125 137.529122 \r\nL 62.923125 137.529122 \r\nL 62.923125 219.499466 \r\nz\r\n\" style=\"fill:#3274a1;stroke:#3d3d3d;stroke-linejoin:miter;stroke-width:1.5;\"/>\r\n   </g>\r\n   <g id=\"patch_4\">\r\n    <path clip-path=\"url(#p52e09fb8df)\" d=\"M 286.123125 234.403165 \r\nL 464.683125 234.403165 \r\nL 464.683125 185.966143 \r\nL 286.123125 185.966143 \r\nL 286.123125 234.403165 \r\nz\r\n\" style=\"fill:#e1812c;stroke:#3d3d3d;stroke-linejoin:miter;stroke-width:1.5;\"/>\r\n   </g>\r\n   <g id=\"patch_5\">\r\n    <path clip-path=\"url(#p52e09fb8df)\" d=\"M 509.323125 253.032789 \r\nL 687.883125 253.032789 \r\nL 687.883125 200.869842 \r\nL 509.323125 200.869842 \r\nL 509.323125 253.032789 \r\nz\r\n\" style=\"fill:#3a923a;stroke:#3d3d3d;stroke-linejoin:miter;stroke-width:1.5;\"/>\r\n   </g>\r\n   <g id=\"matplotlib.axis_1\">\r\n    <g id=\"xtick_1\">\r\n     <g id=\"line2d_1\">\r\n      <defs>\r\n       <path d=\"M 0 0 \r\nL 0 3.5 \r\n\" id=\"m818f3eff10\" style=\"stroke:#000000;stroke-width:0.8;\"/>\r\n      </defs>\r\n      <g>\r\n       <use style=\"stroke:#000000;stroke-width:0.8;\" x=\"152.203125\" xlink:href=\"#m818f3eff10\" y=\"333.36\"/>\r\n      </g>\r\n     </g>\r\n     <g id=\"text_1\">\r\n      <!-- 1 -->\r\n      <g transform=\"translate(149.021875 347.958438)scale(0.1 -0.1)\">\r\n       <defs>\r\n        <path d=\"M 12.40625 8.296875 \r\nL 28.515625 8.296875 \r\nL 28.515625 63.921875 \r\nL 10.984375 60.40625 \r\nL 10.984375 69.390625 \r\nL 28.421875 72.90625 \r\nL 38.28125 72.90625 \r\nL 38.28125 8.296875 \r\nL 54.390625 8.296875 \r\nL 54.390625 0 \r\nL 12.40625 0 \r\nz\r\n\" id=\"DejaVuSans-49\"/>\r\n       </defs>\r\n       <use xlink:href=\"#DejaVuSans-49\"/>\r\n      </g>\r\n     </g>\r\n    </g>\r\n    <g id=\"xtick_2\">\r\n     <g id=\"line2d_2\">\r\n      <g>\r\n       <use style=\"stroke:#000000;stroke-width:0.8;\" x=\"375.403125\" xlink:href=\"#m818f3eff10\" y=\"333.36\"/>\r\n      </g>\r\n     </g>\r\n     <g id=\"text_2\">\r\n      <!-- 2 -->\r\n      <g transform=\"translate(372.221875 347.958438)scale(0.1 -0.1)\">\r\n       <defs>\r\n        <path d=\"M 19.1875 8.296875 \r\nL 53.609375 8.296875 \r\nL 53.609375 0 \r\nL 7.328125 0 \r\nL 7.328125 8.296875 \r\nQ 12.9375 14.109375 22.625 23.890625 \r\nQ 32.328125 33.6875 34.8125 36.53125 \r\nQ 39.546875 41.84375 41.421875 45.53125 \r\nQ 43.3125 49.21875 43.3125 52.78125 \r\nQ 43.3125 58.59375 39.234375 62.25 \r\nQ 35.15625 65.921875 28.609375 65.921875 \r\nQ 23.96875 65.921875 18.8125 64.3125 \r\nQ 13.671875 62.703125 7.8125 59.421875 \r\nL 7.8125 69.390625 \r\nQ 13.765625 71.78125 18.9375 73 \r\nQ 24.125 74.21875 28.421875 74.21875 \r\nQ 39.75 74.21875 46.484375 68.546875 \r\nQ 53.21875 62.890625 53.21875 53.421875 \r\nQ 53.21875 48.921875 51.53125 44.890625 \r\nQ 49.859375 40.875 45.40625 35.40625 \r\nQ 44.1875 33.984375 37.640625 27.21875 \r\nQ 31.109375 20.453125 19.1875 8.296875 \r\nz\r\n\" id=\"DejaVuSans-50\"/>\r\n       </defs>\r\n       <use xlink:href=\"#DejaVuSans-50\"/>\r\n      </g>\r\n     </g>\r\n    </g>\r\n    <g id=\"xtick_3\">\r\n     <g id=\"line2d_3\">\r\n      <g>\r\n       <use style=\"stroke:#000000;stroke-width:0.8;\" x=\"598.603125\" xlink:href=\"#m818f3eff10\" y=\"333.36\"/>\r\n      </g>\r\n     </g>\r\n     <g id=\"text_3\">\r\n      <!-- 3 -->\r\n      <g transform=\"translate(595.421875 347.958438)scale(0.1 -0.1)\">\r\n       <defs>\r\n        <path d=\"M 40.578125 39.3125 \r\nQ 47.65625 37.796875 51.625 33 \r\nQ 55.609375 28.21875 55.609375 21.1875 \r\nQ 55.609375 10.40625 48.1875 4.484375 \r\nQ 40.765625 -1.421875 27.09375 -1.421875 \r\nQ 22.515625 -1.421875 17.65625 -0.515625 \r\nQ 12.796875 0.390625 7.625 2.203125 \r\nL 7.625 11.71875 \r\nQ 11.71875 9.328125 16.59375 8.109375 \r\nQ 21.484375 6.890625 26.8125 6.890625 \r\nQ 36.078125 6.890625 40.9375 10.546875 \r\nQ 45.796875 14.203125 45.796875 21.1875 \r\nQ 45.796875 27.640625 41.28125 31.265625 \r\nQ 36.765625 34.90625 28.71875 34.90625 \r\nL 20.21875 34.90625 \r\nL 20.21875 43.015625 \r\nL 29.109375 43.015625 \r\nQ 36.375 43.015625 40.234375 45.921875 \r\nQ 44.09375 48.828125 44.09375 54.296875 \r\nQ 44.09375 59.90625 40.109375 62.90625 \r\nQ 36.140625 65.921875 28.71875 65.921875 \r\nQ 24.65625 65.921875 20.015625 65.03125 \r\nQ 15.375 64.15625 9.8125 62.3125 \r\nL 9.8125 71.09375 \r\nQ 15.4375 72.65625 20.34375 73.4375 \r\nQ 25.25 74.21875 29.59375 74.21875 \r\nQ 40.828125 74.21875 47.359375 69.109375 \r\nQ 53.90625 64.015625 53.90625 55.328125 \r\nQ 53.90625 49.265625 50.4375 45.09375 \r\nQ 46.96875 40.921875 40.578125 39.3125 \r\nz\r\n\" id=\"DejaVuSans-51\"/>\r\n       </defs>\r\n       <use xlink:href=\"#DejaVuSans-51\"/>\r\n      </g>\r\n     </g>\r\n    </g>\r\n    <g id=\"text_4\">\r\n     <!-- Pclass -->\r\n     <g transform=\"translate(359.976562 361.636562)scale(0.1 -0.1)\">\r\n      <defs>\r\n       <path d=\"M 19.671875 64.796875 \r\nL 19.671875 37.40625 \r\nL 32.078125 37.40625 \r\nQ 38.96875 37.40625 42.71875 40.96875 \r\nQ 46.484375 44.53125 46.484375 51.125 \r\nQ 46.484375 57.671875 42.71875 61.234375 \r\nQ 38.96875 64.796875 32.078125 64.796875 \r\nz\r\nM 9.8125 72.90625 \r\nL 32.078125 72.90625 \r\nQ 44.34375 72.90625 50.609375 67.359375 \r\nQ 56.890625 61.8125 56.890625 51.125 \r\nQ 56.890625 40.328125 50.609375 34.8125 \r\nQ 44.34375 29.296875 32.078125 29.296875 \r\nL 19.671875 29.296875 \r\nL 19.671875 0 \r\nL 9.8125 0 \r\nz\r\n\" id=\"DejaVuSans-80\"/>\r\n       <path d=\"M 48.78125 52.59375 \r\nL 48.78125 44.1875 \r\nQ 44.96875 46.296875 41.140625 47.34375 \r\nQ 37.3125 48.390625 33.40625 48.390625 \r\nQ 24.65625 48.390625 19.8125 42.84375 \r\nQ 14.984375 37.3125 14.984375 27.296875 \r\nQ 14.984375 17.28125 19.8125 11.734375 \r\nQ 24.65625 6.203125 33.40625 6.203125 \r\nQ 37.3125 6.203125 41.140625 7.25 \r\nQ 44.96875 8.296875 48.78125 10.40625 \r\nL 48.78125 2.09375 \r\nQ 45.015625 0.34375 40.984375 -0.53125 \r\nQ 36.96875 -1.421875 32.421875 -1.421875 \r\nQ 20.0625 -1.421875 12.78125 6.34375 \r\nQ 5.515625 14.109375 5.515625 27.296875 \r\nQ 5.515625 40.671875 12.859375 48.328125 \r\nQ 20.21875 56 33.015625 56 \r\nQ 37.15625 56 41.109375 55.140625 \r\nQ 45.0625 54.296875 48.78125 52.59375 \r\nz\r\n\" id=\"DejaVuSans-99\"/>\r\n       <path d=\"M 9.421875 75.984375 \r\nL 18.40625 75.984375 \r\nL 18.40625 0 \r\nL 9.421875 0 \r\nz\r\n\" id=\"DejaVuSans-108\"/>\r\n       <path d=\"M 34.28125 27.484375 \r\nQ 23.390625 27.484375 19.1875 25 \r\nQ 14.984375 22.515625 14.984375 16.5 \r\nQ 14.984375 11.71875 18.140625 8.90625 \r\nQ 21.296875 6.109375 26.703125 6.109375 \r\nQ 34.1875 6.109375 38.703125 11.40625 \r\nQ 43.21875 16.703125 43.21875 25.484375 \r\nL 43.21875 27.484375 \r\nz\r\nM 52.203125 31.203125 \r\nL 52.203125 0 \r\nL 43.21875 0 \r\nL 43.21875 8.296875 \r\nQ 40.140625 3.328125 35.546875 0.953125 \r\nQ 30.953125 -1.421875 24.3125 -1.421875 \r\nQ 15.921875 -1.421875 10.953125 3.296875 \r\nQ 6 8.015625 6 15.921875 \r\nQ 6 25.140625 12.171875 29.828125 \r\nQ 18.359375 34.515625 30.609375 34.515625 \r\nL 43.21875 34.515625 \r\nL 43.21875 35.40625 \r\nQ 43.21875 41.609375 39.140625 45 \r\nQ 35.0625 48.390625 27.6875 48.390625 \r\nQ 23 48.390625 18.546875 47.265625 \r\nQ 14.109375 46.140625 10.015625 43.890625 \r\nL 10.015625 52.203125 \r\nQ 14.9375 54.109375 19.578125 55.046875 \r\nQ 24.21875 56 28.609375 56 \r\nQ 40.484375 56 46.34375 49.84375 \r\nQ 52.203125 43.703125 52.203125 31.203125 \r\nz\r\n\" id=\"DejaVuSans-97\"/>\r\n       <path d=\"M 44.28125 53.078125 \r\nL 44.28125 44.578125 \r\nQ 40.484375 46.53125 36.375 47.5 \r\nQ 32.28125 48.484375 27.875 48.484375 \r\nQ 21.1875 48.484375 17.84375 46.4375 \r\nQ 14.5 44.390625 14.5 40.28125 \r\nQ 14.5 37.15625 16.890625 35.375 \r\nQ 19.28125 33.59375 26.515625 31.984375 \r\nL 29.59375 31.296875 \r\nQ 39.15625 29.25 43.1875 25.515625 \r\nQ 47.21875 21.78125 47.21875 15.09375 \r\nQ 47.21875 7.46875 41.1875 3.015625 \r\nQ 35.15625 -1.421875 24.609375 -1.421875 \r\nQ 20.21875 -1.421875 15.453125 -0.5625 \r\nQ 10.6875 0.296875 5.421875 2 \r\nL 5.421875 11.28125 \r\nQ 10.40625 8.6875 15.234375 7.390625 \r\nQ 20.0625 6.109375 24.8125 6.109375 \r\nQ 31.15625 6.109375 34.5625 8.28125 \r\nQ 37.984375 10.453125 37.984375 14.40625 \r\nQ 37.984375 18.0625 35.515625 20.015625 \r\nQ 33.0625 21.96875 24.703125 23.78125 \r\nL 21.578125 24.515625 \r\nQ 13.234375 26.265625 9.515625 29.90625 \r\nQ 5.8125 33.546875 5.8125 39.890625 \r\nQ 5.8125 47.609375 11.28125 51.796875 \r\nQ 16.75 56 26.8125 56 \r\nQ 31.78125 56 36.171875 55.265625 \r\nQ 40.578125 54.546875 44.28125 53.078125 \r\nz\r\n\" id=\"DejaVuSans-115\"/>\r\n      </defs>\r\n      <use xlink:href=\"#DejaVuSans-80\"/>\r\n      <use x=\"60.302734\" xlink:href=\"#DejaVuSans-99\"/>\r\n      <use x=\"115.283203\" xlink:href=\"#DejaVuSans-108\"/>\r\n      <use x=\"143.066406\" xlink:href=\"#DejaVuSans-97\"/>\r\n      <use x=\"204.345703\" xlink:href=\"#DejaVuSans-115\"/>\r\n      <use x=\"256.445312\" xlink:href=\"#DejaVuSans-115\"/>\r\n     </g>\r\n    </g>\r\n   </g>\r\n   <g id=\"matplotlib.axis_2\">\r\n    <g id=\"ytick_1\">\r\n     <g id=\"line2d_4\">\r\n      <defs>\r\n       <path d=\"M 0 0 \r\nL -3.5 0 \r\n\" id=\"m3ed574e21b\" style=\"stroke:#000000;stroke-width:0.8;\"/>\r\n      </defs>\r\n      <g>\r\n       <use style=\"stroke:#000000;stroke-width:0.8;\" x=\"40.603125\" xlink:href=\"#m3ed574e21b\" y=\"320.099434\"/>\r\n      </g>\r\n     </g>\r\n     <g id=\"text_5\">\r\n      <!-- 0 -->\r\n      <g transform=\"translate(27.240625 323.898653)scale(0.1 -0.1)\">\r\n       <defs>\r\n        <path d=\"M 31.78125 66.40625 \r\nQ 24.171875 66.40625 20.328125 58.90625 \r\nQ 16.5 51.421875 16.5 36.375 \r\nQ 16.5 21.390625 20.328125 13.890625 \r\nQ 24.171875 6.390625 31.78125 6.390625 \r\nQ 39.453125 6.390625 43.28125 13.890625 \r\nQ 47.125 21.390625 47.125 36.375 \r\nQ 47.125 51.421875 43.28125 58.90625 \r\nQ 39.453125 66.40625 31.78125 66.40625 \r\nz\r\nM 31.78125 74.21875 \r\nQ 44.046875 74.21875 50.515625 64.515625 \r\nQ 56.984375 54.828125 56.984375 36.375 \r\nQ 56.984375 17.96875 50.515625 8.265625 \r\nQ 44.046875 -1.421875 31.78125 -1.421875 \r\nQ 19.53125 -1.421875 13.0625 8.265625 \r\nQ 6.59375 17.96875 6.59375 36.375 \r\nQ 6.59375 54.828125 13.0625 64.515625 \r\nQ 19.53125 74.21875 31.78125 74.21875 \r\nz\r\n\" id=\"DejaVuSans-48\"/>\r\n       </defs>\r\n       <use xlink:href=\"#DejaVuSans-48\"/>\r\n      </g>\r\n     </g>\r\n    </g>\r\n    <g id=\"ytick_2\">\r\n     <g id=\"line2d_5\">\r\n      <g>\r\n       <use style=\"stroke:#000000;stroke-width:0.8;\" x=\"40.603125\" xlink:href=\"#m3ed574e21b\" y=\"282.840186\"/>\r\n      </g>\r\n     </g>\r\n     <g id=\"text_6\">\r\n      <!-- 10 -->\r\n      <g transform=\"translate(20.878125 286.639405)scale(0.1 -0.1)\">\r\n       <use xlink:href=\"#DejaVuSans-49\"/>\r\n       <use x=\"63.623047\" xlink:href=\"#DejaVuSans-48\"/>\r\n      </g>\r\n     </g>\r\n    </g>\r\n    <g id=\"ytick_3\">\r\n     <g id=\"line2d_6\">\r\n      <g>\r\n       <use style=\"stroke:#000000;stroke-width:0.8;\" x=\"40.603125\" xlink:href=\"#m3ed574e21b\" y=\"245.580939\"/>\r\n      </g>\r\n     </g>\r\n     <g id=\"text_7\">\r\n      <!-- 20 -->\r\n      <g transform=\"translate(20.878125 249.380158)scale(0.1 -0.1)\">\r\n       <use xlink:href=\"#DejaVuSans-50\"/>\r\n       <use x=\"63.623047\" xlink:href=\"#DejaVuSans-48\"/>\r\n      </g>\r\n     </g>\r\n    </g>\r\n    <g id=\"ytick_4\">\r\n     <g id=\"line2d_7\">\r\n      <g>\r\n       <use style=\"stroke:#000000;stroke-width:0.8;\" x=\"40.603125\" xlink:href=\"#m3ed574e21b\" y=\"208.321692\"/>\r\n      </g>\r\n     </g>\r\n     <g id=\"text_8\">\r\n      <!-- 30 -->\r\n      <g transform=\"translate(20.878125 212.12091)scale(0.1 -0.1)\">\r\n       <use xlink:href=\"#DejaVuSans-51\"/>\r\n       <use x=\"63.623047\" xlink:href=\"#DejaVuSans-48\"/>\r\n      </g>\r\n     </g>\r\n    </g>\r\n    <g id=\"ytick_5\">\r\n     <g id=\"line2d_8\">\r\n      <g>\r\n       <use style=\"stroke:#000000;stroke-width:0.8;\" x=\"40.603125\" xlink:href=\"#m3ed574e21b\" y=\"171.062444\"/>\r\n      </g>\r\n     </g>\r\n     <g id=\"text_9\">\r\n      <!-- 40 -->\r\n      <g transform=\"translate(20.878125 174.861663)scale(0.1 -0.1)\">\r\n       <defs>\r\n        <path d=\"M 37.796875 64.3125 \r\nL 12.890625 25.390625 \r\nL 37.796875 25.390625 \r\nz\r\nM 35.203125 72.90625 \r\nL 47.609375 72.90625 \r\nL 47.609375 25.390625 \r\nL 58.015625 25.390625 \r\nL 58.015625 17.1875 \r\nL 47.609375 17.1875 \r\nL 47.609375 0 \r\nL 37.796875 0 \r\nL 37.796875 17.1875 \r\nL 4.890625 17.1875 \r\nL 4.890625 26.703125 \r\nz\r\n\" id=\"DejaVuSans-52\"/>\r\n       </defs>\r\n       <use xlink:href=\"#DejaVuSans-52\"/>\r\n       <use x=\"63.623047\" xlink:href=\"#DejaVuSans-48\"/>\r\n      </g>\r\n     </g>\r\n    </g>\r\n    <g id=\"ytick_6\">\r\n     <g id=\"line2d_9\">\r\n      <g>\r\n       <use style=\"stroke:#000000;stroke-width:0.8;\" x=\"40.603125\" xlink:href=\"#m3ed574e21b\" y=\"133.803197\"/>\r\n      </g>\r\n     </g>\r\n     <g id=\"text_10\">\r\n      <!-- 50 -->\r\n      <g transform=\"translate(20.878125 137.602416)scale(0.1 -0.1)\">\r\n       <defs>\r\n        <path d=\"M 10.796875 72.90625 \r\nL 49.515625 72.90625 \r\nL 49.515625 64.59375 \r\nL 19.828125 64.59375 \r\nL 19.828125 46.734375 \r\nQ 21.96875 47.46875 24.109375 47.828125 \r\nQ 26.265625 48.1875 28.421875 48.1875 \r\nQ 40.625 48.1875 47.75 41.5 \r\nQ 54.890625 34.8125 54.890625 23.390625 \r\nQ 54.890625 11.625 47.5625 5.09375 \r\nQ 40.234375 -1.421875 26.90625 -1.421875 \r\nQ 22.3125 -1.421875 17.546875 -0.640625 \r\nQ 12.796875 0.140625 7.71875 1.703125 \r\nL 7.71875 11.625 \r\nQ 12.109375 9.234375 16.796875 8.0625 \r\nQ 21.484375 6.890625 26.703125 6.890625 \r\nQ 35.15625 6.890625 40.078125 11.328125 \r\nQ 45.015625 15.765625 45.015625 23.390625 \r\nQ 45.015625 31 40.078125 35.4375 \r\nQ 35.15625 39.890625 26.703125 39.890625 \r\nQ 22.75 39.890625 18.8125 39.015625 \r\nQ 14.890625 38.140625 10.796875 36.28125 \r\nz\r\n\" id=\"DejaVuSans-53\"/>\r\n       </defs>\r\n       <use xlink:href=\"#DejaVuSans-53\"/>\r\n       <use x=\"63.623047\" xlink:href=\"#DejaVuSans-48\"/>\r\n      </g>\r\n     </g>\r\n    </g>\r\n    <g id=\"ytick_7\">\r\n     <g id=\"line2d_10\">\r\n      <g>\r\n       <use style=\"stroke:#000000;stroke-width:0.8;\" x=\"40.603125\" xlink:href=\"#m3ed574e21b\" y=\"96.543949\"/>\r\n      </g>\r\n     </g>\r\n     <g id=\"text_11\">\r\n      <!-- 60 -->\r\n      <g transform=\"translate(20.878125 100.343168)scale(0.1 -0.1)\">\r\n       <defs>\r\n        <path d=\"M 33.015625 40.375 \r\nQ 26.375 40.375 22.484375 35.828125 \r\nQ 18.609375 31.296875 18.609375 23.390625 \r\nQ 18.609375 15.53125 22.484375 10.953125 \r\nQ 26.375 6.390625 33.015625 6.390625 \r\nQ 39.65625 6.390625 43.53125 10.953125 \r\nQ 47.40625 15.53125 47.40625 23.390625 \r\nQ 47.40625 31.296875 43.53125 35.828125 \r\nQ 39.65625 40.375 33.015625 40.375 \r\nz\r\nM 52.59375 71.296875 \r\nL 52.59375 62.3125 \r\nQ 48.875 64.0625 45.09375 64.984375 \r\nQ 41.3125 65.921875 37.59375 65.921875 \r\nQ 27.828125 65.921875 22.671875 59.328125 \r\nQ 17.53125 52.734375 16.796875 39.40625 \r\nQ 19.671875 43.65625 24.015625 45.921875 \r\nQ 28.375 48.1875 33.59375 48.1875 \r\nQ 44.578125 48.1875 50.953125 41.515625 \r\nQ 57.328125 34.859375 57.328125 23.390625 \r\nQ 57.328125 12.15625 50.6875 5.359375 \r\nQ 44.046875 -1.421875 33.015625 -1.421875 \r\nQ 20.359375 -1.421875 13.671875 8.265625 \r\nQ 6.984375 17.96875 6.984375 36.375 \r\nQ 6.984375 53.65625 15.1875 63.9375 \r\nQ 23.390625 74.21875 37.203125 74.21875 \r\nQ 40.921875 74.21875 44.703125 73.484375 \r\nQ 48.484375 72.75 52.59375 71.296875 \r\nz\r\n\" id=\"DejaVuSans-54\"/>\r\n       </defs>\r\n       <use xlink:href=\"#DejaVuSans-54\"/>\r\n       <use x=\"63.623047\" xlink:href=\"#DejaVuSans-48\"/>\r\n      </g>\r\n     </g>\r\n    </g>\r\n    <g id=\"ytick_8\">\r\n     <g id=\"line2d_11\">\r\n      <g>\r\n       <use style=\"stroke:#000000;stroke-width:0.8;\" x=\"40.603125\" xlink:href=\"#m3ed574e21b\" y=\"59.284702\"/>\r\n      </g>\r\n     </g>\r\n     <g id=\"text_12\">\r\n      <!-- 70 -->\r\n      <g transform=\"translate(20.878125 63.083921)scale(0.1 -0.1)\">\r\n       <defs>\r\n        <path d=\"M 8.203125 72.90625 \r\nL 55.078125 72.90625 \r\nL 55.078125 68.703125 \r\nL 28.609375 0 \r\nL 18.3125 0 \r\nL 43.21875 64.59375 \r\nL 8.203125 64.59375 \r\nz\r\n\" id=\"DejaVuSans-55\"/>\r\n       </defs>\r\n       <use xlink:href=\"#DejaVuSans-55\"/>\r\n       <use x=\"63.623047\" xlink:href=\"#DejaVuSans-48\"/>\r\n      </g>\r\n     </g>\r\n    </g>\r\n    <g id=\"ytick_9\">\r\n     <g id=\"line2d_12\">\r\n      <g>\r\n       <use style=\"stroke:#000000;stroke-width:0.8;\" x=\"40.603125\" xlink:href=\"#m3ed574e21b\" y=\"22.025455\"/>\r\n      </g>\r\n     </g>\r\n     <g id=\"text_13\">\r\n      <!-- 80 -->\r\n      <g transform=\"translate(20.878125 25.824673)scale(0.1 -0.1)\">\r\n       <defs>\r\n        <path d=\"M 31.78125 34.625 \r\nQ 24.75 34.625 20.71875 30.859375 \r\nQ 16.703125 27.09375 16.703125 20.515625 \r\nQ 16.703125 13.921875 20.71875 10.15625 \r\nQ 24.75 6.390625 31.78125 6.390625 \r\nQ 38.8125 6.390625 42.859375 10.171875 \r\nQ 46.921875 13.96875 46.921875 20.515625 \r\nQ 46.921875 27.09375 42.890625 30.859375 \r\nQ 38.875 34.625 31.78125 34.625 \r\nz\r\nM 21.921875 38.8125 \r\nQ 15.578125 40.375 12.03125 44.71875 \r\nQ 8.5 49.078125 8.5 55.328125 \r\nQ 8.5 64.0625 14.71875 69.140625 \r\nQ 20.953125 74.21875 31.78125 74.21875 \r\nQ 42.671875 74.21875 48.875 69.140625 \r\nQ 55.078125 64.0625 55.078125 55.328125 \r\nQ 55.078125 49.078125 51.53125 44.71875 \r\nQ 48 40.375 41.703125 38.8125 \r\nQ 48.828125 37.15625 52.796875 32.3125 \r\nQ 56.78125 27.484375 56.78125 20.515625 \r\nQ 56.78125 9.90625 50.3125 4.234375 \r\nQ 43.84375 -1.421875 31.78125 -1.421875 \r\nQ 19.734375 -1.421875 13.25 4.234375 \r\nQ 6.78125 9.90625 6.78125 20.515625 \r\nQ 6.78125 27.484375 10.78125 32.3125 \r\nQ 14.796875 37.15625 21.921875 38.8125 \r\nz\r\nM 18.3125 54.390625 \r\nQ 18.3125 48.734375 21.84375 45.5625 \r\nQ 25.390625 42.390625 31.78125 42.390625 \r\nQ 38.140625 42.390625 41.71875 45.5625 \r\nQ 45.3125 48.734375 45.3125 54.390625 \r\nQ 45.3125 60.0625 41.71875 63.234375 \r\nQ 38.140625 66.40625 31.78125 66.40625 \r\nQ 25.390625 66.40625 21.84375 63.234375 \r\nQ 18.3125 60.0625 18.3125 54.390625 \r\nz\r\n\" id=\"DejaVuSans-56\"/>\r\n       </defs>\r\n       <use xlink:href=\"#DejaVuSans-56\"/>\r\n       <use x=\"63.623047\" xlink:href=\"#DejaVuSans-48\"/>\r\n      </g>\r\n     </g>\r\n    </g>\r\n    <g id=\"text_14\">\r\n     <!-- Age -->\r\n     <g transform=\"translate(14.798437 179.951094)rotate(-90)scale(0.1 -0.1)\">\r\n      <defs>\r\n       <path d=\"M 34.1875 63.1875 \r\nL 20.796875 26.90625 \r\nL 47.609375 26.90625 \r\nz\r\nM 28.609375 72.90625 \r\nL 39.796875 72.90625 \r\nL 67.578125 0 \r\nL 57.328125 0 \r\nL 50.6875 18.703125 \r\nL 17.828125 18.703125 \r\nL 11.1875 0 \r\nL 0.78125 0 \r\nz\r\n\" id=\"DejaVuSans-65\"/>\r\n       <path d=\"M 45.40625 27.984375 \r\nQ 45.40625 37.75 41.375 43.109375 \r\nQ 37.359375 48.484375 30.078125 48.484375 \r\nQ 22.859375 48.484375 18.828125 43.109375 \r\nQ 14.796875 37.75 14.796875 27.984375 \r\nQ 14.796875 18.265625 18.828125 12.890625 \r\nQ 22.859375 7.515625 30.078125 7.515625 \r\nQ 37.359375 7.515625 41.375 12.890625 \r\nQ 45.40625 18.265625 45.40625 27.984375 \r\nz\r\nM 54.390625 6.78125 \r\nQ 54.390625 -7.171875 48.1875 -13.984375 \r\nQ 42 -20.796875 29.203125 -20.796875 \r\nQ 24.46875 -20.796875 20.265625 -20.09375 \r\nQ 16.0625 -19.390625 12.109375 -17.921875 \r\nL 12.109375 -9.1875 \r\nQ 16.0625 -11.328125 19.921875 -12.34375 \r\nQ 23.78125 -13.375 27.78125 -13.375 \r\nQ 36.625 -13.375 41.015625 -8.765625 \r\nQ 45.40625 -4.15625 45.40625 5.171875 \r\nL 45.40625 9.625 \r\nQ 42.625 4.78125 38.28125 2.390625 \r\nQ 33.9375 0 27.875 0 \r\nQ 17.828125 0 11.671875 7.65625 \r\nQ 5.515625 15.328125 5.515625 27.984375 \r\nQ 5.515625 40.671875 11.671875 48.328125 \r\nQ 17.828125 56 27.875 56 \r\nQ 33.9375 56 38.28125 53.609375 \r\nQ 42.625 51.21875 45.40625 46.390625 \r\nL 45.40625 54.6875 \r\nL 54.390625 54.6875 \r\nz\r\n\" id=\"DejaVuSans-103\"/>\r\n       <path d=\"M 56.203125 29.59375 \r\nL 56.203125 25.203125 \r\nL 14.890625 25.203125 \r\nQ 15.484375 15.921875 20.484375 11.0625 \r\nQ 25.484375 6.203125 34.421875 6.203125 \r\nQ 39.59375 6.203125 44.453125 7.46875 \r\nQ 49.3125 8.734375 54.109375 11.28125 \r\nL 54.109375 2.78125 \r\nQ 49.265625 0.734375 44.1875 -0.34375 \r\nQ 39.109375 -1.421875 33.890625 -1.421875 \r\nQ 20.796875 -1.421875 13.15625 6.1875 \r\nQ 5.515625 13.8125 5.515625 26.8125 \r\nQ 5.515625 40.234375 12.765625 48.109375 \r\nQ 20.015625 56 32.328125 56 \r\nQ 43.359375 56 49.78125 48.890625 \r\nQ 56.203125 41.796875 56.203125 29.59375 \r\nz\r\nM 47.21875 32.234375 \r\nQ 47.125 39.59375 43.09375 43.984375 \r\nQ 39.0625 48.390625 32.421875 48.390625 \r\nQ 24.90625 48.390625 20.390625 44.140625 \r\nQ 15.875 39.890625 15.1875 32.171875 \r\nz\r\n\" id=\"DejaVuSans-101\"/>\r\n      </defs>\r\n      <use xlink:href=\"#DejaVuSans-65\"/>\r\n      <use x=\"68.408203\" xlink:href=\"#DejaVuSans-103\"/>\r\n      <use x=\"131.884766\" xlink:href=\"#DejaVuSans-101\"/>\r\n     </g>\r\n    </g>\r\n   </g>\r\n   <g id=\"line2d_13\">\r\n    <path clip-path=\"url(#p52e09fb8df)\" d=\"M 152.203125 219.499466 \r\nL 152.203125 316.671583 \r\n\" style=\"fill:none;stroke:#3d3d3d;stroke-linecap:square;stroke-width:1.5;\"/>\r\n   </g>\r\n   <g id=\"line2d_14\">\r\n    <path clip-path=\"url(#p52e09fb8df)\" d=\"M 152.203125 137.529122 \r\nL 152.203125 22.025455 \r\n\" style=\"fill:none;stroke:#3d3d3d;stroke-linecap:square;stroke-width:1.5;\"/>\r\n   </g>\r\n   <g id=\"line2d_15\">\r\n    <path clip-path=\"url(#p52e09fb8df)\" d=\"M 107.563125 316.671583 \r\nL 196.843125 316.671583 \r\n\" style=\"fill:none;stroke:#3d3d3d;stroke-linecap:square;stroke-width:1.5;\"/>\r\n   </g>\r\n   <g id=\"line2d_16\">\r\n    <path clip-path=\"url(#p52e09fb8df)\" d=\"M 107.563125 22.025455 \r\nL 196.843125 22.025455 \r\n\" style=\"fill:none;stroke:#3d3d3d;stroke-linecap:square;stroke-width:1.5;\"/>\r\n   </g>\r\n   <g id=\"line2d_17\"/>\r\n   <g id=\"line2d_18\">\r\n    <path clip-path=\"url(#p52e09fb8df)\" d=\"M 375.403125 234.403165 \r\nL 375.403125 305.195735 \r\n\" style=\"fill:none;stroke:#3d3d3d;stroke-linecap:square;stroke-width:1.5;\"/>\r\n   </g>\r\n   <g id=\"line2d_19\">\r\n    <path clip-path=\"url(#p52e09fb8df)\" d=\"M 375.403125 185.966143 \r\nL 375.403125 115.173573 \r\n\" style=\"fill:none;stroke:#3d3d3d;stroke-linecap:square;stroke-width:1.5;\"/>\r\n   </g>\r\n   <g id=\"line2d_20\">\r\n    <path clip-path=\"url(#p52e09fb8df)\" d=\"M 330.763125 305.195735 \r\nL 420.043125 305.195735 \r\n\" style=\"fill:none;stroke:#3d3d3d;stroke-linecap:square;stroke-width:1.5;\"/>\r\n   </g>\r\n   <g id=\"line2d_21\">\r\n    <path clip-path=\"url(#p52e09fb8df)\" d=\"M 330.763125 115.173573 \r\nL 420.043125 115.173573 \r\n\" style=\"fill:none;stroke:#3d3d3d;stroke-linecap:square;stroke-width:1.5;\"/>\r\n   </g>\r\n   <g id=\"line2d_22\">\r\n    <defs>\r\n     <path d=\"M -0 3.535534 \r\nL 2.12132 0 \r\nL -0 -3.535534 \r\nL -2.12132 -0 \r\nz\r\n\" id=\"m9d62bb38e5\" style=\"stroke:#3d3d3d;stroke-linejoin:miter;\"/>\r\n    </defs>\r\n    <g clip-path=\"url(#p52e09fb8df)\">\r\n     <use style=\"fill:#3d3d3d;stroke:#3d3d3d;stroke-linejoin:miter;\" x=\"375.403125\" xlink:href=\"#m9d62bb38e5\" y=\"308.92166\"/>\r\n     <use style=\"fill:#3d3d3d;stroke:#3d3d3d;stroke-linejoin:miter;\" x=\"375.403125\" xlink:href=\"#m9d62bb38e5\" y=\"317.006916\"/>\r\n     <use style=\"fill:#3d3d3d;stroke:#3d3d3d;stroke-linejoin:miter;\" x=\"375.403125\" xlink:href=\"#m9d62bb38e5\" y=\"316.373509\"/>\r\n     <use style=\"fill:#3d3d3d;stroke:#3d3d3d;stroke-linejoin:miter;\" x=\"375.403125\" xlink:href=\"#m9d62bb38e5\" y=\"308.92166\"/>\r\n     <use style=\"fill:#3d3d3d;stroke:#3d3d3d;stroke-linejoin:miter;\" x=\"375.403125\" xlink:href=\"#m9d62bb38e5\" y=\"312.647584\"/>\r\n     <use style=\"fill:#3d3d3d;stroke:#3d3d3d;stroke-linejoin:miter;\" x=\"375.403125\" xlink:href=\"#m9d62bb38e5\" y=\"308.92166\"/>\r\n     <use style=\"fill:#3d3d3d;stroke:#3d3d3d;stroke-linejoin:miter;\" x=\"375.403125\" xlink:href=\"#m9d62bb38e5\" y=\"312.647584\"/>\r\n     <use style=\"fill:#3d3d3d;stroke:#3d3d3d;stroke-linejoin:miter;\" x=\"375.403125\" xlink:href=\"#m9d62bb38e5\" y=\"317.603064\"/>\r\n     <use style=\"fill:#3d3d3d;stroke:#3d3d3d;stroke-linejoin:miter;\" x=\"375.403125\" xlink:href=\"#m9d62bb38e5\" y=\"316.373509\"/>\r\n     <use style=\"fill:#3d3d3d;stroke:#3d3d3d;stroke-linejoin:miter;\" x=\"375.403125\" xlink:href=\"#m9d62bb38e5\" y=\"317.006916\"/>\r\n     <use style=\"fill:#3d3d3d;stroke:#3d3d3d;stroke-linejoin:miter;\" x=\"375.403125\" xlink:href=\"#m9d62bb38e5\" y=\"74.188401\"/>\r\n     <use style=\"fill:#3d3d3d;stroke:#3d3d3d;stroke-linejoin:miter;\" x=\"375.403125\" xlink:href=\"#m9d62bb38e5\" y=\"100.269874\"/>\r\n     <use style=\"fill:#3d3d3d;stroke:#3d3d3d;stroke-linejoin:miter;\" x=\"375.403125\" xlink:href=\"#m9d62bb38e5\" y=\"89.0921\"/>\r\n     <use style=\"fill:#3d3d3d;stroke:#3d3d3d;stroke-linejoin:miter;\" x=\"375.403125\" xlink:href=\"#m9d62bb38e5\" y=\"107.721724\"/>\r\n     <use style=\"fill:#3d3d3d;stroke:#3d3d3d;stroke-linejoin:miter;\" x=\"375.403125\" xlink:href=\"#m9d62bb38e5\" y=\"59.284702\"/>\r\n     <use style=\"fill:#3d3d3d;stroke:#3d3d3d;stroke-linejoin:miter;\" x=\"375.403125\" xlink:href=\"#m9d62bb38e5\" y=\"96.543949\"/>\r\n     <use style=\"fill:#3d3d3d;stroke:#3d3d3d;stroke-linejoin:miter;\" x=\"375.403125\" xlink:href=\"#m9d62bb38e5\" y=\"107.721724\"/>\r\n    </g>\r\n   </g>\r\n   <g id=\"line2d_23\">\r\n    <path clip-path=\"url(#p52e09fb8df)\" d=\"M 598.603125 253.032789 \r\nL 598.603125 318.534545 \r\n\" style=\"fill:none;stroke:#3d3d3d;stroke-linecap:square;stroke-width:1.5;\"/>\r\n   </g>\r\n   <g id=\"line2d_24\">\r\n    <path clip-path=\"url(#p52e09fb8df)\" d=\"M 598.603125 200.869842 \r\nL 598.603125 130.077272 \r\n\" style=\"fill:none;stroke:#3d3d3d;stroke-linecap:square;stroke-width:1.5;\"/>\r\n   </g>\r\n   <g id=\"line2d_25\">\r\n    <path clip-path=\"url(#p52e09fb8df)\" d=\"M 553.963125 318.534545 \r\nL 643.243125 318.534545 \r\n\" style=\"fill:none;stroke:#3d3d3d;stroke-linecap:square;stroke-width:1.5;\"/>\r\n   </g>\r\n   <g id=\"line2d_26\">\r\n    <path clip-path=\"url(#p52e09fb8df)\" d=\"M 553.963125 130.077272 \r\nL 643.243125 130.077272 \r\n\" style=\"fill:none;stroke:#3d3d3d;stroke-linecap:square;stroke-width:1.5;\"/>\r\n   </g>\r\n   <g id=\"line2d_27\">\r\n    <g clip-path=\"url(#p52e09fb8df)\">\r\n     <use style=\"fill:#3d3d3d;stroke:#3d3d3d;stroke-linejoin:miter;\" x=\"598.603125\" xlink:href=\"#m9d62bb38e5\" y=\"100.269874\"/>\r\n     <use style=\"fill:#3d3d3d;stroke:#3d3d3d;stroke-linejoin:miter;\" x=\"598.603125\" xlink:href=\"#m9d62bb38e5\" y=\"57.42174\"/>\r\n     <use style=\"fill:#3d3d3d;stroke:#3d3d3d;stroke-linejoin:miter;\" x=\"598.603125\" xlink:href=\"#m9d62bb38e5\" y=\"113.310611\"/>\r\n     <use style=\"fill:#3d3d3d;stroke:#3d3d3d;stroke-linejoin:miter;\" x=\"598.603125\" xlink:href=\"#m9d62bb38e5\" y=\"77.914326\"/>\r\n     <use style=\"fill:#3d3d3d;stroke:#3d3d3d;stroke-linejoin:miter;\" x=\"598.603125\" xlink:href=\"#m9d62bb38e5\" y=\"92.818025\"/>\r\n     <use style=\"fill:#3d3d3d;stroke:#3d3d3d;stroke-linejoin:miter;\" x=\"598.603125\" xlink:href=\"#m9d62bb38e5\" y=\"85.366175\"/>\r\n     <use style=\"fill:#3d3d3d;stroke:#3d3d3d;stroke-linejoin:miter;\" x=\"598.603125\" xlink:href=\"#m9d62bb38e5\" y=\"44.381003\"/>\r\n    </g>\r\n   </g>\r\n   <g id=\"line2d_28\">\r\n    <path clip-path=\"url(#p52e09fb8df)\" d=\"M 62.923125 182.240218 \r\nL 241.483125 182.240218 \r\n\" style=\"fill:none;stroke:#3d3d3d;stroke-linecap:square;stroke-width:1.5;\"/>\r\n   </g>\r\n   <g id=\"line2d_29\">\r\n    <path clip-path=\"url(#p52e09fb8df)\" d=\"M 286.123125 212.047616 \r\nL 464.683125 212.047616 \r\n\" style=\"fill:none;stroke:#3d3d3d;stroke-linecap:square;stroke-width:1.5;\"/>\r\n   </g>\r\n   <g id=\"line2d_30\">\r\n    <path clip-path=\"url(#p52e09fb8df)\" d=\"M 509.323125 230.67724 \r\nL 687.883125 230.67724 \r\n\" style=\"fill:none;stroke:#3d3d3d;stroke-linecap:square;stroke-width:1.5;\"/>\r\n   </g>\r\n   <g id=\"patch_6\">\r\n    <path d=\"M 40.603125 333.36 \r\nL 40.603125 7.2 \r\n\" style=\"fill:none;stroke:#000000;stroke-linecap:square;stroke-linejoin:miter;stroke-width:0.8;\"/>\r\n   </g>\r\n   <g id=\"patch_7\">\r\n    <path d=\"M 710.203125 333.36 \r\nL 710.203125 7.2 \r\n\" style=\"fill:none;stroke:#000000;stroke-linecap:square;stroke-linejoin:miter;stroke-width:0.8;\"/>\r\n   </g>\r\n   <g id=\"patch_8\">\r\n    <path d=\"M 40.603125 333.36 \r\nL 710.203125 333.36 \r\n\" style=\"fill:none;stroke:#000000;stroke-linecap:square;stroke-linejoin:miter;stroke-width:0.8;\"/>\r\n   </g>\r\n   <g id=\"patch_9\">\r\n    <path d=\"M 40.603125 7.2 \r\nL 710.203125 7.2 \r\n\" style=\"fill:none;stroke:#000000;stroke-linecap:square;stroke-linejoin:miter;stroke-width:0.8;\"/>\r\n   </g>\r\n  </g>\r\n </g>\r\n <defs>\r\n  <clipPath id=\"p52e09fb8df\">\r\n   <rect height=\"326.16\" width=\"669.6\" x=\"40.603125\" y=\"7.2\"/>\r\n  </clipPath>\r\n </defs>\r\n</svg>\r\n",
      "image/png": "[encoded data removed]"
     },
     "metadata": {
      "needs_background": "light"
     }
    }
   ],
   "source": [
    "plt.figure(figsize=(12,6))\n",
    "sns.boxplot(x=df.Pclass, y=df.Age)\n",
    "plt.show()"
   ]
  },
  {
   "source": [
    "#### Box plot comparing the 'Pclass' attribute (x axis) with the 'Age' attribute (y axis) using Seaborn"
   ],
   "cell_type": "markdown",
   "metadata": {}
  },
  {
   "cell_type": "code",
   "execution_count": 21,
   "metadata": {},
   "outputs": [
    {
     "output_type": "display_data",
     "data": {
      "text/plain": "<Figure size 864x432 with 1 Axes>",
      "image/svg+xml": "<?xml version=\"1.0\" encoding=\"utf-8\" standalone=\"no\"?>\r\n<!DOCTYPE svg PUBLIC \"-//W3C//DTD SVG 1.1//EN\"\r\n  \"http://www.w3.org/Graphics/SVG/1.1/DTD/svg11.dtd\">\r\n<!-- Created with matplotlib (https://matplotlib.org/) -->\r\n<svg height=\"370.91625pt\" version=\"1.1\" viewBox=\"0 0 725.782812 370.91625\" width=\"725.782812pt\" xmlns=\"http://www.w3.org/2000/svg\" xmlns:xlink=\"http://www.w3.org/1999/xlink\">\r\n <metadata>\r\n  <rdf:RDF xmlns:cc=\"http://creativecommons.org/ns#\" xmlns:dc=\"http://purl.org/dc/elements/1.1/\" xmlns:rdf=\"http://www.w3.org/1999/02/22-rdf-syntax-ns#\">\r\n   <cc:Work>\r\n    <dc:type rdf:resource=\"http://purl.org/dc/dcmitype/StillImage\"/>\r\n    <dc:date>2020-09-16T18:16:51.926056</dc:date>\r\n    <dc:format>image/svg+xml</dc:format>\r\n    <dc:creator>\r\n     <cc:Agent>\r\n      <dc:title>Matplotlib v3.3.1, https://matplotlib.org/</dc:title>\r\n     </cc:Agent>\r\n    </dc:creator>\r\n   </cc:Work>\r\n  </rdf:RDF>\r\n </metadata>\r\n <defs>\r\n  <style type=\"text/css\">*{stroke-linecap:butt;stroke-linejoin:round;}</style>\r\n </defs>\r\n <g id=\"figure_1\">\r\n  <g id=\"patch_1\">\r\n   <path d=\"M 0 370.91625 \r\nL 725.782812 370.91625 \r\nL 725.782812 0 \r\nL 0 0 \r\nz\r\n\" style=\"fill:none;\"/>\r\n  </g>\r\n  <g id=\"axes_1\">\r\n   <g id=\"patch_2\">\r\n    <path d=\"M 48.982813 333.36 \r\nL 718.582813 333.36 \r\nL 718.582813 7.2 \r\nL 48.982813 7.2 \r\nz\r\n\" style=\"fill:#ffffff;\"/>\r\n   </g>\r\n   <g id=\"PolyCollection_1\">\r\n    <defs>\r\n     <path d=\"M 161.626597 -75.464598 \r\nL 159.539028 -75.464598 \r\nL 158.82853 -78.226479 \r\nL 157.786088 -80.988359 \r\nL 156.350639 -83.75024 \r\nL 154.498598 -86.512121 \r\nL 152.264857 -89.274002 \r\nL 149.754856 -92.035883 \r\nL 147.140494 -94.797763 \r\nL 144.636847 -97.559644 \r\nL 142.463273 -100.321525 \r\nL 140.798831 -103.083406 \r\nL 139.744697 -105.845286 \r\nL 139.303809 -108.607167 \r\nL 139.381165 -111.369048 \r\nL 139.800419 -114.130929 \r\nL 140.327753 -116.89281 \r\nL 140.694718 -119.65469 \r\nL 140.616974 -122.416571 \r\nL 139.812155 -125.178452 \r\nL 138.023219 -127.940333 \r\nL 135.051382 -130.702214 \r\nL 130.795993 -133.464094 \r\nL 125.291193 -136.225975 \r\nL 118.725278 -138.987856 \r\nL 111.431153 -141.749737 \r\nL 103.844586 -144.511617 \r\nL 96.437904 -147.273498 \r\nL 89.645539 -150.035379 \r\nL 83.80074 -152.79726 \r\nL 79.098811 -155.559141 \r\nL 75.593258 -158.321021 \r\nL 73.221035 -161.082902 \r\nL 71.845503 -163.844783 \r\nL 71.302812 -166.606664 \r\nL 71.439476 -169.368545 \r\nL 72.134125 -172.130425 \r\nL 73.302748 -174.892306 \r\nL 74.891796 -177.654187 \r\nL 76.866029 -180.416068 \r\nL 79.197351 -183.177948 \r\nL 81.857838 -185.939829 \r\nL 84.816488 -188.70171 \r\nL 88.036952 -191.463591 \r\nL 91.473834 -194.225472 \r\nL 95.067673 -196.987352 \r\nL 98.741477 -199.749233 \r\nL 102.40256 -202.511114 \r\nL 105.951646 -205.272995 \r\nL 109.29761 -208.034875 \r\nL 112.37319 -210.796756 \r\nL 115.146179 -213.558637 \r\nL 117.622443 -216.320518 \r\nL 119.840413 -219.082399 \r\nL 121.859712 -221.844279 \r\nL 123.747948 -224.60616 \r\nL 125.569337 -227.368041 \r\nL 127.377175 -230.129922 \r\nL 129.210286 -232.891803 \r\nL 131.092204 -235.653683 \r\nL 133.031341 -238.415564 \r\nL 135.020889 -241.177445 \r\nL 137.038296 -243.939326 \r\nL 139.045373 -246.701206 \r\nL 140.990714 -249.463087 \r\nL 142.815852 -252.224968 \r\nL 144.465211 -254.986849 \r\nL 145.898164 -257.74873 \r\nL 147.099931 -260.51061 \r\nL 148.087583 -263.272491 \r\nL 148.908436 -266.034372 \r\nL 149.630334 -268.796253 \r\nL 150.326092 -271.558134 \r\nL 151.056478 -274.320014 \r\nL 151.856786 -277.081895 \r\nL 152.730866 -279.843776 \r\nL 153.653978 -282.605657 \r\nL 154.582892 -285.367537 \r\nL 155.469455 -288.129418 \r\nL 156.273189 -290.891299 \r\nL 156.969343 -293.65318 \r\nL 157.550952 -296.415061 \r\nL 158.025622 -299.176941 \r\nL 158.409372 -301.938822 \r\nL 158.720269 -304.700703 \r\nL 158.973958 -307.462584 \r\nL 159.181956 -310.224464 \r\nL 159.352331 -312.986345 \r\nL 159.491612 -315.748226 \r\nL 159.606588 -318.510107 \r\nL 159.705047 -321.271988 \r\nL 159.795172 -324.033868 \r\nL 159.884015 -326.795749 \r\nL 159.975884 -329.55763 \r\nL 160.071451 -332.319511 \r\nL 160.168005 -335.081392 \r\nL 160.260729 -337.843272 \r\nL 160.344452 -340.605153 \r\nL 160.415195 -343.367034 \r\nL 160.471051 -346.128915 \r\nL 160.512261 -348.890795 \r\nL 160.653364 -348.890795 \r\nL 160.653364 -348.890795 \r\nL 160.694574 -346.128915 \r\nL 160.75043 -343.367034 \r\nL 160.821173 -340.605153 \r\nL 160.904896 -337.843272 \r\nL 160.99762 -335.081392 \r\nL 161.094174 -332.319511 \r\nL 161.189741 -329.55763 \r\nL 161.28161 -326.795749 \r\nL 161.370453 -324.033868 \r\nL 161.460578 -321.271988 \r\nL 161.559037 -318.510107 \r\nL 161.674013 -315.748226 \r\nL 161.813294 -312.986345 \r\nL 161.983669 -310.224464 \r\nL 162.191667 -307.462584 \r\nL 162.445356 -304.700703 \r\nL 162.756253 -301.938822 \r\nL 163.140003 -299.176941 \r\nL 163.614673 -296.415061 \r\nL 164.196282 -293.65318 \r\nL 164.892436 -290.891299 \r\nL 165.69617 -288.129418 \r\nL 166.582733 -285.367537 \r\nL 167.511647 -282.605657 \r\nL 168.434759 -279.843776 \r\nL 169.308839 -277.081895 \r\nL 170.109147 -274.320014 \r\nL 170.839533 -271.558134 \r\nL 171.535291 -268.796253 \r\nL 172.257189 -266.034372 \r\nL 173.078042 -263.272491 \r\nL 174.065694 -260.51061 \r\nL 175.267461 -257.74873 \r\nL 176.700414 -254.986849 \r\nL 178.349773 -252.224968 \r\nL 180.174911 -249.463087 \r\nL 182.120252 -246.701206 \r\nL 184.127329 -243.939326 \r\nL 186.144736 -241.177445 \r\nL 188.134284 -238.415564 \r\nL 190.073421 -235.653683 \r\nL 191.955339 -232.891803 \r\nL 193.78845 -230.129922 \r\nL 195.596288 -227.368041 \r\nL 197.417677 -224.60616 \r\nL 199.305913 -221.844279 \r\nL 201.325212 -219.082399 \r\nL 203.543182 -216.320518 \r\nL 206.019446 -213.558637 \r\nL 208.792435 -210.796756 \r\nL 211.868015 -208.034875 \r\nL 215.213979 -205.272995 \r\nL 218.763065 -202.511114 \r\nL 222.424148 -199.749233 \r\nL 226.097952 -196.987352 \r\nL 229.691791 -194.225472 \r\nL 233.128673 -191.463591 \r\nL 236.349137 -188.70171 \r\nL 239.307787 -185.939829 \r\nL 241.968274 -183.177948 \r\nL 244.299596 -180.416068 \r\nL 246.273829 -177.654187 \r\nL 247.862877 -174.892306 \r\nL 249.0315 -172.130425 \r\nL 249.726149 -169.368545 \r\nL 249.862812 -166.606664 \r\nL 249.320122 -163.844783 \r\nL 247.94459 -161.082902 \r\nL 245.572367 -158.321021 \r\nL 242.066814 -155.559141 \r\nL 237.364885 -152.79726 \r\nL 231.520086 -150.035379 \r\nL 224.727721 -147.273498 \r\nL 217.321039 -144.511617 \r\nL 209.734472 -141.749737 \r\nL 202.440347 -138.987856 \r\nL 195.874432 -136.225975 \r\nL 190.369632 -133.464094 \r\nL 186.114243 -130.702214 \r\nL 183.142406 -127.940333 \r\nL 181.35347 -125.178452 \r\nL 180.548651 -122.416571 \r\nL 180.470907 -119.65469 \r\nL 180.837872 -116.89281 \r\nL 181.365206 -114.130929 \r\nL 181.78446 -111.369048 \r\nL 181.861816 -108.607167 \r\nL 181.420928 -105.845286 \r\nL 180.366794 -103.083406 \r\nL 178.702352 -100.321525 \r\nL 176.528778 -97.559644 \r\nL 174.025131 -94.797763 \r\nL 171.410769 -92.035883 \r\nL 168.900768 -89.274002 \r\nL 166.667027 -86.512121 \r\nL 164.814986 -83.75024 \r\nL 163.379537 -80.988359 \r\nL 162.337095 -78.226479 \r\nL 161.626597 -75.464598 \r\nz\r\n\" id=\"me78d062ff6\" style=\"stroke:#3d3d3d;stroke-width:1.5;\"/>\r\n    </defs>\r\n    <g clip-path=\"url(#pb5d3c35923)\">\r\n     <use style=\"fill:#3274a1;stroke:#3d3d3d;stroke-width:1.5;\" x=\"0\" xlink:href=\"#me78d062ff6\" y=\"370.91625\"/>\r\n    </g>\r\n   </g>\r\n   <g id=\"PolyCollection_2\">\r\n    <defs>\r\n     <path d=\"M 384.839991 -64.234145 \r\nL 382.725634 -64.234145 \r\nL 382.303173 -66.954892 \r\nL 381.762882 -69.67564 \r\nL 381.092571 -72.396387 \r\nL 380.286209 -75.117135 \r\nL 379.346103 -77.837882 \r\nL 378.284387 -80.558629 \r\nL 377.123336 -83.279377 \r\nL 375.894133 -86.000124 \r\nL 374.63389 -88.720871 \r\nL 373.381095 -91.441619 \r\nL 372.169918 -94.162366 \r\nL 371.024175 -96.883113 \r\nL 369.951916 -99.603861 \r\nL 368.941619 -102.324608 \r\nL 367.960822 -105.045355 \r\nL 366.957658 -107.766103 \r\nL 365.865285 -110.48685 \r\nL 364.608718 -113.207597 \r\nL 363.11314 -115.928345 \r\nL 361.312504 -118.649092 \r\nL 359.157202 -121.369839 \r\nL 356.619737 -124.090587 \r\nL 353.697736 -126.811334 \r\nL 350.414076 -129.532081 \r\nL 346.81443 -132.252829 \r\nL 342.962927 -134.973576 \r\nL 338.936835 -137.694323 \r\nL 334.821228 -140.415071 \r\nL 330.704381 -143.135818 \r\nL 326.674326 -145.856565 \r\nL 322.816568 -148.577313 \r\nL 319.212668 -151.29806 \r\nL 315.939146 -154.018807 \r\nL 313.066183 -156.739555 \r\nL 310.655741 -159.460302 \r\nL 308.759035 -162.181049 \r\nL 307.413616 -164.901797 \r\nL 306.64057 -167.622544 \r\nL 306.442457 -170.343291 \r\nL 306.802553 -173.064039 \r\nL 307.68572 -175.784786 \r\nL 309.040935 -178.505534 \r\nL 310.805163 -181.226281 \r\nL 312.908005 -183.947028 \r\nL 315.276426 -186.667776 \r\nL 317.838881 -189.388523 \r\nL 320.528341 -192.10927 \r\nL 323.283955 -194.830018 \r\nL 326.051424 -197.550765 \r\nL 328.782433 -200.271512 \r\nL 331.43366 -202.99226 \r\nL 333.965973 -205.713007 \r\nL 336.344296 -208.433754 \r\nL 338.538421 -211.154502 \r\nL 340.524728 -213.875249 \r\nL 342.28848 -216.595996 \r\nL 343.826104 -219.316744 \r\nL 345.146808 -222.037491 \r\nL 346.272967 -224.758238 \r\nL 347.238933 -227.478986 \r\nL 348.088308 -230.199733 \r\nL 348.870026 -232.92048 \r\nL 349.633879 -235.641228 \r\nL 350.426207 -238.361975 \r\nL 351.286401 -241.082722 \r\nL 352.244629 -243.80347 \r\nL 353.320879 -246.524217 \r\nL 354.525122 -249.244964 \r\nL 355.858208 -251.965712 \r\nL 357.313035 -254.686459 \r\nL 358.875655 -257.407206 \r\nL 360.526175 -260.127954 \r\nL 362.239494 -262.848701 \r\nL 363.986125 -265.569448 \r\nL 365.733346 -268.290196 \r\nL 367.446892 -271.010943 \r\nL 369.093192 -273.73169 \r\nL 370.641982 -276.452438 \r\nL 372.068917 -279.173185 \r\nL 373.357758 -281.893933 \r\nL 374.501699 -284.61468 \r\nL 375.503561 -287.335427 \r\nL 376.374774 -290.056175 \r\nL 377.133292 -292.776922 \r\nL 377.800797 -295.497669 \r\nL 378.399651 -298.218417 \r\nL 378.95008 -300.939164 \r\nL 379.468024 -303.659911 \r\nL 379.963898 -306.380659 \r\nL 380.442363 -309.101406 \r\nL 380.903 -311.822153 \r\nL 381.341642 -314.542901 \r\nL 381.752042 -317.263648 \r\nL 382.127552 -319.984395 \r\nL 382.462529 -322.705143 \r\nL 382.753304 -325.42589 \r\nL 382.998634 -328.146637 \r\nL 383.199696 -330.867385 \r\nL 383.359715 -333.588132 \r\nL 384.20591 -333.588132 \r\nL 384.20591 -333.588132 \r\nL 384.365929 -330.867385 \r\nL 384.566991 -328.146637 \r\nL 384.812321 -325.42589 \r\nL 385.103096 -322.705143 \r\nL 385.438073 -319.984395 \r\nL 385.813583 -317.263648 \r\nL 386.223983 -314.542901 \r\nL 386.662625 -311.822153 \r\nL 387.123262 -309.101406 \r\nL 387.601727 -306.380659 \r\nL 388.097601 -303.659911 \r\nL 388.615545 -300.939164 \r\nL 389.165974 -298.218417 \r\nL 389.764828 -295.497669 \r\nL 390.432333 -292.776922 \r\nL 391.190851 -290.056175 \r\nL 392.062064 -287.335427 \r\nL 393.063926 -284.61468 \r\nL 394.207867 -281.893933 \r\nL 395.496708 -279.173185 \r\nL 396.923643 -276.452438 \r\nL 398.472433 -273.73169 \r\nL 400.118733 -271.010943 \r\nL 401.832279 -268.290196 \r\nL 403.5795 -265.569448 \r\nL 405.326131 -262.848701 \r\nL 407.03945 -260.127954 \r\nL 408.68997 -257.407206 \r\nL 410.25259 -254.686459 \r\nL 411.707417 -251.965712 \r\nL 413.040503 -249.244964 \r\nL 414.244746 -246.524217 \r\nL 415.320996 -243.80347 \r\nL 416.279224 -241.082722 \r\nL 417.139418 -238.361975 \r\nL 417.931746 -235.641228 \r\nL 418.695599 -232.92048 \r\nL 419.477317 -230.199733 \r\nL 420.326692 -227.478986 \r\nL 421.292658 -224.758238 \r\nL 422.418817 -222.037491 \r\nL 423.739521 -219.316744 \r\nL 425.277145 -216.595996 \r\nL 427.040897 -213.875249 \r\nL 429.027204 -211.154502 \r\nL 431.221329 -208.433754 \r\nL 433.599652 -205.713007 \r\nL 436.131965 -202.99226 \r\nL 438.783192 -200.271512 \r\nL 441.514201 -197.550765 \r\nL 444.28167 -194.830018 \r\nL 447.037284 -192.10927 \r\nL 449.726744 -189.388523 \r\nL 452.289199 -186.667776 \r\nL 454.65762 -183.947028 \r\nL 456.760462 -181.226281 \r\nL 458.52469 -178.505534 \r\nL 459.879905 -175.784786 \r\nL 460.763072 -173.064039 \r\nL 461.123168 -170.343291 \r\nL 460.925055 -167.622544 \r\nL 460.152009 -164.901797 \r\nL 458.80659 -162.181049 \r\nL 456.909884 -159.460302 \r\nL 454.499442 -156.739555 \r\nL 451.626479 -154.018807 \r\nL 448.352957 -151.29806 \r\nL 444.749057 -148.577313 \r\nL 440.891299 -145.856565 \r\nL 436.861244 -143.135818 \r\nL 432.744397 -140.415071 \r\nL 428.62879 -137.694323 \r\nL 424.602698 -134.973576 \r\nL 420.751195 -132.252829 \r\nL 417.151549 -129.532081 \r\nL 413.867889 -126.811334 \r\nL 410.945888 -124.090587 \r\nL 408.408423 -121.369839 \r\nL 406.253121 -118.649092 \r\nL 404.452485 -115.928345 \r\nL 402.956907 -113.207597 \r\nL 401.70034 -110.48685 \r\nL 400.607967 -107.766103 \r\nL 399.604803 -105.045355 \r\nL 398.624006 -102.324608 \r\nL 397.613709 -99.603861 \r\nL 396.54145 -96.883113 \r\nL 395.395707 -94.162366 \r\nL 394.18453 -91.441619 \r\nL 392.931735 -88.720871 \r\nL 391.671492 -86.000124 \r\nL 390.442289 -83.279377 \r\nL 389.281238 -80.558629 \r\nL 388.219522 -77.837882 \r\nL 387.279416 -75.117135 \r\nL 386.473054 -72.396387 \r\nL 385.802743 -69.67564 \r\nL 385.262452 -66.954892 \r\nL 384.839991 -64.234145 \r\nz\r\n\" id=\"m8f0d78f941\" style=\"stroke:#3d3d3d;stroke-width:1.5;\"/>\r\n    </defs>\r\n    <g clip-path=\"url(#pb5d3c35923)\">\r\n     <use style=\"fill:#e1812c;stroke:#3d3d3d;stroke-width:1.5;\" x=\"0\" xlink:href=\"#m8f0d78f941\" y=\"370.91625\"/>\r\n    </g>\r\n   </g>\r\n   <g id=\"PolyCollection_3\">\r\n    <defs>\r\n     <path d=\"M 608.330129 -52.381705 \r\nL 605.635496 -52.381705 \r\nL 605.23025 -55.373187 \r\nL 604.731789 -58.36467 \r\nL 604.12743 -61.356153 \r\nL 603.405048 -64.347635 \r\nL 602.553672 -67.339118 \r\nL 601.564086 -70.330601 \r\nL 600.429375 -73.322084 \r\nL 599.145366 -76.313566 \r\nL 597.710901 -79.305049 \r\nL 596.127915 -82.296532 \r\nL 594.401281 -85.288014 \r\nL 592.538442 -88.279497 \r\nL 590.548864 -91.27098 \r\nL 588.443368 -94.262463 \r\nL 586.233445 -97.253945 \r\nL 583.93063 -100.245428 \r\nL 581.546055 -103.236911 \r\nL 579.090252 -106.228393 \r\nL 576.573243 -109.219876 \r\nL 574.00493 -112.211359 \r\nL 571.395732 -115.202842 \r\nL 568.757378 -118.194324 \r\nL 566.103717 -121.185807 \r\nL 563.451424 -124.17729 \r\nL 560.820433 -127.168772 \r\nL 558.234019 -130.160255 \r\nL 555.71845 -133.151738 \r\nL 553.302221 -136.143221 \r\nL 551.014939 -139.134703 \r\nL 548.885982 -142.126186 \r\nL 546.943098 -145.117669 \r\nL 545.211105 -148.109151 \r\nL 543.710872 -151.100634 \r\nL 542.458673 -154.092117 \r\nL 541.465994 -157.0836 \r\nL 540.739759 -160.075082 \r\nL 540.28292 -163.066565 \r\nL 540.095267 -166.058048 \r\nL 540.174321 -169.04953 \r\nL 540.516154 -172.041013 \r\nL 541.115993 -175.032496 \r\nL 541.968551 -178.023979 \r\nL 543.068025 -181.015461 \r\nL 544.4078 -184.006944 \r\nL 545.979922 -186.998427 \r\nL 547.77444 -189.989909 \r\nL 549.778725 -192.981392 \r\nL 551.976874 -195.972875 \r\nL 554.349282 -198.964358 \r\nL 556.872451 -201.95584 \r\nL 559.519056 -204.947323 \r\nL 562.258273 -207.938806 \r\nL 565.056356 -210.930288 \r\nL 567.877423 -213.921771 \r\nL 570.684409 -216.913254 \r\nL 573.440142 -219.904737 \r\nL 576.108491 -222.896219 \r\nL 578.655527 -225.887702 \r\nL 581.050652 -228.879185 \r\nL 583.267637 -231.870667 \r\nL 585.285513 -234.86215 \r\nL 587.089256 -237.853633 \r\nL 588.670245 -240.845115 \r\nL 590.026432 -243.836598 \r\nL 591.16224 -246.828081 \r\nL 592.088178 -249.819564 \r\nL 592.820203 -252.811046 \r\nL 593.378883 -255.802529 \r\nL 593.788399 -258.794012 \r\nL 594.075463 -261.785494 \r\nL 594.268203 -264.776977 \r\nL 594.395064 -267.76846 \r\nL 594.483789 -270.759943 \r\nL 594.560486 -273.751425 \r\nL 594.648826 -276.742908 \r\nL 594.769371 -279.734391 \r\nL 594.939048 -282.725873 \r\nL 595.170775 -285.717356 \r\nL 595.473242 -288.708839 \r\nL 595.850848 -291.700322 \r\nL 596.303807 -294.691804 \r\nL 596.828411 -297.683287 \r\nL 597.417453 -300.67477 \r\nL 598.060783 -303.666252 \r\nL 598.745984 -306.657735 \r\nL 599.459123 -309.649218 \r\nL 600.18554 -312.640701 \r\nL 600.910626 -315.632183 \r\nL 601.620544 -318.623666 \r\nL 602.302847 -321.615149 \r\nL 602.946967 -324.606631 \r\nL 603.544542 -327.598114 \r\nL 604.089586 -330.589597 \r\nL 604.578495 -333.58108 \r\nL 605.009915 -336.572562 \r\nL 605.384499 -339.564045 \r\nL 605.704576 -342.555528 \r\nL 605.973785 -345.54701 \r\nL 606.196685 -348.538493 \r\nL 607.76894 -348.538493 \r\nL 607.76894 -348.538493 \r\nL 607.99184 -345.54701 \r\nL 608.261049 -342.555528 \r\nL 608.581126 -339.564045 \r\nL 608.95571 -336.572562 \r\nL 609.38713 -333.58108 \r\nL 609.876039 -330.589597 \r\nL 610.421083 -327.598114 \r\nL 611.018658 -324.606631 \r\nL 611.662778 -321.615149 \r\nL 612.345081 -318.623666 \r\nL 613.054999 -315.632183 \r\nL 613.780085 -312.640701 \r\nL 614.506502 -309.649218 \r\nL 615.219641 -306.657735 \r\nL 615.904842 -303.666252 \r\nL 616.548172 -300.67477 \r\nL 617.137214 -297.683287 \r\nL 617.661818 -294.691804 \r\nL 618.114777 -291.700322 \r\nL 618.492383 -288.708839 \r\nL 618.79485 -285.717356 \r\nL 619.026577 -282.725873 \r\nL 619.196254 -279.734391 \r\nL 619.316799 -276.742908 \r\nL 619.405139 -273.751425 \r\nL 619.481836 -270.759943 \r\nL 619.570561 -267.76846 \r\nL 619.697422 -264.776977 \r\nL 619.890162 -261.785494 \r\nL 620.177226 -258.794012 \r\nL 620.586742 -255.802529 \r\nL 621.145422 -252.811046 \r\nL 621.877447 -249.819564 \r\nL 622.803385 -246.828081 \r\nL 623.939193 -243.836598 \r\nL 625.29538 -240.845115 \r\nL 626.876369 -237.853633 \r\nL 628.680112 -234.86215 \r\nL 630.697988 -231.870667 \r\nL 632.914973 -228.879185 \r\nL 635.310098 -225.887702 \r\nL 637.857134 -222.896219 \r\nL 640.525483 -219.904737 \r\nL 643.281216 -216.913254 \r\nL 646.088202 -213.921771 \r\nL 648.909269 -210.930288 \r\nL 651.707352 -207.938806 \r\nL 654.446569 -204.947323 \r\nL 657.093174 -201.95584 \r\nL 659.616343 -198.964358 \r\nL 661.988751 -195.972875 \r\nL 664.1869 -192.981392 \r\nL 666.191185 -189.989909 \r\nL 667.985703 -186.998427 \r\nL 669.557825 -184.006944 \r\nL 670.8976 -181.015461 \r\nL 671.997074 -178.023979 \r\nL 672.849632 -175.032496 \r\nL 673.449471 -172.041013 \r\nL 673.791304 -169.04953 \r\nL 673.870358 -166.058048 \r\nL 673.682705 -163.066565 \r\nL 673.225866 -160.075082 \r\nL 672.499631 -157.0836 \r\nL 671.506952 -154.092117 \r\nL 670.254753 -151.100634 \r\nL 668.75452 -148.109151 \r\nL 667.022527 -145.117669 \r\nL 665.079643 -142.126186 \r\nL 662.950686 -139.134703 \r\nL 660.663404 -136.143221 \r\nL 658.247175 -133.151738 \r\nL 655.731606 -130.160255 \r\nL 653.145192 -127.168772 \r\nL 650.514201 -124.17729 \r\nL 647.861908 -121.185807 \r\nL 645.208247 -118.194324 \r\nL 642.569893 -115.202842 \r\nL 639.960695 -112.211359 \r\nL 637.392382 -109.219876 \r\nL 634.875373 -106.228393 \r\nL 632.41957 -103.236911 \r\nL 630.034995 -100.245428 \r\nL 627.73218 -97.253945 \r\nL 625.522257 -94.262463 \r\nL 623.416761 -91.27098 \r\nL 621.427183 -88.279497 \r\nL 619.564344 -85.288014 \r\nL 617.83771 -82.296532 \r\nL 616.254724 -79.305049 \r\nL 614.820259 -76.313566 \r\nL 613.53625 -73.322084 \r\nL 612.401539 -70.330601 \r\nL 611.411953 -67.339118 \r\nL 610.560577 -64.347635 \r\nL 609.838195 -61.356153 \r\nL 609.233836 -58.36467 \r\nL 608.735375 -55.373187 \r\nL 608.330129 -52.381705 \r\nz\r\n\" id=\"mac68fd0794\" style=\"stroke:#3d3d3d;stroke-width:1.5;\"/>\r\n    </defs>\r\n    <g clip-path=\"url(#pb5d3c35923)\">\r\n     <use style=\"fill:#3a923a;stroke:#3d3d3d;stroke-width:1.5;\" x=\"0\" xlink:href=\"#mac68fd0794\" y=\"370.91625\"/>\r\n    </g>\r\n   </g>\r\n   <g id=\"matplotlib.axis_1\">\r\n    <g id=\"xtick_1\">\r\n     <g id=\"line2d_1\">\r\n      <defs>\r\n       <path d=\"M 0 0 \r\nL 0 3.5 \r\n\" id=\"mf0ee38d331\" style=\"stroke:#000000;stroke-width:0.8;\"/>\r\n      </defs>\r\n      <g>\r\n       <use style=\"stroke:#000000;stroke-width:0.8;\" x=\"160.582812\" xlink:href=\"#mf0ee38d331\" y=\"333.36\"/>\r\n      </g>\r\n     </g>\r\n     <g id=\"text_1\">\r\n      <!-- S -->\r\n      <g transform=\"translate(157.408594 347.958438)scale(0.1 -0.1)\">\r\n       <defs>\r\n        <path d=\"M 53.515625 70.515625 \r\nL 53.515625 60.890625 \r\nQ 47.90625 63.578125 42.921875 64.890625 \r\nQ 37.9375 66.21875 33.296875 66.21875 \r\nQ 25.25 66.21875 20.875 63.09375 \r\nQ 16.5 59.96875 16.5 54.203125 \r\nQ 16.5 49.359375 19.40625 46.890625 \r\nQ 22.3125 44.4375 30.421875 42.921875 \r\nL 36.375 41.703125 \r\nQ 47.40625 39.59375 52.65625 34.296875 \r\nQ 57.90625 29 57.90625 20.125 \r\nQ 57.90625 9.515625 50.796875 4.046875 \r\nQ 43.703125 -1.421875 29.984375 -1.421875 \r\nQ 24.8125 -1.421875 18.96875 -0.25 \r\nQ 13.140625 0.921875 6.890625 3.21875 \r\nL 6.890625 13.375 \r\nQ 12.890625 10.015625 18.65625 8.296875 \r\nQ 24.421875 6.59375 29.984375 6.59375 \r\nQ 38.421875 6.59375 43.015625 9.90625 \r\nQ 47.609375 13.234375 47.609375 19.390625 \r\nQ 47.609375 24.75 44.3125 27.78125 \r\nQ 41.015625 30.8125 33.5 32.328125 \r\nL 27.484375 33.5 \r\nQ 16.453125 35.6875 11.515625 40.375 \r\nQ 6.59375 45.0625 6.59375 53.421875 \r\nQ 6.59375 63.09375 13.40625 68.65625 \r\nQ 20.21875 74.21875 32.171875 74.21875 \r\nQ 37.3125 74.21875 42.625 73.28125 \r\nQ 47.953125 72.359375 53.515625 70.515625 \r\nz\r\n\" id=\"DejaVuSans-83\"/>\r\n       </defs>\r\n       <use xlink:href=\"#DejaVuSans-83\"/>\r\n      </g>\r\n     </g>\r\n    </g>\r\n    <g id=\"xtick_2\">\r\n     <g id=\"line2d_2\">\r\n      <g>\r\n       <use style=\"stroke:#000000;stroke-width:0.8;\" x=\"383.782812\" xlink:href=\"#mf0ee38d331\" y=\"333.36\"/>\r\n      </g>\r\n     </g>\r\n     <g id=\"text_2\">\r\n      <!-- C -->\r\n      <g transform=\"translate(380.291406 347.958438)scale(0.1 -0.1)\">\r\n       <defs>\r\n        <path d=\"M 64.40625 67.28125 \r\nL 64.40625 56.890625 \r\nQ 59.421875 61.53125 53.78125 63.8125 \r\nQ 48.140625 66.109375 41.796875 66.109375 \r\nQ 29.296875 66.109375 22.65625 58.46875 \r\nQ 16.015625 50.828125 16.015625 36.375 \r\nQ 16.015625 21.96875 22.65625 14.328125 \r\nQ 29.296875 6.6875 41.796875 6.6875 \r\nQ 48.140625 6.6875 53.78125 8.984375 \r\nQ 59.421875 11.28125 64.40625 15.921875 \r\nL 64.40625 5.609375 \r\nQ 59.234375 2.09375 53.4375 0.328125 \r\nQ 47.65625 -1.421875 41.21875 -1.421875 \r\nQ 24.65625 -1.421875 15.125 8.703125 \r\nQ 5.609375 18.84375 5.609375 36.375 \r\nQ 5.609375 53.953125 15.125 64.078125 \r\nQ 24.65625 74.21875 41.21875 74.21875 \r\nQ 47.75 74.21875 53.53125 72.484375 \r\nQ 59.328125 70.75 64.40625 67.28125 \r\nz\r\n\" id=\"DejaVuSans-67\"/>\r\n       </defs>\r\n       <use xlink:href=\"#DejaVuSans-67\"/>\r\n      </g>\r\n     </g>\r\n    </g>\r\n    <g id=\"xtick_3\">\r\n     <g id=\"line2d_3\">\r\n      <g>\r\n       <use style=\"stroke:#000000;stroke-width:0.8;\" x=\"606.982812\" xlink:href=\"#mf0ee38d331\" y=\"333.36\"/>\r\n      </g>\r\n     </g>\r\n     <g id=\"text_3\">\r\n      <!-- Q -->\r\n      <g transform=\"translate(603.046875 347.958438)scale(0.1 -0.1)\">\r\n       <defs>\r\n        <path d=\"M 39.40625 66.21875 \r\nQ 28.65625 66.21875 22.328125 58.203125 \r\nQ 16.015625 50.203125 16.015625 36.375 \r\nQ 16.015625 22.609375 22.328125 14.59375 \r\nQ 28.65625 6.59375 39.40625 6.59375 \r\nQ 50.140625 6.59375 56.421875 14.59375 \r\nQ 62.703125 22.609375 62.703125 36.375 \r\nQ 62.703125 50.203125 56.421875 58.203125 \r\nQ 50.140625 66.21875 39.40625 66.21875 \r\nz\r\nM 53.21875 1.3125 \r\nL 66.21875 -12.890625 \r\nL 54.296875 -12.890625 \r\nL 43.5 -1.21875 \r\nQ 41.890625 -1.3125 41.03125 -1.359375 \r\nQ 40.1875 -1.421875 39.40625 -1.421875 \r\nQ 24.03125 -1.421875 14.8125 8.859375 \r\nQ 5.609375 19.140625 5.609375 36.375 \r\nQ 5.609375 53.65625 14.8125 63.9375 \r\nQ 24.03125 74.21875 39.40625 74.21875 \r\nQ 54.734375 74.21875 63.90625 63.9375 \r\nQ 73.09375 53.65625 73.09375 36.375 \r\nQ 73.09375 23.6875 67.984375 14.640625 \r\nQ 62.890625 5.609375 53.21875 1.3125 \r\nz\r\n\" id=\"DejaVuSans-81\"/>\r\n       </defs>\r\n       <use xlink:href=\"#DejaVuSans-81\"/>\r\n      </g>\r\n     </g>\r\n    </g>\r\n    <g id=\"text_4\">\r\n     <!-- Embarked -->\r\n     <g transform=\"translate(358.494531 361.636562)scale(0.1 -0.1)\">\r\n      <defs>\r\n       <path d=\"M 9.8125 72.90625 \r\nL 55.90625 72.90625 \r\nL 55.90625 64.59375 \r\nL 19.671875 64.59375 \r\nL 19.671875 43.015625 \r\nL 54.390625 43.015625 \r\nL 54.390625 34.71875 \r\nL 19.671875 34.71875 \r\nL 19.671875 8.296875 \r\nL 56.78125 8.296875 \r\nL 56.78125 0 \r\nL 9.8125 0 \r\nz\r\n\" id=\"DejaVuSans-69\"/>\r\n       <path d=\"M 52 44.1875 \r\nQ 55.375 50.25 60.0625 53.125 \r\nQ 64.75 56 71.09375 56 \r\nQ 79.640625 56 84.28125 50.015625 \r\nQ 88.921875 44.046875 88.921875 33.015625 \r\nL 88.921875 0 \r\nL 79.890625 0 \r\nL 79.890625 32.71875 \r\nQ 79.890625 40.578125 77.09375 44.375 \r\nQ 74.3125 48.1875 68.609375 48.1875 \r\nQ 61.625 48.1875 57.5625 43.546875 \r\nQ 53.515625 38.921875 53.515625 30.90625 \r\nL 53.515625 0 \r\nL 44.484375 0 \r\nL 44.484375 32.71875 \r\nQ 44.484375 40.625 41.703125 44.40625 \r\nQ 38.921875 48.1875 33.109375 48.1875 \r\nQ 26.21875 48.1875 22.15625 43.53125 \r\nQ 18.109375 38.875 18.109375 30.90625 \r\nL 18.109375 0 \r\nL 9.078125 0 \r\nL 9.078125 54.6875 \r\nL 18.109375 54.6875 \r\nL 18.109375 46.1875 \r\nQ 21.1875 51.21875 25.484375 53.609375 \r\nQ 29.78125 56 35.6875 56 \r\nQ 41.65625 56 45.828125 52.96875 \r\nQ 50 49.953125 52 44.1875 \r\nz\r\n\" id=\"DejaVuSans-109\"/>\r\n       <path d=\"M 48.6875 27.296875 \r\nQ 48.6875 37.203125 44.609375 42.84375 \r\nQ 40.53125 48.484375 33.40625 48.484375 \r\nQ 26.265625 48.484375 22.1875 42.84375 \r\nQ 18.109375 37.203125 18.109375 27.296875 \r\nQ 18.109375 17.390625 22.1875 11.75 \r\nQ 26.265625 6.109375 33.40625 6.109375 \r\nQ 40.53125 6.109375 44.609375 11.75 \r\nQ 48.6875 17.390625 48.6875 27.296875 \r\nz\r\nM 18.109375 46.390625 \r\nQ 20.953125 51.265625 25.265625 53.625 \r\nQ 29.59375 56 35.59375 56 \r\nQ 45.5625 56 51.78125 48.09375 \r\nQ 58.015625 40.1875 58.015625 27.296875 \r\nQ 58.015625 14.40625 51.78125 6.484375 \r\nQ 45.5625 -1.421875 35.59375 -1.421875 \r\nQ 29.59375 -1.421875 25.265625 0.953125 \r\nQ 20.953125 3.328125 18.109375 8.203125 \r\nL 18.109375 0 \r\nL 9.078125 0 \r\nL 9.078125 75.984375 \r\nL 18.109375 75.984375 \r\nz\r\n\" id=\"DejaVuSans-98\"/>\r\n       <path d=\"M 34.28125 27.484375 \r\nQ 23.390625 27.484375 19.1875 25 \r\nQ 14.984375 22.515625 14.984375 16.5 \r\nQ 14.984375 11.71875 18.140625 8.90625 \r\nQ 21.296875 6.109375 26.703125 6.109375 \r\nQ 34.1875 6.109375 38.703125 11.40625 \r\nQ 43.21875 16.703125 43.21875 25.484375 \r\nL 43.21875 27.484375 \r\nz\r\nM 52.203125 31.203125 \r\nL 52.203125 0 \r\nL 43.21875 0 \r\nL 43.21875 8.296875 \r\nQ 40.140625 3.328125 35.546875 0.953125 \r\nQ 30.953125 -1.421875 24.3125 -1.421875 \r\nQ 15.921875 -1.421875 10.953125 3.296875 \r\nQ 6 8.015625 6 15.921875 \r\nQ 6 25.140625 12.171875 29.828125 \r\nQ 18.359375 34.515625 30.609375 34.515625 \r\nL 43.21875 34.515625 \r\nL 43.21875 35.40625 \r\nQ 43.21875 41.609375 39.140625 45 \r\nQ 35.0625 48.390625 27.6875 48.390625 \r\nQ 23 48.390625 18.546875 47.265625 \r\nQ 14.109375 46.140625 10.015625 43.890625 \r\nL 10.015625 52.203125 \r\nQ 14.9375 54.109375 19.578125 55.046875 \r\nQ 24.21875 56 28.609375 56 \r\nQ 40.484375 56 46.34375 49.84375 \r\nQ 52.203125 43.703125 52.203125 31.203125 \r\nz\r\n\" id=\"DejaVuSans-97\"/>\r\n       <path d=\"M 41.109375 46.296875 \r\nQ 39.59375 47.171875 37.8125 47.578125 \r\nQ 36.03125 48 33.890625 48 \r\nQ 26.265625 48 22.1875 43.046875 \r\nQ 18.109375 38.09375 18.109375 28.8125 \r\nL 18.109375 0 \r\nL 9.078125 0 \r\nL 9.078125 54.6875 \r\nL 18.109375 54.6875 \r\nL 18.109375 46.1875 \r\nQ 20.953125 51.171875 25.484375 53.578125 \r\nQ 30.03125 56 36.53125 56 \r\nQ 37.453125 56 38.578125 55.875 \r\nQ 39.703125 55.765625 41.0625 55.515625 \r\nz\r\n\" id=\"DejaVuSans-114\"/>\r\n       <path d=\"M 9.078125 75.984375 \r\nL 18.109375 75.984375 \r\nL 18.109375 31.109375 \r\nL 44.921875 54.6875 \r\nL 56.390625 54.6875 \r\nL 27.390625 29.109375 \r\nL 57.625 0 \r\nL 45.90625 0 \r\nL 18.109375 26.703125 \r\nL 18.109375 0 \r\nL 9.078125 0 \r\nz\r\n\" id=\"DejaVuSans-107\"/>\r\n       <path d=\"M 56.203125 29.59375 \r\nL 56.203125 25.203125 \r\nL 14.890625 25.203125 \r\nQ 15.484375 15.921875 20.484375 11.0625 \r\nQ 25.484375 6.203125 34.421875 6.203125 \r\nQ 39.59375 6.203125 44.453125 7.46875 \r\nQ 49.3125 8.734375 54.109375 11.28125 \r\nL 54.109375 2.78125 \r\nQ 49.265625 0.734375 44.1875 -0.34375 \r\nQ 39.109375 -1.421875 33.890625 -1.421875 \r\nQ 20.796875 -1.421875 13.15625 6.1875 \r\nQ 5.515625 13.8125 5.515625 26.8125 \r\nQ 5.515625 40.234375 12.765625 48.109375 \r\nQ 20.015625 56 32.328125 56 \r\nQ 43.359375 56 49.78125 48.890625 \r\nQ 56.203125 41.796875 56.203125 29.59375 \r\nz\r\nM 47.21875 32.234375 \r\nQ 47.125 39.59375 43.09375 43.984375 \r\nQ 39.0625 48.390625 32.421875 48.390625 \r\nQ 24.90625 48.390625 20.390625 44.140625 \r\nQ 15.875 39.890625 15.1875 32.171875 \r\nz\r\n\" id=\"DejaVuSans-101\"/>\r\n       <path d=\"M 45.40625 46.390625 \r\nL 45.40625 75.984375 \r\nL 54.390625 75.984375 \r\nL 54.390625 0 \r\nL 45.40625 0 \r\nL 45.40625 8.203125 \r\nQ 42.578125 3.328125 38.25 0.953125 \r\nQ 33.9375 -1.421875 27.875 -1.421875 \r\nQ 17.96875 -1.421875 11.734375 6.484375 \r\nQ 5.515625 14.40625 5.515625 27.296875 \r\nQ 5.515625 40.1875 11.734375 48.09375 \r\nQ 17.96875 56 27.875 56 \r\nQ 33.9375 56 38.25 53.625 \r\nQ 42.578125 51.265625 45.40625 46.390625 \r\nz\r\nM 14.796875 27.296875 \r\nQ 14.796875 17.390625 18.875 11.75 \r\nQ 22.953125 6.109375 30.078125 6.109375 \r\nQ 37.203125 6.109375 41.296875 11.75 \r\nQ 45.40625 17.390625 45.40625 27.296875 \r\nQ 45.40625 37.203125 41.296875 42.84375 \r\nQ 37.203125 48.484375 30.078125 48.484375 \r\nQ 22.953125 48.484375 18.875 42.84375 \r\nQ 14.796875 37.203125 14.796875 27.296875 \r\nz\r\n\" id=\"DejaVuSans-100\"/>\r\n      </defs>\r\n      <use xlink:href=\"#DejaVuSans-69\"/>\r\n      <use x=\"63.183594\" xlink:href=\"#DejaVuSans-109\"/>\r\n      <use x=\"160.595703\" xlink:href=\"#DejaVuSans-98\"/>\r\n      <use x=\"224.072266\" xlink:href=\"#DejaVuSans-97\"/>\r\n      <use x=\"285.351562\" xlink:href=\"#DejaVuSans-114\"/>\r\n      <use x=\"326.464844\" xlink:href=\"#DejaVuSans-107\"/>\r\n      <use x=\"380.75\" xlink:href=\"#DejaVuSans-101\"/>\r\n      <use x=\"442.273438\" xlink:href=\"#DejaVuSans-100\"/>\r\n     </g>\r\n    </g>\r\n   </g>\r\n   <g id=\"matplotlib.axis_2\">\r\n    <g id=\"ytick_1\">\r\n     <g id=\"line2d_4\">\r\n      <defs>\r\n       <path d=\"M 0 0 \r\nL -3.5 0 \r\n\" id=\"m2e66fb18fc\" style=\"stroke:#000000;stroke-width:0.8;\"/>\r\n      </defs>\r\n      <g>\r\n       <use style=\"stroke:#000000;stroke-width:0.8;\" x=\"48.982813\" xlink:href=\"#m2e66fb18fc\" y=\"331.806182\"/>\r\n      </g>\r\n     </g>\r\n     <g id=\"text_5\">\r\n      <!-- −20 -->\r\n      <g transform=\"translate(20.878125 335.605401)scale(0.1 -0.1)\">\r\n       <defs>\r\n        <path d=\"M 10.59375 35.5 \r\nL 73.1875 35.5 \r\nL 73.1875 27.203125 \r\nL 10.59375 27.203125 \r\nz\r\n\" id=\"DejaVuSans-8722\"/>\r\n        <path d=\"M 19.1875 8.296875 \r\nL 53.609375 8.296875 \r\nL 53.609375 0 \r\nL 7.328125 0 \r\nL 7.328125 8.296875 \r\nQ 12.9375 14.109375 22.625 23.890625 \r\nQ 32.328125 33.6875 34.8125 36.53125 \r\nQ 39.546875 41.84375 41.421875 45.53125 \r\nQ 43.3125 49.21875 43.3125 52.78125 \r\nQ 43.3125 58.59375 39.234375 62.25 \r\nQ 35.15625 65.921875 28.609375 65.921875 \r\nQ 23.96875 65.921875 18.8125 64.3125 \r\nQ 13.671875 62.703125 7.8125 59.421875 \r\nL 7.8125 69.390625 \r\nQ 13.765625 71.78125 18.9375 73 \r\nQ 24.125 74.21875 28.421875 74.21875 \r\nQ 39.75 74.21875 46.484375 68.546875 \r\nQ 53.21875 62.890625 53.21875 53.421875 \r\nQ 53.21875 48.921875 51.53125 44.890625 \r\nQ 49.859375 40.875 45.40625 35.40625 \r\nQ 44.1875 33.984375 37.640625 27.21875 \r\nQ 31.109375 20.453125 19.1875 8.296875 \r\nz\r\n\" id=\"DejaVuSans-50\"/>\r\n        <path d=\"M 31.78125 66.40625 \r\nQ 24.171875 66.40625 20.328125 58.90625 \r\nQ 16.5 51.421875 16.5 36.375 \r\nQ 16.5 21.390625 20.328125 13.890625 \r\nQ 24.171875 6.390625 31.78125 6.390625 \r\nQ 39.453125 6.390625 43.28125 13.890625 \r\nQ 47.125 21.390625 47.125 36.375 \r\nQ 47.125 51.421875 43.28125 58.90625 \r\nQ 39.453125 66.40625 31.78125 66.40625 \r\nz\r\nM 31.78125 74.21875 \r\nQ 44.046875 74.21875 50.515625 64.515625 \r\nQ 56.984375 54.828125 56.984375 36.375 \r\nQ 56.984375 17.96875 50.515625 8.265625 \r\nQ 44.046875 -1.421875 31.78125 -1.421875 \r\nQ 19.53125 -1.421875 13.0625 8.265625 \r\nQ 6.59375 17.96875 6.59375 36.375 \r\nQ 6.59375 54.828125 13.0625 64.515625 \r\nQ 19.53125 74.21875 31.78125 74.21875 \r\nz\r\n\" id=\"DejaVuSans-48\"/>\r\n       </defs>\r\n       <use xlink:href=\"#DejaVuSans-8722\"/>\r\n       <use x=\"83.789062\" xlink:href=\"#DejaVuSans-50\"/>\r\n       <use x=\"147.412109\" xlink:href=\"#DejaVuSans-48\"/>\r\n      </g>\r\n     </g>\r\n    </g>\r\n    <g id=\"ytick_2\">\r\n     <g id=\"line2d_5\">\r\n      <g>\r\n       <use style=\"stroke:#000000;stroke-width:0.8;\" x=\"48.982813\" xlink:href=\"#m2e66fb18fc\" y=\"274.437282\"/>\r\n      </g>\r\n     </g>\r\n     <g id=\"text_6\">\r\n      <!-- 0 -->\r\n      <g transform=\"translate(35.620312 278.236501)scale(0.1 -0.1)\">\r\n       <use xlink:href=\"#DejaVuSans-48\"/>\r\n      </g>\r\n     </g>\r\n    </g>\r\n    <g id=\"ytick_3\">\r\n     <g id=\"line2d_6\">\r\n      <g>\r\n       <use style=\"stroke:#000000;stroke-width:0.8;\" x=\"48.982813\" xlink:href=\"#m2e66fb18fc\" y=\"217.068382\"/>\r\n      </g>\r\n     </g>\r\n     <g id=\"text_7\">\r\n      <!-- 20 -->\r\n      <g transform=\"translate(29.257812 220.867601)scale(0.1 -0.1)\">\r\n       <use xlink:href=\"#DejaVuSans-50\"/>\r\n       <use x=\"63.623047\" xlink:href=\"#DejaVuSans-48\"/>\r\n      </g>\r\n     </g>\r\n    </g>\r\n    <g id=\"ytick_4\">\r\n     <g id=\"line2d_7\">\r\n      <g>\r\n       <use style=\"stroke:#000000;stroke-width:0.8;\" x=\"48.982813\" xlink:href=\"#m2e66fb18fc\" y=\"159.699482\"/>\r\n      </g>\r\n     </g>\r\n     <g id=\"text_8\">\r\n      <!-- 40 -->\r\n      <g transform=\"translate(29.257812 163.498701)scale(0.1 -0.1)\">\r\n       <defs>\r\n        <path d=\"M 37.796875 64.3125 \r\nL 12.890625 25.390625 \r\nL 37.796875 25.390625 \r\nz\r\nM 35.203125 72.90625 \r\nL 47.609375 72.90625 \r\nL 47.609375 25.390625 \r\nL 58.015625 25.390625 \r\nL 58.015625 17.1875 \r\nL 47.609375 17.1875 \r\nL 47.609375 0 \r\nL 37.796875 0 \r\nL 37.796875 17.1875 \r\nL 4.890625 17.1875 \r\nL 4.890625 26.703125 \r\nz\r\n\" id=\"DejaVuSans-52\"/>\r\n       </defs>\r\n       <use xlink:href=\"#DejaVuSans-52\"/>\r\n       <use x=\"63.623047\" xlink:href=\"#DejaVuSans-48\"/>\r\n      </g>\r\n     </g>\r\n    </g>\r\n    <g id=\"ytick_5\">\r\n     <g id=\"line2d_8\">\r\n      <g>\r\n       <use style=\"stroke:#000000;stroke-width:0.8;\" x=\"48.982813\" xlink:href=\"#m2e66fb18fc\" y=\"102.330583\"/>\r\n      </g>\r\n     </g>\r\n     <g id=\"text_9\">\r\n      <!-- 60 -->\r\n      <g transform=\"translate(29.257812 106.129801)scale(0.1 -0.1)\">\r\n       <defs>\r\n        <path d=\"M 33.015625 40.375 \r\nQ 26.375 40.375 22.484375 35.828125 \r\nQ 18.609375 31.296875 18.609375 23.390625 \r\nQ 18.609375 15.53125 22.484375 10.953125 \r\nQ 26.375 6.390625 33.015625 6.390625 \r\nQ 39.65625 6.390625 43.53125 10.953125 \r\nQ 47.40625 15.53125 47.40625 23.390625 \r\nQ 47.40625 31.296875 43.53125 35.828125 \r\nQ 39.65625 40.375 33.015625 40.375 \r\nz\r\nM 52.59375 71.296875 \r\nL 52.59375 62.3125 \r\nQ 48.875 64.0625 45.09375 64.984375 \r\nQ 41.3125 65.921875 37.59375 65.921875 \r\nQ 27.828125 65.921875 22.671875 59.328125 \r\nQ 17.53125 52.734375 16.796875 39.40625 \r\nQ 19.671875 43.65625 24.015625 45.921875 \r\nQ 28.375 48.1875 33.59375 48.1875 \r\nQ 44.578125 48.1875 50.953125 41.515625 \r\nQ 57.328125 34.859375 57.328125 23.390625 \r\nQ 57.328125 12.15625 50.6875 5.359375 \r\nQ 44.046875 -1.421875 33.015625 -1.421875 \r\nQ 20.359375 -1.421875 13.671875 8.265625 \r\nQ 6.984375 17.96875 6.984375 36.375 \r\nQ 6.984375 53.65625 15.1875 63.9375 \r\nQ 23.390625 74.21875 37.203125 74.21875 \r\nQ 40.921875 74.21875 44.703125 73.484375 \r\nQ 48.484375 72.75 52.59375 71.296875 \r\nz\r\n\" id=\"DejaVuSans-54\"/>\r\n       </defs>\r\n       <use xlink:href=\"#DejaVuSans-54\"/>\r\n       <use x=\"63.623047\" xlink:href=\"#DejaVuSans-48\"/>\r\n      </g>\r\n     </g>\r\n    </g>\r\n    <g id=\"ytick_6\">\r\n     <g id=\"line2d_9\">\r\n      <g>\r\n       <use style=\"stroke:#000000;stroke-width:0.8;\" x=\"48.982813\" xlink:href=\"#m2e66fb18fc\" y=\"44.961683\"/>\r\n      </g>\r\n     </g>\r\n     <g id=\"text_10\">\r\n      <!-- 80 -->\r\n      <g transform=\"translate(29.257812 48.760902)scale(0.1 -0.1)\">\r\n       <defs>\r\n        <path d=\"M 31.78125 34.625 \r\nQ 24.75 34.625 20.71875 30.859375 \r\nQ 16.703125 27.09375 16.703125 20.515625 \r\nQ 16.703125 13.921875 20.71875 10.15625 \r\nQ 24.75 6.390625 31.78125 6.390625 \r\nQ 38.8125 6.390625 42.859375 10.171875 \r\nQ 46.921875 13.96875 46.921875 20.515625 \r\nQ 46.921875 27.09375 42.890625 30.859375 \r\nQ 38.875 34.625 31.78125 34.625 \r\nz\r\nM 21.921875 38.8125 \r\nQ 15.578125 40.375 12.03125 44.71875 \r\nQ 8.5 49.078125 8.5 55.328125 \r\nQ 8.5 64.0625 14.71875 69.140625 \r\nQ 20.953125 74.21875 31.78125 74.21875 \r\nQ 42.671875 74.21875 48.875 69.140625 \r\nQ 55.078125 64.0625 55.078125 55.328125 \r\nQ 55.078125 49.078125 51.53125 44.71875 \r\nQ 48 40.375 41.703125 38.8125 \r\nQ 48.828125 37.15625 52.796875 32.3125 \r\nQ 56.78125 27.484375 56.78125 20.515625 \r\nQ 56.78125 9.90625 50.3125 4.234375 \r\nQ 43.84375 -1.421875 31.78125 -1.421875 \r\nQ 19.734375 -1.421875 13.25 4.234375 \r\nQ 6.78125 9.90625 6.78125 20.515625 \r\nQ 6.78125 27.484375 10.78125 32.3125 \r\nQ 14.796875 37.15625 21.921875 38.8125 \r\nz\r\nM 18.3125 54.390625 \r\nQ 18.3125 48.734375 21.84375 45.5625 \r\nQ 25.390625 42.390625 31.78125 42.390625 \r\nQ 38.140625 42.390625 41.71875 45.5625 \r\nQ 45.3125 48.734375 45.3125 54.390625 \r\nQ 45.3125 60.0625 41.71875 63.234375 \r\nQ 38.140625 66.40625 31.78125 66.40625 \r\nQ 25.390625 66.40625 21.84375 63.234375 \r\nQ 18.3125 60.0625 18.3125 54.390625 \r\nz\r\n\" id=\"DejaVuSans-56\"/>\r\n       </defs>\r\n       <use xlink:href=\"#DejaVuSans-56\"/>\r\n       <use x=\"63.623047\" xlink:href=\"#DejaVuSans-48\"/>\r\n      </g>\r\n     </g>\r\n    </g>\r\n    <g id=\"text_11\">\r\n     <!-- Age -->\r\n     <g transform=\"translate(14.798438 179.951094)rotate(-90)scale(0.1 -0.1)\">\r\n      <defs>\r\n       <path d=\"M 34.1875 63.1875 \r\nL 20.796875 26.90625 \r\nL 47.609375 26.90625 \r\nz\r\nM 28.609375 72.90625 \r\nL 39.796875 72.90625 \r\nL 67.578125 0 \r\nL 57.328125 0 \r\nL 50.6875 18.703125 \r\nL 17.828125 18.703125 \r\nL 11.1875 0 \r\nL 0.78125 0 \r\nz\r\n\" id=\"DejaVuSans-65\"/>\r\n       <path d=\"M 45.40625 27.984375 \r\nQ 45.40625 37.75 41.375 43.109375 \r\nQ 37.359375 48.484375 30.078125 48.484375 \r\nQ 22.859375 48.484375 18.828125 43.109375 \r\nQ 14.796875 37.75 14.796875 27.984375 \r\nQ 14.796875 18.265625 18.828125 12.890625 \r\nQ 22.859375 7.515625 30.078125 7.515625 \r\nQ 37.359375 7.515625 41.375 12.890625 \r\nQ 45.40625 18.265625 45.40625 27.984375 \r\nz\r\nM 54.390625 6.78125 \r\nQ 54.390625 -7.171875 48.1875 -13.984375 \r\nQ 42 -20.796875 29.203125 -20.796875 \r\nQ 24.46875 -20.796875 20.265625 -20.09375 \r\nQ 16.0625 -19.390625 12.109375 -17.921875 \r\nL 12.109375 -9.1875 \r\nQ 16.0625 -11.328125 19.921875 -12.34375 \r\nQ 23.78125 -13.375 27.78125 -13.375 \r\nQ 36.625 -13.375 41.015625 -8.765625 \r\nQ 45.40625 -4.15625 45.40625 5.171875 \r\nL 45.40625 9.625 \r\nQ 42.625 4.78125 38.28125 2.390625 \r\nQ 33.9375 0 27.875 0 \r\nQ 17.828125 0 11.671875 7.65625 \r\nQ 5.515625 15.328125 5.515625 27.984375 \r\nQ 5.515625 40.671875 11.671875 48.328125 \r\nQ 17.828125 56 27.875 56 \r\nQ 33.9375 56 38.28125 53.609375 \r\nQ 42.625 51.21875 45.40625 46.390625 \r\nL 45.40625 54.6875 \r\nL 54.390625 54.6875 \r\nz\r\n\" id=\"DejaVuSans-103\"/>\r\n      </defs>\r\n      <use xlink:href=\"#DejaVuSans-65\"/>\r\n      <use x=\"68.408203\" xlink:href=\"#DejaVuSans-103\"/>\r\n      <use x=\"131.884766\" xlink:href=\"#DejaVuSans-101\"/>\r\n     </g>\r\n    </g>\r\n   </g>\r\n   <g id=\"line2d_10\">\r\n    <path clip-path=\"url(#pb5d3c35923)\" d=\"M 160.582812 272.515424 \r\nL 160.582812 93.725248 \r\n\" style=\"fill:none;stroke:#3d3d3d;stroke-linecap:square;stroke-width:1.5;\"/>\r\n   </g>\r\n   <g id=\"line2d_11\">\r\n    <path clip-path=\"url(#pb5d3c35923)\" d=\"M 160.582812 214.199937 \r\nL 160.582812 165.436372 \r\n\" style=\"fill:none;stroke:#3d3d3d;stroke-linecap:square;stroke-width:4.5;\"/>\r\n   </g>\r\n   <g id=\"line2d_12\">\r\n    <path clip-path=\"url(#pb5d3c35923)\" d=\"M 383.782812 273.232535 \r\nL 383.782812 87.988358 \r\n\" style=\"fill:none;stroke:#3d3d3d;stroke-linecap:square;stroke-width:1.5;\"/>\r\n   </g>\r\n   <g id=\"line2d_13\">\r\n    <path clip-path=\"url(#pb5d3c35923)\" d=\"M 383.782812 213.482826 \r\nL 383.782812 159.699482 \r\n\" style=\"fill:none;stroke:#3d3d3d;stroke-linecap:square;stroke-width:4.5;\"/>\r\n   </g>\r\n   <g id=\"line2d_14\">\r\n    <path clip-path=\"url(#pb5d3c35923)\" d=\"M 606.982812 268.700392 \r\nL 606.982812 110.935918 \r\n\" style=\"fill:none;stroke:#3d3d3d;stroke-linecap:square;stroke-width:1.5;\"/>\r\n   </g>\r\n   <g id=\"line2d_15\">\r\n    <path clip-path=\"url(#pb5d3c35923)\" d=\"M 606.982812 224.239495 \r\nL 606.982812 175.47593 \r\n\" style=\"fill:none;stroke:#3d3d3d;stroke-linecap:square;stroke-width:4.5;\"/>\r\n   </g>\r\n   <g id=\"patch_3\">\r\n    <path d=\"M 48.982813 333.36 \r\nL 48.982813 7.2 \r\n\" style=\"fill:none;stroke:#000000;stroke-linecap:square;stroke-linejoin:miter;stroke-width:0.8;\"/>\r\n   </g>\r\n   <g id=\"patch_4\">\r\n    <path d=\"M 718.582813 333.36 \r\nL 718.582813 7.2 \r\n\" style=\"fill:none;stroke:#000000;stroke-linecap:square;stroke-linejoin:miter;stroke-width:0.8;\"/>\r\n   </g>\r\n   <g id=\"patch_5\">\r\n    <path d=\"M 48.982812 333.36 \r\nL 718.582813 333.36 \r\n\" style=\"fill:none;stroke:#000000;stroke-linecap:square;stroke-linejoin:miter;stroke-width:0.8;\"/>\r\n   </g>\r\n   <g id=\"patch_6\">\r\n    <path d=\"M 48.982812 7.2 \r\nL 718.582813 7.2 \r\n\" style=\"fill:none;stroke:#000000;stroke-linecap:square;stroke-linejoin:miter;stroke-width:0.8;\"/>\r\n   </g>\r\n   <g id=\"PathCollection_1\">\r\n    <defs>\r\n     <path d=\"M 0 1.5 \r\nC 0.397805 1.5 0.77937 1.341951 1.06066 1.06066 \r\nC 1.341951 0.77937 1.5 0.397805 1.5 0 \r\nC 1.5 -0.397805 1.341951 -0.77937 1.06066 -1.06066 \r\nC 0.77937 -1.341951 0.397805 -1.5 0 -1.5 \r\nC -0.397805 -1.5 -0.77937 -1.341951 -1.06066 -1.06066 \r\nC -1.341951 -0.77937 -1.5 -0.397805 -1.5 0 \r\nC -1.5 0.397805 -1.341951 0.77937 -1.06066 1.06066 \r\nC -0.77937 1.341951 -0.397805 1.5 0 1.5 \r\nz\r\n\" id=\"me4430cbd96\" style=\"stroke:#3d3d3d;\"/>\r\n    </defs>\r\n    <g clip-path=\"url(#pb5d3c35923)\">\r\n     <use style=\"fill:#ffffff;stroke:#3d3d3d;\" x=\"160.582812\" xlink:href=\"#me4430cbd96\" y=\"194.120822\"/>\r\n    </g>\r\n   </g>\r\n   <g id=\"PathCollection_2\">\r\n    <g clip-path=\"url(#pb5d3c35923)\">\r\n     <use style=\"fill:#ffffff;stroke:#3d3d3d;\" x=\"383.782812\" xlink:href=\"#me4430cbd96\" y=\"191.252377\"/>\r\n    </g>\r\n   </g>\r\n   <g id=\"PathCollection_3\">\r\n    <g clip-path=\"url(#pb5d3c35923)\">\r\n     <use style=\"fill:#ffffff;stroke:#3d3d3d;\" x=\"606.982812\" xlink:href=\"#me4430cbd96\" y=\"196.989267\"/>\r\n    </g>\r\n   </g>\r\n  </g>\r\n </g>\r\n <defs>\r\n  <clipPath id=\"pb5d3c35923\">\r\n   <rect height=\"326.16\" width=\"669.6\" x=\"48.982813\" y=\"7.2\"/>\r\n  </clipPath>\r\n </defs>\r\n</svg>\r\n",
      "image/png": "[encoded data removed]"
     },
     "metadata": {
      "needs_background": "light"
     }
    }
   ],
   "source": [
    "plt.figure(figsize=(12,6))\n",
    "sns.violinplot(x=df.Embarked, y=df.Age)\n",
    "plt.show()"
   ]
  },
  {
   "source": [
    "#### Violin plot comparing the 'Embarked' attribute (x axis) with the 'Age' attribute (y axis) using Seaborn"
   ],
   "cell_type": "markdown",
   "metadata": {}
  },
  {
   "cell_type": "code",
   "execution_count": 22,
   "metadata": {},
   "outputs": [
    {
     "output_type": "display_data",
     "data": {
      "text/plain": "<Figure size 864x432 with 1 Axes>",
      "image/svg+xml": "<?xml version=\"1.0\" encoding=\"utf-8\" standalone=\"no\"?>\r\n<!DOCTYPE svg PUBLIC \"-//W3C//DTD SVG 1.1//EN\"\r\n  \"http://www.w3.org/Graphics/SVG/1.1/DTD/svg11.dtd\">\r\n<!-- Created with matplotlib (https://matplotlib.org/) -->\r\n<svg height=\"370.91625pt\" version=\"1.1\" viewBox=\"0 0 723.765625 370.91625\" width=\"723.765625pt\" xmlns=\"http://www.w3.org/2000/svg\" xmlns:xlink=\"http://www.w3.org/1999/xlink\">\r\n <metadata>\r\n  <rdf:RDF xmlns:cc=\"http://creativecommons.org/ns#\" xmlns:dc=\"http://purl.org/dc/elements/1.1/\" xmlns:rdf=\"http://www.w3.org/1999/02/22-rdf-syntax-ns#\">\r\n   <cc:Work>\r\n    <dc:type rdf:resource=\"http://purl.org/dc/dcmitype/StillImage\"/>\r\n    <dc:date>2020-09-16T18:18:00.372670</dc:date>\r\n    <dc:format>image/svg+xml</dc:format>\r\n    <dc:creator>\r\n     <cc:Agent>\r\n      <dc:title>Matplotlib v3.3.1, https://matplotlib.org/</dc:title>\r\n     </cc:Agent>\r\n    </dc:creator>\r\n   </cc:Work>\r\n  </rdf:RDF>\r\n </metadata>\r\n <defs>\r\n  <style type=\"text/css\">*{stroke-linecap:butt;stroke-linejoin:round;}</style>\r\n </defs>\r\n <g id=\"figure_1\">\r\n  <g id=\"patch_1\">\r\n   <path d=\"M 0 370.91625 \r\nL 723.765625 370.91625 \r\nL 723.765625 0 \r\nL 0 0 \r\nz\r\n\" style=\"fill:none;\"/>\r\n  </g>\r\n  <g id=\"axes_1\">\r\n   <g id=\"patch_2\">\r\n    <path d=\"M 46.965625 333.36 \r\nL 716.565625 333.36 \r\nL 716.565625 7.2 \r\nL 46.965625 7.2 \r\nz\r\n\" style=\"fill:#ffffff;\"/>\r\n   </g>\r\n   <g id=\"patch_3\">\r\n    <path clip-path=\"url(#p2a206f1b13)\" d=\"M 69.285625 333.36 \r\nL 247.845625 333.36 \r\nL 247.845625 196.708734 \r\nL 69.285625 196.708734 \r\nz\r\n\" style=\"fill:#3274a1;\"/>\r\n   </g>\r\n   <g id=\"patch_4\">\r\n    <path clip-path=\"url(#p2a206f1b13)\" d=\"M 292.485625 333.36 \r\nL 471.045625 333.36 \r\nL 471.045625 216.953366 \r\nL 292.485625 216.953366 \r\nz\r\n\" style=\"fill:#e1812c;\"/>\r\n   </g>\r\n   <g id=\"patch_5\">\r\n    <path clip-path=\"url(#p2a206f1b13)\" d=\"M 515.685625 333.36 \r\nL 694.245625 333.36 \r\nL 694.245625 22.731429 \r\nL 515.685625 22.731429 \r\nz\r\n\" style=\"fill:#3a923a;\"/>\r\n   </g>\r\n   <g id=\"matplotlib.axis_1\">\r\n    <g id=\"xtick_1\">\r\n     <g id=\"line2d_1\">\r\n      <defs>\r\n       <path d=\"M 0 0 \r\nL 0 3.5 \r\n\" id=\"m9b0640bf44\" style=\"stroke:#000000;stroke-width:0.8;\"/>\r\n      </defs>\r\n      <g>\r\n       <use style=\"stroke:#000000;stroke-width:0.8;\" x=\"158.565625\" xlink:href=\"#m9b0640bf44\" y=\"333.36\"/>\r\n      </g>\r\n     </g>\r\n     <g id=\"text_1\">\r\n      <!-- 1 -->\r\n      <g transform=\"translate(155.384375 347.958438)scale(0.1 -0.1)\">\r\n       <defs>\r\n        <path d=\"M 12.40625 8.296875 \r\nL 28.515625 8.296875 \r\nL 28.515625 63.921875 \r\nL 10.984375 60.40625 \r\nL 10.984375 69.390625 \r\nL 28.421875 72.90625 \r\nL 38.28125 72.90625 \r\nL 38.28125 8.296875 \r\nL 54.390625 8.296875 \r\nL 54.390625 0 \r\nL 12.40625 0 \r\nz\r\n\" id=\"DejaVuSans-49\"/>\r\n       </defs>\r\n       <use xlink:href=\"#DejaVuSans-49\"/>\r\n      </g>\r\n     </g>\r\n    </g>\r\n    <g id=\"xtick_2\">\r\n     <g id=\"line2d_2\">\r\n      <g>\r\n       <use style=\"stroke:#000000;stroke-width:0.8;\" x=\"381.765625\" xlink:href=\"#m9b0640bf44\" y=\"333.36\"/>\r\n      </g>\r\n     </g>\r\n     <g id=\"text_2\">\r\n      <!-- 2 -->\r\n      <g transform=\"translate(378.584375 347.958438)scale(0.1 -0.1)\">\r\n       <defs>\r\n        <path d=\"M 19.1875 8.296875 \r\nL 53.609375 8.296875 \r\nL 53.609375 0 \r\nL 7.328125 0 \r\nL 7.328125 8.296875 \r\nQ 12.9375 14.109375 22.625 23.890625 \r\nQ 32.328125 33.6875 34.8125 36.53125 \r\nQ 39.546875 41.84375 41.421875 45.53125 \r\nQ 43.3125 49.21875 43.3125 52.78125 \r\nQ 43.3125 58.59375 39.234375 62.25 \r\nQ 35.15625 65.921875 28.609375 65.921875 \r\nQ 23.96875 65.921875 18.8125 64.3125 \r\nQ 13.671875 62.703125 7.8125 59.421875 \r\nL 7.8125 69.390625 \r\nQ 13.765625 71.78125 18.9375 73 \r\nQ 24.125 74.21875 28.421875 74.21875 \r\nQ 39.75 74.21875 46.484375 68.546875 \r\nQ 53.21875 62.890625 53.21875 53.421875 \r\nQ 53.21875 48.921875 51.53125 44.890625 \r\nQ 49.859375 40.875 45.40625 35.40625 \r\nQ 44.1875 33.984375 37.640625 27.21875 \r\nQ 31.109375 20.453125 19.1875 8.296875 \r\nz\r\n\" id=\"DejaVuSans-50\"/>\r\n       </defs>\r\n       <use xlink:href=\"#DejaVuSans-50\"/>\r\n      </g>\r\n     </g>\r\n    </g>\r\n    <g id=\"xtick_3\">\r\n     <g id=\"line2d_3\">\r\n      <g>\r\n       <use style=\"stroke:#000000;stroke-width:0.8;\" x=\"604.965625\" xlink:href=\"#m9b0640bf44\" y=\"333.36\"/>\r\n      </g>\r\n     </g>\r\n     <g id=\"text_3\">\r\n      <!-- 3 -->\r\n      <g transform=\"translate(601.784375 347.958438)scale(0.1 -0.1)\">\r\n       <defs>\r\n        <path d=\"M 40.578125 39.3125 \r\nQ 47.65625 37.796875 51.625 33 \r\nQ 55.609375 28.21875 55.609375 21.1875 \r\nQ 55.609375 10.40625 48.1875 4.484375 \r\nQ 40.765625 -1.421875 27.09375 -1.421875 \r\nQ 22.515625 -1.421875 17.65625 -0.515625 \r\nQ 12.796875 0.390625 7.625 2.203125 \r\nL 7.625 11.71875 \r\nQ 11.71875 9.328125 16.59375 8.109375 \r\nQ 21.484375 6.890625 26.8125 6.890625 \r\nQ 36.078125 6.890625 40.9375 10.546875 \r\nQ 45.796875 14.203125 45.796875 21.1875 \r\nQ 45.796875 27.640625 41.28125 31.265625 \r\nQ 36.765625 34.90625 28.71875 34.90625 \r\nL 20.21875 34.90625 \r\nL 20.21875 43.015625 \r\nL 29.109375 43.015625 \r\nQ 36.375 43.015625 40.234375 45.921875 \r\nQ 44.09375 48.828125 44.09375 54.296875 \r\nQ 44.09375 59.90625 40.109375 62.90625 \r\nQ 36.140625 65.921875 28.71875 65.921875 \r\nQ 24.65625 65.921875 20.015625 65.03125 \r\nQ 15.375 64.15625 9.8125 62.3125 \r\nL 9.8125 71.09375 \r\nQ 15.4375 72.65625 20.34375 73.4375 \r\nQ 25.25 74.21875 29.59375 74.21875 \r\nQ 40.828125 74.21875 47.359375 69.109375 \r\nQ 53.90625 64.015625 53.90625 55.328125 \r\nQ 53.90625 49.265625 50.4375 45.09375 \r\nQ 46.96875 40.921875 40.578125 39.3125 \r\nz\r\n\" id=\"DejaVuSans-51\"/>\r\n       </defs>\r\n       <use xlink:href=\"#DejaVuSans-51\"/>\r\n      </g>\r\n     </g>\r\n    </g>\r\n    <g id=\"text_4\">\r\n     <!-- Pclass -->\r\n     <g transform=\"translate(366.339063 361.636562)scale(0.1 -0.1)\">\r\n      <defs>\r\n       <path d=\"M 19.671875 64.796875 \r\nL 19.671875 37.40625 \r\nL 32.078125 37.40625 \r\nQ 38.96875 37.40625 42.71875 40.96875 \r\nQ 46.484375 44.53125 46.484375 51.125 \r\nQ 46.484375 57.671875 42.71875 61.234375 \r\nQ 38.96875 64.796875 32.078125 64.796875 \r\nz\r\nM 9.8125 72.90625 \r\nL 32.078125 72.90625 \r\nQ 44.34375 72.90625 50.609375 67.359375 \r\nQ 56.890625 61.8125 56.890625 51.125 \r\nQ 56.890625 40.328125 50.609375 34.8125 \r\nQ 44.34375 29.296875 32.078125 29.296875 \r\nL 19.671875 29.296875 \r\nL 19.671875 0 \r\nL 9.8125 0 \r\nz\r\n\" id=\"DejaVuSans-80\"/>\r\n       <path d=\"M 48.78125 52.59375 \r\nL 48.78125 44.1875 \r\nQ 44.96875 46.296875 41.140625 47.34375 \r\nQ 37.3125 48.390625 33.40625 48.390625 \r\nQ 24.65625 48.390625 19.8125 42.84375 \r\nQ 14.984375 37.3125 14.984375 27.296875 \r\nQ 14.984375 17.28125 19.8125 11.734375 \r\nQ 24.65625 6.203125 33.40625 6.203125 \r\nQ 37.3125 6.203125 41.140625 7.25 \r\nQ 44.96875 8.296875 48.78125 10.40625 \r\nL 48.78125 2.09375 \r\nQ 45.015625 0.34375 40.984375 -0.53125 \r\nQ 36.96875 -1.421875 32.421875 -1.421875 \r\nQ 20.0625 -1.421875 12.78125 6.34375 \r\nQ 5.515625 14.109375 5.515625 27.296875 \r\nQ 5.515625 40.671875 12.859375 48.328125 \r\nQ 20.21875 56 33.015625 56 \r\nQ 37.15625 56 41.109375 55.140625 \r\nQ 45.0625 54.296875 48.78125 52.59375 \r\nz\r\n\" id=\"DejaVuSans-99\"/>\r\n       <path d=\"M 9.421875 75.984375 \r\nL 18.40625 75.984375 \r\nL 18.40625 0 \r\nL 9.421875 0 \r\nz\r\n\" id=\"DejaVuSans-108\"/>\r\n       <path d=\"M 34.28125 27.484375 \r\nQ 23.390625 27.484375 19.1875 25 \r\nQ 14.984375 22.515625 14.984375 16.5 \r\nQ 14.984375 11.71875 18.140625 8.90625 \r\nQ 21.296875 6.109375 26.703125 6.109375 \r\nQ 34.1875 6.109375 38.703125 11.40625 \r\nQ 43.21875 16.703125 43.21875 25.484375 \r\nL 43.21875 27.484375 \r\nz\r\nM 52.203125 31.203125 \r\nL 52.203125 0 \r\nL 43.21875 0 \r\nL 43.21875 8.296875 \r\nQ 40.140625 3.328125 35.546875 0.953125 \r\nQ 30.953125 -1.421875 24.3125 -1.421875 \r\nQ 15.921875 -1.421875 10.953125 3.296875 \r\nQ 6 8.015625 6 15.921875 \r\nQ 6 25.140625 12.171875 29.828125 \r\nQ 18.359375 34.515625 30.609375 34.515625 \r\nL 43.21875 34.515625 \r\nL 43.21875 35.40625 \r\nQ 43.21875 41.609375 39.140625 45 \r\nQ 35.0625 48.390625 27.6875 48.390625 \r\nQ 23 48.390625 18.546875 47.265625 \r\nQ 14.109375 46.140625 10.015625 43.890625 \r\nL 10.015625 52.203125 \r\nQ 14.9375 54.109375 19.578125 55.046875 \r\nQ 24.21875 56 28.609375 56 \r\nQ 40.484375 56 46.34375 49.84375 \r\nQ 52.203125 43.703125 52.203125 31.203125 \r\nz\r\n\" id=\"DejaVuSans-97\"/>\r\n       <path d=\"M 44.28125 53.078125 \r\nL 44.28125 44.578125 \r\nQ 40.484375 46.53125 36.375 47.5 \r\nQ 32.28125 48.484375 27.875 48.484375 \r\nQ 21.1875 48.484375 17.84375 46.4375 \r\nQ 14.5 44.390625 14.5 40.28125 \r\nQ 14.5 37.15625 16.890625 35.375 \r\nQ 19.28125 33.59375 26.515625 31.984375 \r\nL 29.59375 31.296875 \r\nQ 39.15625 29.25 43.1875 25.515625 \r\nQ 47.21875 21.78125 47.21875 15.09375 \r\nQ 47.21875 7.46875 41.1875 3.015625 \r\nQ 35.15625 -1.421875 24.609375 -1.421875 \r\nQ 20.21875 -1.421875 15.453125 -0.5625 \r\nQ 10.6875 0.296875 5.421875 2 \r\nL 5.421875 11.28125 \r\nQ 10.40625 8.6875 15.234375 7.390625 \r\nQ 20.0625 6.109375 24.8125 6.109375 \r\nQ 31.15625 6.109375 34.5625 8.28125 \r\nQ 37.984375 10.453125 37.984375 14.40625 \r\nQ 37.984375 18.0625 35.515625 20.015625 \r\nQ 33.0625 21.96875 24.703125 23.78125 \r\nL 21.578125 24.515625 \r\nQ 13.234375 26.265625 9.515625 29.90625 \r\nQ 5.8125 33.546875 5.8125 39.890625 \r\nQ 5.8125 47.609375 11.28125 51.796875 \r\nQ 16.75 56 26.8125 56 \r\nQ 31.78125 56 36.171875 55.265625 \r\nQ 40.578125 54.546875 44.28125 53.078125 \r\nz\r\n\" id=\"DejaVuSans-115\"/>\r\n      </defs>\r\n      <use xlink:href=\"#DejaVuSans-80\"/>\r\n      <use x=\"60.302734\" xlink:href=\"#DejaVuSans-99\"/>\r\n      <use x=\"115.283203\" xlink:href=\"#DejaVuSans-108\"/>\r\n      <use x=\"143.066406\" xlink:href=\"#DejaVuSans-97\"/>\r\n      <use x=\"204.345703\" xlink:href=\"#DejaVuSans-115\"/>\r\n      <use x=\"256.445312\" xlink:href=\"#DejaVuSans-115\"/>\r\n     </g>\r\n    </g>\r\n   </g>\r\n   <g id=\"matplotlib.axis_2\">\r\n    <g id=\"ytick_1\">\r\n     <g id=\"line2d_4\">\r\n      <defs>\r\n       <path d=\"M 0 0 \r\nL -3.5 0 \r\n\" id=\"m7927b6cdeb\" style=\"stroke:#000000;stroke-width:0.8;\"/>\r\n      </defs>\r\n      <g>\r\n       <use style=\"stroke:#000000;stroke-width:0.8;\" x=\"46.965625\" xlink:href=\"#m7927b6cdeb\" y=\"333.36\"/>\r\n      </g>\r\n     </g>\r\n     <g id=\"text_5\">\r\n      <!-- 0 -->\r\n      <g transform=\"translate(33.603125 337.159219)scale(0.1 -0.1)\">\r\n       <defs>\r\n        <path d=\"M 31.78125 66.40625 \r\nQ 24.171875 66.40625 20.328125 58.90625 \r\nQ 16.5 51.421875 16.5 36.375 \r\nQ 16.5 21.390625 20.328125 13.890625 \r\nQ 24.171875 6.390625 31.78125 6.390625 \r\nQ 39.453125 6.390625 43.28125 13.890625 \r\nQ 47.125 21.390625 47.125 36.375 \r\nQ 47.125 51.421875 43.28125 58.90625 \r\nQ 39.453125 66.40625 31.78125 66.40625 \r\nz\r\nM 31.78125 74.21875 \r\nQ 44.046875 74.21875 50.515625 64.515625 \r\nQ 56.984375 54.828125 56.984375 36.375 \r\nQ 56.984375 17.96875 50.515625 8.265625 \r\nQ 44.046875 -1.421875 31.78125 -1.421875 \r\nQ 19.53125 -1.421875 13.0625 8.265625 \r\nQ 6.59375 17.96875 6.59375 36.375 \r\nQ 6.59375 54.828125 13.0625 64.515625 \r\nQ 19.53125 74.21875 31.78125 74.21875 \r\nz\r\n\" id=\"DejaVuSans-48\"/>\r\n       </defs>\r\n       <use xlink:href=\"#DejaVuSans-48\"/>\r\n      </g>\r\n     </g>\r\n    </g>\r\n    <g id=\"ytick_2\">\r\n     <g id=\"line2d_5\">\r\n      <g>\r\n       <use style=\"stroke:#000000;stroke-width:0.8;\" x=\"46.965625\" xlink:href=\"#m7927b6cdeb\" y=\"270.095525\"/>\r\n      </g>\r\n     </g>\r\n     <g id=\"text_6\">\r\n      <!-- 100 -->\r\n      <g transform=\"translate(20.878125 273.894744)scale(0.1 -0.1)\">\r\n       <use xlink:href=\"#DejaVuSans-49\"/>\r\n       <use x=\"63.623047\" xlink:href=\"#DejaVuSans-48\"/>\r\n       <use x=\"127.246094\" xlink:href=\"#DejaVuSans-48\"/>\r\n      </g>\r\n     </g>\r\n    </g>\r\n    <g id=\"ytick_3\">\r\n     <g id=\"line2d_6\">\r\n      <g>\r\n       <use style=\"stroke:#000000;stroke-width:0.8;\" x=\"46.965625\" xlink:href=\"#m7927b6cdeb\" y=\"206.83105\"/>\r\n      </g>\r\n     </g>\r\n     <g id=\"text_7\">\r\n      <!-- 200 -->\r\n      <g transform=\"translate(20.878125 210.630269)scale(0.1 -0.1)\">\r\n       <use xlink:href=\"#DejaVuSans-50\"/>\r\n       <use x=\"63.623047\" xlink:href=\"#DejaVuSans-48\"/>\r\n       <use x=\"127.246094\" xlink:href=\"#DejaVuSans-48\"/>\r\n      </g>\r\n     </g>\r\n    </g>\r\n    <g id=\"ytick_4\">\r\n     <g id=\"line2d_7\">\r\n      <g>\r\n       <use style=\"stroke:#000000;stroke-width:0.8;\" x=\"46.965625\" xlink:href=\"#m7927b6cdeb\" y=\"143.566576\"/>\r\n      </g>\r\n     </g>\r\n     <g id=\"text_8\">\r\n      <!-- 300 -->\r\n      <g transform=\"translate(20.878125 147.365794)scale(0.1 -0.1)\">\r\n       <use xlink:href=\"#DejaVuSans-51\"/>\r\n       <use x=\"63.623047\" xlink:href=\"#DejaVuSans-48\"/>\r\n       <use x=\"127.246094\" xlink:href=\"#DejaVuSans-48\"/>\r\n      </g>\r\n     </g>\r\n    </g>\r\n    <g id=\"ytick_5\">\r\n     <g id=\"line2d_8\">\r\n      <g>\r\n       <use style=\"stroke:#000000;stroke-width:0.8;\" x=\"46.965625\" xlink:href=\"#m7927b6cdeb\" y=\"80.302101\"/>\r\n      </g>\r\n     </g>\r\n     <g id=\"text_9\">\r\n      <!-- 400 -->\r\n      <g transform=\"translate(20.878125 84.101319)scale(0.1 -0.1)\">\r\n       <defs>\r\n        <path d=\"M 37.796875 64.3125 \r\nL 12.890625 25.390625 \r\nL 37.796875 25.390625 \r\nz\r\nM 35.203125 72.90625 \r\nL 47.609375 72.90625 \r\nL 47.609375 25.390625 \r\nL 58.015625 25.390625 \r\nL 58.015625 17.1875 \r\nL 47.609375 17.1875 \r\nL 47.609375 0 \r\nL 37.796875 0 \r\nL 37.796875 17.1875 \r\nL 4.890625 17.1875 \r\nL 4.890625 26.703125 \r\nz\r\n\" id=\"DejaVuSans-52\"/>\r\n       </defs>\r\n       <use xlink:href=\"#DejaVuSans-52\"/>\r\n       <use x=\"63.623047\" xlink:href=\"#DejaVuSans-48\"/>\r\n       <use x=\"127.246094\" xlink:href=\"#DejaVuSans-48\"/>\r\n      </g>\r\n     </g>\r\n    </g>\r\n    <g id=\"ytick_6\">\r\n     <g id=\"line2d_9\">\r\n      <g>\r\n       <use style=\"stroke:#000000;stroke-width:0.8;\" x=\"46.965625\" xlink:href=\"#m7927b6cdeb\" y=\"17.037626\"/>\r\n      </g>\r\n     </g>\r\n     <g id=\"text_10\">\r\n      <!-- 500 -->\r\n      <g transform=\"translate(20.878125 20.836845)scale(0.1 -0.1)\">\r\n       <defs>\r\n        <path d=\"M 10.796875 72.90625 \r\nL 49.515625 72.90625 \r\nL 49.515625 64.59375 \r\nL 19.828125 64.59375 \r\nL 19.828125 46.734375 \r\nQ 21.96875 47.46875 24.109375 47.828125 \r\nQ 26.265625 48.1875 28.421875 48.1875 \r\nQ 40.625 48.1875 47.75 41.5 \r\nQ 54.890625 34.8125 54.890625 23.390625 \r\nQ 54.890625 11.625 47.5625 5.09375 \r\nQ 40.234375 -1.421875 26.90625 -1.421875 \r\nQ 22.3125 -1.421875 17.546875 -0.640625 \r\nQ 12.796875 0.140625 7.71875 1.703125 \r\nL 7.71875 11.625 \r\nQ 12.109375 9.234375 16.796875 8.0625 \r\nQ 21.484375 6.890625 26.703125 6.890625 \r\nQ 35.15625 6.890625 40.078125 11.328125 \r\nQ 45.015625 15.765625 45.015625 23.390625 \r\nQ 45.015625 31 40.078125 35.4375 \r\nQ 35.15625 39.890625 26.703125 39.890625 \r\nQ 22.75 39.890625 18.8125 39.015625 \r\nQ 14.890625 38.140625 10.796875 36.28125 \r\nz\r\n\" id=\"DejaVuSans-53\"/>\r\n       </defs>\r\n       <use xlink:href=\"#DejaVuSans-53\"/>\r\n       <use x=\"63.623047\" xlink:href=\"#DejaVuSans-48\"/>\r\n       <use x=\"127.246094\" xlink:href=\"#DejaVuSans-48\"/>\r\n      </g>\r\n     </g>\r\n    </g>\r\n    <g id=\"text_11\">\r\n     <!-- count -->\r\n     <g transform=\"translate(14.798438 184.38625)rotate(-90)scale(0.1 -0.1)\">\r\n      <defs>\r\n       <path d=\"M 30.609375 48.390625 \r\nQ 23.390625 48.390625 19.1875 42.75 \r\nQ 14.984375 37.109375 14.984375 27.296875 \r\nQ 14.984375 17.484375 19.15625 11.84375 \r\nQ 23.34375 6.203125 30.609375 6.203125 \r\nQ 37.796875 6.203125 41.984375 11.859375 \r\nQ 46.1875 17.53125 46.1875 27.296875 \r\nQ 46.1875 37.015625 41.984375 42.703125 \r\nQ 37.796875 48.390625 30.609375 48.390625 \r\nz\r\nM 30.609375 56 \r\nQ 42.328125 56 49.015625 48.375 \r\nQ 55.71875 40.765625 55.71875 27.296875 \r\nQ 55.71875 13.875 49.015625 6.21875 \r\nQ 42.328125 -1.421875 30.609375 -1.421875 \r\nQ 18.84375 -1.421875 12.171875 6.21875 \r\nQ 5.515625 13.875 5.515625 27.296875 \r\nQ 5.515625 40.765625 12.171875 48.375 \r\nQ 18.84375 56 30.609375 56 \r\nz\r\n\" id=\"DejaVuSans-111\"/>\r\n       <path d=\"M 8.5 21.578125 \r\nL 8.5 54.6875 \r\nL 17.484375 54.6875 \r\nL 17.484375 21.921875 \r\nQ 17.484375 14.15625 20.5 10.265625 \r\nQ 23.53125 6.390625 29.59375 6.390625 \r\nQ 36.859375 6.390625 41.078125 11.03125 \r\nQ 45.3125 15.671875 45.3125 23.6875 \r\nL 45.3125 54.6875 \r\nL 54.296875 54.6875 \r\nL 54.296875 0 \r\nL 45.3125 0 \r\nL 45.3125 8.40625 \r\nQ 42.046875 3.421875 37.71875 1 \r\nQ 33.40625 -1.421875 27.6875 -1.421875 \r\nQ 18.265625 -1.421875 13.375 4.4375 \r\nQ 8.5 10.296875 8.5 21.578125 \r\nz\r\nM 31.109375 56 \r\nz\r\n\" id=\"DejaVuSans-117\"/>\r\n       <path d=\"M 54.890625 33.015625 \r\nL 54.890625 0 \r\nL 45.90625 0 \r\nL 45.90625 32.71875 \r\nQ 45.90625 40.484375 42.875 44.328125 \r\nQ 39.84375 48.1875 33.796875 48.1875 \r\nQ 26.515625 48.1875 22.3125 43.546875 \r\nQ 18.109375 38.921875 18.109375 30.90625 \r\nL 18.109375 0 \r\nL 9.078125 0 \r\nL 9.078125 54.6875 \r\nL 18.109375 54.6875 \r\nL 18.109375 46.1875 \r\nQ 21.34375 51.125 25.703125 53.5625 \r\nQ 30.078125 56 35.796875 56 \r\nQ 45.21875 56 50.046875 50.171875 \r\nQ 54.890625 44.34375 54.890625 33.015625 \r\nz\r\n\" id=\"DejaVuSans-110\"/>\r\n       <path d=\"M 18.3125 70.21875 \r\nL 18.3125 54.6875 \r\nL 36.8125 54.6875 \r\nL 36.8125 47.703125 \r\nL 18.3125 47.703125 \r\nL 18.3125 18.015625 \r\nQ 18.3125 11.328125 20.140625 9.421875 \r\nQ 21.96875 7.515625 27.59375 7.515625 \r\nL 36.8125 7.515625 \r\nL 36.8125 0 \r\nL 27.59375 0 \r\nQ 17.1875 0 13.234375 3.875 \r\nQ 9.28125 7.765625 9.28125 18.015625 \r\nL 9.28125 47.703125 \r\nL 2.6875 47.703125 \r\nL 2.6875 54.6875 \r\nL 9.28125 54.6875 \r\nL 9.28125 70.21875 \r\nz\r\n\" id=\"DejaVuSans-116\"/>\r\n      </defs>\r\n      <use xlink:href=\"#DejaVuSans-99\"/>\r\n      <use x=\"54.980469\" xlink:href=\"#DejaVuSans-111\"/>\r\n      <use x=\"116.162109\" xlink:href=\"#DejaVuSans-117\"/>\r\n      <use x=\"179.541016\" xlink:href=\"#DejaVuSans-110\"/>\r\n      <use x=\"242.919922\" xlink:href=\"#DejaVuSans-116\"/>\r\n     </g>\r\n    </g>\r\n   </g>\r\n   <g id=\"patch_6\">\r\n    <path d=\"M 46.965625 333.36 \r\nL 46.965625 7.2 \r\n\" style=\"fill:none;stroke:#000000;stroke-linecap:square;stroke-linejoin:miter;stroke-width:0.8;\"/>\r\n   </g>\r\n   <g id=\"patch_7\">\r\n    <path d=\"M 716.565625 333.36 \r\nL 716.565625 7.2 \r\n\" style=\"fill:none;stroke:#000000;stroke-linecap:square;stroke-linejoin:miter;stroke-width:0.8;\"/>\r\n   </g>\r\n   <g id=\"patch_8\">\r\n    <path d=\"M 46.965625 333.36 \r\nL 716.565625 333.36 \r\n\" style=\"fill:none;stroke:#000000;stroke-linecap:square;stroke-linejoin:miter;stroke-width:0.8;\"/>\r\n   </g>\r\n   <g id=\"patch_9\">\r\n    <path d=\"M 46.965625 7.2 \r\nL 716.565625 7.2 \r\n\" style=\"fill:none;stroke:#000000;stroke-linecap:square;stroke-linejoin:miter;stroke-width:0.8;\"/>\r\n   </g>\r\n  </g>\r\n </g>\r\n <defs>\r\n  <clipPath id=\"p2a206f1b13\">\r\n   <rect height=\"326.16\" width=\"669.6\" x=\"46.965625\" y=\"7.2\"/>\r\n  </clipPath>\r\n </defs>\r\n</svg>\r\n",
      "image/png": "[encoded data removed]"
     },
     "metadata": {
      "needs_background": "light"
     }
    }
   ],
   "source": [
    "plt.figure(figsize=(12,6))\n",
    "sns.countplot(x='Pclass', data=df)\n",
    "plt.show()"
   ]
  },
  {
   "source": [
    "#### Count plot of the 'Pclass' attribute using Seaborn to display the number of passengers in each class"
   ],
   "cell_type": "markdown",
   "metadata": {}
  },
  {
   "cell_type": "code",
   "execution_count": 42,
   "metadata": {},
   "outputs": [
    {
     "output_type": "display_data",
     "data": {
      "application/vnd.plotly.v1+json": {
       "config": {
        "plotlyServerURL": "https://plot.ly"
       },
       "data": [
        {
         "coloraxis": "coloraxis",
         "hovertemplate": "x: %{x}<br>y: %{y}<br>color: %{z}<extra></extra>",
         "type": "heatmap",
         "x": [
          "PassengerId",
          "Survived",
          "Pclass",
          "Sex",
          "Age",
          "SibSp",
          "Parch",
          "Fare"
         ],
         "y": [
          "PassengerId",
          "Survived",
          "Pclass",
          "Sex",
          "Age",
          "SibSp",
          "Parch",
          "Fare"
         ],
         "z": [
          [
           1,
           -0.005006660767066476,
           -0.03514399403037967,
           0.042938880078788766,
           0.03684719786132784,
           -0.057526833784441705,
           -0.0016520124027188286,
           0.01265821928749123
          ],
          [
           -0.005006660767066476,
           1,
           -0.33848103596101586,
           -0.5433513806577526,
           -0.07722109457217737,
           -0.03532249888573588,
           0.08162940708348222,
           0.2573065223849618
          ],
          [
           -0.03514399403037967,
           -0.33848103596101586,
           1,
           0.1319004906047387,
           -0.36922601531551574,
           0.0830813628456866,
           0.01844267131074835,
           -0.5494996199439061
          ],
          [
           0.042938880078788766,
           -0.5433513806577526,
           0.1319004906047387,
           1,
           0.09325357685567698,
           -0.1146308103894235,
           -0.24548896009069662,
           -0.18233283380287008
          ],
          [
           0.03684719786132784,
           -0.07722109457217737,
           -0.36922601531551574,
           0.09325357685567698,
           1,
           -0.3082467589236574,
           -0.18911926263203518,
           0.09606669176903881
          ],
          [
           -0.057526833784441705,
           -0.03532249888573588,
           0.0830813628456866,
           -0.1146308103894235,
           -0.3082467589236574,
           1,
           0.41483769862015263,
           0.15965104324216103
          ],
          [
           -0.0016520124027188286,
           0.08162940708348222,
           0.01844267131074835,
           -0.24548896009069662,
           -0.18911926263203518,
           0.41483769862015263,
           1,
           0.21622494477076254
          ],
          [
           0.01265821928749123,
           0.2573065223849618,
           -0.5494996199439061,
           -0.18233283380287008,
           0.09606669176903881,
           0.15965104324216103,
           0.21622494477076254,
           1
          ]
         ]
        }
       ],
       "layout": {
        "coloraxis": {
         "colorscale": [
          [
           0,
           "#0d0887"
          ],
          [
           0.1111111111111111,
           "#46039f"
          ],
          [
           0.2222222222222222,
           "#7201a8"
          ],
          [
           0.3333333333333333,
           "#9c179e"
          ],
          [
           0.4444444444444444,
           "#bd3786"
          ],
          [
           0.5555555555555556,
           "#d8576b"
          ],
          [
           0.6666666666666666,
           "#ed7953"
          ],
          [
           0.7777777777777778,
           "#fb9f3a"
          ],
          [
           0.8888888888888888,
           "#fdca26"
          ],
          [
           1,
           "#f0f921"
          ]
         ]
        },
        "margin": {
         "t": 60
        },
        "template": {
         "data": {
          "bar": [
           {
            "error_x": {
             "color": "#2a3f5f"
            },
            "error_y": {
             "color": "#2a3f5f"
            },
            "marker": {
             "line": {
              "color": "#E5ECF6",
              "width": 0.5
             }
            },
            "type": "bar"
           }
          ],
          "barpolar": [
           {
            "marker": {
             "line": {
              "color": "#E5ECF6",
              "width": 0.5
             }
            },
            "type": "barpolar"
           }
          ],
          "carpet": [
           {
            "aaxis": {
             "endlinecolor": "#2a3f5f",
             "gridcolor": "white",
             "linecolor": "white",
             "minorgridcolor": "white",
             "startlinecolor": "#2a3f5f"
            },
            "baxis": {
             "endlinecolor": "#2a3f5f",
             "gridcolor": "white",
             "linecolor": "white",
             "minorgridcolor": "white",
             "startlinecolor": "#2a3f5f"
            },
            "type": "carpet"
           }
          ],
          "choropleth": [
           {
            "colorbar": {
             "outlinewidth": 0,
             "ticks": ""
            },
            "type": "choropleth"
           }
          ],
          "contour": [
           {
            "colorbar": {
             "outlinewidth": 0,
             "ticks": ""
            },
            "colorscale": [
             [
              0,
              "#0d0887"
             ],
             [
              0.1111111111111111,
              "#46039f"
             ],
             [
              0.2222222222222222,
              "#7201a8"
             ],
             [
              0.3333333333333333,
              "#9c179e"
             ],
             [
              0.4444444444444444,
              "#bd3786"
             ],
             [
              0.5555555555555556,
              "#d8576b"
             ],
             [
              0.6666666666666666,
              "#ed7953"
             ],
             [
              0.7777777777777778,
              "#fb9f3a"
             ],
             [
              0.8888888888888888,
              "#fdca26"
             ],
             [
              1,
              "#f0f921"
             ]
            ],
            "type": "contour"
           }
          ],
          "contourcarpet": [
           {
            "colorbar": {
             "outlinewidth": 0,
             "ticks": ""
            },
            "type": "contourcarpet"
           }
          ],
          "heatmap": [
           {
            "colorbar": {
             "outlinewidth": 0,
             "ticks": ""
            },
            "colorscale": [
             [
              0,
              "#0d0887"
             ],
             [
              0.1111111111111111,
              "#46039f"
             ],
             [
              0.2222222222222222,
              "#7201a8"
             ],
             [
              0.3333333333333333,
              "#9c179e"
             ],
             [
              0.4444444444444444,
              "#bd3786"
             ],
             [
              0.5555555555555556,
              "#d8576b"
             ],
             [
              0.6666666666666666,
              "#ed7953"
             ],
             [
              0.7777777777777778,
              "#fb9f3a"
             ],
             [
              0.8888888888888888,
              "#fdca26"
             ],
             [
              1,
              "#f0f921"
             ]
            ],
            "type": "heatmap"
           }
          ],
          "heatmapgl": [
           {
            "colorbar": {
             "outlinewidth": 0,
             "ticks": ""
            },
            "colorscale": [
             [
              0,
              "#0d0887"
             ],
             [
              0.1111111111111111,
              "#46039f"
             ],
             [
              0.2222222222222222,
              "#7201a8"
             ],
             [
              0.3333333333333333,
              "#9c179e"
             ],
             [
              0.4444444444444444,
              "#bd3786"
             ],
             [
              0.5555555555555556,
              "#d8576b"
             ],
             [
              0.6666666666666666,
              "#ed7953"
             ],
             [
              0.7777777777777778,
              "#fb9f3a"
             ],
             [
              0.8888888888888888,
              "#fdca26"
             ],
             [
              1,
              "#f0f921"
             ]
            ],
            "type": "heatmapgl"
           }
          ],
          "histogram": [
           {
            "marker": {
             "colorbar": {
              "outlinewidth": 0,
              "ticks": ""
             }
            },
            "type": "histogram"
           }
          ],
          "histogram2d": [
           {
            "colorbar": {
             "outlinewidth": 0,
             "ticks": ""
            },
            "colorscale": [
             [
              0,
              "#0d0887"
             ],
             [
              0.1111111111111111,
              "#46039f"
             ],
             [
              0.2222222222222222,
              "#7201a8"
             ],
             [
              0.3333333333333333,
              "#9c179e"
             ],
             [
              0.4444444444444444,
              "#bd3786"
             ],
             [
              0.5555555555555556,
              "#d8576b"
             ],
             [
              0.6666666666666666,
              "#ed7953"
             ],
             [
              0.7777777777777778,
              "#fb9f3a"
             ],
             [
              0.8888888888888888,
              "#fdca26"
             ],
             [
              1,
              "#f0f921"
             ]
            ],
            "type": "histogram2d"
           }
          ],
          "histogram2dcontour": [
           {
            "colorbar": {
             "outlinewidth": 0,
             "ticks": ""
            },
            "colorscale": [
             [
              0,
              "#0d0887"
             ],
             [
              0.1111111111111111,
              "#46039f"
             ],
             [
              0.2222222222222222,
              "#7201a8"
             ],
             [
              0.3333333333333333,
              "#9c179e"
             ],
             [
              0.4444444444444444,
              "#bd3786"
             ],
             [
              0.5555555555555556,
              "#d8576b"
             ],
             [
              0.6666666666666666,
              "#ed7953"
             ],
             [
              0.7777777777777778,
              "#fb9f3a"
             ],
             [
              0.8888888888888888,
              "#fdca26"
             ],
             [
              1,
              "#f0f921"
             ]
            ],
            "type": "histogram2dcontour"
           }
          ],
          "mesh3d": [
           {
            "colorbar": {
             "outlinewidth": 0,
             "ticks": ""
            },
            "type": "mesh3d"
           }
          ],
          "parcoords": [
           {
            "line": {
             "colorbar": {
              "outlinewidth": 0,
              "ticks": ""
             }
            },
            "type": "parcoords"
           }
          ],
          "pie": [
           {
            "automargin": true,
            "type": "pie"
           }
          ],
          "scatter": [
           {
            "marker": {
             "colorbar": {
              "outlinewidth": 0,
              "ticks": ""
             }
            },
            "type": "scatter"
           }
          ],
          "scatter3d": [
           {
            "line": {
             "colorbar": {
              "outlinewidth": 0,
              "ticks": ""
             }
            },
            "marker": {
             "colorbar": {
              "outlinewidth": 0,
              "ticks": ""
             }
            },
            "type": "scatter3d"
           }
          ],
          "scattercarpet": [
           {
            "marker": {
             "colorbar": {
              "outlinewidth": 0,
              "ticks": ""
             }
            },
            "type": "scattercarpet"
           }
          ],
          "scattergeo": [
           {
            "marker": {
             "colorbar": {
              "outlinewidth": 0,
              "ticks": ""
             }
            },
            "type": "scattergeo"
           }
          ],
          "scattergl": [
           {
            "marker": {
             "colorbar": {
              "outlinewidth": 0,
              "ticks": ""
             }
            },
            "type": "scattergl"
           }
          ],
          "scattermapbox": [
           {
            "marker": {
             "colorbar": {
              "outlinewidth": 0,
              "ticks": ""
             }
            },
            "type": "scattermapbox"
           }
          ],
          "scatterpolar": [
           {
            "marker": {
             "colorbar": {
              "outlinewidth": 0,
              "ticks": ""
             }
            },
            "type": "scatterpolar"
           }
          ],
          "scatterpolargl": [
           {
            "marker": {
             "colorbar": {
              "outlinewidth": 0,
              "ticks": ""
             }
            },
            "type": "scatterpolargl"
           }
          ],
          "scatterternary": [
           {
            "marker": {
             "colorbar": {
              "outlinewidth": 0,
              "ticks": ""
             }
            },
            "type": "scatterternary"
           }
          ],
          "surface": [
           {
            "colorbar": {
             "outlinewidth": 0,
             "ticks": ""
            },
            "colorscale": [
             [
              0,
              "#0d0887"
             ],
             [
              0.1111111111111111,
              "#46039f"
             ],
             [
              0.2222222222222222,
              "#7201a8"
             ],
             [
              0.3333333333333333,
              "#9c179e"
             ],
             [
              0.4444444444444444,
              "#bd3786"
             ],
             [
              0.5555555555555556,
              "#d8576b"
             ],
             [
              0.6666666666666666,
              "#ed7953"
             ],
             [
              0.7777777777777778,
              "#fb9f3a"
             ],
             [
              0.8888888888888888,
              "#fdca26"
             ],
             [
              1,
              "#f0f921"
             ]
            ],
            "type": "surface"
           }
          ],
          "table": [
           {
            "cells": {
             "fill": {
              "color": "#EBF0F8"
             },
             "line": {
              "color": "white"
             }
            },
            "header": {
             "fill": {
              "color": "#C8D4E3"
             },
             "line": {
              "color": "white"
             }
            },
            "type": "table"
           }
          ]
         },
         "layout": {
          "annotationdefaults": {
           "arrowcolor": "#2a3f5f",
           "arrowhead": 0,
           "arrowwidth": 1
          },
          "coloraxis": {
           "colorbar": {
            "outlinewidth": 0,
            "ticks": ""
           }
          },
          "colorscale": {
           "diverging": [
            [
             0,
             "#8e0152"
            ],
            [
             0.1,
             "#c51b7d"
            ],
            [
             0.2,
             "#de77ae"
            ],
            [
             0.3,
             "#f1b6da"
            ],
            [
             0.4,
             "#fde0ef"
            ],
            [
             0.5,
             "#f7f7f7"
            ],
            [
             0.6,
             "#e6f5d0"
            ],
            [
             0.7,
             "#b8e186"
            ],
            [
             0.8,
             "#7fbc41"
            ],
            [
             0.9,
             "#4d9221"
            ],
            [
             1,
             "#276419"
            ]
           ],
           "sequential": [
            [
             0,
             "#0d0887"
            ],
            [
             0.1111111111111111,
             "#46039f"
            ],
            [
             0.2222222222222222,
             "#7201a8"
            ],
            [
             0.3333333333333333,
             "#9c179e"
            ],
            [
             0.4444444444444444,
             "#bd3786"
            ],
            [
             0.5555555555555556,
             "#d8576b"
            ],
            [
             0.6666666666666666,
             "#ed7953"
            ],
            [
             0.7777777777777778,
             "#fb9f3a"
            ],
            [
             0.8888888888888888,
             "#fdca26"
            ],
            [
             1,
             "#f0f921"
            ]
           ],
           "sequentialminus": [
            [
             0,
             "#0d0887"
            ],
            [
             0.1111111111111111,
             "#46039f"
            ],
            [
             0.2222222222222222,
             "#7201a8"
            ],
            [
             0.3333333333333333,
             "#9c179e"
            ],
            [
             0.4444444444444444,
             "#bd3786"
            ],
            [
             0.5555555555555556,
             "#d8576b"
            ],
            [
             0.6666666666666666,
             "#ed7953"
            ],
            [
             0.7777777777777778,
             "#fb9f3a"
            ],
            [
             0.8888888888888888,
             "#fdca26"
            ],
            [
             1,
             "#f0f921"
            ]
           ]
          },
          "colorway": [
           "#636efa",
           "#EF553B",
           "#00cc96",
           "#ab63fa",
           "#FFA15A",
           "#19d3f3",
           "#FF6692",
           "#B6E880",
           "#FF97FF",
           "#FECB52"
          ],
          "font": {
           "color": "#2a3f5f"
          },
          "geo": {
           "bgcolor": "white",
           "lakecolor": "white",
           "landcolor": "#E5ECF6",
           "showlakes": true,
           "showland": true,
           "subunitcolor": "white"
          },
          "hoverlabel": {
           "align": "left"
          },
          "hovermode": "closest",
          "mapbox": {
           "style": "light"
          },
          "paper_bgcolor": "white",
          "plot_bgcolor": "#E5ECF6",
          "polar": {
           "angularaxis": {
            "gridcolor": "white",
            "linecolor": "white",
            "ticks": ""
           },
           "bgcolor": "#E5ECF6",
           "radialaxis": {
            "gridcolor": "white",
            "linecolor": "white",
            "ticks": ""
           }
          },
          "scene": {
           "xaxis": {
            "backgroundcolor": "#E5ECF6",
            "gridcolor": "white",
            "gridwidth": 2,
            "linecolor": "white",
            "showbackground": true,
            "ticks": "",
            "zerolinecolor": "white"
           },
           "yaxis": {
            "backgroundcolor": "#E5ECF6",
            "gridcolor": "white",
            "gridwidth": 2,
            "linecolor": "white",
            "showbackground": true,
            "ticks": "",
            "zerolinecolor": "white"
           },
           "zaxis": {
            "backgroundcolor": "#E5ECF6",
            "gridcolor": "white",
            "gridwidth": 2,
            "linecolor": "white",
            "showbackground": true,
            "ticks": "",
            "zerolinecolor": "white"
           }
          },
          "shapedefaults": {
           "line": {
            "color": "#2a3f5f"
           }
          },
          "ternary": {
           "aaxis": {
            "gridcolor": "white",
            "linecolor": "white",
            "ticks": ""
           },
           "baxis": {
            "gridcolor": "white",
            "linecolor": "white",
            "ticks": ""
           },
           "bgcolor": "#E5ECF6",
           "caxis": {
            "gridcolor": "white",
            "linecolor": "white",
            "ticks": ""
           }
          },
          "title": {
           "x": 0.05
          },
          "xaxis": {
           "automargin": true,
           "gridcolor": "white",
           "linecolor": "white",
           "ticks": "",
           "title": {
            "standoff": 15
           },
           "zerolinecolor": "white",
           "zerolinewidth": 2
          },
          "yaxis": {
           "automargin": true,
           "gridcolor": "white",
           "linecolor": "white",
           "ticks": "",
           "title": {
            "standoff": 15
           },
           "zerolinecolor": "white",
           "zerolinewidth": 2
          }
         }
        },
        "xaxis": {
         "constrain": "domain",
         "scaleanchor": "y"
        },
        "yaxis": {
         "autorange": "reversed",
         "constrain": "domain"
        }
       }
      }
     },
     "metadata": {}
    }
   ],
   "source": [
    "df_copy = df.drop(['Name', 'Ticket', 'Cabin', 'Embarked'], axis=1)\n",
    "df_copy['Sex'] = df_copy['Sex'].replace({'male': 1, 'female': 0})\n",
    "\n",
    "corr = df_copy.corr()\n",
    "labels = list(df_copy)\n",
    "\n",
    "fig = ex.imshow(corr, x=labels, y=labels)\n",
    "fig.show()"
   ]
  },
  {
   "source": [
    "#### Heatmap of the correlation using Plotly "
   ],
   "cell_type": "markdown",
   "metadata": {}
  },
  {
   "cell_type": "code",
   "execution_count": 45,
   "metadata": {},
   "outputs": [
    {
     "output_type": "display_data",
     "data": {
      "application/vnd.plotly.v1+json": {
       "config": {
        "plotlyServerURL": "https://plot.ly"
       },
       "data": [
        {
         "alignmentgroup": "True",
         "box": {
          "visible": false
         },
         "hovertemplate": "Pclass=%{x}<br>Age=%{y}<extra></extra>",
         "legendgroup": "3",
         "marker": {
          "color": "#636efa"
         },
         "name": "3",
         "offsetgroup": "3",
         "orientation": "v",
         "scalegroup": "True",
         "showlegend": true,
         "type": "violin",
         "x": [
          3,
          3,
          3,
          3,
          3,
          3,
          3,
          3,
          3,
          3,
          3,
          3,
          3,
          3,
          3,
          3,
          3,
          3,
          3,
          3,
          3,
          3,
          3,
          3,
          3,
          3,
          3,
          3,
          3,
          3,
          3,
          3,
          3,
          3,
          3,
          3,
          3,
          3,
          3,
          3,
          3,
          3,
          3,
          3,
          3,
          3,
          3,
          3,
          3,
          3,
          3,
          3,
          3,
          3,
          3,
          3,
          3,
          3,
          3,
          3,
          3,
          3,
          3,
          3,
          3,
          3,
          3,
          3,
          3,
          3,
          3,
          3,
          3,
          3,
          3,
          3,
          3,
          3,
          3,
          3,
          3,
          3,
          3,
          3,
          3,
          3,
          3,
          3,
          3,
          3,
          3,
          3,
          3,
          3,
          3,
          3,
          3,
          3,
          3,
          3,
          3,
          3,
          3,
          3,
          3,
          3,
          3,
          3,
          3,
          3,
          3,
          3,
          3,
          3,
          3,
          3,
          3,
          3,
          3,
          3,
          3,
          3,
          3,
          3,
          3,
          3,
          3,
          3,
          3,
          3,
          3,
          3,
          3,
          3,
          3,
          3,
          3,
          3,
          3,
          3,
          3,
          3,
          3,
          3,
          3,
          3,
          3,
          3,
          3,
          3,
          3,
          3,
          3,
          3,
          3,
          3,
          3,
          3,
          3,
          3,
          3,
          3,
          3,
          3,
          3,
          3,
          3,
          3,
          3,
          3,
          3,
          3,
          3,
          3,
          3,
          3,
          3,
          3,
          3,
          3,
          3,
          3,
          3,
          3,
          3,
          3,
          3,
          3,
          3,
          3,
          3,
          3,
          3,
          3,
          3,
          3,
          3,
          3,
          3,
          3,
          3,
          3,
          3,
          3,
          3,
          3,
          3,
          3,
          3,
          3,
          3,
          3,
          3,
          3,
          3,
          3,
          3,
          3,
          3,
          3,
          3,
          3,
          3,
          3,
          3,
          3,
          3,
          3,
          3,
          3,
          3,
          3,
          3,
          3,
          3,
          3,
          3,
          3,
          3,
          3,
          3,
          3,
          3,
          3,
          3,
          3,
          3,
          3,
          3,
          3,
          3,
          3,
          3,
          3,
          3,
          3,
          3,
          3,
          3,
          3,
          3,
          3,
          3,
          3,
          3,
          3,
          3,
          3,
          3,
          3,
          3,
          3,
          3,
          3,
          3,
          3,
          3,
          3,
          3,
          3,
          3,
          3,
          3,
          3,
          3,
          3,
          3,
          3,
          3,
          3,
          3,
          3,
          3,
          3,
          3,
          3,
          3,
          3,
          3,
          3,
          3,
          3,
          3,
          3,
          3,
          3,
          3,
          3,
          3,
          3,
          3,
          3,
          3,
          3,
          3,
          3,
          3,
          3,
          3,
          3,
          3,
          3,
          3,
          3,
          3,
          3,
          3,
          3,
          3,
          3,
          3,
          3,
          3,
          3,
          3,
          3,
          3,
          3,
          3,
          3,
          3,
          3,
          3,
          3,
          3,
          3,
          3,
          3,
          3,
          3,
          3,
          3,
          3,
          3,
          3,
          3,
          3,
          3,
          3,
          3,
          3,
          3,
          3,
          3,
          3,
          3,
          3,
          3,
          3,
          3,
          3,
          3,
          3,
          3,
          3,
          3,
          3,
          3,
          3,
          3,
          3,
          3,
          3,
          3,
          3,
          3,
          3,
          3,
          3,
          3,
          3,
          3,
          3,
          3,
          3,
          3,
          3,
          3,
          3,
          3,
          3,
          3,
          3,
          3,
          3,
          3,
          3,
          3,
          3,
          3,
          3,
          3,
          3,
          3,
          3,
          3,
          3,
          3,
          3,
          3,
          3,
          3,
          3,
          3,
          3,
          3,
          3,
          3,
          3,
          3,
          3,
          3,
          3,
          3,
          3,
          3,
          3,
          3,
          3,
          3,
          3,
          3,
          3,
          3,
          3,
          3,
          3,
          3,
          3,
          3,
          3,
          3,
          3,
          3,
          3,
          3,
          3,
          3,
          3,
          3,
          3,
          3,
          3,
          3,
          3,
          3,
          3,
          3,
          3,
          3,
          3,
          3,
          3,
          3,
          3,
          3,
          3,
          3,
          3,
          3,
          3,
          3,
          3,
          3,
          3,
          3,
          3,
          3,
          3,
          3,
          3
         ],
         "x0": " ",
         "xaxis": "x",
         "y": [
          22,
          26,
          35,
          null,
          2,
          27,
          4,
          20,
          39,
          14,
          2,
          31,
          null,
          15,
          8,
          38,
          null,
          null,
          null,
          null,
          null,
          21,
          18,
          14,
          40,
          null,
          19,
          null,
          null,
          null,
          null,
          18,
          7,
          21,
          28.5,
          11,
          22,
          4,
          null,
          19,
          17,
          26,
          16,
          26,
          32,
          25,
          null,
          null,
          30,
          22,
          29,
          null,
          33,
          16,
          null,
          24,
          29,
          20,
          26,
          59,
          null,
          28,
          null,
          33,
          37,
          28,
          21,
          null,
          38,
          null,
          14.5,
          22,
          20,
          17,
          21,
          70.5,
          2,
          null,
          12,
          null,
          24,
          null,
          45,
          33,
          20,
          47,
          16,
          null,
          22,
          24,
          19,
          27,
          9,
          55.5,
          40.5,
          null,
          16,
          30,
          null,
          null,
          44,
          26,
          17,
          1,
          9,
          45,
          28,
          4,
          1,
          21,
          18,
          null,
          36,
          null,
          9,
          4,
          null,
          40,
          36,
          19,
          null,
          42,
          null,
          28,
          null,
          34,
          45.5,
          18,
          2,
          32,
          26,
          16,
          24,
          22,
          null,
          27,
          16,
          51,
          null,
          22,
          20.5,
          null,
          29,
          5,
          null,
          null,
          null,
          22,
          30,
          25,
          null,
          29,
          30,
          41,
          29,
          null,
          3,
          null,
          16,
          25,
          25,
          null,
          45,
          7,
          35,
          65,
          28,
          16,
          19,
          33,
          30,
          22,
          22,
          24,
          24,
          23.5,
          null,
          null,
          19,
          null,
          28,
          26,
          22,
          27,
          null,
          61,
          31,
          null,
          16,
          null,
          45,
          null,
          3,
          42,
          23,
          15,
          25,
          null,
          28,
          null,
          null,
          40,
          45,
          35,
          null,
          30,
          null,
          null,
          18,
          19,
          3,
          22,
          20,
          19,
          1,
          32,
          null,
          1,
          null,
          21,
          28,
          24,
          22,
          31,
          39,
          26,
          21,
          28,
          20,
          51,
          21,
          null,
          null,
          null,
          44,
          null,
          10,
          null,
          21,
          29,
          28,
          18,
          null,
          null,
          32,
          null,
          17,
          21,
          20,
          25,
          null,
          5,
          null,
          null,
          29,
          null,
          34,
          null,
          38,
          null,
          0.75,
          null,
          38,
          22,
          29,
          22,
          2,
          9,
          50,
          63,
          null,
          30,
          9,
          null,
          21,
          21,
          null,
          null,
          24,
          17,
          21,
          null,
          37,
          28,
          26,
          29,
          null,
          24,
          null,
          32,
          22,
          null,
          null,
          40.5,
          39,
          null,
          17,
          null,
          30,
          null,
          9,
          11,
          33,
          null,
          22,
          22,
          36,
          null,
          40,
          null,
          null,
          24,
          19,
          29,
          null,
          32,
          null,
          16,
          19,
          null,
          32,
          null,
          22,
          null,
          35,
          47,
          null,
          36,
          49,
          null,
          null,
          44,
          36,
          30,
          39,
          null,
          null,
          null,
          35,
          34,
          26,
          27,
          20,
          21,
          21,
          26,
          null,
          51,
          9,
          32,
          41,
          null,
          20,
          2,
          null,
          0.75,
          19,
          null,
          23,
          null,
          21,
          null,
          18,
          null,
          32,
          40,
          36,
          20,
          null,
          43,
          18,
          24.5,
          18,
          43,
          null,
          20,
          14,
          14,
          19,
          18,
          4,
          null,
          25,
          44,
          null,
          42,
          18,
          25,
          26,
          null,
          29,
          19,
          null,
          33,
          17,
          20,
          null,
          25,
          11,
          28.5,
          48,
          null,
          null,
          24,
          31,
          16,
          31,
          6,
          33,
          23,
          28,
          34,
          null,
          41,
          20,
          16,
          30.5,
          null,
          32,
          24,
          48,
          null,
          18,
          null,
          5,
          null,
          13,
          null,
          25,
          25,
          18,
          8,
          1,
          null,
          null,
          25,
          31,
          30,
          30,
          0.42,
          27,
          31,
          18,
          26,
          39,
          6,
          30.5,
          23,
          43,
          10,
          27,
          27,
          2,
          null,
          null,
          null,
          15,
          null,
          23,
          18,
          21,
          null,
          32,
          20,
          34.5,
          17,
          42,
          null,
          35,
          4,
          74,
          9,
          18,
          24,
          null,
          41,
          null,
          null,
          4,
          26,
          47,
          15,
          20,
          19,
          null,
          33,
          22,
          25,
          39,
          null,
          32
         ],
         "y0": " ",
         "yaxis": "y"
        },
        {
         "alignmentgroup": "True",
         "box": {
          "visible": false
         },
         "hovertemplate": "Pclass=%{x}<br>Age=%{y}<extra></extra>",
         "legendgroup": "1",
         "marker": {
          "color": "#EF553B"
         },
         "name": "1",
         "offsetgroup": "1",
         "orientation": "v",
         "scalegroup": "True",
         "showlegend": true,
         "type": "violin",
         "x": [
          1,
          1,
          1,
          1,
          1,
          1,
          1,
          1,
          1,
          1,
          1,
          1,
          1,
          1,
          1,
          1,
          1,
          1,
          1,
          1,
          1,
          1,
          1,
          1,
          1,
          1,
          1,
          1,
          1,
          1,
          1,
          1,
          1,
          1,
          1,
          1,
          1,
          1,
          1,
          1,
          1,
          1,
          1,
          1,
          1,
          1,
          1,
          1,
          1,
          1,
          1,
          1,
          1,
          1,
          1,
          1,
          1,
          1,
          1,
          1,
          1,
          1,
          1,
          1,
          1,
          1,
          1,
          1,
          1,
          1,
          1,
          1,
          1,
          1,
          1,
          1,
          1,
          1,
          1,
          1,
          1,
          1,
          1,
          1,
          1,
          1,
          1,
          1,
          1,
          1,
          1,
          1,
          1,
          1,
          1,
          1,
          1,
          1,
          1,
          1,
          1,
          1,
          1,
          1,
          1,
          1,
          1,
          1,
          1,
          1,
          1,
          1,
          1,
          1,
          1,
          1,
          1,
          1,
          1,
          1,
          1,
          1,
          1,
          1,
          1,
          1,
          1,
          1,
          1,
          1,
          1,
          1,
          1,
          1,
          1,
          1,
          1,
          1,
          1,
          1,
          1,
          1,
          1,
          1,
          1,
          1,
          1,
          1,
          1,
          1,
          1,
          1,
          1,
          1,
          1,
          1,
          1,
          1,
          1,
          1,
          1,
          1,
          1,
          1,
          1,
          1,
          1,
          1,
          1,
          1,
          1,
          1,
          1,
          1,
          1,
          1,
          1,
          1,
          1,
          1,
          1,
          1,
          1,
          1,
          1,
          1,
          1,
          1,
          1,
          1,
          1,
          1,
          1,
          1,
          1,
          1,
          1,
          1,
          1,
          1,
          1,
          1,
          1,
          1,
          1,
          1,
          1,
          1,
          1,
          1,
          1,
          1,
          1,
          1,
          1,
          1
         ],
         "x0": " ",
         "xaxis": "x",
         "y": [
          38,
          35,
          54,
          58,
          28,
          19,
          40,
          null,
          28,
          42,
          49,
          65,
          null,
          38,
          45,
          null,
          28,
          23,
          46,
          71,
          23,
          21,
          47,
          24,
          54,
          19,
          37,
          24,
          22,
          51,
          null,
          null,
          61,
          56,
          50,
          null,
          45,
          44,
          58,
          40,
          31,
          32,
          38,
          35,
          44,
          37,
          62,
          null,
          30,
          35,
          52,
          40,
          58,
          35,
          null,
          37,
          63,
          null,
          26,
          19,
          null,
          2,
          null,
          50,
          0.92,
          null,
          17,
          30,
          24,
          18,
          31,
          40,
          36,
          16,
          45.5,
          38,
          null,
          29,
          41,
          45,
          24,
          null,
          22,
          60,
          24,
          25,
          22,
          null,
          27,
          42,
          35,
          36,
          23,
          33,
          28,
          50,
          14,
          64,
          4,
          34,
          52,
          30,
          49,
          65,
          null,
          48,
          47,
          56,
          null,
          25,
          35,
          58,
          55,
          71,
          54,
          25,
          16,
          18,
          null,
          36,
          54,
          47,
          30,
          44,
          null,
          45,
          30,
          22,
          36,
          50,
          64,
          17,
          62,
          48,
          null,
          39,
          53,
          36,
          39,
          39,
          36,
          18,
          60,
          52,
          49,
          null,
          35,
          27,
          40,
          42,
          61,
          21,
          80,
          32,
          null,
          24,
          48,
          56,
          58,
          50,
          47,
          null,
          31,
          36,
          27,
          15,
          31,
          60,
          49,
          18,
          35,
          42,
          22,
          24,
          null,
          48,
          38,
          27,
          29,
          35,
          null,
          36,
          21,
          70,
          19,
          33,
          36,
          51,
          null,
          43,
          17,
          29,
          46,
          null,
          49,
          11,
          39,
          33,
          null,
          52,
          38,
          62,
          39,
          null,
          30,
          null,
          16,
          45,
          51,
          48,
          31,
          47,
          33,
          56,
          19,
          26
         ],
         "y0": " ",
         "yaxis": "y"
        },
        {
         "alignmentgroup": "True",
         "box": {
          "visible": false
         },
         "hovertemplate": "Pclass=%{x}<br>Age=%{y}<extra></extra>",
         "legendgroup": "2",
         "marker": {
          "color": "#00cc96"
         },
         "name": "2",
         "offsetgroup": "2",
         "orientation": "v",
         "scalegroup": "True",
         "showlegend": true,
         "type": "violin",
         "x": [
          2,
          2,
          2,
          2,
          2,
          2,
          2,
          2,
          2,
          2,
          2,
          2,
          2,
          2,
          2,
          2,
          2,
          2,
          2,
          2,
          2,
          2,
          2,
          2,
          2,
          2,
          2,
          2,
          2,
          2,
          2,
          2,
          2,
          2,
          2,
          2,
          2,
          2,
          2,
          2,
          2,
          2,
          2,
          2,
          2,
          2,
          2,
          2,
          2,
          2,
          2,
          2,
          2,
          2,
          2,
          2,
          2,
          2,
          2,
          2,
          2,
          2,
          2,
          2,
          2,
          2,
          2,
          2,
          2,
          2,
          2,
          2,
          2,
          2,
          2,
          2,
          2,
          2,
          2,
          2,
          2,
          2,
          2,
          2,
          2,
          2,
          2,
          2,
          2,
          2,
          2,
          2,
          2,
          2,
          2,
          2,
          2,
          2,
          2,
          2,
          2,
          2,
          2,
          2,
          2,
          2,
          2,
          2,
          2,
          2,
          2,
          2,
          2,
          2,
          2,
          2,
          2,
          2,
          2,
          2,
          2,
          2,
          2,
          2,
          2,
          2,
          2,
          2,
          2,
          2,
          2,
          2,
          2,
          2,
          2,
          2,
          2,
          2,
          2,
          2,
          2,
          2,
          2,
          2,
          2,
          2,
          2,
          2,
          2,
          2,
          2,
          2,
          2,
          2,
          2,
          2,
          2,
          2,
          2,
          2,
          2,
          2,
          2,
          2,
          2,
          2,
          2,
          2,
          2,
          2,
          2,
          2,
          2,
          2,
          2,
          2,
          2,
          2,
          2,
          2,
          2,
          2,
          2,
          2
         ],
         "x0": " ",
         "xaxis": "x",
         "y": [
          14,
          55,
          null,
          35,
          34,
          66,
          27,
          3,
          29,
          21,
          5,
          29,
          32,
          21,
          0.83,
          17,
          34,
          34,
          29,
          21,
          32.5,
          32.5,
          29,
          25,
          23,
          18,
          19,
          36.5,
          42,
          51,
          40,
          30,
          null,
          1,
          32,
          19,
          3,
          24,
          35,
          30,
          42,
          30,
          27,
          19,
          18,
          59,
          24,
          44,
          8,
          19,
          33,
          29,
          24,
          54,
          50,
          36,
          41,
          null,
          42,
          36,
          null,
          30,
          26,
          43,
          24,
          54,
          30,
          22,
          36,
          2,
          28,
          25,
          36,
          24,
          40,
          38,
          29,
          18,
          36,
          17,
          46,
          23,
          28,
          34,
          3,
          null,
          34,
          18,
          30,
          28,
          19,
          42,
          24,
          31,
          45,
          28,
          13,
          36,
          50,
          48,
          null,
          33,
          23,
          34,
          null,
          33,
          34,
          36,
          50,
          23,
          2,
          7,
          32,
          19,
          null,
          8,
          27,
          28,
          62,
          34,
          25,
          54,
          47,
          37,
          null,
          24,
          22,
          24,
          4,
          26,
          57,
          28,
          31,
          18,
          24,
          23,
          32,
          25,
          40,
          70,
          31,
          null,
          60,
          25,
          52,
          39,
          45,
          52,
          27,
          6,
          34,
          50,
          30,
          25,
          null,
          23,
          23,
          30,
          4,
          48,
          0.67,
          18,
          57,
          54,
          16,
          39,
          34,
          31,
          39,
          35,
          31,
          1,
          0.83,
          16,
          28,
          44,
          21,
          24,
          42,
          27,
          28,
          25,
          28,
          27
         ],
         "y0": " ",
         "yaxis": "y"
        }
       ],
       "layout": {
        "legend": {
         "title": {
          "text": "Pclass"
         },
         "tracegroupgap": 0
        },
        "margin": {
         "t": 60
        },
        "template": {
         "data": {
          "bar": [
           {
            "error_x": {
             "color": "#2a3f5f"
            },
            "error_y": {
             "color": "#2a3f5f"
            },
            "marker": {
             "line": {
              "color": "#E5ECF6",
              "width": 0.5
             }
            },
            "type": "bar"
           }
          ],
          "barpolar": [
           {
            "marker": {
             "line": {
              "color": "#E5ECF6",
              "width": 0.5
             }
            },
            "type": "barpolar"
           }
          ],
          "carpet": [
           {
            "aaxis": {
             "endlinecolor": "#2a3f5f",
             "gridcolor": "white",
             "linecolor": "white",
             "minorgridcolor": "white",
             "startlinecolor": "#2a3f5f"
            },
            "baxis": {
             "endlinecolor": "#2a3f5f",
             "gridcolor": "white",
             "linecolor": "white",
             "minorgridcolor": "white",
             "startlinecolor": "#2a3f5f"
            },
            "type": "carpet"
           }
          ],
          "choropleth": [
           {
            "colorbar": {
             "outlinewidth": 0,
             "ticks": ""
            },
            "type": "choropleth"
           }
          ],
          "contour": [
           {
            "colorbar": {
             "outlinewidth": 0,
             "ticks": ""
            },
            "colorscale": [
             [
              0,
              "#0d0887"
             ],
             [
              0.1111111111111111,
              "#46039f"
             ],
             [
              0.2222222222222222,
              "#7201a8"
             ],
             [
              0.3333333333333333,
              "#9c179e"
             ],
             [
              0.4444444444444444,
              "#bd3786"
             ],
             [
              0.5555555555555556,
              "#d8576b"
             ],
             [
              0.6666666666666666,
              "#ed7953"
             ],
             [
              0.7777777777777778,
              "#fb9f3a"
             ],
             [
              0.8888888888888888,
              "#fdca26"
             ],
             [
              1,
              "#f0f921"
             ]
            ],
            "type": "contour"
           }
          ],
          "contourcarpet": [
           {
            "colorbar": {
             "outlinewidth": 0,
             "ticks": ""
            },
            "type": "contourcarpet"
           }
          ],
          "heatmap": [
           {
            "colorbar": {
             "outlinewidth": 0,
             "ticks": ""
            },
            "colorscale": [
             [
              0,
              "#0d0887"
             ],
             [
              0.1111111111111111,
              "#46039f"
             ],
             [
              0.2222222222222222,
              "#7201a8"
             ],
             [
              0.3333333333333333,
              "#9c179e"
             ],
             [
              0.4444444444444444,
              "#bd3786"
             ],
             [
              0.5555555555555556,
              "#d8576b"
             ],
             [
              0.6666666666666666,
              "#ed7953"
             ],
             [
              0.7777777777777778,
              "#fb9f3a"
             ],
             [
              0.8888888888888888,
              "#fdca26"
             ],
             [
              1,
              "#f0f921"
             ]
            ],
            "type": "heatmap"
           }
          ],
          "heatmapgl": [
           {
            "colorbar": {
             "outlinewidth": 0,
             "ticks": ""
            },
            "colorscale": [
             [
              0,
              "#0d0887"
             ],
             [
              0.1111111111111111,
              "#46039f"
             ],
             [
              0.2222222222222222,
              "#7201a8"
             ],
             [
              0.3333333333333333,
              "#9c179e"
             ],
             [
              0.4444444444444444,
              "#bd3786"
             ],
             [
              0.5555555555555556,
              "#d8576b"
             ],
             [
              0.6666666666666666,
              "#ed7953"
             ],
             [
              0.7777777777777778,
              "#fb9f3a"
             ],
             [
              0.8888888888888888,
              "#fdca26"
             ],
             [
              1,
              "#f0f921"
             ]
            ],
            "type": "heatmapgl"
           }
          ],
          "histogram": [
           {
            "marker": {
             "colorbar": {
              "outlinewidth": 0,
              "ticks": ""
             }
            },
            "type": "histogram"
           }
          ],
          "histogram2d": [
           {
            "colorbar": {
             "outlinewidth": 0,
             "ticks": ""
            },
            "colorscale": [
             [
              0,
              "#0d0887"
             ],
             [
              0.1111111111111111,
              "#46039f"
             ],
             [
              0.2222222222222222,
              "#7201a8"
             ],
             [
              0.3333333333333333,
              "#9c179e"
             ],
             [
              0.4444444444444444,
              "#bd3786"
             ],
             [
              0.5555555555555556,
              "#d8576b"
             ],
             [
              0.6666666666666666,
              "#ed7953"
             ],
             [
              0.7777777777777778,
              "#fb9f3a"
             ],
             [
              0.8888888888888888,
              "#fdca26"
             ],
             [
              1,
              "#f0f921"
             ]
            ],
            "type": "histogram2d"
           }
          ],
          "histogram2dcontour": [
           {
            "colorbar": {
             "outlinewidth": 0,
             "ticks": ""
            },
            "colorscale": [
             [
              0,
              "#0d0887"
             ],
             [
              0.1111111111111111,
              "#46039f"
             ],
             [
              0.2222222222222222,
              "#7201a8"
             ],
             [
              0.3333333333333333,
              "#9c179e"
             ],
             [
              0.4444444444444444,
              "#bd3786"
             ],
             [
              0.5555555555555556,
              "#d8576b"
             ],
             [
              0.6666666666666666,
              "#ed7953"
             ],
             [
              0.7777777777777778,
              "#fb9f3a"
             ],
             [
              0.8888888888888888,
              "#fdca26"
             ],
             [
              1,
              "#f0f921"
             ]
            ],
            "type": "histogram2dcontour"
           }
          ],
          "mesh3d": [
           {
            "colorbar": {
             "outlinewidth": 0,
             "ticks": ""
            },
            "type": "mesh3d"
           }
          ],
          "parcoords": [
           {
            "line": {
             "colorbar": {
              "outlinewidth": 0,
              "ticks": ""
             }
            },
            "type": "parcoords"
           }
          ],
          "pie": [
           {
            "automargin": true,
            "type": "pie"
           }
          ],
          "scatter": [
           {
            "marker": {
             "colorbar": {
              "outlinewidth": 0,
              "ticks": ""
             }
            },
            "type": "scatter"
           }
          ],
          "scatter3d": [
           {
            "line": {
             "colorbar": {
              "outlinewidth": 0,
              "ticks": ""
             }
            },
            "marker": {
             "colorbar": {
              "outlinewidth": 0,
              "ticks": ""
             }
            },
            "type": "scatter3d"
           }
          ],
          "scattercarpet": [
           {
            "marker": {
             "colorbar": {
              "outlinewidth": 0,
              "ticks": ""
             }
            },
            "type": "scattercarpet"
           }
          ],
          "scattergeo": [
           {
            "marker": {
             "colorbar": {
              "outlinewidth": 0,
              "ticks": ""
             }
            },
            "type": "scattergeo"
           }
          ],
          "scattergl": [
           {
            "marker": {
             "colorbar": {
              "outlinewidth": 0,
              "ticks": ""
             }
            },
            "type": "scattergl"
           }
          ],
          "scattermapbox": [
           {
            "marker": {
             "colorbar": {
              "outlinewidth": 0,
              "ticks": ""
             }
            },
            "type": "scattermapbox"
           }
          ],
          "scatterpolar": [
           {
            "marker": {
             "colorbar": {
              "outlinewidth": 0,
              "ticks": ""
             }
            },
            "type": "scatterpolar"
           }
          ],
          "scatterpolargl": [
           {
            "marker": {
             "colorbar": {
              "outlinewidth": 0,
              "ticks": ""
             }
            },
            "type": "scatterpolargl"
           }
          ],
          "scatterternary": [
           {
            "marker": {
             "colorbar": {
              "outlinewidth": 0,
              "ticks": ""
             }
            },
            "type": "scatterternary"
           }
          ],
          "surface": [
           {
            "colorbar": {
             "outlinewidth": 0,
             "ticks": ""
            },
            "colorscale": [
             [
              0,
              "#0d0887"
             ],
             [
              0.1111111111111111,
              "#46039f"
             ],
             [
              0.2222222222222222,
              "#7201a8"
             ],
             [
              0.3333333333333333,
              "#9c179e"
             ],
             [
              0.4444444444444444,
              "#bd3786"
             ],
             [
              0.5555555555555556,
              "#d8576b"
             ],
             [
              0.6666666666666666,
              "#ed7953"
             ],
             [
              0.7777777777777778,
              "#fb9f3a"
             ],
             [
              0.8888888888888888,
              "#fdca26"
             ],
             [
              1,
              "#f0f921"
             ]
            ],
            "type": "surface"
           }
          ],
          "table": [
           {
            "cells": {
             "fill": {
              "color": "#EBF0F8"
             },
             "line": {
              "color": "white"
             }
            },
            "header": {
             "fill": {
              "color": "#C8D4E3"
             },
             "line": {
              "color": "white"
             }
            },
            "type": "table"
           }
          ]
         },
         "layout": {
          "annotationdefaults": {
           "arrowcolor": "#2a3f5f",
           "arrowhead": 0,
           "arrowwidth": 1
          },
          "coloraxis": {
           "colorbar": {
            "outlinewidth": 0,
            "ticks": ""
           }
          },
          "colorscale": {
           "diverging": [
            [
             0,
             "#8e0152"
            ],
            [
             0.1,
             "#c51b7d"
            ],
            [
             0.2,
             "#de77ae"
            ],
            [
             0.3,
             "#f1b6da"
            ],
            [
             0.4,
             "#fde0ef"
            ],
            [
             0.5,
             "#f7f7f7"
            ],
            [
             0.6,
             "#e6f5d0"
            ],
            [
             0.7,
             "#b8e186"
            ],
            [
             0.8,
             "#7fbc41"
            ],
            [
             0.9,
             "#4d9221"
            ],
            [
             1,
             "#276419"
            ]
           ],
           "sequential": [
            [
             0,
             "#0d0887"
            ],
            [
             0.1111111111111111,
             "#46039f"
            ],
            [
             0.2222222222222222,
             "#7201a8"
            ],
            [
             0.3333333333333333,
             "#9c179e"
            ],
            [
             0.4444444444444444,
             "#bd3786"
            ],
            [
             0.5555555555555556,
             "#d8576b"
            ],
            [
             0.6666666666666666,
             "#ed7953"
            ],
            [
             0.7777777777777778,
             "#fb9f3a"
            ],
            [
             0.8888888888888888,
             "#fdca26"
            ],
            [
             1,
             "#f0f921"
            ]
           ],
           "sequentialminus": [
            [
             0,
             "#0d0887"
            ],
            [
             0.1111111111111111,
             "#46039f"
            ],
            [
             0.2222222222222222,
             "#7201a8"
            ],
            [
             0.3333333333333333,
             "#9c179e"
            ],
            [
             0.4444444444444444,
             "#bd3786"
            ],
            [
             0.5555555555555556,
             "#d8576b"
            ],
            [
             0.6666666666666666,
             "#ed7953"
            ],
            [
             0.7777777777777778,
             "#fb9f3a"
            ],
            [
             0.8888888888888888,
             "#fdca26"
            ],
            [
             1,
             "#f0f921"
            ]
           ]
          },
          "colorway": [
           "#636efa",
           "#EF553B",
           "#00cc96",
           "#ab63fa",
           "#FFA15A",
           "#19d3f3",
           "#FF6692",
           "#B6E880",
           "#FF97FF",
           "#FECB52"
          ],
          "font": {
           "color": "#2a3f5f"
          },
          "geo": {
           "bgcolor": "white",
           "lakecolor": "white",
           "landcolor": "#E5ECF6",
           "showlakes": true,
           "showland": true,
           "subunitcolor": "white"
          },
          "hoverlabel": {
           "align": "left"
          },
          "hovermode": "closest",
          "mapbox": {
           "style": "light"
          },
          "paper_bgcolor": "white",
          "plot_bgcolor": "#E5ECF6",
          "polar": {
           "angularaxis": {
            "gridcolor": "white",
            "linecolor": "white",
            "ticks": ""
           },
           "bgcolor": "#E5ECF6",
           "radialaxis": {
            "gridcolor": "white",
            "linecolor": "white",
            "ticks": ""
           }
          },
          "scene": {
           "xaxis": {
            "backgroundcolor": "#E5ECF6",
            "gridcolor": "white",
            "gridwidth": 2,
            "linecolor": "white",
            "showbackground": true,
            "ticks": "",
            "zerolinecolor": "white"
           },
           "yaxis": {
            "backgroundcolor": "#E5ECF6",
            "gridcolor": "white",
            "gridwidth": 2,
            "linecolor": "white",
            "showbackground": true,
            "ticks": "",
            "zerolinecolor": "white"
           },
           "zaxis": {
            "backgroundcolor": "#E5ECF6",
            "gridcolor": "white",
            "gridwidth": 2,
            "linecolor": "white",
            "showbackground": true,
            "ticks": "",
            "zerolinecolor": "white"
           }
          },
          "shapedefaults": {
           "line": {
            "color": "#2a3f5f"
           }
          },
          "ternary": {
           "aaxis": {
            "gridcolor": "white",
            "linecolor": "white",
            "ticks": ""
           },
           "baxis": {
            "gridcolor": "white",
            "linecolor": "white",
            "ticks": ""
           },
           "bgcolor": "#E5ECF6",
           "caxis": {
            "gridcolor": "white",
            "linecolor": "white",
            "ticks": ""
           }
          },
          "title": {
           "x": 0.05
          },
          "xaxis": {
           "automargin": true,
           "gridcolor": "white",
           "linecolor": "white",
           "ticks": "",
           "title": {
            "standoff": 15
           },
           "zerolinecolor": "white",
           "zerolinewidth": 2
          },
          "yaxis": {
           "automargin": true,
           "gridcolor": "white",
           "linecolor": "white",
           "ticks": "",
           "title": {
            "standoff": 15
           },
           "zerolinecolor": "white",
           "zerolinewidth": 2
          }
         }
        },
        "violinmode": "overlay",
        "xaxis": {
         "anchor": "y",
         "categoryarray": [
          3,
          1,
          2
         ],
         "categoryorder": "array",
         "domain": [
          0,
          1
         ],
         "title": {
          "text": "Pclass"
         }
        },
        "yaxis": {
         "anchor": "x",
         "domain": [
          0,
          1
         ],
         "title": {
          "text": "Age"
         }
        }
       }
      }
     },
     "metadata": {}
    }
   ],
   "source": [
    "fig = ex.violin(df, x='Pclass', y='Age', color='Pclass')\n",
    "fig.show()"
   ]
  },
  {
   "source": [
    "### Violin plot comparing the 'Pclass' attribute (x axis) with the 'Age' attribute of the data using Plotly"
   ],
   "cell_type": "markdown",
   "metadata": {}
  },
  {
   "cell_type": "code",
   "execution_count": 47,
   "metadata": {},
   "outputs": [
    {
     "output_type": "display_data",
     "data": {
      "application/vnd.plotly.v1+json": {
       "config": {
        "plotlyServerURL": "https://plot.ly"
       },
       "data": [
        {
         "coloraxis": "coloraxis",
         "hovertemplate": "Pclass=%{x}<br>Survived=%{y}<br>count=%{z}<extra></extra>",
         "name": "",
         "type": "histogram2d",
         "x": [
          3,
          1,
          3,
          1,
          3,
          3,
          1,
          3,
          3,
          2,
          3,
          1,
          3,
          3,
          3,
          2,
          3,
          2,
          3,
          3,
          2,
          2,
          3,
          1,
          3,
          3,
          3,
          1,
          3,
          3,
          1,
          1,
          3,
          2,
          1,
          1,
          3,
          3,
          3,
          3,
          3,
          2,
          3,
          2,
          3,
          3,
          3,
          3,
          3,
          3,
          3,
          3,
          1,
          2,
          1,
          1,
          2,
          3,
          2,
          3,
          3,
          1,
          1,
          3,
          1,
          3,
          2,
          3,
          3,
          3,
          2,
          3,
          2,
          3,
          3,
          3,
          3,
          3,
          2,
          3,
          3,
          3,
          3,
          1,
          2,
          3,
          3,
          3,
          1,
          3,
          3,
          3,
          1,
          3,
          3,
          3,
          1,
          1,
          2,
          2,
          3,
          3,
          1,
          3,
          3,
          3,
          3,
          3,
          3,
          3,
          1,
          3,
          3,
          3,
          3,
          3,
          3,
          2,
          1,
          3,
          2,
          3,
          2,
          2,
          1,
          3,
          3,
          3,
          3,
          3,
          3,
          3,
          3,
          2,
          2,
          2,
          1,
          1,
          3,
          1,
          3,
          3,
          3,
          3,
          2,
          2,
          3,
          3,
          2,
          2,
          2,
          1,
          3,
          3,
          3,
          1,
          3,
          3,
          3,
          3,
          3,
          2,
          3,
          3,
          3,
          3,
          1,
          3,
          1,
          3,
          1,
          3,
          3,
          3,
          1,
          3,
          3,
          1,
          2,
          3,
          3,
          2,
          3,
          2,
          3,
          1,
          3,
          1,
          3,
          3,
          2,
          2,
          3,
          2,
          1,
          1,
          3,
          3,
          3,
          2,
          3,
          3,
          3,
          3,
          3,
          3,
          3,
          3,
          3,
          1,
          3,
          2,
          3,
          2,
          3,
          1,
          3,
          2,
          1,
          2,
          3,
          2,
          3,
          3,
          1,
          3,
          2,
          3,
          2,
          3,
          1,
          3,
          2,
          3,
          2,
          3,
          2,
          2,
          2,
          2,
          3,
          3,
          2,
          3,
          3,
          1,
          3,
          2,
          1,
          2,
          3,
          3,
          1,
          3,
          3,
          3,
          1,
          1,
          1,
          2,
          3,
          3,
          1,
          1,
          3,
          2,
          3,
          3,
          1,
          1,
          1,
          3,
          2,
          1,
          3,
          1,
          3,
          2,
          3,
          3,
          3,
          3,
          3,
          3,
          1,
          3,
          3,
          3,
          2,
          3,
          1,
          1,
          2,
          3,
          3,
          1,
          3,
          1,
          1,
          1,
          3,
          3,
          3,
          2,
          3,
          1,
          1,
          1,
          2,
          1,
          1,
          1,
          2,
          3,
          2,
          3,
          2,
          2,
          1,
          1,
          3,
          3,
          2,
          2,
          3,
          1,
          3,
          2,
          3,
          1,
          3,
          1,
          1,
          3,
          1,
          3,
          1,
          1,
          3,
          1,
          2,
          1,
          2,
          2,
          2,
          2,
          2,
          3,
          3,
          3,
          3,
          1,
          3,
          3,
          3,
          3,
          1,
          2,
          3,
          3,
          3,
          2,
          3,
          3,
          3,
          3,
          1,
          3,
          3,
          1,
          1,
          3,
          3,
          1,
          3,
          1,
          3,
          1,
          3,
          3,
          1,
          3,
          3,
          1,
          3,
          2,
          3,
          2,
          3,
          2,
          1,
          3,
          3,
          1,
          3,
          3,
          3,
          2,
          2,
          2,
          3,
          3,
          3,
          3,
          3,
          2,
          3,
          2,
          3,
          3,
          3,
          3,
          1,
          2,
          3,
          3,
          2,
          2,
          2,
          3,
          3,
          3,
          3,
          3,
          3,
          3,
          2,
          2,
          3,
          3,
          1,
          3,
          2,
          3,
          1,
          1,
          3,
          2,
          1,
          2,
          2,
          3,
          3,
          2,
          3,
          1,
          2,
          1,
          3,
          1,
          2,
          3,
          1,
          1,
          3,
          3,
          1,
          1,
          2,
          3,
          1,
          3,
          1,
          2,
          3,
          3,
          2,
          1,
          3,
          3,
          3,
          3,
          2,
          2,
          3,
          1,
          2,
          3,
          3,
          3,
          3,
          2,
          3,
          3,
          1,
          3,
          1,
          1,
          3,
          3,
          3,
          3,
          1,
          1,
          3,
          3,
          1,
          3,
          1,
          3,
          3,
          3,
          3,
          3,
          1,
          1,
          2,
          1,
          3,
          3,
          3,
          3,
          1,
          1,
          3,
          1,
          2,
          3,
          2,
          3,
          1,
          3,
          3,
          1,
          3,
          3,
          2,
          1,
          3,
          2,
          2,
          3,
          3,
          3,
          3,
          2,
          1,
          1,
          3,
          1,
          1,
          3,
          3,
          2,
          1,
          1,
          2,
          2,
          3,
          2,
          1,
          2,
          3,
          3,
          3,
          1,
          1,
          1,
          1,
          3,
          3,
          3,
          2,
          3,
          3,
          3,
          3,
          3,
          3,
          3,
          2,
          1,
          1,
          3,
          3,
          3,
          2,
          1,
          3,
          3,
          2,
          1,
          2,
          1,
          3,
          1,
          2,
          1,
          3,
          3,
          3,
          1,
          3,
          3,
          2,
          3,
          2,
          3,
          3,
          1,
          2,
          3,
          1,
          3,
          1,
          3,
          3,
          1,
          2,
          1,
          3,
          3,
          3,
          3,
          3,
          2,
          3,
          3,
          2,
          2,
          3,
          1,
          3,
          3,
          3,
          1,
          2,
          1,
          3,
          3,
          1,
          3,
          1,
          1,
          3,
          2,
          3,
          2,
          3,
          3,
          3,
          1,
          3,
          3,
          3,
          1,
          3,
          1,
          3,
          3,
          3,
          2,
          3,
          3,
          3,
          2,
          3,
          3,
          2,
          1,
          1,
          3,
          1,
          3,
          3,
          2,
          2,
          3,
          3,
          1,
          2,
          1,
          2,
          2,
          2,
          3,
          3,
          3,
          3,
          1,
          3,
          1,
          3,
          3,
          2,
          2,
          3,
          3,
          3,
          1,
          1,
          3,
          3,
          3,
          1,
          2,
          3,
          3,
          1,
          3,
          1,
          1,
          3,
          3,
          3,
          2,
          2,
          1,
          1,
          3,
          1,
          1,
          1,
          3,
          2,
          3,
          1,
          2,
          3,
          3,
          2,
          3,
          2,
          2,
          1,
          3,
          2,
          3,
          2,
          3,
          1,
          3,
          2,
          2,
          2,
          3,
          3,
          1,
          3,
          3,
          1,
          1,
          1,
          3,
          3,
          1,
          3,
          2,
          1,
          3,
          2,
          3,
          3,
          3,
          2,
          2,
          3,
          2,
          3,
          1,
          3,
          3,
          3,
          1,
          3,
          1,
          1,
          3,
          3,
          3,
          3,
          3,
          2,
          3,
          2,
          3,
          3,
          3,
          3,
          1,
          3,
          1,
          1,
          3,
          3,
          3,
          3,
          3,
          3,
          1,
          3,
          2,
          3,
          1,
          3,
          2,
          1,
          3,
          3,
          3,
          2,
          2,
          1,
          3,
          3,
          3,
          1,
          3,
          2,
          1,
          3,
          3,
          2,
          3,
          3,
          1,
          3,
          2,
          3,
          3,
          1,
          3,
          1,
          3,
          3,
          3,
          3,
          2,
          3,
          1,
          3,
          2,
          3,
          3,
          3,
          1,
          3,
          3,
          3,
          1,
          3,
          2,
          1,
          3,
          3,
          3,
          3,
          3,
          2,
          1,
          3,
          3,
          3,
          1,
          2,
          3,
          1,
          1,
          3,
          3,
          3,
          2,
          1,
          3,
          2,
          2,
          2,
          1,
          3,
          3,
          3,
          1,
          1,
          3,
          2,
          3,
          3,
          3,
          3,
          1,
          2,
          3,
          3,
          2,
          3,
          3,
          2,
          1,
          3,
          1,
          3
         ],
         "xaxis": "x",
         "xbingroup": "x",
         "y": [
          0,
          1,
          1,
          1,
          0,
          0,
          0,
          0,
          1,
          1,
          1,
          1,
          0,
          0,
          0,
          1,
          0,
          1,
          0,
          1,
          0,
          1,
          1,
          1,
          0,
          1,
          0,
          0,
          1,
          0,
          0,
          1,
          1,
          0,
          0,
          0,
          1,
          0,
          0,
          1,
          0,
          0,
          0,
          1,
          1,
          0,
          0,
          1,
          0,
          0,
          0,
          0,
          1,
          1,
          0,
          1,
          1,
          0,
          1,
          0,
          0,
          1,
          0,
          0,
          0,
          1,
          1,
          0,
          1,
          0,
          0,
          0,
          0,
          0,
          1,
          0,
          0,
          0,
          1,
          1,
          0,
          1,
          1,
          0,
          1,
          1,
          0,
          0,
          1,
          0,
          0,
          0,
          0,
          0,
          0,
          0,
          0,
          1,
          1,
          0,
          0,
          0,
          0,
          0,
          0,
          0,
          1,
          1,
          0,
          1,
          0,
          0,
          0,
          0,
          0,
          0,
          0,
          0,
          0,
          0,
          0,
          0,
          0,
          1,
          0,
          1,
          0,
          1,
          1,
          0,
          0,
          0,
          0,
          1,
          0,
          0,
          1,
          0,
          0,
          0,
          0,
          1,
          1,
          0,
          0,
          0,
          1,
          0,
          0,
          0,
          0,
          1,
          0,
          0,
          0,
          0,
          1,
          0,
          0,
          0,
          0,
          1,
          0,
          0,
          0,
          1,
          1,
          0,
          0,
          0,
          0,
          0,
          1,
          0,
          0,
          0,
          0,
          0,
          0,
          0,
          0,
          0,
          0,
          1,
          1,
          0,
          1,
          1,
          0,
          0,
          1,
          0,
          1,
          1,
          1,
          1,
          0,
          0,
          1,
          0,
          0,
          0,
          0,
          0,
          1,
          0,
          0,
          1,
          1,
          1,
          0,
          1,
          0,
          0,
          0,
          1,
          1,
          0,
          1,
          0,
          1,
          0,
          0,
          0,
          1,
          0,
          1,
          0,
          0,
          0,
          1,
          0,
          0,
          1,
          0,
          0,
          0,
          1,
          0,
          0,
          0,
          1,
          0,
          0,
          0,
          0,
          0,
          1,
          1,
          0,
          0,
          0,
          0,
          0,
          0,
          1,
          1,
          1,
          1,
          1,
          0,
          1,
          0,
          0,
          0,
          0,
          0,
          1,
          1,
          1,
          0,
          1,
          1,
          0,
          1,
          1,
          0,
          0,
          0,
          1,
          0,
          0,
          0,
          1,
          0,
          0,
          1,
          0,
          1,
          1,
          1,
          1,
          0,
          0,
          0,
          0,
          0,
          0,
          1,
          1,
          1,
          1,
          0,
          1,
          0,
          1,
          1,
          1,
          0,
          1,
          1,
          1,
          0,
          0,
          0,
          1,
          1,
          0,
          1,
          1,
          0,
          0,
          1,
          1,
          0,
          1,
          0,
          1,
          1,
          1,
          1,
          0,
          0,
          0,
          1,
          0,
          0,
          1,
          1,
          0,
          1,
          1,
          0,
          0,
          0,
          1,
          1,
          1,
          1,
          0,
          0,
          0,
          0,
          0,
          0,
          0,
          1,
          0,
          1,
          1,
          0,
          0,
          0,
          0,
          0,
          0,
          1,
          1,
          1,
          1,
          1,
          0,
          0,
          0,
          0,
          1,
          1,
          0,
          0,
          0,
          1,
          1,
          0,
          1,
          0,
          0,
          0,
          1,
          0,
          1,
          1,
          1,
          0,
          1,
          1,
          0,
          0,
          0,
          0,
          1,
          1,
          0,
          0,
          0,
          0,
          0,
          0,
          1,
          0,
          0,
          0,
          0,
          1,
          0,
          1,
          0,
          1,
          1,
          0,
          0,
          0,
          0,
          0,
          0,
          0,
          0,
          1,
          1,
          0,
          1,
          1,
          1,
          1,
          0,
          0,
          1,
          0,
          1,
          0,
          0,
          1,
          0,
          0,
          1,
          1,
          1,
          1,
          1,
          1,
          1,
          0,
          0,
          0,
          1,
          0,
          1,
          0,
          1,
          1,
          0,
          1,
          0,
          0,
          0,
          0,
          0,
          0,
          0,
          0,
          1,
          0,
          0,
          1,
          1,
          0,
          0,
          0,
          0,
          0,
          1,
          0,
          0,
          0,
          1,
          1,
          0,
          1,
          0,
          0,
          1,
          0,
          0,
          0,
          0,
          0,
          0,
          1,
          0,
          0,
          0,
          0,
          0,
          0,
          0,
          1,
          0,
          1,
          1,
          0,
          1,
          1,
          0,
          1,
          1,
          0,
          0,
          1,
          0,
          1,
          0,
          1,
          0,
          0,
          1,
          0,
          0,
          1,
          0,
          0,
          0,
          1,
          0,
          0,
          1,
          0,
          1,
          0,
          1,
          0,
          1,
          1,
          0,
          0,
          1,
          0,
          0,
          1,
          1,
          0,
          1,
          1,
          0,
          0,
          1,
          1,
          0,
          1,
          0,
          1,
          1,
          0,
          0,
          0,
          0,
          0,
          0,
          0,
          0,
          0,
          1,
          1,
          1,
          1,
          1,
          0,
          0,
          1,
          1,
          0,
          1,
          1,
          1,
          0,
          0,
          0,
          1,
          0,
          1,
          0,
          0,
          0,
          1,
          0,
          0,
          0,
          0,
          1,
          0,
          0,
          1,
          1,
          0,
          0,
          0,
          1,
          0,
          0,
          1,
          1,
          1,
          0,
          0,
          1,
          0,
          0,
          1,
          0,
          0,
          1,
          0,
          0,
          1,
          1,
          0,
          0,
          0,
          0,
          1,
          0,
          0,
          1,
          0,
          1,
          0,
          0,
          1,
          0,
          0,
          0,
          0,
          0,
          1,
          0,
          1,
          1,
          1,
          0,
          1,
          0,
          1,
          0,
          1,
          0,
          1,
          0,
          0,
          0,
          0,
          0,
          0,
          1,
          0,
          0,
          0,
          1,
          0,
          0,
          0,
          0,
          1,
          1,
          0,
          0,
          1,
          0,
          0,
          0,
          1,
          0,
          1,
          0,
          1,
          0,
          0,
          0,
          0,
          0,
          0,
          0,
          1,
          1,
          1,
          1,
          0,
          0,
          0,
          0,
          1,
          0,
          0,
          1,
          1,
          0,
          0,
          0,
          0,
          1,
          1,
          1,
          1,
          1,
          0,
          1,
          0,
          0,
          0,
          1,
          1,
          0,
          0,
          1,
          0,
          0,
          0,
          1,
          0,
          1,
          1,
          0,
          0,
          1,
          0,
          0,
          0,
          0,
          0,
          0,
          1,
          0,
          0,
          1,
          0,
          1,
          0,
          1,
          0,
          0,
          1,
          0,
          0,
          1,
          1,
          0,
          0,
          1,
          1,
          0,
          0,
          0,
          1,
          0,
          0,
          1,
          1,
          0,
          1,
          0,
          0,
          0,
          0,
          0,
          0,
          0,
          0,
          1,
          0,
          0,
          1,
          0,
          1,
          1,
          1,
          0,
          0,
          0,
          0,
          1,
          0,
          1,
          0,
          0,
          0,
          0,
          0,
          0,
          0,
          1,
          1,
          0,
          0,
          0,
          1,
          1,
          1,
          1,
          0,
          0,
          0,
          0,
          1,
          0,
          0,
          0,
          0,
          0,
          0,
          0,
          0,
          0,
          0,
          1,
          1,
          0,
          1,
          0,
          0,
          0,
          1,
          1,
          1,
          1,
          1,
          0,
          0,
          0,
          1,
          0,
          0,
          1,
          1,
          0,
          0,
          1,
          0,
          0,
          0,
          0,
          0,
          0,
          1,
          0,
          0,
          0,
          1,
          0,
          1,
          1,
          1,
          1,
          0,
          0,
          0,
          1,
          0,
          0,
          1,
          1,
          0,
          0,
          1,
          0,
          1,
          0,
          0,
          1,
          1,
          0,
          0,
          0,
          1,
          1,
          0,
          0,
          0,
          0,
          0,
          0,
          1,
          0,
          1,
          0
         ],
         "yaxis": "y",
         "ybingroup": "y"
        }
       ],
       "layout": {
        "coloraxis": {
         "colorbar": {
          "title": {
           "text": "count"
          }
         },
         "colorscale": [
          [
           0,
           "#0d0887"
          ],
          [
           0.1111111111111111,
           "#46039f"
          ],
          [
           0.2222222222222222,
           "#7201a8"
          ],
          [
           0.3333333333333333,
           "#9c179e"
          ],
          [
           0.4444444444444444,
           "#bd3786"
          ],
          [
           0.5555555555555556,
           "#d8576b"
          ],
          [
           0.6666666666666666,
           "#ed7953"
          ],
          [
           0.7777777777777778,
           "#fb9f3a"
          ],
          [
           0.8888888888888888,
           "#fdca26"
          ],
          [
           1,
           "#f0f921"
          ]
         ]
        },
        "legend": {
         "tracegroupgap": 0
        },
        "margin": {
         "t": 60
        },
        "template": {
         "data": {
          "bar": [
           {
            "error_x": {
             "color": "#2a3f5f"
            },
            "error_y": {
             "color": "#2a3f5f"
            },
            "marker": {
             "line": {
              "color": "#E5ECF6",
              "width": 0.5
             }
            },
            "type": "bar"
           }
          ],
          "barpolar": [
           {
            "marker": {
             "line": {
              "color": "#E5ECF6",
              "width": 0.5
             }
            },
            "type": "barpolar"
           }
          ],
          "carpet": [
           {
            "aaxis": {
             "endlinecolor": "#2a3f5f",
             "gridcolor": "white",
             "linecolor": "white",
             "minorgridcolor": "white",
             "startlinecolor": "#2a3f5f"
            },
            "baxis": {
             "endlinecolor": "#2a3f5f",
             "gridcolor": "white",
             "linecolor": "white",
             "minorgridcolor": "white",
             "startlinecolor": "#2a3f5f"
            },
            "type": "carpet"
           }
          ],
          "choropleth": [
           {
            "colorbar": {
             "outlinewidth": 0,
             "ticks": ""
            },
            "type": "choropleth"
           }
          ],
          "contour": [
           {
            "colorbar": {
             "outlinewidth": 0,
             "ticks": ""
            },
            "colorscale": [
             [
              0,
              "#0d0887"
             ],
             [
              0.1111111111111111,
              "#46039f"
             ],
             [
              0.2222222222222222,
              "#7201a8"
             ],
             [
              0.3333333333333333,
              "#9c179e"
             ],
             [
              0.4444444444444444,
              "#bd3786"
             ],
             [
              0.5555555555555556,
              "#d8576b"
             ],
             [
              0.6666666666666666,
              "#ed7953"
             ],
             [
              0.7777777777777778,
              "#fb9f3a"
             ],
             [
              0.8888888888888888,
              "#fdca26"
             ],
             [
              1,
              "#f0f921"
             ]
            ],
            "type": "contour"
           }
          ],
          "contourcarpet": [
           {
            "colorbar": {
             "outlinewidth": 0,
             "ticks": ""
            },
            "type": "contourcarpet"
           }
          ],
          "heatmap": [
           {
            "colorbar": {
             "outlinewidth": 0,
             "ticks": ""
            },
            "colorscale": [
             [
              0,
              "#0d0887"
             ],
             [
              0.1111111111111111,
              "#46039f"
             ],
             [
              0.2222222222222222,
              "#7201a8"
             ],
             [
              0.3333333333333333,
              "#9c179e"
             ],
             [
              0.4444444444444444,
              "#bd3786"
             ],
             [
              0.5555555555555556,
              "#d8576b"
             ],
             [
              0.6666666666666666,
              "#ed7953"
             ],
             [
              0.7777777777777778,
              "#fb9f3a"
             ],
             [
              0.8888888888888888,
              "#fdca26"
             ],
             [
              1,
              "#f0f921"
             ]
            ],
            "type": "heatmap"
           }
          ],
          "heatmapgl": [
           {
            "colorbar": {
             "outlinewidth": 0,
             "ticks": ""
            },
            "colorscale": [
             [
              0,
              "#0d0887"
             ],
             [
              0.1111111111111111,
              "#46039f"
             ],
             [
              0.2222222222222222,
              "#7201a8"
             ],
             [
              0.3333333333333333,
              "#9c179e"
             ],
             [
              0.4444444444444444,
              "#bd3786"
             ],
             [
              0.5555555555555556,
              "#d8576b"
             ],
             [
              0.6666666666666666,
              "#ed7953"
             ],
             [
              0.7777777777777778,
              "#fb9f3a"
             ],
             [
              0.8888888888888888,
              "#fdca26"
             ],
             [
              1,
              "#f0f921"
             ]
            ],
            "type": "heatmapgl"
           }
          ],
          "histogram": [
           {
            "marker": {
             "colorbar": {
              "outlinewidth": 0,
              "ticks": ""
             }
            },
            "type": "histogram"
           }
          ],
          "histogram2d": [
           {
            "colorbar": {
             "outlinewidth": 0,
             "ticks": ""
            },
            "colorscale": [
             [
              0,
              "#0d0887"
             ],
             [
              0.1111111111111111,
              "#46039f"
             ],
             [
              0.2222222222222222,
              "#7201a8"
             ],
             [
              0.3333333333333333,
              "#9c179e"
             ],
             [
              0.4444444444444444,
              "#bd3786"
             ],
             [
              0.5555555555555556,
              "#d8576b"
             ],
             [
              0.6666666666666666,
              "#ed7953"
             ],
             [
              0.7777777777777778,
              "#fb9f3a"
             ],
             [
              0.8888888888888888,
              "#fdca26"
             ],
             [
              1,
              "#f0f921"
             ]
            ],
            "type": "histogram2d"
           }
          ],
          "histogram2dcontour": [
           {
            "colorbar": {
             "outlinewidth": 0,
             "ticks": ""
            },
            "colorscale": [
             [
              0,
              "#0d0887"
             ],
             [
              0.1111111111111111,
              "#46039f"
             ],
             [
              0.2222222222222222,
              "#7201a8"
             ],
             [
              0.3333333333333333,
              "#9c179e"
             ],
             [
              0.4444444444444444,
              "#bd3786"
             ],
             [
              0.5555555555555556,
              "#d8576b"
             ],
             [
              0.6666666666666666,
              "#ed7953"
             ],
             [
              0.7777777777777778,
              "#fb9f3a"
             ],
             [
              0.8888888888888888,
              "#fdca26"
             ],
             [
              1,
              "#f0f921"
             ]
            ],
            "type": "histogram2dcontour"
           }
          ],
          "mesh3d": [
           {
            "colorbar": {
             "outlinewidth": 0,
             "ticks": ""
            },
            "type": "mesh3d"
           }
          ],
          "parcoords": [
           {
            "line": {
             "colorbar": {
              "outlinewidth": 0,
              "ticks": ""
             }
            },
            "type": "parcoords"
           }
          ],
          "pie": [
           {
            "automargin": true,
            "type": "pie"
           }
          ],
          "scatter": [
           {
            "marker": {
             "colorbar": {
              "outlinewidth": 0,
              "ticks": ""
             }
            },
            "type": "scatter"
           }
          ],
          "scatter3d": [
           {
            "line": {
             "colorbar": {
              "outlinewidth": 0,
              "ticks": ""
             }
            },
            "marker": {
             "colorbar": {
              "outlinewidth": 0,
              "ticks": ""
             }
            },
            "type": "scatter3d"
           }
          ],
          "scattercarpet": [
           {
            "marker": {
             "colorbar": {
              "outlinewidth": 0,
              "ticks": ""
             }
            },
            "type": "scattercarpet"
           }
          ],
          "scattergeo": [
           {
            "marker": {
             "colorbar": {
              "outlinewidth": 0,
              "ticks": ""
             }
            },
            "type": "scattergeo"
           }
          ],
          "scattergl": [
           {
            "marker": {
             "colorbar": {
              "outlinewidth": 0,
              "ticks": ""
             }
            },
            "type": "scattergl"
           }
          ],
          "scattermapbox": [
           {
            "marker": {
             "colorbar": {
              "outlinewidth": 0,
              "ticks": ""
             }
            },
            "type": "scattermapbox"
           }
          ],
          "scatterpolar": [
           {
            "marker": {
             "colorbar": {
              "outlinewidth": 0,
              "ticks": ""
             }
            },
            "type": "scatterpolar"
           }
          ],
          "scatterpolargl": [
           {
            "marker": {
             "colorbar": {
              "outlinewidth": 0,
              "ticks": ""
             }
            },
            "type": "scatterpolargl"
           }
          ],
          "scatterternary": [
           {
            "marker": {
             "colorbar": {
              "outlinewidth": 0,
              "ticks": ""
             }
            },
            "type": "scatterternary"
           }
          ],
          "surface": [
           {
            "colorbar": {
             "outlinewidth": 0,
             "ticks": ""
            },
            "colorscale": [
             [
              0,
              "#0d0887"
             ],
             [
              0.1111111111111111,
              "#46039f"
             ],
             [
              0.2222222222222222,
              "#7201a8"
             ],
             [
              0.3333333333333333,
              "#9c179e"
             ],
             [
              0.4444444444444444,
              "#bd3786"
             ],
             [
              0.5555555555555556,
              "#d8576b"
             ],
             [
              0.6666666666666666,
              "#ed7953"
             ],
             [
              0.7777777777777778,
              "#fb9f3a"
             ],
             [
              0.8888888888888888,
              "#fdca26"
             ],
             [
              1,
              "#f0f921"
             ]
            ],
            "type": "surface"
           }
          ],
          "table": [
           {
            "cells": {
             "fill": {
              "color": "#EBF0F8"
             },
             "line": {
              "color": "white"
             }
            },
            "header": {
             "fill": {
              "color": "#C8D4E3"
             },
             "line": {
              "color": "white"
             }
            },
            "type": "table"
           }
          ]
         },
         "layout": {
          "annotationdefaults": {
           "arrowcolor": "#2a3f5f",
           "arrowhead": 0,
           "arrowwidth": 1
          },
          "coloraxis": {
           "colorbar": {
            "outlinewidth": 0,
            "ticks": ""
           }
          },
          "colorscale": {
           "diverging": [
            [
             0,
             "#8e0152"
            ],
            [
             0.1,
             "#c51b7d"
            ],
            [
             0.2,
             "#de77ae"
            ],
            [
             0.3,
             "#f1b6da"
            ],
            [
             0.4,
             "#fde0ef"
            ],
            [
             0.5,
             "#f7f7f7"
            ],
            [
             0.6,
             "#e6f5d0"
            ],
            [
             0.7,
             "#b8e186"
            ],
            [
             0.8,
             "#7fbc41"
            ],
            [
             0.9,
             "#4d9221"
            ],
            [
             1,
             "#276419"
            ]
           ],
           "sequential": [
            [
             0,
             "#0d0887"
            ],
            [
             0.1111111111111111,
             "#46039f"
            ],
            [
             0.2222222222222222,
             "#7201a8"
            ],
            [
             0.3333333333333333,
             "#9c179e"
            ],
            [
             0.4444444444444444,
             "#bd3786"
            ],
            [
             0.5555555555555556,
             "#d8576b"
            ],
            [
             0.6666666666666666,
             "#ed7953"
            ],
            [
             0.7777777777777778,
             "#fb9f3a"
            ],
            [
             0.8888888888888888,
             "#fdca26"
            ],
            [
             1,
             "#f0f921"
            ]
           ],
           "sequentialminus": [
            [
             0,
             "#0d0887"
            ],
            [
             0.1111111111111111,
             "#46039f"
            ],
            [
             0.2222222222222222,
             "#7201a8"
            ],
            [
             0.3333333333333333,
             "#9c179e"
            ],
            [
             0.4444444444444444,
             "#bd3786"
            ],
            [
             0.5555555555555556,
             "#d8576b"
            ],
            [
             0.6666666666666666,
             "#ed7953"
            ],
            [
             0.7777777777777778,
             "#fb9f3a"
            ],
            [
             0.8888888888888888,
             "#fdca26"
            ],
            [
             1,
             "#f0f921"
            ]
           ]
          },
          "colorway": [
           "#636efa",
           "#EF553B",
           "#00cc96",
           "#ab63fa",
           "#FFA15A",
           "#19d3f3",
           "#FF6692",
           "#B6E880",
           "#FF97FF",
           "#FECB52"
          ],
          "font": {
           "color": "#2a3f5f"
          },
          "geo": {
           "bgcolor": "white",
           "lakecolor": "white",
           "landcolor": "#E5ECF6",
           "showlakes": true,
           "showland": true,
           "subunitcolor": "white"
          },
          "hoverlabel": {
           "align": "left"
          },
          "hovermode": "closest",
          "mapbox": {
           "style": "light"
          },
          "paper_bgcolor": "white",
          "plot_bgcolor": "#E5ECF6",
          "polar": {
           "angularaxis": {
            "gridcolor": "white",
            "linecolor": "white",
            "ticks": ""
           },
           "bgcolor": "#E5ECF6",
           "radialaxis": {
            "gridcolor": "white",
            "linecolor": "white",
            "ticks": ""
           }
          },
          "scene": {
           "xaxis": {
            "backgroundcolor": "#E5ECF6",
            "gridcolor": "white",
            "gridwidth": 2,
            "linecolor": "white",
            "showbackground": true,
            "ticks": "",
            "zerolinecolor": "white"
           },
           "yaxis": {
            "backgroundcolor": "#E5ECF6",
            "gridcolor": "white",
            "gridwidth": 2,
            "linecolor": "white",
            "showbackground": true,
            "ticks": "",
            "zerolinecolor": "white"
           },
           "zaxis": {
            "backgroundcolor": "#E5ECF6",
            "gridcolor": "white",
            "gridwidth": 2,
            "linecolor": "white",
            "showbackground": true,
            "ticks": "",
            "zerolinecolor": "white"
           }
          },
          "shapedefaults": {
           "line": {
            "color": "#2a3f5f"
           }
          },
          "ternary": {
           "aaxis": {
            "gridcolor": "white",
            "linecolor": "white",
            "ticks": ""
           },
           "baxis": {
            "gridcolor": "white",
            "linecolor": "white",
            "ticks": ""
           },
           "bgcolor": "#E5ECF6",
           "caxis": {
            "gridcolor": "white",
            "linecolor": "white",
            "ticks": ""
           }
          },
          "title": {
           "x": 0.05
          },
          "xaxis": {
           "automargin": true,
           "gridcolor": "white",
           "linecolor": "white",
           "ticks": "",
           "title": {
            "standoff": 15
           },
           "zerolinecolor": "white",
           "zerolinewidth": 2
          },
          "yaxis": {
           "automargin": true,
           "gridcolor": "white",
           "linecolor": "white",
           "ticks": "",
           "title": {
            "standoff": 15
           },
           "zerolinecolor": "white",
           "zerolinewidth": 2
          }
         }
        },
        "xaxis": {
         "anchor": "y",
         "domain": [
          0,
          1
         ],
         "title": {
          "text": "Pclass"
         }
        },
        "yaxis": {
         "anchor": "x",
         "domain": [
          0,
          1
         ],
         "title": {
          "text": "Survived"
         }
        }
       }
      }
     },
     "metadata": {}
    }
   ],
   "source": [
    "fig = ex.density_heatmap(df, x='Pclass', y='Survived')\n",
    "fig.show()"
   ]
  }
 ]
}